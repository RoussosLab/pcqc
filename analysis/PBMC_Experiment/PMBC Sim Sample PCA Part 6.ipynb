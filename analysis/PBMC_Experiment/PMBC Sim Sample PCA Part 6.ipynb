{
 "cells": [
  {
   "cell_type": "markdown",
   "metadata": {},
   "source": [
    "### Added New ERatio and Compute Gap Functions for Finding the Cutoff Points for Each Method"
   ]
  },
  {
   "cell_type": "code",
   "execution_count": 1,
   "metadata": {},
   "outputs": [
    {
     "name": "stderr",
     "output_type": "stream",
     "text": [
      "/opt/conda/lib/python3.7/site-packages/anndata/_core/anndata.py:21: FutureWarning: pandas.core.index is deprecated and will be removed in a future version.  The public classes are available in the top-level namespace.\n",
      "  from pandas.core.index import RangeIndex\n"
     ]
    }
   ],
   "source": [
    "import sys\n",
    "sys.path.append('../pcqc')\n",
    "import numpy as np\n",
    "import pandas as pd\n",
    "import matplotlib.pyplot as plt\n",
    "import seaborn as sns\n",
    "from pcqc import *\n",
    "from kruskal_best_pcs import *"
   ]
  },
  {
   "cell_type": "code",
   "execution_count": 2,
   "metadata": {},
   "outputs": [],
   "source": [
    "import kruskal_best_pcs as kbp"
   ]
  },
  {
   "cell_type": "code",
   "execution_count": 3,
   "metadata": {},
   "outputs": [],
   "source": [
    "output_plots = 'pbmc_plots/pca_analysis_pt6.pdf'\n",
    "plot_dictionary = dict()"
   ]
  },
  {
   "cell_type": "code",
   "execution_count": 4,
   "metadata": {},
   "outputs": [],
   "source": [
    "from matplotlib.backends.backend_pdf import PdfPages"
   ]
  },
  {
   "cell_type": "code",
   "execution_count": 5,
   "metadata": {},
   "outputs": [],
   "source": [
    "adata = sc.read(filename = 'pbmc_sample_preprocess.h5ad')"
   ]
  },
  {
   "cell_type": "code",
   "execution_count": 6,
   "metadata": {},
   "outputs": [],
   "source": [
    "data = adata.X"
   ]
  },
  {
   "cell_type": "code",
   "execution_count": 7,
   "metadata": {},
   "outputs": [
    {
     "data": {
      "text/plain": [
       "array([[-0.25998061,  3.92204492, -0.0546509 , ..., -0.12242513,\n",
       "        -0.19372593,  1.29672057],\n",
       "       [ 3.43839295, -0.43090892, -0.09560866, ..., -0.10493263,\n",
       "        -0.21440517, -0.47285539],\n",
       "       [-0.19961271, -0.24881491, -0.04854428, ..., -0.0594832 ,\n",
       "        -0.17273981, -0.44673145],\n",
       "       ...,\n",
       "       [-0.1904076 , -0.26135516, -0.05301923, ..., -0.05610365,\n",
       "        -0.17459814, -0.43748468],\n",
       "       [-0.27059744, -0.24751886, -0.03798715, ..., -0.11309291,\n",
       "        -0.18081998,  1.34547647],\n",
       "       [-0.23701152, -0.20247551, -0.0315205 , ..., -0.07454474,\n",
       "        -0.16627248, -0.48526704]])"
      ]
     },
     "execution_count": 7,
     "metadata": {},
     "output_type": "execute_result"
    }
   ],
   "source": [
    "data"
   ]
  },
  {
   "cell_type": "code",
   "execution_count": 8,
   "metadata": {},
   "outputs": [
    {
     "data": {
      "text/plain": [
       "array([0.02186993, 0.01190551, 0.01034145, 0.00825553, 0.00498603,\n",
       "       0.00279504, 0.00254421, 0.00210374, 0.00204177, 0.00200325,\n",
       "       0.00197649, 0.0019612 , 0.00192873, 0.00191983, 0.00191278,\n",
       "       0.00190672, 0.00190342, 0.0018894 , 0.00188229, 0.00187142])"
      ]
     },
     "execution_count": 8,
     "metadata": {},
     "output_type": "execute_result"
    }
   ],
   "source": [
    "pca = PC_Cluster(n_pcs = 100)\n",
    "pca.fit(data)\n",
    "pca.norm_eigenvalues[0:20]"
   ]
  },
  {
   "cell_type": "code",
   "execution_count": 9,
   "metadata": {},
   "outputs": [
    {
     "data": {
      "text/plain": [
       "array([284.74809405, 210.09281453, 195.80682604, 174.94829257,\n",
       "       135.96111776, 101.79601473,  97.1211006 ,  88.3146946 ,\n",
       "        87.00436699,  86.17954647,  85.60200427,  85.27039821,\n",
       "        84.56148514,  84.36618273,  84.21122961,  84.07773302,\n",
       "        84.0048955 ,  83.69499705,  83.53738773,  83.29564841,\n",
       "        83.12122866,  82.94358832,  82.73092016,  82.60524478,\n",
       "        82.44732922,  82.3136561 ,  82.20434445,  82.03191173,\n",
       "        81.87265862,  81.81140846,  81.64068676,  81.49684512,\n",
       "        81.41659485,  81.300227  ,  81.23051562,  81.1234918 ,\n",
       "        81.05710868,  80.85604686,  80.78368968,  80.73809225])"
      ]
     },
     "execution_count": 9,
     "metadata": {},
     "output_type": "execute_result"
    }
   ],
   "source": [
    "pca.singular_values[0:40]"
   ]
  },
  {
   "cell_type": "code",
   "execution_count": 10,
   "metadata": {},
   "outputs": [
    {
     "data": {
      "text/html": [
       "<div>\n",
       "<style scoped>\n",
       "    .dataframe tbody tr th:only-of-type {\n",
       "        vertical-align: middle;\n",
       "    }\n",
       "\n",
       "    .dataframe tbody tr th {\n",
       "        vertical-align: top;\n",
       "    }\n",
       "\n",
       "    .dataframe thead th {\n",
       "        text-align: right;\n",
       "    }\n",
       "</style>\n",
       "<table border=\"1\" class=\"dataframe\">\n",
       "  <thead>\n",
       "    <tr style=\"text-align: right;\">\n",
       "      <th></th>\n",
       "      <th>PC_Dist_0</th>\n",
       "      <th>PC_Dist_1</th>\n",
       "      <th>PC_Dist_2</th>\n",
       "      <th>PC_Dist_3</th>\n",
       "      <th>PC_Dist_4</th>\n",
       "      <th>PC_Dist_5</th>\n",
       "      <th>PC_Dist_6</th>\n",
       "      <th>PC_Dist_7</th>\n",
       "      <th>PC_Dist_8</th>\n",
       "      <th>PC_Dist_9</th>\n",
       "      <th>...</th>\n",
       "      <th>PC_Dist_90</th>\n",
       "      <th>PC_Dist_91</th>\n",
       "      <th>PC_Dist_92</th>\n",
       "      <th>PC_Dist_93</th>\n",
       "      <th>PC_Dist_94</th>\n",
       "      <th>PC_Dist_95</th>\n",
       "      <th>PC_Dist_96</th>\n",
       "      <th>PC_Dist_97</th>\n",
       "      <th>PC_Dist_98</th>\n",
       "      <th>PC_Dist_99</th>\n",
       "    </tr>\n",
       "  </thead>\n",
       "  <tbody>\n",
       "    <tr>\n",
       "      <th>0</th>\n",
       "      <td>0.000003</td>\n",
       "      <td>8.850121e-07</td>\n",
       "      <td>1.300548e-07</td>\n",
       "      <td>8.796138e-07</td>\n",
       "      <td>9.749752e-07</td>\n",
       "      <td>6.006268e-07</td>\n",
       "      <td>9.185879e-07</td>\n",
       "      <td>7.911320e-08</td>\n",
       "      <td>1.611194e-07</td>\n",
       "      <td>7.142164e-08</td>\n",
       "      <td>...</td>\n",
       "      <td>9.211127e-07</td>\n",
       "      <td>6.628351e-07</td>\n",
       "      <td>1.239557e-07</td>\n",
       "      <td>1.077276e-08</td>\n",
       "      <td>5.865205e-07</td>\n",
       "      <td>8.726920e-07</td>\n",
       "      <td>8.036498e-07</td>\n",
       "      <td>1.555162e-07</td>\n",
       "      <td>2.509609e-07</td>\n",
       "      <td>1.352391e-06</td>\n",
       "    </tr>\n",
       "    <tr>\n",
       "      <th>1</th>\n",
       "      <td>0.000003</td>\n",
       "      <td>4.238507e-08</td>\n",
       "      <td>1.377702e-09</td>\n",
       "      <td>5.568555e-06</td>\n",
       "      <td>6.378399e-08</td>\n",
       "      <td>3.087902e-07</td>\n",
       "      <td>1.085274e-06</td>\n",
       "      <td>3.605502e-08</td>\n",
       "      <td>2.754040e-06</td>\n",
       "      <td>7.979202e-07</td>\n",
       "      <td>...</td>\n",
       "      <td>1.651145e-06</td>\n",
       "      <td>7.397646e-07</td>\n",
       "      <td>2.376498e-07</td>\n",
       "      <td>1.453506e-06</td>\n",
       "      <td>7.682039e-08</td>\n",
       "      <td>1.164342e-08</td>\n",
       "      <td>4.423506e-07</td>\n",
       "      <td>5.204098e-07</td>\n",
       "      <td>2.847929e-08</td>\n",
       "      <td>1.296898e-07</td>\n",
       "    </tr>\n",
       "    <tr>\n",
       "      <th>2</th>\n",
       "      <td>0.000004</td>\n",
       "      <td>1.072428e-07</td>\n",
       "      <td>9.275353e-09</td>\n",
       "      <td>2.534746e-06</td>\n",
       "      <td>2.579451e-07</td>\n",
       "      <td>1.029801e-08</td>\n",
       "      <td>1.192669e-06</td>\n",
       "      <td>1.809750e-06</td>\n",
       "      <td>2.151510e-06</td>\n",
       "      <td>7.104612e-07</td>\n",
       "      <td>...</td>\n",
       "      <td>2.470410e-08</td>\n",
       "      <td>4.530108e-10</td>\n",
       "      <td>6.014999e-08</td>\n",
       "      <td>2.680059e-07</td>\n",
       "      <td>5.812913e-06</td>\n",
       "      <td>1.959971e-06</td>\n",
       "      <td>4.081172e-07</td>\n",
       "      <td>2.927101e-08</td>\n",
       "      <td>2.887069e-07</td>\n",
       "      <td>1.560194e-07</td>\n",
       "    </tr>\n",
       "    <tr>\n",
       "      <th>3</th>\n",
       "      <td>0.000002</td>\n",
       "      <td>5.355925e-09</td>\n",
       "      <td>2.004323e-08</td>\n",
       "      <td>3.367279e-06</td>\n",
       "      <td>2.147021e-08</td>\n",
       "      <td>1.093098e-07</td>\n",
       "      <td>1.634498e-08</td>\n",
       "      <td>1.551529e-07</td>\n",
       "      <td>9.526242e-08</td>\n",
       "      <td>3.006176e-08</td>\n",
       "      <td>...</td>\n",
       "      <td>3.047232e-07</td>\n",
       "      <td>4.312149e-07</td>\n",
       "      <td>1.566493e-07</td>\n",
       "      <td>2.112885e-08</td>\n",
       "      <td>1.953438e-07</td>\n",
       "      <td>1.049965e-07</td>\n",
       "      <td>2.320112e-08</td>\n",
       "      <td>3.103239e-07</td>\n",
       "      <td>1.846072e-07</td>\n",
       "      <td>1.875107e-07</td>\n",
       "    </tr>\n",
       "    <tr>\n",
       "      <th>4</th>\n",
       "      <td>0.000003</td>\n",
       "      <td>1.019421e-06</td>\n",
       "      <td>5.293710e-09</td>\n",
       "      <td>1.335980e-06</td>\n",
       "      <td>1.291377e-07</td>\n",
       "      <td>1.093313e-07</td>\n",
       "      <td>1.016382e-07</td>\n",
       "      <td>1.678971e-07</td>\n",
       "      <td>1.265763e-07</td>\n",
       "      <td>3.063849e-07</td>\n",
       "      <td>...</td>\n",
       "      <td>2.115615e-07</td>\n",
       "      <td>1.857894e-07</td>\n",
       "      <td>6.619624e-07</td>\n",
       "      <td>7.258399e-08</td>\n",
       "      <td>6.635465e-07</td>\n",
       "      <td>4.234796e-07</td>\n",
       "      <td>1.621002e-07</td>\n",
       "      <td>3.975658e-08</td>\n",
       "      <td>3.047758e-07</td>\n",
       "      <td>5.426198e-08</td>\n",
       "    </tr>\n",
       "  </tbody>\n",
       "</table>\n",
       "<p>5 rows × 100 columns</p>\n",
       "</div>"
      ],
      "text/plain": [
       "   PC_Dist_0     PC_Dist_1     PC_Dist_2     PC_Dist_3     PC_Dist_4  \\\n",
       "0   0.000003  8.850121e-07  1.300548e-07  8.796138e-07  9.749752e-07   \n",
       "1   0.000003  4.238507e-08  1.377702e-09  5.568555e-06  6.378399e-08   \n",
       "2   0.000004  1.072428e-07  9.275353e-09  2.534746e-06  2.579451e-07   \n",
       "3   0.000002  5.355925e-09  2.004323e-08  3.367279e-06  2.147021e-08   \n",
       "4   0.000003  1.019421e-06  5.293710e-09  1.335980e-06  1.291377e-07   \n",
       "\n",
       "      PC_Dist_5     PC_Dist_6     PC_Dist_7     PC_Dist_8     PC_Dist_9  ...  \\\n",
       "0  6.006268e-07  9.185879e-07  7.911320e-08  1.611194e-07  7.142164e-08  ...   \n",
       "1  3.087902e-07  1.085274e-06  3.605502e-08  2.754040e-06  7.979202e-07  ...   \n",
       "2  1.029801e-08  1.192669e-06  1.809750e-06  2.151510e-06  7.104612e-07  ...   \n",
       "3  1.093098e-07  1.634498e-08  1.551529e-07  9.526242e-08  3.006176e-08  ...   \n",
       "4  1.093313e-07  1.016382e-07  1.678971e-07  1.265763e-07  3.063849e-07  ...   \n",
       "\n",
       "     PC_Dist_90    PC_Dist_91    PC_Dist_92    PC_Dist_93    PC_Dist_94  \\\n",
       "0  9.211127e-07  6.628351e-07  1.239557e-07  1.077276e-08  5.865205e-07   \n",
       "1  1.651145e-06  7.397646e-07  2.376498e-07  1.453506e-06  7.682039e-08   \n",
       "2  2.470410e-08  4.530108e-10  6.014999e-08  2.680059e-07  5.812913e-06   \n",
       "3  3.047232e-07  4.312149e-07  1.566493e-07  2.112885e-08  1.953438e-07   \n",
       "4  2.115615e-07  1.857894e-07  6.619624e-07  7.258399e-08  6.635465e-07   \n",
       "\n",
       "     PC_Dist_95    PC_Dist_96    PC_Dist_97    PC_Dist_98    PC_Dist_99  \n",
       "0  8.726920e-07  8.036498e-07  1.555162e-07  2.509609e-07  1.352391e-06  \n",
       "1  1.164342e-08  4.423506e-07  5.204098e-07  2.847929e-08  1.296898e-07  \n",
       "2  1.959971e-06  4.081172e-07  2.927101e-08  2.887069e-07  1.560194e-07  \n",
       "3  1.049965e-07  2.320112e-08  3.103239e-07  1.846072e-07  1.875107e-07  \n",
       "4  4.234796e-07  1.621002e-07  3.975658e-08  3.047758e-07  5.426198e-08  \n",
       "\n",
       "[5 rows x 100 columns]"
      ]
     },
     "execution_count": 10,
     "metadata": {},
     "output_type": "execute_result"
    }
   ],
   "source": [
    "pca.pc_distribution()\n",
    "pca.df_pca_dist.head()"
   ]
  },
  {
   "cell_type": "code",
   "execution_count": 11,
   "metadata": {},
   "outputs": [
    {
     "data": {
      "image/png": "[encoded data removed]",
      "text/plain": [
       "<Figure size 432x288 with 1 Axes>"
      ]
     },
     "metadata": {
      "needs_background": "light"
     },
     "output_type": "display_data"
    }
   ],
   "source": [
    "pc_distplot(pca, cols = np.arange(0,10))\n",
    "plt.title('Distribution of Variance Explained for Top 10 PCs')\n",
    "plot_dictionary['Boxenplot'] = plt.gca().get_figure()"
   ]
  },
  {
   "cell_type": "code",
   "execution_count": 12,
   "metadata": {},
   "outputs": [],
   "source": [
    "pca.pc_stats(thresholds=[0.9,0.95,0.98,0.99,0.995])"
   ]
  },
  {
   "cell_type": "code",
   "execution_count": 13,
   "metadata": {},
   "outputs": [
    {
     "data": {
      "text/html": [
       "<div>\n",
       "<style scoped>\n",
       "    .dataframe tbody tr th:only-of-type {\n",
       "        vertical-align: middle;\n",
       "    }\n",
       "\n",
       "    .dataframe tbody tr th {\n",
       "        vertical-align: top;\n",
       "    }\n",
       "\n",
       "    .dataframe thead th {\n",
       "        text-align: right;\n",
       "    }\n",
       "</style>\n",
       "<table border=\"1\" class=\"dataframe\">\n",
       "  <thead>\n",
       "    <tr style=\"text-align: right;\">\n",
       "      <th></th>\n",
       "      <th>90.0_Percentile</th>\n",
       "      <th>95.0_Percentile</th>\n",
       "      <th>98.0_Percentile</th>\n",
       "      <th>99.0_Percentile</th>\n",
       "      <th>100.0_Percentile</th>\n",
       "      <th>evalue</th>\n",
       "      <th>rank</th>\n",
       "    </tr>\n",
       "  </thead>\n",
       "  <tbody>\n",
       "    <tr>\n",
       "      <th>PC_Dist_2</th>\n",
       "      <td>8.937955e-13</td>\n",
       "      <td>1.281261e-12</td>\n",
       "      <td>1.790675e-12</td>\n",
       "      <td>2.444145e-12</td>\n",
       "      <td>1.411886e-10</td>\n",
       "      <td>1.034145e-08</td>\n",
       "      <td>0.000003</td>\n",
       "    </tr>\n",
       "    <tr>\n",
       "      <th>PC_Dist_1</th>\n",
       "      <td>1.530873e-11</td>\n",
       "      <td>2.573441e-11</td>\n",
       "      <td>4.649619e-11</td>\n",
       "      <td>5.755247e-11</td>\n",
       "      <td>6.143943e-11</td>\n",
       "      <td>1.190551e-08</td>\n",
       "      <td>0.000002</td>\n",
       "    </tr>\n",
       "    <tr>\n",
       "      <th>PC_Dist_0</th>\n",
       "      <td>3.070177e-11</td>\n",
       "      <td>3.753743e-11</td>\n",
       "      <td>4.357857e-11</td>\n",
       "      <td>4.707345e-11</td>\n",
       "      <td>5.202399e-11</td>\n",
       "      <td>2.186993e-08</td>\n",
       "      <td>0.000001</td>\n",
       "    </tr>\n",
       "    <tr>\n",
       "      <th>PC_Dist_3</th>\n",
       "      <td>1.057385e-11</td>\n",
       "      <td>1.523524e-11</td>\n",
       "      <td>2.034017e-11</td>\n",
       "      <td>2.525699e-11</td>\n",
       "      <td>2.948231e-11</td>\n",
       "      <td>8.255534e-09</td>\n",
       "      <td>0.000004</td>\n",
       "    </tr>\n",
       "    <tr>\n",
       "      <th>PC_Dist_7</th>\n",
       "      <td>1.911522e-12</td>\n",
       "      <td>3.308870e-12</td>\n",
       "      <td>6.987159e-12</td>\n",
       "      <td>1.146351e-11</td>\n",
       "      <td>1.924931e-11</td>\n",
       "      <td>2.103738e-09</td>\n",
       "      <td>0.000008</td>\n",
       "    </tr>\n",
       "    <tr>\n",
       "      <th>PC_Dist_4</th>\n",
       "      <td>6.235669e-12</td>\n",
       "      <td>8.775100e-12</td>\n",
       "      <td>1.255835e-11</td>\n",
       "      <td>1.470140e-11</td>\n",
       "      <td>1.760286e-11</td>\n",
       "      <td>4.986034e-09</td>\n",
       "      <td>0.000005</td>\n",
       "    </tr>\n",
       "    <tr>\n",
       "      <th>PC_Dist_5</th>\n",
       "      <td>3.047655e-12</td>\n",
       "      <td>6.343052e-12</td>\n",
       "      <td>1.079666e-11</td>\n",
       "      <td>1.361631e-11</td>\n",
       "      <td>1.647633e-11</td>\n",
       "      <td>2.795035e-09</td>\n",
       "      <td>0.000006</td>\n",
       "    </tr>\n",
       "    <tr>\n",
       "      <th>PC_Dist_8</th>\n",
       "      <td>1.849066e-12</td>\n",
       "      <td>3.059671e-12</td>\n",
       "      <td>6.094892e-12</td>\n",
       "      <td>8.031230e-12</td>\n",
       "      <td>1.472356e-11</td>\n",
       "      <td>2.041775e-09</td>\n",
       "      <td>0.000009</td>\n",
       "    </tr>\n",
       "    <tr>\n",
       "      <th>PC_Dist_6</th>\n",
       "      <td>3.023852e-12</td>\n",
       "      <td>5.615551e-12</td>\n",
       "      <td>8.654113e-12</td>\n",
       "      <td>1.114632e-11</td>\n",
       "      <td>1.395959e-11</td>\n",
       "      <td>2.544210e-09</td>\n",
       "      <td>0.000007</td>\n",
       "    </tr>\n",
       "    <tr>\n",
       "      <th>PC_Dist_10</th>\n",
       "      <td>1.898662e-12</td>\n",
       "      <td>3.252918e-12</td>\n",
       "      <td>5.688720e-12</td>\n",
       "      <td>7.886136e-12</td>\n",
       "      <td>1.361753e-11</td>\n",
       "      <td>1.976485e-09</td>\n",
       "      <td>0.000011</td>\n",
       "    </tr>\n",
       "    <tr>\n",
       "      <th>PC_Dist_9</th>\n",
       "      <td>2.194462e-12</td>\n",
       "      <td>3.277473e-12</td>\n",
       "      <td>5.188736e-12</td>\n",
       "      <td>7.071598e-12</td>\n",
       "      <td>1.067143e-11</td>\n",
       "      <td>2.003245e-09</td>\n",
       "      <td>0.000010</td>\n",
       "    </tr>\n",
       "    <tr>\n",
       "      <th>PC_Dist_18</th>\n",
       "      <td>2.013576e-12</td>\n",
       "      <td>3.096855e-12</td>\n",
       "      <td>4.990567e-12</td>\n",
       "      <td>6.743385e-12</td>\n",
       "      <td>9.919706e-12</td>\n",
       "      <td>1.882294e-09</td>\n",
       "      <td>0.000019</td>\n",
       "    </tr>\n",
       "    <tr>\n",
       "      <th>PC_Dist_14</th>\n",
       "      <td>2.129045e-12</td>\n",
       "      <td>3.252528e-12</td>\n",
       "      <td>5.129298e-12</td>\n",
       "      <td>6.841351e-12</td>\n",
       "      <td>9.635200e-12</td>\n",
       "      <td>1.912783e-09</td>\n",
       "      <td>0.000015</td>\n",
       "    </tr>\n",
       "    <tr>\n",
       "      <th>PC_Dist_15</th>\n",
       "      <td>2.103887e-12</td>\n",
       "      <td>3.183446e-12</td>\n",
       "      <td>4.825140e-12</td>\n",
       "      <td>6.618420e-12</td>\n",
       "      <td>9.082483e-12</td>\n",
       "      <td>1.906724e-09</td>\n",
       "      <td>0.000016</td>\n",
       "    </tr>\n",
       "    <tr>\n",
       "      <th>PC_Dist_19</th>\n",
       "      <td>2.063692e-12</td>\n",
       "      <td>3.029206e-12</td>\n",
       "      <td>4.751323e-12</td>\n",
       "      <td>6.389325e-12</td>\n",
       "      <td>8.945444e-12</td>\n",
       "      <td>1.871416e-09</td>\n",
       "      <td>0.000020</td>\n",
       "    </tr>\n",
       "    <tr>\n",
       "      <th>PC_Dist_13</th>\n",
       "      <td>2.108908e-12</td>\n",
       "      <td>3.067345e-12</td>\n",
       "      <td>5.118826e-12</td>\n",
       "      <td>6.916650e-12</td>\n",
       "      <td>8.798324e-12</td>\n",
       "      <td>1.919829e-09</td>\n",
       "      <td>0.000014</td>\n",
       "    </tr>\n",
       "    <tr>\n",
       "      <th>PC_Dist_17</th>\n",
       "      <td>2.106053e-12</td>\n",
       "      <td>3.286678e-12</td>\n",
       "      <td>5.197090e-12</td>\n",
       "      <td>7.256173e-12</td>\n",
       "      <td>8.753941e-12</td>\n",
       "      <td>1.889404e-09</td>\n",
       "      <td>0.000018</td>\n",
       "    </tr>\n",
       "    <tr>\n",
       "      <th>PC_Dist_12</th>\n",
       "      <td>2.176153e-12</td>\n",
       "      <td>3.145870e-12</td>\n",
       "      <td>5.067981e-12</td>\n",
       "      <td>6.620892e-12</td>\n",
       "      <td>8.560435e-12</td>\n",
       "      <td>1.928728e-09</td>\n",
       "      <td>0.000013</td>\n",
       "    </tr>\n",
       "    <tr>\n",
       "      <th>PC_Dist_27</th>\n",
       "      <td>2.126765e-12</td>\n",
       "      <td>3.043577e-12</td>\n",
       "      <td>4.454280e-12</td>\n",
       "      <td>5.775037e-12</td>\n",
       "      <td>8.477023e-12</td>\n",
       "      <td>1.815062e-09</td>\n",
       "      <td>0.000028</td>\n",
       "    </tr>\n",
       "    <tr>\n",
       "      <th>PC_Dist_24</th>\n",
       "      <td>2.026308e-12</td>\n",
       "      <td>3.079258e-12</td>\n",
       "      <td>4.641114e-12</td>\n",
       "      <td>6.485025e-12</td>\n",
       "      <td>8.373960e-12</td>\n",
       "      <td>1.833492e-09</td>\n",
       "      <td>0.000025</td>\n",
       "    </tr>\n",
       "  </tbody>\n",
       "</table>\n",
       "</div>"
      ],
      "text/plain": [
       "            90.0_Percentile  95.0_Percentile  98.0_Percentile  \\\n",
       "PC_Dist_2      8.937955e-13     1.281261e-12     1.790675e-12   \n",
       "PC_Dist_1      1.530873e-11     2.573441e-11     4.649619e-11   \n",
       "PC_Dist_0      3.070177e-11     3.753743e-11     4.357857e-11   \n",
       "PC_Dist_3      1.057385e-11     1.523524e-11     2.034017e-11   \n",
       "PC_Dist_7      1.911522e-12     3.308870e-12     6.987159e-12   \n",
       "PC_Dist_4      6.235669e-12     8.775100e-12     1.255835e-11   \n",
       "PC_Dist_5      3.047655e-12     6.343052e-12     1.079666e-11   \n",
       "PC_Dist_8      1.849066e-12     3.059671e-12     6.094892e-12   \n",
       "PC_Dist_6      3.023852e-12     5.615551e-12     8.654113e-12   \n",
       "PC_Dist_10     1.898662e-12     3.252918e-12     5.688720e-12   \n",
       "PC_Dist_9      2.194462e-12     3.277473e-12     5.188736e-12   \n",
       "PC_Dist_18     2.013576e-12     3.096855e-12     4.990567e-12   \n",
       "PC_Dist_14     2.129045e-12     3.252528e-12     5.129298e-12   \n",
       "PC_Dist_15     2.103887e-12     3.183446e-12     4.825140e-12   \n",
       "PC_Dist_19     2.063692e-12     3.029206e-12     4.751323e-12   \n",
       "PC_Dist_13     2.108908e-12     3.067345e-12     5.118826e-12   \n",
       "PC_Dist_17     2.106053e-12     3.286678e-12     5.197090e-12   \n",
       "PC_Dist_12     2.176153e-12     3.145870e-12     5.067981e-12   \n",
       "PC_Dist_27     2.126765e-12     3.043577e-12     4.454280e-12   \n",
       "PC_Dist_24     2.026308e-12     3.079258e-12     4.641114e-12   \n",
       "\n",
       "            99.0_Percentile  100.0_Percentile        evalue      rank  \n",
       "PC_Dist_2      2.444145e-12      1.411886e-10  1.034145e-08  0.000003  \n",
       "PC_Dist_1      5.755247e-11      6.143943e-11  1.190551e-08  0.000002  \n",
       "PC_Dist_0      4.707345e-11      5.202399e-11  2.186993e-08  0.000001  \n",
       "PC_Dist_3      2.525699e-11      2.948231e-11  8.255534e-09  0.000004  \n",
       "PC_Dist_7      1.146351e-11      1.924931e-11  2.103738e-09  0.000008  \n",
       "PC_Dist_4      1.470140e-11      1.760286e-11  4.986034e-09  0.000005  \n",
       "PC_Dist_5      1.361631e-11      1.647633e-11  2.795035e-09  0.000006  \n",
       "PC_Dist_8      8.031230e-12      1.472356e-11  2.041775e-09  0.000009  \n",
       "PC_Dist_6      1.114632e-11      1.395959e-11  2.544210e-09  0.000007  \n",
       "PC_Dist_10     7.886136e-12      1.361753e-11  1.976485e-09  0.000011  \n",
       "PC_Dist_9      7.071598e-12      1.067143e-11  2.003245e-09  0.000010  \n",
       "PC_Dist_18     6.743385e-12      9.919706e-12  1.882294e-09  0.000019  \n",
       "PC_Dist_14     6.841351e-12      9.635200e-12  1.912783e-09  0.000015  \n",
       "PC_Dist_15     6.618420e-12      9.082483e-12  1.906724e-09  0.000016  \n",
       "PC_Dist_19     6.389325e-12      8.945444e-12  1.871416e-09  0.000020  \n",
       "PC_Dist_13     6.916650e-12      8.798324e-12  1.919829e-09  0.000014  \n",
       "PC_Dist_17     7.256173e-12      8.753941e-12  1.889404e-09  0.000018  \n",
       "PC_Dist_12     6.620892e-12      8.560435e-12  1.928728e-09  0.000013  \n",
       "PC_Dist_27     5.775037e-12      8.477023e-12  1.815062e-09  0.000028  \n",
       "PC_Dist_24     6.485025e-12      8.373960e-12  1.833492e-09  0.000025  "
      ]
     },
     "execution_count": 13,
     "metadata": {},
     "output_type": "execute_result"
    }
   ],
   "source": [
    "1e-6*pca.df_pc_stats.sort_values(by = '100.0_Percentile',ascending = False).head(20)"
   ]
  },
  {
   "cell_type": "code",
   "execution_count": 14,
   "metadata": {},
   "outputs": [],
   "source": [
    "def compute_gap(df, var_name):\n",
    "    nrows = df.shape[0]\n",
    "    df = df.sort_values(by = var_name,ascending = False).reset_index()\n",
    "    ratios = np.divide(df.loc[0:nrows-2,var_name].values,df.loc[1:nrows-1,var_name].values)\n",
    "    top_args = np.argsort(-1*ratios)\n",
    "    top_gaps = -1*np.sort(-1*ratios)\n",
    "    gap_stats = pd.DataFrame(top_args, columns = ['args'])\n",
    "    gap_stats['gaps'] = top_gaps\n",
    "    return gap_stats"
   ]
  },
  {
   "cell_type": "code",
   "execution_count": 16,
   "metadata": {},
   "outputs": [
    {
     "data": {
      "text/html": [
       "<div>\n",
       "<style scoped>\n",
       "    .dataframe tbody tr th:only-of-type {\n",
       "        vertical-align: middle;\n",
       "    }\n",
       "\n",
       "    .dataframe tbody tr th {\n",
       "        vertical-align: top;\n",
       "    }\n",
       "\n",
       "    .dataframe thead th {\n",
       "        text-align: right;\n",
       "    }\n",
       "</style>\n",
       "<table border=\"1\" class=\"dataframe\">\n",
       "  <thead>\n",
       "    <tr style=\"text-align: right;\">\n",
       "      <th></th>\n",
       "      <th>args</th>\n",
       "      <th>gaps</th>\n",
       "    </tr>\n",
       "  </thead>\n",
       "  <tbody>\n",
       "    <tr>\n",
       "      <th>0</th>\n",
       "      <td>0</td>\n",
       "      <td>1.836958</td>\n",
       "    </tr>\n",
       "    <tr>\n",
       "      <th>1</th>\n",
       "      <td>4</td>\n",
       "      <td>1.783889</td>\n",
       "    </tr>\n",
       "    <tr>\n",
       "      <th>2</th>\n",
       "      <td>3</td>\n",
       "      <td>1.655732</td>\n",
       "    </tr>\n",
       "    <tr>\n",
       "      <th>3</th>\n",
       "      <td>2</td>\n",
       "      <td>1.252669</td>\n",
       "    </tr>\n",
       "    <tr>\n",
       "      <th>4</th>\n",
       "      <td>6</td>\n",
       "      <td>1.209376</td>\n",
       "    </tr>\n",
       "    <tr>\n",
       "      <th>5</th>\n",
       "      <td>1</td>\n",
       "      <td>1.151242</td>\n",
       "    </tr>\n",
       "    <tr>\n",
       "      <th>6</th>\n",
       "      <td>5</td>\n",
       "      <td>1.098587</td>\n",
       "    </tr>\n",
       "    <tr>\n",
       "      <th>7</th>\n",
       "      <td>7</td>\n",
       "      <td>1.030348</td>\n",
       "    </tr>\n",
       "    <tr>\n",
       "      <th>8</th>\n",
       "      <td>8</td>\n",
       "      <td>1.019234</td>\n",
       "    </tr>\n",
       "    <tr>\n",
       "      <th>9</th>\n",
       "      <td>11</td>\n",
       "      <td>1.016837</td>\n",
       "    </tr>\n",
       "  </tbody>\n",
       "</table>\n",
       "</div>"
      ],
      "text/plain": [
       "   args      gaps\n",
       "0     0  1.836958\n",
       "1     4  1.783889\n",
       "2     3  1.655732\n",
       "3     2  1.252669\n",
       "4     6  1.209376\n",
       "5     1  1.151242\n",
       "6     5  1.098587\n",
       "7     7  1.030348\n",
       "8     8  1.019234\n",
       "9    11  1.016837"
      ]
     },
     "execution_count": 16,
     "metadata": {},
     "output_type": "execute_result"
    }
   ],
   "source": [
    "#Top 7 looks like a good stopping place- 20% difference\n",
    "gap_stats = compute_gap(pca.df_pc_stats,'evalue')\n",
    "gap_stats[0:10]"
   ]
  },
  {
   "cell_type": "code",
   "execution_count": 17,
   "metadata": {},
   "outputs": [
    {
     "data": {
      "text/plain": [
       "<matplotlib.axes._subplots.AxesSubplot at 0x7f916ac35090>"
      ]
     },
     "execution_count": 17,
     "metadata": {},
     "output_type": "execute_result"
    },
    {
     "data": {
      "image/png": "[encoded data removed]",
      "text/plain": [
       "<Figure size 432x288 with 1 Axes>"
      ]
     },
     "metadata": {
      "needs_background": "light"
     },
     "output_type": "display_data"
    }
   ],
   "source": [
    "sns.boxplot(gap_stats['gaps'])"
   ]
  },
  {
   "cell_type": "code",
   "execution_count": 18,
   "metadata": {},
   "outputs": [],
   "source": [
    "gap_stats = compute_gap(pca.df_pc_stats,'100.0_Percentile')"
   ]
  },
  {
   "cell_type": "code",
   "execution_count": 19,
   "metadata": {},
   "outputs": [
    {
     "data": {
      "text/html": [
       "<div>\n",
       "<style scoped>\n",
       "    .dataframe tbody tr th:only-of-type {\n",
       "        vertical-align: middle;\n",
       "    }\n",
       "\n",
       "    .dataframe tbody tr th {\n",
       "        vertical-align: top;\n",
       "    }\n",
       "\n",
       "    .dataframe thead th {\n",
       "        text-align: right;\n",
       "    }\n",
       "</style>\n",
       "<table border=\"1\" class=\"dataframe\">\n",
       "  <thead>\n",
       "    <tr style=\"text-align: right;\">\n",
       "      <th></th>\n",
       "      <th>args</th>\n",
       "      <th>gaps</th>\n",
       "    </tr>\n",
       "  </thead>\n",
       "  <tbody>\n",
       "    <tr>\n",
       "      <th>0</th>\n",
       "      <td>0</td>\n",
       "      <td>2.298013</td>\n",
       "    </tr>\n",
       "    <tr>\n",
       "      <th>1</th>\n",
       "      <td>2</td>\n",
       "      <td>1.764583</td>\n",
       "    </tr>\n",
       "    <tr>\n",
       "      <th>2</th>\n",
       "      <td>3</td>\n",
       "      <td>1.531604</td>\n",
       "    </tr>\n",
       "    <tr>\n",
       "      <th>3</th>\n",
       "      <td>9</td>\n",
       "      <td>1.276074</td>\n",
       "    </tr>\n",
       "    <tr>\n",
       "      <th>4</th>\n",
       "      <td>1</td>\n",
       "      <td>1.180983</td>\n",
       "    </tr>\n",
       "    <tr>\n",
       "      <th>5</th>\n",
       "      <td>6</td>\n",
       "      <td>1.119045</td>\n",
       "    </tr>\n",
       "    <tr>\n",
       "      <th>6</th>\n",
       "      <td>4</td>\n",
       "      <td>1.093533</td>\n",
       "    </tr>\n",
       "    <tr>\n",
       "      <th>7</th>\n",
       "      <td>10</td>\n",
       "      <td>1.075781</td>\n",
       "    </tr>\n",
       "    <tr>\n",
       "      <th>8</th>\n",
       "      <td>5</td>\n",
       "      <td>1.068373</td>\n",
       "    </tr>\n",
       "    <tr>\n",
       "      <th>9</th>\n",
       "      <td>12</td>\n",
       "      <td>1.060855</td>\n",
       "    </tr>\n",
       "    <tr>\n",
       "      <th>10</th>\n",
       "      <td>7</td>\n",
       "      <td>1.054727</td>\n",
       "    </tr>\n",
       "    <tr>\n",
       "      <th>11</th>\n",
       "      <td>95</td>\n",
       "      <td>1.037894</td>\n",
       "    </tr>\n",
       "  </tbody>\n",
       "</table>\n",
       "</div>"
      ],
      "text/plain": [
       "    args      gaps\n",
       "0      0  2.298013\n",
       "1      2  1.764583\n",
       "2      3  1.531604\n",
       "3      9  1.276074\n",
       "4      1  1.180983\n",
       "5      6  1.119045\n",
       "6      4  1.093533\n",
       "7     10  1.075781\n",
       "8      5  1.068373\n",
       "9     12  1.060855\n",
       "10     7  1.054727\n",
       "11    95  1.037894"
      ]
     },
     "execution_count": 19,
     "metadata": {},
     "output_type": "execute_result"
    }
   ],
   "source": [
    "#top 10 (maybe 11)\n",
    "gap_stats[0:12]"
   ]
  },
  {
   "cell_type": "code",
   "execution_count": 69,
   "metadata": {},
   "outputs": [
    {
     "data": {
      "text/html": [
       "<div>\n",
       "<style scoped>\n",
       "    .dataframe tbody tr th:only-of-type {\n",
       "        vertical-align: middle;\n",
       "    }\n",
       "\n",
       "    .dataframe tbody tr th {\n",
       "        vertical-align: top;\n",
       "    }\n",
       "\n",
       "    .dataframe thead th {\n",
       "        text-align: right;\n",
       "    }\n",
       "</style>\n",
       "<table border=\"1\" class=\"dataframe\">\n",
       "  <thead>\n",
       "    <tr style=\"text-align: right;\">\n",
       "      <th></th>\n",
       "      <th>args</th>\n",
       "      <th>gaps</th>\n",
       "    </tr>\n",
       "  </thead>\n",
       "  <tbody>\n",
       "    <tr>\n",
       "      <th>0</th>\n",
       "      <td>1</td>\n",
       "      <td>2.142489</td>\n",
       "    </tr>\n",
       "    <tr>\n",
       "      <th>1</th>\n",
       "      <td>98</td>\n",
       "      <td>1.992333</td>\n",
       "    </tr>\n",
       "    <tr>\n",
       "      <th>2</th>\n",
       "      <td>2</td>\n",
       "      <td>1.619653</td>\n",
       "    </tr>\n",
       "    <tr>\n",
       "      <th>3</th>\n",
       "      <td>4</td>\n",
       "      <td>1.247576</td>\n",
       "    </tr>\n",
       "    <tr>\n",
       "      <th>4</th>\n",
       "      <td>5</td>\n",
       "      <td>1.238574</td>\n",
       "    </tr>\n",
       "    <tr>\n",
       "      <th>5</th>\n",
       "      <td>3</td>\n",
       "      <td>1.163170</td>\n",
       "    </tr>\n",
       "    <tr>\n",
       "      <th>6</th>\n",
       "      <td>6</td>\n",
       "      <td>1.146396</td>\n",
       "    </tr>\n",
       "    <tr>\n",
       "      <th>7</th>\n",
       "      <td>8</td>\n",
       "      <td>1.094597</td>\n",
       "    </tr>\n",
       "    <tr>\n",
       "      <th>8</th>\n",
       "      <td>7</td>\n",
       "      <td>1.071400</td>\n",
       "    </tr>\n",
       "    <tr>\n",
       "      <th>9</th>\n",
       "      <td>0</td>\n",
       "      <td>1.066951</td>\n",
       "    </tr>\n",
       "    <tr>\n",
       "      <th>10</th>\n",
       "      <td>96</td>\n",
       "      <td>1.043735</td>\n",
       "    </tr>\n",
       "    <tr>\n",
       "      <th>11</th>\n",
       "      <td>97</td>\n",
       "      <td>1.023359</td>\n",
       "    </tr>\n",
       "  </tbody>\n",
       "</table>\n",
       "</div>"
      ],
      "text/plain": [
       "    args      gaps\n",
       "0      1  2.142489\n",
       "1     98  1.992333\n",
       "2      2  1.619653\n",
       "3      4  1.247576\n",
       "4      5  1.238574\n",
       "5      3  1.163170\n",
       "6      6  1.146396\n",
       "7      8  1.094597\n",
       "8      7  1.071400\n",
       "9      0  1.066951\n",
       "10    96  1.043735\n",
       "11    97  1.023359"
      ]
     },
     "execution_count": 69,
     "metadata": {},
     "output_type": "execute_result"
    }
   ],
   "source": [
    "#top 9\n",
    "gap_stats = compute_gap(pca.df_pc_stats,'98.0_Percentile')\n",
    "gap_stats[0:12]"
   ]
  },
  {
   "cell_type": "code",
   "execution_count": 70,
   "metadata": {},
   "outputs": [
    {
     "data": {
      "text/html": [
       "<div>\n",
       "<style scoped>\n",
       "    .dataframe tbody tr th:only-of-type {\n",
       "        vertical-align: middle;\n",
       "    }\n",
       "\n",
       "    .dataframe tbody tr th {\n",
       "        vertical-align: top;\n",
       "    }\n",
       "\n",
       "    .dataframe thead th {\n",
       "        text-align: right;\n",
       "    }\n",
       "</style>\n",
       "<table border=\"1\" class=\"dataframe\">\n",
       "  <thead>\n",
       "    <tr style=\"text-align: right;\">\n",
       "      <th></th>\n",
       "      <th>90.0_Percentile</th>\n",
       "      <th>95.0_Percentile</th>\n",
       "      <th>98.0_Percentile</th>\n",
       "      <th>99.0_Percentile</th>\n",
       "      <th>100.0_Percentile</th>\n",
       "      <th>evalue</th>\n",
       "      <th>rank</th>\n",
       "    </tr>\n",
       "  </thead>\n",
       "  <tbody>\n",
       "    <tr>\n",
       "      <th>PC_Dist_1</th>\n",
       "      <td>1.530873e-11</td>\n",
       "      <td>2.573441e-11</td>\n",
       "      <td>4.649619e-11</td>\n",
       "      <td>5.755247e-11</td>\n",
       "      <td>6.143943e-11</td>\n",
       "      <td>1.190551e-08</td>\n",
       "      <td>0.000002</td>\n",
       "    </tr>\n",
       "    <tr>\n",
       "      <th>PC_Dist_0</th>\n",
       "      <td>3.070177e-11</td>\n",
       "      <td>3.753743e-11</td>\n",
       "      <td>4.357857e-11</td>\n",
       "      <td>4.707345e-11</td>\n",
       "      <td>5.202399e-11</td>\n",
       "      <td>2.186993e-08</td>\n",
       "      <td>0.000001</td>\n",
       "    </tr>\n",
       "    <tr>\n",
       "      <th>PC_Dist_3</th>\n",
       "      <td>1.057385e-11</td>\n",
       "      <td>1.523524e-11</td>\n",
       "      <td>2.034017e-11</td>\n",
       "      <td>2.525699e-11</td>\n",
       "      <td>2.948231e-11</td>\n",
       "      <td>8.255534e-09</td>\n",
       "      <td>0.000004</td>\n",
       "    </tr>\n",
       "    <tr>\n",
       "      <th>PC_Dist_4</th>\n",
       "      <td>6.235669e-12</td>\n",
       "      <td>8.775100e-12</td>\n",
       "      <td>1.255835e-11</td>\n",
       "      <td>1.470140e-11</td>\n",
       "      <td>1.760286e-11</td>\n",
       "      <td>4.986034e-09</td>\n",
       "      <td>0.000005</td>\n",
       "    </tr>\n",
       "    <tr>\n",
       "      <th>PC_Dist_5</th>\n",
       "      <td>3.047655e-12</td>\n",
       "      <td>6.343052e-12</td>\n",
       "      <td>1.079666e-11</td>\n",
       "      <td>1.361631e-11</td>\n",
       "      <td>1.647633e-11</td>\n",
       "      <td>2.795035e-09</td>\n",
       "      <td>0.000006</td>\n",
       "    </tr>\n",
       "    <tr>\n",
       "      <th>PC_Dist_6</th>\n",
       "      <td>3.023852e-12</td>\n",
       "      <td>5.615551e-12</td>\n",
       "      <td>8.654113e-12</td>\n",
       "      <td>1.114632e-11</td>\n",
       "      <td>1.395959e-11</td>\n",
       "      <td>2.544210e-09</td>\n",
       "      <td>0.000007</td>\n",
       "    </tr>\n",
       "    <tr>\n",
       "      <th>PC_Dist_7</th>\n",
       "      <td>1.911522e-12</td>\n",
       "      <td>3.308870e-12</td>\n",
       "      <td>6.987159e-12</td>\n",
       "      <td>1.146351e-11</td>\n",
       "      <td>1.924931e-11</td>\n",
       "      <td>2.103738e-09</td>\n",
       "      <td>0.000008</td>\n",
       "    </tr>\n",
       "    <tr>\n",
       "      <th>PC_Dist_8</th>\n",
       "      <td>1.849066e-12</td>\n",
       "      <td>3.059671e-12</td>\n",
       "      <td>6.094892e-12</td>\n",
       "      <td>8.031230e-12</td>\n",
       "      <td>1.472356e-11</td>\n",
       "      <td>2.041775e-09</td>\n",
       "      <td>0.000009</td>\n",
       "    </tr>\n",
       "    <tr>\n",
       "      <th>PC_Dist_10</th>\n",
       "      <td>1.898662e-12</td>\n",
       "      <td>3.252918e-12</td>\n",
       "      <td>5.688720e-12</td>\n",
       "      <td>7.886136e-12</td>\n",
       "      <td>1.361753e-11</td>\n",
       "      <td>1.976485e-09</td>\n",
       "      <td>0.000011</td>\n",
       "    </tr>\n",
       "    <tr>\n",
       "      <th>PC_Dist_17</th>\n",
       "      <td>2.106053e-12</td>\n",
       "      <td>3.286678e-12</td>\n",
       "      <td>5.197090e-12</td>\n",
       "      <td>7.256173e-12</td>\n",
       "      <td>8.753941e-12</td>\n",
       "      <td>1.889404e-09</td>\n",
       "      <td>0.000018</td>\n",
       "    </tr>\n",
       "    <tr>\n",
       "      <th>PC_Dist_9</th>\n",
       "      <td>2.194462e-12</td>\n",
       "      <td>3.277473e-12</td>\n",
       "      <td>5.188736e-12</td>\n",
       "      <td>7.071598e-12</td>\n",
       "      <td>1.067143e-11</td>\n",
       "      <td>2.003245e-09</td>\n",
       "      <td>0.000010</td>\n",
       "    </tr>\n",
       "    <tr>\n",
       "      <th>PC_Dist_16</th>\n",
       "      <td>2.202670e-12</td>\n",
       "      <td>3.327165e-12</td>\n",
       "      <td>5.181542e-12</td>\n",
       "      <td>6.729128e-12</td>\n",
       "      <td>8.183421e-12</td>\n",
       "      <td>1.903421e-09</td>\n",
       "      <td>0.000017</td>\n",
       "    </tr>\n",
       "    <tr>\n",
       "      <th>PC_Dist_14</th>\n",
       "      <td>2.129045e-12</td>\n",
       "      <td>3.252528e-12</td>\n",
       "      <td>5.129298e-12</td>\n",
       "      <td>6.841351e-12</td>\n",
       "      <td>9.635200e-12</td>\n",
       "      <td>1.912783e-09</td>\n",
       "      <td>0.000015</td>\n",
       "    </tr>\n",
       "    <tr>\n",
       "      <th>PC_Dist_13</th>\n",
       "      <td>2.108908e-12</td>\n",
       "      <td>3.067345e-12</td>\n",
       "      <td>5.118826e-12</td>\n",
       "      <td>6.916650e-12</td>\n",
       "      <td>8.798324e-12</td>\n",
       "      <td>1.919829e-09</td>\n",
       "      <td>0.000014</td>\n",
       "    </tr>\n",
       "    <tr>\n",
       "      <th>PC_Dist_12</th>\n",
       "      <td>2.176153e-12</td>\n",
       "      <td>3.145870e-12</td>\n",
       "      <td>5.067981e-12</td>\n",
       "      <td>6.620892e-12</td>\n",
       "      <td>8.560435e-12</td>\n",
       "      <td>1.928728e-09</td>\n",
       "      <td>0.000013</td>\n",
       "    </tr>\n",
       "    <tr>\n",
       "      <th>PC_Dist_11</th>\n",
       "      <td>2.269179e-12</td>\n",
       "      <td>3.329780e-12</td>\n",
       "      <td>5.041757e-12</td>\n",
       "      <td>6.226470e-12</td>\n",
       "      <td>8.263381e-12</td>\n",
       "      <td>1.961202e-09</td>\n",
       "      <td>0.000012</td>\n",
       "    </tr>\n",
       "    <tr>\n",
       "      <th>PC_Dist_21</th>\n",
       "      <td>2.192992e-12</td>\n",
       "      <td>3.165696e-12</td>\n",
       "      <td>4.991987e-12</td>\n",
       "      <td>6.505910e-12</td>\n",
       "      <td>7.211369e-12</td>\n",
       "      <td>1.855630e-09</td>\n",
       "      <td>0.000022</td>\n",
       "    </tr>\n",
       "    <tr>\n",
       "      <th>PC_Dist_18</th>\n",
       "      <td>2.013576e-12</td>\n",
       "      <td>3.096855e-12</td>\n",
       "      <td>4.990567e-12</td>\n",
       "      <td>6.743385e-12</td>\n",
       "      <td>9.919706e-12</td>\n",
       "      <td>1.882294e-09</td>\n",
       "      <td>0.000019</td>\n",
       "    </tr>\n",
       "    <tr>\n",
       "      <th>PC_Dist_22</th>\n",
       "      <td>2.195630e-12</td>\n",
       "      <td>3.243560e-12</td>\n",
       "      <td>4.934352e-12</td>\n",
       "      <td>6.083858e-12</td>\n",
       "      <td>7.334296e-12</td>\n",
       "      <td>1.846127e-09</td>\n",
       "      <td>0.000023</td>\n",
       "    </tr>\n",
       "    <tr>\n",
       "      <th>PC_Dist_23</th>\n",
       "      <td>1.991886e-12</td>\n",
       "      <td>2.928313e-12</td>\n",
       "      <td>4.911746e-12</td>\n",
       "      <td>6.205634e-12</td>\n",
       "      <td>8.204155e-12</td>\n",
       "      <td>1.840522e-09</td>\n",
       "      <td>0.000024</td>\n",
       "    </tr>\n",
       "  </tbody>\n",
       "</table>\n",
       "</div>"
      ],
      "text/plain": [
       "            90.0_Percentile  95.0_Percentile  98.0_Percentile  \\\n",
       "PC_Dist_1      1.530873e-11     2.573441e-11     4.649619e-11   \n",
       "PC_Dist_0      3.070177e-11     3.753743e-11     4.357857e-11   \n",
       "PC_Dist_3      1.057385e-11     1.523524e-11     2.034017e-11   \n",
       "PC_Dist_4      6.235669e-12     8.775100e-12     1.255835e-11   \n",
       "PC_Dist_5      3.047655e-12     6.343052e-12     1.079666e-11   \n",
       "PC_Dist_6      3.023852e-12     5.615551e-12     8.654113e-12   \n",
       "PC_Dist_7      1.911522e-12     3.308870e-12     6.987159e-12   \n",
       "PC_Dist_8      1.849066e-12     3.059671e-12     6.094892e-12   \n",
       "PC_Dist_10     1.898662e-12     3.252918e-12     5.688720e-12   \n",
       "PC_Dist_17     2.106053e-12     3.286678e-12     5.197090e-12   \n",
       "PC_Dist_9      2.194462e-12     3.277473e-12     5.188736e-12   \n",
       "PC_Dist_16     2.202670e-12     3.327165e-12     5.181542e-12   \n",
       "PC_Dist_14     2.129045e-12     3.252528e-12     5.129298e-12   \n",
       "PC_Dist_13     2.108908e-12     3.067345e-12     5.118826e-12   \n",
       "PC_Dist_12     2.176153e-12     3.145870e-12     5.067981e-12   \n",
       "PC_Dist_11     2.269179e-12     3.329780e-12     5.041757e-12   \n",
       "PC_Dist_21     2.192992e-12     3.165696e-12     4.991987e-12   \n",
       "PC_Dist_18     2.013576e-12     3.096855e-12     4.990567e-12   \n",
       "PC_Dist_22     2.195630e-12     3.243560e-12     4.934352e-12   \n",
       "PC_Dist_23     1.991886e-12     2.928313e-12     4.911746e-12   \n",
       "\n",
       "            99.0_Percentile  100.0_Percentile        evalue      rank  \n",
       "PC_Dist_1      5.755247e-11      6.143943e-11  1.190551e-08  0.000002  \n",
       "PC_Dist_0      4.707345e-11      5.202399e-11  2.186993e-08  0.000001  \n",
       "PC_Dist_3      2.525699e-11      2.948231e-11  8.255534e-09  0.000004  \n",
       "PC_Dist_4      1.470140e-11      1.760286e-11  4.986034e-09  0.000005  \n",
       "PC_Dist_5      1.361631e-11      1.647633e-11  2.795035e-09  0.000006  \n",
       "PC_Dist_6      1.114632e-11      1.395959e-11  2.544210e-09  0.000007  \n",
       "PC_Dist_7      1.146351e-11      1.924931e-11  2.103738e-09  0.000008  \n",
       "PC_Dist_8      8.031230e-12      1.472356e-11  2.041775e-09  0.000009  \n",
       "PC_Dist_10     7.886136e-12      1.361753e-11  1.976485e-09  0.000011  \n",
       "PC_Dist_17     7.256173e-12      8.753941e-12  1.889404e-09  0.000018  \n",
       "PC_Dist_9      7.071598e-12      1.067143e-11  2.003245e-09  0.000010  \n",
       "PC_Dist_16     6.729128e-12      8.183421e-12  1.903421e-09  0.000017  \n",
       "PC_Dist_14     6.841351e-12      9.635200e-12  1.912783e-09  0.000015  \n",
       "PC_Dist_13     6.916650e-12      8.798324e-12  1.919829e-09  0.000014  \n",
       "PC_Dist_12     6.620892e-12      8.560435e-12  1.928728e-09  0.000013  \n",
       "PC_Dist_11     6.226470e-12      8.263381e-12  1.961202e-09  0.000012  \n",
       "PC_Dist_21     6.505910e-12      7.211369e-12  1.855630e-09  0.000022  \n",
       "PC_Dist_18     6.743385e-12      9.919706e-12  1.882294e-09  0.000019  \n",
       "PC_Dist_22     6.083858e-12      7.334296e-12  1.846127e-09  0.000023  \n",
       "PC_Dist_23     6.205634e-12      8.204155e-12  1.840522e-09  0.000024  "
      ]
     },
     "execution_count": 70,
     "metadata": {},
     "output_type": "execute_result"
    }
   ],
   "source": [
    "1e-6*pca.df_pc_stats.sort_values(by = '98.0_Percentile',ascending = False).head(20)"
   ]
  },
  {
   "cell_type": "code",
   "execution_count": 20,
   "metadata": {
    "scrolled": true
   },
   "outputs": [
    {
     "data": {
      "text/plain": [
       "<matplotlib.collections.PathCollection at 0x7f916ab9e6d0>"
      ]
     },
     "execution_count": 20,
     "metadata": {},
     "output_type": "execute_result"
    },
    {
     "data": {
      "image/png": "[encoded data removed]",
      "text/plain": [
       "<Figure size 432x288 with 1 Axes>"
      ]
     },
     "metadata": {
      "needs_background": "light"
     },
     "output_type": "display_data"
    }
   ],
   "source": [
    "#scree plot of ratios from a scree plot\n",
    "plt.scatter(x = np.arange(20), y = gap_stats.loc[0:19,'gaps'])"
   ]
  },
  {
   "cell_type": "code",
   "execution_count": 27,
   "metadata": {},
   "outputs": [
    {
     "data": {
      "image/png": "[encoded data removed]",
      "text/plain": [
       "<Figure size 432x288 with 1 Axes>"
      ]
     },
     "metadata": {
      "needs_background": "light"
     },
     "output_type": "display_data"
    }
   ],
   "source": [
    "scatter_scree_plot(pca)\n",
    "plot_dictionary['Traditional Scree Plot'] = plt.gca().get_figure()"
   ]
  },
  {
   "cell_type": "code",
   "execution_count": 28,
   "metadata": {},
   "outputs": [
    {
     "data": {
      "image/png": "[encoded data removed]",
      "text/plain": [
       "<Figure size 432x288 with 1 Axes>"
      ]
     },
     "metadata": {
      "needs_background": "light"
     },
     "output_type": "display_data"
    }
   ],
   "source": [
    "#0-6 look significant\n",
    "scatter_scree_plot(pca, rank = np.arange(5,51))\n",
    "plt.title('PCs 5-50')\n",
    "plot_dictionary['Traditional Scree Plot, 5-50'] = plt.gca().get_figure()"
   ]
  },
  {
   "cell_type": "code",
   "execution_count": 29,
   "metadata": {},
   "outputs": [
    {
     "data": {
      "image/png": "[encoded data removed]",
      "text/plain": [
       "<Figure size 432x288 with 1 Axes>"
      ]
     },
     "metadata": {
      "needs_background": "light"
     },
     "output_type": "display_data"
    }
   ],
   "source": [
    "#another gap at 12-13\n",
    "scatter_scree_plot(pca, rank = np.arange(8,51))\n",
    "plt.title('PCs 8-50')\n",
    "plot_dictionary['Traditional Scree Plot, 8-50'] = plt.gca().get_figure()"
   ]
  },
  {
   "cell_type": "code",
   "execution_count": 32,
   "metadata": {},
   "outputs": [
    {
     "data": {
      "image/png": "[encoded data removed]",
      "text/plain": [
       "<Figure size 432x288 with 1 Axes>"
      ]
     },
     "metadata": {
      "needs_background": "light"
     },
     "output_type": "display_data"
    }
   ],
   "source": [
    "fig = dist_var_pc_plot(pca, rank = np.arange(5,35), threshold_subset = ['98.0_Percentile',\n",
    "                                                                        '99.0_Percentile',\n",
    "                                                                        '100.0_Percentile'])\n",
    "plot_dictionary['PCQC_NotSorted'] = plt.gca().get_figure()"
   ]
  },
  {
   "cell_type": "code",
   "execution_count": 33,
   "metadata": {},
   "outputs": [
    {
     "data": {
      "image/png": "[encoded data removed]",
      "text/plain": [
       "<Figure size 432x288 with 1 Axes>"
      ]
     },
     "metadata": {
      "needs_background": "light"
     },
     "output_type": "display_data"
    }
   ],
   "source": [
    "fig = sorted_dist_var_pc_plot(pca, rank = np.arange(5,20), sort_var = '100.0_Percentile', \n",
    "                             threshold_subset =                       ['98.0_Percentile',\n",
    "                                                                        '99.0_Percentile',\n",
    "                                                                        '100.0_Percentile'])\n",
    "\n",
    "plot_dictionary['PCQC_Sorted'] = plt.gca().get_figure()"
   ]
  },
  {
   "cell_type": "code",
   "execution_count": 34,
   "metadata": {},
   "outputs": [
    {
     "data": {
      "image/png": "[encoded data removed]",
      "text/plain": [
       "<Figure size 432x288 with 1 Axes>"
      ]
     },
     "metadata": {
      "needs_background": "light"
     },
     "output_type": "display_data"
    }
   ],
   "source": [
    "#pcqc somewhere between 10 and 15\n",
    "fig = sorted_dist_var_pc_plot(pca, rank = np.arange(10,50), sort_var = '100.0_Percentile', \n",
    "                             threshold_subset =                       ['98.0_Percentile',\n",
    "                                                                        '99.0_Percentile',\n",
    "                                                                        '100.0_Percentile'])\n",
    "\n",
    "plot_dictionary['PCQC_Sorted_Window'] = plt.gca().get_figure()"
   ]
  },
  {
   "cell_type": "markdown",
   "metadata": {},
   "source": [
    "### Kruskal"
   ]
  },
  {
   "cell_type": "code",
   "execution_count": 35,
   "metadata": {},
   "outputs": [],
   "source": [
    "pca.select_top_pcs(criteria = 'evalue', n_top_pcs = 20)"
   ]
  },
  {
   "cell_type": "code",
   "execution_count": 36,
   "metadata": {},
   "outputs": [],
   "source": [
    "reduced_matrix = pca.use_top_pcs()"
   ]
  },
  {
   "cell_type": "code",
   "execution_count": 37,
   "metadata": {},
   "outputs": [
    {
     "data": {
      "text/plain": [
       "(2328, 20)"
      ]
     },
     "execution_count": 37,
     "metadata": {},
     "output_type": "execute_result"
    }
   ],
   "source": [
    "reduced_matrix.shape"
   ]
  },
  {
   "cell_type": "code",
   "execution_count": 38,
   "metadata": {},
   "outputs": [],
   "source": [
    "def compute_best_pcs(reduced_matrix, n_neighbors, resolution, threshold = 1e-6, max_discard = 20):\n",
    "    #max discard, max number of pcs that are discarded in a single round \n",
    "    df = pd.DataFrame(reduced_matrix)\n",
    "    finished = False\n",
    "    index = 0\n",
    "    while not finished:\n",
    "        adata = sc.AnnData(X = reduced_matrix)\n",
    "        sc.pp.neighbors(adata, n_neighbors = n_neighbors, use_rep = 'X')\n",
    "        sc.tl.leiden(adata, resolution = resolution, random_state = np.random.randint(100))\n",
    "        df['Clusters'] = adata.obs['leiden'].values\n",
    "        valid_cols = [col for col in df.columns if col != 'Clusters']\n",
    "        kruskal_test, best_pcs = pc_kruskal_test(df,col_names = valid_cols, threshold = threshold)\n",
    "        candidates_to_elim = np.where(np.array(kruskal_test) > threshold)\n",
    "        #get max discard lowest values\n",
    "        #print(kruskal_test)\n",
    "        #print(candidates_to_elim)\n",
    "        \n",
    "        lowest_values = np.argsort(-1*np.array(kruskal_test))[0:max_discard]\n",
    "        #print(lowest_values)\n",
    "        to_discard = []\n",
    "        for value in lowest_values:\n",
    "            if kruskal_test[value] > threshold:\n",
    "                to_discard.append(value)\n",
    "        #print(to_discard)\n",
    "        to_keep = [col for i,col in enumerate(df.columns) if i not in to_discard]\n",
    "        if len(to_discard) == 0:\n",
    "            finished = True\n",
    "        else:\n",
    "            df = df[to_keep]\n",
    "            reduced_matrix = df.values\n",
    "        \n",
    "    return df,kruskal_test"
   ]
  },
  {
   "cell_type": "code",
   "execution_count": 39,
   "metadata": {},
   "outputs": [],
   "source": [
    "def strat_pc_kruskal_test(df, col_names = np.arange(30), group_id = 'Clusters',\n",
    "                        threshold = 1e-3, sample_n = 100):\n",
    "\n",
    "    #sample bootstrap 100 records from each group,\n",
    "    new_df_list = []\n",
    "    for group in df[group_id].unique():\n",
    "        sub_df = df.loc[df[group_id] == group].reset_index(drop = True)\n",
    "        new_sample = sub_df.sample(n = sample_n, replace = True)\n",
    "        new_df_list.append(new_sample)\n",
    "    new_df = pd.concat(new_df_list).reset_index(drop = True)\n",
    "    kruskal_test, best_pcs = pc_kruskal_test(new_df, col_names = col_names,\n",
    "                            group_id = group_id, threshold = threshold)\n",
    "    return kruskal_test, best_pcs"
   ]
  },
  {
   "cell_type": "code",
   "execution_count": 40,
   "metadata": {},
   "outputs": [],
   "source": [
    "def compute_best_pcs_strat(reduced_matrix, n_neighbors, resolution, threshold = 1e-6, max_discard = 20):\n",
    "    #max discard, max number of pcs that are discarded in a single round \n",
    "    df = pd.DataFrame(reduced_matrix)\n",
    "    finished = False\n",
    "    index = 0\n",
    "    while not finished:\n",
    "        adata = sc.AnnData(X = reduced_matrix)\n",
    "        sc.pp.neighbors(adata, n_neighbors = n_neighbors, use_rep = 'X')\n",
    "        sc.tl.leiden(adata, resolution = resolution, random_state = np.random.randint(100))\n",
    "        df['Clusters'] = adata.obs['leiden'].values\n",
    "        valid_cols = [col for col in df.columns if col != 'Clusters']\n",
    "        kruskal_test, best_pcs = strat_pc_kruskal_test(df,col_names = valid_cols, threshold = threshold)\n",
    "        candidates_to_elim = np.where(np.array(kruskal_test) > threshold)\n",
    "        #get max discard lowest values\n",
    "        #print(kruskal_test)\n",
    "        #print(candidates_to_elim)\n",
    "        \n",
    "        lowest_values = np.argsort(-1*np.array(kruskal_test))[0:max_discard]\n",
    "        #print(lowest_values)\n",
    "        to_discard = []\n",
    "        for value in lowest_values:\n",
    "            if kruskal_test[value] > threshold:\n",
    "                to_discard.append(value)\n",
    "        #print(to_discard)\n",
    "        to_keep = [col for i,col in enumerate(df.columns) if i not in to_discard]\n",
    "        if len(to_discard) == 0:\n",
    "            finished = True\n",
    "        else:\n",
    "            df = df[to_keep]\n",
    "            reduced_matrix = df.values\n",
    "        \n",
    "    return df,kruskal_test"
   ]
  },
  {
   "cell_type": "code",
   "execution_count": 41,
   "metadata": {},
   "outputs": [],
   "source": [
    "_, kruskal = compute_best_pcs(reduced_matrix, 15, .8, threshold = 1)"
   ]
  },
  {
   "cell_type": "code",
   "execution_count": 42,
   "metadata": {},
   "outputs": [],
   "source": [
    "y = np.log10(np.array(kruskal)+1e-300)"
   ]
  },
  {
   "cell_type": "code",
   "execution_count": 43,
   "metadata": {},
   "outputs": [
    {
     "data": {
      "text/plain": [
       "<matplotlib.collections.PathCollection at 0x7f9167c4da90>"
      ]
     },
     "execution_count": 43,
     "metadata": {},
     "output_type": "execute_result"
    },
    {
     "data": {
      "image/png": "[encoded data removed]",
      "text/plain": [
       "<Figure size 432x288 with 1 Axes>"
      ]
     },
     "metadata": {
      "needs_background": "light"
     },
     "output_type": "display_data"
    }
   ],
   "source": [
    "#good threshold would be between 1e-40, 1e-50\n",
    "plt.scatter(x = np.arange(len(y)), y = np.sort(y))"
   ]
  },
  {
   "cell_type": "code",
   "execution_count": 44,
   "metadata": {},
   "outputs": [
    {
     "data": {
      "text/plain": [
       "array([-300.        , -300.        , -214.60988714, -300.        ,\n",
       "       -228.12642513, -159.35758798, -193.86595476,  -28.827755  ,\n",
       "        -20.8488094 ,   -2.9581483 ,  -50.32873661,  -10.52511011,\n",
       "        -15.38504896,   -2.75209077,   -1.54060803,   -1.33241791,\n",
       "         -4.15063228,   -2.2076864 ,   -2.87324582,   -1.96413462])"
      ]
     },
     "execution_count": 44,
     "metadata": {},
     "output_type": "execute_result"
    }
   ],
   "source": [
    "#top 7 looks good, followed by 8,9,11\n",
    "y"
   ]
  },
  {
   "cell_type": "markdown",
   "metadata": {},
   "source": [
    "### Iterate- Try on 15 PCs"
   ]
  },
  {
   "cell_type": "code",
   "execution_count": 45,
   "metadata": {},
   "outputs": [
    {
     "name": "stdout",
     "output_type": "stream",
     "text": [
      "[-300.         -300.         -216.74828625 -300.         -270.82072755\n",
      " -179.56525717 -218.42604959  -30.67261428  -24.64160015  -56.02212863]\n"
     ]
    },
    {
     "data": {
      "text/plain": [
       "<matplotlib.collections.PathCollection at 0x7f9167c4d9d0>"
      ]
     },
     "execution_count": 45,
     "metadata": {},
     "output_type": "execute_result"
    },
    {
     "data": {
      "image/png": "[encoded data removed]",
      "text/plain": [
       "<Figure size 432x288 with 1 Axes>"
      ]
     },
     "metadata": {
      "needs_background": "light"
     },
     "output_type": "display_data"
    }
   ],
   "source": [
    "reduced_matrix = pca.use_top_pcs()\n",
    "cols = [0,1,2,3,4,5,6,7,8,10]\n",
    "reduced_matrix = reduced_matrix[:,cols]\n",
    "_, kruskal = compute_best_pcs(reduced_matrix, 15, .8, threshold = 1)\n",
    "y = np.log10(np.array(kruskal)+1e-300)\n",
    "print(y)\n",
    "plt.scatter(x = np.arange(len(y)), y = np.sort(y))"
   ]
  },
  {
   "cell_type": "code",
   "execution_count": 46,
   "metadata": {},
   "outputs": [
    {
     "name": "stdout",
     "output_type": "stream",
     "text": [
      "[-300.         -300.         -213.58916744 -300.         -299.79348916\n",
      " -195.19824564 -245.62551696  -85.7330368 ]\n"
     ]
    },
    {
     "data": {
      "text/plain": [
       "<matplotlib.collections.PathCollection at 0x7f9167c4cf10>"
      ]
     },
     "execution_count": 46,
     "metadata": {},
     "output_type": "execute_result"
    },
    {
     "data": {
      "image/png": "[encoded data removed]",
      "text/plain": [
       "<Figure size 432x288 with 1 Axes>"
      ]
     },
     "metadata": {
      "needs_background": "light"
     },
     "output_type": "display_data"
    }
   ],
   "source": [
    "reduced_matrix = pca.use_top_pcs()\n",
    "cols = [0,1,2,3,4,5,6,10]\n",
    "reduced_matrix = reduced_matrix[:,cols]\n",
    "_, kruskal = compute_best_pcs(reduced_matrix, 15, .8, threshold = 1)\n",
    "y = np.log10(np.array(kruskal)+1e-300)\n",
    "print(y)\n",
    "plt.scatter(x = np.arange(len(y)), y = np.sort(y))"
   ]
  },
  {
   "cell_type": "markdown",
   "metadata": {},
   "source": [
    "### Stratified"
   ]
  },
  {
   "cell_type": "code",
   "execution_count": 47,
   "metadata": {},
   "outputs": [],
   "source": [
    "pca.select_top_pcs(criteria = 'evalue', n_top_pcs = 25)\n",
    "reduced_matrix = pca.use_top_pcs()\n",
    "_, kruskal = compute_best_pcs_strat(reduced_matrix, 15, .8, threshold = 1)"
   ]
  },
  {
   "cell_type": "code",
   "execution_count": 48,
   "metadata": {},
   "outputs": [
    {
     "data": {
      "text/plain": [
       "(2328, 25)"
      ]
     },
     "execution_count": 48,
     "metadata": {},
     "output_type": "execute_result"
    }
   ],
   "source": [
    "reduced_matrix.shape"
   ]
  },
  {
   "cell_type": "code",
   "execution_count": 49,
   "metadata": {},
   "outputs": [
    {
     "name": "stdout",
     "output_type": "stream",
     "text": [
      "[-1.52755549e+02 -1.65808412e+02 -1.14377136e+02 -1.48911623e+02\n",
      " -1.04937004e+02 -1.16734623e+02 -1.01371351e+02 -5.57030567e+01\n",
      " -3.86604742e+01 -2.77734457e+00 -4.44578399e+01 -1.34175975e+01\n",
      " -3.79841102e+01 -2.88481530e+00 -1.07505624e+01 -7.81871547e+00\n",
      " -2.46927589e+00 -1.07097654e+01 -6.68864050e-02 -2.21406117e+00\n",
      " -1.81512318e+01 -9.77193646e+00 -1.25926626e+01 -2.95473328e+00\n",
      " -5.13968604e+00]\n"
     ]
    },
    {
     "data": {
      "text/plain": [
       "<matplotlib.collections.PathCollection at 0x7f9167ccf9d0>"
      ]
     },
     "execution_count": 49,
     "metadata": {},
     "output_type": "execute_result"
    },
    {
     "data": {
      "image/png": "[encoded data removed]",
      "text/plain": [
       "<Figure size 432x288 with 1 Axes>"
      ]
     },
     "metadata": {
      "needs_background": "light"
     },
     "output_type": "display_data"
    }
   ],
   "source": [
    "# 0-8,10-12,20\n",
    "y = np.log10(np.array(kruskal)+1e-300)\n",
    "print(y)\n",
    "plt.scatter(x = np.arange(len(y)), y = np.sort(y))"
   ]
  },
  {
   "cell_type": "code",
   "execution_count": 50,
   "metadata": {},
   "outputs": [],
   "source": [
    "gap_stats = compute_gap(pd.DataFrame(-1*np.sort(y),columns = ['kruskal']),'kruskal')"
   ]
  },
  {
   "cell_type": "code",
   "execution_count": 51,
   "metadata": {},
   "outputs": [
    {
     "data": {
      "text/html": [
       "<div>\n",
       "<style scoped>\n",
       "    .dataframe tbody tr th:only-of-type {\n",
       "        vertical-align: middle;\n",
       "    }\n",
       "\n",
       "    .dataframe tbody tr th {\n",
       "        vertical-align: top;\n",
       "    }\n",
       "\n",
       "    .dataframe thead th {\n",
       "        text-align: right;\n",
       "    }\n",
       "</style>\n",
       "<table border=\"1\" class=\"dataframe\">\n",
       "  <thead>\n",
       "    <tr style=\"text-align: right;\">\n",
       "      <th></th>\n",
       "      <th>args</th>\n",
       "      <th>gaps</th>\n",
       "    </tr>\n",
       "  </thead>\n",
       "  <tbody>\n",
       "    <tr>\n",
       "      <th>0</th>\n",
       "      <td>23</td>\n",
       "      <td>33.101812</td>\n",
       "    </tr>\n",
       "    <tr>\n",
       "      <th>1</th>\n",
       "      <td>10</td>\n",
       "      <td>2.092646</td>\n",
       "    </tr>\n",
       "    <tr>\n",
       "      <th>2</th>\n",
       "      <td>6</td>\n",
       "      <td>1.819853</td>\n",
       "    </tr>\n",
       "    <tr>\n",
       "      <th>3</th>\n",
       "      <td>18</td>\n",
       "      <td>1.739475</td>\n",
       "    </tr>\n",
       "    <tr>\n",
       "      <th>4</th>\n",
       "      <td>17</td>\n",
       "      <td>1.521244</td>\n",
       "    </tr>\n",
       "    <tr>\n",
       "      <th>5</th>\n",
       "      <td>11</td>\n",
       "      <td>1.352793</td>\n",
       "    </tr>\n",
       "    <tr>\n",
       "      <th>6</th>\n",
       "      <td>2</td>\n",
       "      <td>1.275642</td>\n",
       "    </tr>\n",
       "    <tr>\n",
       "      <th>7</th>\n",
       "      <td>7</td>\n",
       "      <td>1.252941</td>\n",
       "    </tr>\n",
       "    <tr>\n",
       "      <th>8</th>\n",
       "      <td>16</td>\n",
       "      <td>1.249814</td>\n",
       "    </tr>\n",
       "    <tr>\n",
       "      <th>9</th>\n",
       "      <td>13</td>\n",
       "      <td>1.171349</td>\n",
       "    </tr>\n",
       "    <tr>\n",
       "      <th>10</th>\n",
       "      <td>8</td>\n",
       "      <td>1.149956</td>\n",
       "    </tr>\n",
       "    <tr>\n",
       "      <th>11</th>\n",
       "      <td>21</td>\n",
       "      <td>1.124761</td>\n",
       "    </tr>\n",
       "    <tr>\n",
       "      <th>12</th>\n",
       "      <td>22</td>\n",
       "      <td>1.115270</td>\n",
       "    </tr>\n",
       "    <tr>\n",
       "      <th>13</th>\n",
       "      <td>15</td>\n",
       "      <td>1.095972</td>\n",
       "    </tr>\n",
       "    <tr>\n",
       "      <th>14</th>\n",
       "      <td>4</td>\n",
       "      <td>1.089960</td>\n",
       "    </tr>\n",
       "    <tr>\n",
       "      <th>15</th>\n",
       "      <td>0</td>\n",
       "      <td>1.085449</td>\n",
       "    </tr>\n",
       "    <tr>\n",
       "      <th>16</th>\n",
       "      <td>12</td>\n",
       "      <td>1.065509</td>\n",
       "    </tr>\n",
       "    <tr>\n",
       "      <th>17</th>\n",
       "      <td>20</td>\n",
       "      <td>1.038695</td>\n",
       "    </tr>\n",
       "    <tr>\n",
       "      <th>18</th>\n",
       "      <td>5</td>\n",
       "      <td>1.035174</td>\n",
       "    </tr>\n",
       "    <tr>\n",
       "      <th>19</th>\n",
       "      <td>1</td>\n",
       "      <td>1.025813</td>\n",
       "    </tr>\n",
       "    <tr>\n",
       "      <th>20</th>\n",
       "      <td>19</td>\n",
       "      <td>1.024237</td>\n",
       "    </tr>\n",
       "    <tr>\n",
       "      <th>21</th>\n",
       "      <td>3</td>\n",
       "      <td>1.020612</td>\n",
       "    </tr>\n",
       "    <tr>\n",
       "      <th>22</th>\n",
       "      <td>9</td>\n",
       "      <td>1.017806</td>\n",
       "    </tr>\n",
       "    <tr>\n",
       "      <th>23</th>\n",
       "      <td>14</td>\n",
       "      <td>1.003809</td>\n",
       "    </tr>\n",
       "  </tbody>\n",
       "</table>\n",
       "</div>"
      ],
      "text/plain": [
       "    args       gaps\n",
       "0     23  33.101812\n",
       "1     10   2.092646\n",
       "2      6   1.819853\n",
       "3     18   1.739475\n",
       "4     17   1.521244\n",
       "5     11   1.352793\n",
       "6      2   1.275642\n",
       "7      7   1.252941\n",
       "8     16   1.249814\n",
       "9     13   1.171349\n",
       "10     8   1.149956\n",
       "11    21   1.124761\n",
       "12    22   1.115270\n",
       "13    15   1.095972\n",
       "14     4   1.089960\n",
       "15     0   1.085449\n",
       "16    12   1.065509\n",
       "17    20   1.038695\n",
       "18     5   1.035174\n",
       "19     1   1.025813\n",
       "20    19   1.024237\n",
       "21     3   1.020612\n",
       "22     9   1.017806\n",
       "23    14   1.003809"
      ]
     },
     "execution_count": 51,
     "metadata": {},
     "output_type": "execute_result"
    }
   ],
   "source": [
    "#PICKS UP top 7 and top 13\n",
    "gap_stats"
   ]
  },
  {
   "cell_type": "markdown",
   "metadata": {},
   "source": [
    "### PCQC"
   ]
  },
  {
   "cell_type": "code",
   "execution_count": 52,
   "metadata": {},
   "outputs": [],
   "source": [
    "pca.select_top_pcs(criteria = '100.0_Percentile', n_top_pcs = 15)"
   ]
  },
  {
   "cell_type": "code",
   "execution_count": 53,
   "metadata": {},
   "outputs": [
    {
     "name": "stdout",
     "output_type": "stream",
     "text": [
      "[-2.16023857e+02 -3.00000000e+02 -3.00000000e+02 -3.00000000e+02\n",
      " -2.69964337e+01 -2.48434923e+02 -1.72546798e+02 -2.51412189e+01\n",
      " -1.95040707e+02 -4.66553581e+01 -1.66756115e+00 -1.40945099e-01\n",
      " -1.66626448e+00 -1.05739735e+01 -3.68292493e-02]\n"
     ]
    },
    {
     "data": {
      "text/plain": [
       "<matplotlib.collections.PathCollection at 0x7f9167c43fd0>"
      ]
     },
     "execution_count": 53,
     "metadata": {},
     "output_type": "execute_result"
    },
    {
     "data": {
      "image/png": "[encoded data removed]",
      "text/plain": [
       "<Figure size 432x288 with 1 Axes>"
      ]
     },
     "metadata": {
      "needs_background": "light"
     },
     "output_type": "display_data"
    }
   ],
   "source": [
    "reduced_matrix = pca.use_top_pcs()\n",
    "_, kruskal = compute_best_pcs(reduced_matrix, 15, .8, threshold = 1)\n",
    "y = np.log10(np.array(kruskal)+1e-300)\n",
    "print(y)\n",
    "plt.scatter(x = np.arange(len(y)), y = np.sort(y))"
   ]
  },
  {
   "cell_type": "code",
   "execution_count": 54,
   "metadata": {},
   "outputs": [
    {
     "name": "stdout",
     "output_type": "stream",
     "text": [
      "[-213.49647028 -300.         -300.         -300.         -300.\n",
      " -189.45888422 -229.21659886  -89.61794452]\n"
     ]
    },
    {
     "data": {
      "text/plain": [
       "<matplotlib.collections.PathCollection at 0x7f9167ab7fd0>"
      ]
     },
     "execution_count": 54,
     "metadata": {},
     "output_type": "execute_result"
    },
    {
     "data": {
      "image/png": "[encoded data removed]",
      "text/plain": [
       "<Figure size 432x288 with 1 Axes>"
      ]
     },
     "metadata": {
      "needs_background": "light"
     },
     "output_type": "display_data"
    }
   ],
   "source": [
    "reduced_matrix = pca.use_top_pcs()\n",
    "cols = [0,1,2,3,5,6,8,9]\n",
    "reduced_matrix = reduced_matrix[:,cols]\n",
    "_, kruskal = compute_best_pcs(reduced_matrix, 15, .8, threshold = 1)\n",
    "y = np.log10(np.array(kruskal)+1e-300)\n",
    "print(y)\n",
    "plt.scatter(x = np.arange(len(y)), y = np.sort(y))"
   ]
  },
  {
   "cell_type": "code",
   "execution_count": 55,
   "metadata": {},
   "outputs": [
    {
     "data": {
      "text/html": [
       "<div>\n",
       "<style scoped>\n",
       "    .dataframe tbody tr th:only-of-type {\n",
       "        vertical-align: middle;\n",
       "    }\n",
       "\n",
       "    .dataframe tbody tr th {\n",
       "        vertical-align: top;\n",
       "    }\n",
       "\n",
       "    .dataframe thead th {\n",
       "        text-align: right;\n",
       "    }\n",
       "</style>\n",
       "<table border=\"1\" class=\"dataframe\">\n",
       "  <thead>\n",
       "    <tr style=\"text-align: right;\">\n",
       "      <th></th>\n",
       "      <th>90.0_Percentile</th>\n",
       "      <th>95.0_Percentile</th>\n",
       "      <th>98.0_Percentile</th>\n",
       "      <th>99.0_Percentile</th>\n",
       "      <th>100.0_Percentile</th>\n",
       "      <th>evalue</th>\n",
       "      <th>rank</th>\n",
       "    </tr>\n",
       "  </thead>\n",
       "  <tbody>\n",
       "    <tr>\n",
       "      <th>PC_Dist_2</th>\n",
       "      <td>8.937955e-13</td>\n",
       "      <td>1.281261e-12</td>\n",
       "      <td>1.790675e-12</td>\n",
       "      <td>2.444145e-12</td>\n",
       "      <td>1.411886e-10</td>\n",
       "      <td>1.034145e-08</td>\n",
       "      <td>0.000003</td>\n",
       "    </tr>\n",
       "    <tr>\n",
       "      <th>PC_Dist_1</th>\n",
       "      <td>1.530873e-11</td>\n",
       "      <td>2.573441e-11</td>\n",
       "      <td>4.649619e-11</td>\n",
       "      <td>5.755247e-11</td>\n",
       "      <td>6.143943e-11</td>\n",
       "      <td>1.190551e-08</td>\n",
       "      <td>0.000002</td>\n",
       "    </tr>\n",
       "    <tr>\n",
       "      <th>PC_Dist_0</th>\n",
       "      <td>3.070177e-11</td>\n",
       "      <td>3.753743e-11</td>\n",
       "      <td>4.357857e-11</td>\n",
       "      <td>4.707345e-11</td>\n",
       "      <td>5.202399e-11</td>\n",
       "      <td>2.186993e-08</td>\n",
       "      <td>0.000001</td>\n",
       "    </tr>\n",
       "    <tr>\n",
       "      <th>PC_Dist_3</th>\n",
       "      <td>1.057385e-11</td>\n",
       "      <td>1.523524e-11</td>\n",
       "      <td>2.034017e-11</td>\n",
       "      <td>2.525699e-11</td>\n",
       "      <td>2.948231e-11</td>\n",
       "      <td>8.255534e-09</td>\n",
       "      <td>0.000004</td>\n",
       "    </tr>\n",
       "    <tr>\n",
       "      <th>PC_Dist_7</th>\n",
       "      <td>1.911522e-12</td>\n",
       "      <td>3.308870e-12</td>\n",
       "      <td>6.987159e-12</td>\n",
       "      <td>1.146351e-11</td>\n",
       "      <td>1.924931e-11</td>\n",
       "      <td>2.103738e-09</td>\n",
       "      <td>0.000008</td>\n",
       "    </tr>\n",
       "    <tr>\n",
       "      <th>PC_Dist_4</th>\n",
       "      <td>6.235669e-12</td>\n",
       "      <td>8.775100e-12</td>\n",
       "      <td>1.255835e-11</td>\n",
       "      <td>1.470140e-11</td>\n",
       "      <td>1.760286e-11</td>\n",
       "      <td>4.986034e-09</td>\n",
       "      <td>0.000005</td>\n",
       "    </tr>\n",
       "    <tr>\n",
       "      <th>PC_Dist_5</th>\n",
       "      <td>3.047655e-12</td>\n",
       "      <td>6.343052e-12</td>\n",
       "      <td>1.079666e-11</td>\n",
       "      <td>1.361631e-11</td>\n",
       "      <td>1.647633e-11</td>\n",
       "      <td>2.795035e-09</td>\n",
       "      <td>0.000006</td>\n",
       "    </tr>\n",
       "    <tr>\n",
       "      <th>PC_Dist_8</th>\n",
       "      <td>1.849066e-12</td>\n",
       "      <td>3.059671e-12</td>\n",
       "      <td>6.094892e-12</td>\n",
       "      <td>8.031230e-12</td>\n",
       "      <td>1.472356e-11</td>\n",
       "      <td>2.041775e-09</td>\n",
       "      <td>0.000009</td>\n",
       "    </tr>\n",
       "    <tr>\n",
       "      <th>PC_Dist_6</th>\n",
       "      <td>3.023852e-12</td>\n",
       "      <td>5.615551e-12</td>\n",
       "      <td>8.654113e-12</td>\n",
       "      <td>1.114632e-11</td>\n",
       "      <td>1.395959e-11</td>\n",
       "      <td>2.544210e-09</td>\n",
       "      <td>0.000007</td>\n",
       "    </tr>\n",
       "    <tr>\n",
       "      <th>PC_Dist_10</th>\n",
       "      <td>1.898662e-12</td>\n",
       "      <td>3.252918e-12</td>\n",
       "      <td>5.688720e-12</td>\n",
       "      <td>7.886136e-12</td>\n",
       "      <td>1.361753e-11</td>\n",
       "      <td>1.976485e-09</td>\n",
       "      <td>0.000011</td>\n",
       "    </tr>\n",
       "    <tr>\n",
       "      <th>PC_Dist_9</th>\n",
       "      <td>2.194462e-12</td>\n",
       "      <td>3.277473e-12</td>\n",
       "      <td>5.188736e-12</td>\n",
       "      <td>7.071598e-12</td>\n",
       "      <td>1.067143e-11</td>\n",
       "      <td>2.003245e-09</td>\n",
       "      <td>0.000010</td>\n",
       "    </tr>\n",
       "    <tr>\n",
       "      <th>PC_Dist_18</th>\n",
       "      <td>2.013576e-12</td>\n",
       "      <td>3.096855e-12</td>\n",
       "      <td>4.990567e-12</td>\n",
       "      <td>6.743385e-12</td>\n",
       "      <td>9.919706e-12</td>\n",
       "      <td>1.882294e-09</td>\n",
       "      <td>0.000019</td>\n",
       "    </tr>\n",
       "    <tr>\n",
       "      <th>PC_Dist_14</th>\n",
       "      <td>2.129045e-12</td>\n",
       "      <td>3.252528e-12</td>\n",
       "      <td>5.129298e-12</td>\n",
       "      <td>6.841351e-12</td>\n",
       "      <td>9.635200e-12</td>\n",
       "      <td>1.912783e-09</td>\n",
       "      <td>0.000015</td>\n",
       "    </tr>\n",
       "    <tr>\n",
       "      <th>PC_Dist_15</th>\n",
       "      <td>2.103887e-12</td>\n",
       "      <td>3.183446e-12</td>\n",
       "      <td>4.825140e-12</td>\n",
       "      <td>6.618420e-12</td>\n",
       "      <td>9.082483e-12</td>\n",
       "      <td>1.906724e-09</td>\n",
       "      <td>0.000016</td>\n",
       "    </tr>\n",
       "    <tr>\n",
       "      <th>PC_Dist_19</th>\n",
       "      <td>2.063692e-12</td>\n",
       "      <td>3.029206e-12</td>\n",
       "      <td>4.751323e-12</td>\n",
       "      <td>6.389325e-12</td>\n",
       "      <td>8.945444e-12</td>\n",
       "      <td>1.871416e-09</td>\n",
       "      <td>0.000020</td>\n",
       "    </tr>\n",
       "    <tr>\n",
       "      <th>PC_Dist_13</th>\n",
       "      <td>2.108908e-12</td>\n",
       "      <td>3.067345e-12</td>\n",
       "      <td>5.118826e-12</td>\n",
       "      <td>6.916650e-12</td>\n",
       "      <td>8.798324e-12</td>\n",
       "      <td>1.919829e-09</td>\n",
       "      <td>0.000014</td>\n",
       "    </tr>\n",
       "    <tr>\n",
       "      <th>PC_Dist_17</th>\n",
       "      <td>2.106053e-12</td>\n",
       "      <td>3.286678e-12</td>\n",
       "      <td>5.197090e-12</td>\n",
       "      <td>7.256173e-12</td>\n",
       "      <td>8.753941e-12</td>\n",
       "      <td>1.889404e-09</td>\n",
       "      <td>0.000018</td>\n",
       "    </tr>\n",
       "    <tr>\n",
       "      <th>PC_Dist_12</th>\n",
       "      <td>2.176153e-12</td>\n",
       "      <td>3.145870e-12</td>\n",
       "      <td>5.067981e-12</td>\n",
       "      <td>6.620892e-12</td>\n",
       "      <td>8.560435e-12</td>\n",
       "      <td>1.928728e-09</td>\n",
       "      <td>0.000013</td>\n",
       "    </tr>\n",
       "    <tr>\n",
       "      <th>PC_Dist_11</th>\n",
       "      <td>2.269179e-12</td>\n",
       "      <td>3.329780e-12</td>\n",
       "      <td>5.041757e-12</td>\n",
       "      <td>6.226470e-12</td>\n",
       "      <td>8.263381e-12</td>\n",
       "      <td>1.961202e-09</td>\n",
       "      <td>0.000012</td>\n",
       "    </tr>\n",
       "    <tr>\n",
       "      <th>PC_Dist_16</th>\n",
       "      <td>2.202670e-12</td>\n",
       "      <td>3.327165e-12</td>\n",
       "      <td>5.181542e-12</td>\n",
       "      <td>6.729128e-12</td>\n",
       "      <td>8.183421e-12</td>\n",
       "      <td>1.903421e-09</td>\n",
       "      <td>0.000017</td>\n",
       "    </tr>\n",
       "  </tbody>\n",
       "</table>\n",
       "</div>"
      ],
      "text/plain": [
       "            90.0_Percentile  95.0_Percentile  98.0_Percentile  \\\n",
       "PC_Dist_2      8.937955e-13     1.281261e-12     1.790675e-12   \n",
       "PC_Dist_1      1.530873e-11     2.573441e-11     4.649619e-11   \n",
       "PC_Dist_0      3.070177e-11     3.753743e-11     4.357857e-11   \n",
       "PC_Dist_3      1.057385e-11     1.523524e-11     2.034017e-11   \n",
       "PC_Dist_7      1.911522e-12     3.308870e-12     6.987159e-12   \n",
       "PC_Dist_4      6.235669e-12     8.775100e-12     1.255835e-11   \n",
       "PC_Dist_5      3.047655e-12     6.343052e-12     1.079666e-11   \n",
       "PC_Dist_8      1.849066e-12     3.059671e-12     6.094892e-12   \n",
       "PC_Dist_6      3.023852e-12     5.615551e-12     8.654113e-12   \n",
       "PC_Dist_10     1.898662e-12     3.252918e-12     5.688720e-12   \n",
       "PC_Dist_9      2.194462e-12     3.277473e-12     5.188736e-12   \n",
       "PC_Dist_18     2.013576e-12     3.096855e-12     4.990567e-12   \n",
       "PC_Dist_14     2.129045e-12     3.252528e-12     5.129298e-12   \n",
       "PC_Dist_15     2.103887e-12     3.183446e-12     4.825140e-12   \n",
       "PC_Dist_19     2.063692e-12     3.029206e-12     4.751323e-12   \n",
       "PC_Dist_13     2.108908e-12     3.067345e-12     5.118826e-12   \n",
       "PC_Dist_17     2.106053e-12     3.286678e-12     5.197090e-12   \n",
       "PC_Dist_12     2.176153e-12     3.145870e-12     5.067981e-12   \n",
       "PC_Dist_11     2.269179e-12     3.329780e-12     5.041757e-12   \n",
       "PC_Dist_16     2.202670e-12     3.327165e-12     5.181542e-12   \n",
       "\n",
       "            99.0_Percentile  100.0_Percentile        evalue      rank  \n",
       "PC_Dist_2      2.444145e-12      1.411886e-10  1.034145e-08  0.000003  \n",
       "PC_Dist_1      5.755247e-11      6.143943e-11  1.190551e-08  0.000002  \n",
       "PC_Dist_0      4.707345e-11      5.202399e-11  2.186993e-08  0.000001  \n",
       "PC_Dist_3      2.525699e-11      2.948231e-11  8.255534e-09  0.000004  \n",
       "PC_Dist_7      1.146351e-11      1.924931e-11  2.103738e-09  0.000008  \n",
       "PC_Dist_4      1.470140e-11      1.760286e-11  4.986034e-09  0.000005  \n",
       "PC_Dist_5      1.361631e-11      1.647633e-11  2.795035e-09  0.000006  \n",
       "PC_Dist_8      8.031230e-12      1.472356e-11  2.041775e-09  0.000009  \n",
       "PC_Dist_6      1.114632e-11      1.395959e-11  2.544210e-09  0.000007  \n",
       "PC_Dist_10     7.886136e-12      1.361753e-11  1.976485e-09  0.000011  \n",
       "PC_Dist_9      7.071598e-12      1.067143e-11  2.003245e-09  0.000010  \n",
       "PC_Dist_18     6.743385e-12      9.919706e-12  1.882294e-09  0.000019  \n",
       "PC_Dist_14     6.841351e-12      9.635200e-12  1.912783e-09  0.000015  \n",
       "PC_Dist_15     6.618420e-12      9.082483e-12  1.906724e-09  0.000016  \n",
       "PC_Dist_19     6.389325e-12      8.945444e-12  1.871416e-09  0.000020  \n",
       "PC_Dist_13     6.916650e-12      8.798324e-12  1.919829e-09  0.000014  \n",
       "PC_Dist_17     7.256173e-12      8.753941e-12  1.889404e-09  0.000018  \n",
       "PC_Dist_12     6.620892e-12      8.560435e-12  1.928728e-09  0.000013  \n",
       "PC_Dist_11     6.226470e-12      8.263381e-12  1.961202e-09  0.000012  \n",
       "PC_Dist_16     6.729128e-12      8.183421e-12  1.903421e-09  0.000017  "
      ]
     },
     "execution_count": 55,
     "metadata": {},
     "output_type": "execute_result"
    }
   ],
   "source": [
    "# recovers 0,1,2,3,4,5,6,10\n",
    "1e-6*pca.df_pc_stats.head(20).sort_values(by = '100.0_Percentile',ascending = False)"
   ]
  },
  {
   "cell_type": "markdown",
   "metadata": {},
   "source": [
    "### Permutation Test\n",
    "First 7 are obvious choices, (could possibly detect first 12 with a scree plot), first 19 are statistically significnt."
   ]
  },
  {
   "cell_type": "code",
   "execution_count": 56,
   "metadata": {},
   "outputs": [
    {
     "name": "stdout",
     "output_type": "stream",
     "text": [
      "0\n",
      "1\n",
      "2\n",
      "3\n",
      "4\n",
      "5\n",
      "6\n",
      "7\n",
      "8\n",
      "9\n",
      "10\n",
      "11\n",
      "12\n",
      "13\n",
      "14\n",
      "15\n",
      "16\n",
      "17\n",
      "18\n",
      "19\n"
     ]
    }
   ],
   "source": [
    "mtrx = data\n",
    "perm_test = permutation_test(mtrx, trials = 20)"
   ]
  },
  {
   "cell_type": "code",
   "execution_count": 57,
   "metadata": {},
   "outputs": [
    {
     "data": {
      "text/plain": [
       "array([86.92997261, 86.63962565, 86.24653387, 86.00881776, 85.95354405,\n",
       "       85.6076141 , 85.43362158, 85.24087899, 85.10390903, 84.97032079,\n",
       "       84.81172443, 84.66642269, 84.38889665, 84.24315708, 84.09510899,\n",
       "       83.95908644, 83.88515255, 83.71370983, 83.59167288, 83.45967935,\n",
       "       83.354524  , 83.22542119, 83.01128305, 82.92133046, 82.79186798,\n",
       "       82.72429867, 82.63666344, 82.48171813, 82.40799006, 82.29591937,\n",
       "       82.23410712, 82.10088166, 81.94823581, 81.89584592, 81.79066069,\n",
       "       81.63955487, 81.51704922, 81.45967152, 81.3353977 , 81.25252084,\n",
       "       81.10868528, 81.01664604, 80.95818523, 80.89493683, 80.76004709,\n",
       "       80.61293036, 80.50011488, 80.41515393, 80.31784368, 80.21373568,\n",
       "       80.15102462, 80.06877114, 79.98216213, 79.90736532, 79.77339819,\n",
       "       79.71882064, 79.64882827, 79.56010016, 79.40643369, 79.32946907,\n",
       "       79.28562371, 79.22246293, 79.14045667, 79.08569008, 78.89463937,\n",
       "       78.83115473, 78.72470843, 78.69220953, 78.60309219, 78.51361882,\n",
       "       78.41016639, 78.35246731, 78.28874479, 78.18003667, 78.16110766,\n",
       "       78.04839885, 78.00383225, 77.90502255, 77.85680559, 77.80315103,\n",
       "       77.68781169, 77.63769015, 77.47048794, 77.4311155 , 77.29607744,\n",
       "       77.25046568, 77.15160886, 77.08636417, 77.02945046, 76.99449866,\n",
       "       76.95565997, 76.86804859, 76.75994615, 76.72353647, 76.68916767,\n",
       "       76.59721291, 76.44616137, 76.36778832, 76.30269124, 76.21021812])"
      ]
     },
     "execution_count": 57,
     "metadata": {},
     "output_type": "execute_result"
    }
   ],
   "source": [
    "sorted_svalues = -1*np.sort(-1*perm_test.max())\n",
    "sorted_svalues"
   ]
  },
  {
   "cell_type": "code",
   "execution_count": 58,
   "metadata": {},
   "outputs": [
    {
     "data": {
      "text/plain": [
       "array([284.74809405, 210.09281453, 195.80682604, 174.94829257,\n",
       "       135.96111776, 101.79601473,  97.1211006 ,  88.3146946 ,\n",
       "        87.00436699,  86.17954647,  85.60200427,  85.27039821,\n",
       "        84.56148514,  84.36618273,  84.21122961,  84.07773302,\n",
       "        84.0048955 ,  83.69499705,  83.53738773,  83.29564841,\n",
       "        83.12122866,  82.94358832,  82.73092016,  82.60524478,\n",
       "        82.44732922,  82.3136561 ,  82.20434445,  82.03191173,\n",
       "        81.87265862,  81.81140846,  81.64068676,  81.49684512,\n",
       "        81.41659485,  81.300227  ,  81.23051562,  81.1234918 ,\n",
       "        81.05710868,  80.85604686,  80.78368968,  80.73809225,\n",
       "        80.53352136,  80.46246975,  80.3759233 ,  80.21567864,\n",
       "        80.1615615 ,  80.10109395,  79.98544407,  79.88792821,\n",
       "        79.86700199,  79.60949602,  79.57194011,  79.50530486,\n",
       "        79.43393385,  79.20582496,  79.07398236,  78.9706704 ,\n",
       "        78.94571209,  78.87871353,  78.78190526,  78.63597055,\n",
       "        78.51703044,  78.49404965,  78.36574974,  78.24363707,\n",
       "        78.10641548,  77.99868256,  77.93996507,  77.75563228,\n",
       "        77.6691232 ,  77.58423929,  77.44170149,  77.41254651,\n",
       "        77.33614787,  77.27311967,  77.21697008,  77.10805744,\n",
       "        77.02170261,  76.89197049,  76.88087534,  76.78969254,\n",
       "        76.75607193,  76.64036717,  76.53043489,  76.44819231,\n",
       "        76.38268283,  76.30439748,  76.27170015,  76.15786575,\n",
       "        75.96458623,  75.90904386,  75.85628973,  75.66545839,\n",
       "        75.62018957,  75.51230974,  75.45448344,  75.33269377,\n",
       "        75.30316503,  75.21462816,  75.14333323,  75.10389916])"
      ]
     },
     "execution_count": 58,
     "metadata": {},
     "output_type": "execute_result"
    }
   ],
   "source": [
    "pca.singular_values"
   ]
  },
  {
   "cell_type": "code",
   "execution_count": 59,
   "metadata": {},
   "outputs": [
    {
     "data": {
      "text/plain": [
       "17"
      ]
     },
     "execution_count": 59,
     "metadata": {},
     "output_type": "execute_result"
    }
   ],
   "source": [
    "np.sum(pca.singular_values > sorted_svalues)"
   ]
  },
  {
   "cell_type": "code",
   "execution_count": 60,
   "metadata": {},
   "outputs": [
    {
     "data": {
      "text/plain": [
       "<matplotlib.collections.PathCollection at 0x7f9167b911d0>"
      ]
     },
     "execution_count": 60,
     "metadata": {},
     "output_type": "execute_result"
    },
    {
     "data": {
      "image/png": "[encoded data removed]",
      "text/plain": [
       "<Figure size 432x288 with 1 Axes>"
      ]
     },
     "metadata": {
      "needs_background": "light"
     },
     "output_type": "display_data"
    }
   ],
   "source": [
    "plt.scatter(x = np.arange(100), y = pca.singular_values - sorted_svalues)"
   ]
  },
  {
   "cell_type": "code",
   "execution_count": 61,
   "metadata": {},
   "outputs": [
    {
     "data": {
      "text/plain": [
       "<matplotlib.collections.PathCollection at 0x7f91682ca610>"
      ]
     },
     "execution_count": 61,
     "metadata": {},
     "output_type": "execute_result"
    },
    {
     "data": {
      "image/png": "[encoded data removed]",
      "text/plain": [
       "<Figure size 432x288 with 1 Axes>"
      ]
     },
     "metadata": {
      "needs_background": "light"
     },
     "output_type": "display_data"
    }
   ],
   "source": [
    "plt.scatter(x = np.arange(7,100), y = pca.singular_values[7:] - sorted_svalues[7:])"
   ]
  },
  {
   "cell_type": "code",
   "execution_count": 62,
   "metadata": {},
   "outputs": [
    {
     "data": {
      "text/plain": [
       "<matplotlib.collections.PathCollection at 0x7f9167bf9cd0>"
      ]
     },
     "execution_count": 62,
     "metadata": {},
     "output_type": "execute_result"
    },
    {
     "data": {
      "image/png": "[encoded data removed]",
      "text/plain": [
       "<Figure size 432x288 with 1 Axes>"
      ]
     },
     "metadata": {
      "needs_background": "light"
     },
     "output_type": "display_data"
    }
   ],
   "source": [
    "plt.scatter(x = np.arange(12,100), y = pca.singular_values[12:] - sorted_svalues[12:])"
   ]
  },
  {
   "cell_type": "code",
   "execution_count": null,
   "metadata": {},
   "outputs": [],
   "source": [
    "#compute X/E(X)"
   ]
  },
  {
   "cell_type": "code",
   "execution_count": 63,
   "metadata": {},
   "outputs": [],
   "source": [
    "def compute_e_ratio(svalues,perm):\n",
    "    answer = np.divide(svalues,perm)\n",
    "    answer = np.power(answer, 2)\n",
    "    df = pd.DataFrame(answer,columns = ['E_Ratio'])\n",
    "    return df"
   ]
  },
  {
   "cell_type": "code",
   "execution_count": 64,
   "metadata": {},
   "outputs": [],
   "source": [
    "sorted_medians = -1*np.sort(-1*perm_test.median())\n",
    "e_ratio = compute_e_ratio(pca.singular_values,sorted_medians)"
   ]
  },
  {
   "cell_type": "code",
   "execution_count": 65,
   "metadata": {
    "scrolled": true
   },
   "outputs": [
    {
     "data": {
      "text/html": [
       "<div>\n",
       "<style scoped>\n",
       "    .dataframe tbody tr th:only-of-type {\n",
       "        vertical-align: middle;\n",
       "    }\n",
       "\n",
       "    .dataframe tbody tr th {\n",
       "        vertical-align: top;\n",
       "    }\n",
       "\n",
       "    .dataframe thead th {\n",
       "        text-align: right;\n",
       "    }\n",
       "</style>\n",
       "<table border=\"1\" class=\"dataframe\">\n",
       "  <thead>\n",
       "    <tr style=\"text-align: right;\">\n",
       "      <th></th>\n",
       "      <th>E_Ratio</th>\n",
       "    </tr>\n",
       "  </thead>\n",
       "  <tbody>\n",
       "    <tr>\n",
       "      <th>0</th>\n",
       "      <td>10.798051</td>\n",
       "    </tr>\n",
       "    <tr>\n",
       "      <th>1</th>\n",
       "      <td>5.932922</td>\n",
       "    </tr>\n",
       "    <tr>\n",
       "      <th>2</th>\n",
       "      <td>5.182843</td>\n",
       "    </tr>\n",
       "    <tr>\n",
       "      <th>3</th>\n",
       "      <td>4.152167</td>\n",
       "    </tr>\n",
       "    <tr>\n",
       "      <th>4</th>\n",
       "      <td>2.523598</td>\n",
       "    </tr>\n",
       "    <tr>\n",
       "      <th>5</th>\n",
       "      <td>1.423128</td>\n",
       "    </tr>\n",
       "    <tr>\n",
       "      <th>6</th>\n",
       "      <td>1.300636</td>\n",
       "    </tr>\n",
       "    <tr>\n",
       "      <th>7</th>\n",
       "      <td>1.079572</td>\n",
       "    </tr>\n",
       "    <tr>\n",
       "      <th>8</th>\n",
       "      <td>1.051761</td>\n",
       "    </tr>\n",
       "    <tr>\n",
       "      <th>9</th>\n",
       "      <td>1.036556</td>\n",
       "    </tr>\n",
       "    <tr>\n",
       "      <th>10</th>\n",
       "      <td>1.026413</td>\n",
       "    </tr>\n",
       "    <tr>\n",
       "      <th>11</th>\n",
       "      <td>1.021931</td>\n",
       "    </tr>\n",
       "    <tr>\n",
       "      <th>12</th>\n",
       "      <td>1.009396</td>\n",
       "    </tr>\n",
       "    <tr>\n",
       "      <th>13</th>\n",
       "      <td>1.008257</td>\n",
       "    </tr>\n",
       "    <tr>\n",
       "      <th>14</th>\n",
       "      <td>1.007588</td>\n",
       "    </tr>\n",
       "  </tbody>\n",
       "</table>\n",
       "</div>"
      ],
      "text/plain": [
       "      E_Ratio\n",
       "0   10.798051\n",
       "1    5.932922\n",
       "2    5.182843\n",
       "3    4.152167\n",
       "4    2.523598\n",
       "5    1.423128\n",
       "6    1.300636\n",
       "7    1.079572\n",
       "8    1.051761\n",
       "9    1.036556\n",
       "10   1.026413\n",
       "11   1.021931\n",
       "12   1.009396\n",
       "13   1.008257\n",
       "14   1.007588"
      ]
     },
     "execution_count": 65,
     "metadata": {},
     "output_type": "execute_result"
    }
   ],
   "source": [
    "#really want the median\n",
    "#again picks up top 7\n",
    "e_ratio[0:15]"
   ]
  },
  {
   "cell_type": "code",
   "execution_count": 66,
   "metadata": {},
   "outputs": [
    {
     "data": {
      "image/png": "[encoded data removed]",
      "text/plain": [
       "<Figure size 432x288 with 1 Axes>"
      ]
     },
     "metadata": {
      "needs_background": "light"
     },
     "output_type": "display_data"
    }
   ],
   "source": [
    "plt.scatter(x = np.arange(0,30), y = 1e-5*np.power(pca.singular_values[0:30],2), color = 'skyblue', label = 'Eigenvalues')\n",
    "plt.scatter(x = np.arange(0,30), y = 1e-5*np.power(sorted_svalues[0:30],2), color = 'orangered', \n",
    "            label = 'Permutation Test Eigenvalues')\n",
    "plt.legend()\n",
    "plt.title('Permutation Test')\n",
    "plot_dictionary['PermTest'] = plt.gca().get_figure()"
   ]
  },
  {
   "cell_type": "code",
   "execution_count": 67,
   "metadata": {},
   "outputs": [
    {
     "data": {
      "image/png": "[encoded data removed]",
      "text/plain": [
       "<Figure size 432x288 with 1 Axes>"
      ]
     },
     "metadata": {
      "needs_background": "light"
     },
     "output_type": "display_data"
    }
   ],
   "source": [
    "plt.scatter(x = np.arange(5,30), y = 1e-5*np.power(pca.singular_values[5:30],2), color = 'skyblue', label = 'Eigenvalues')\n",
    "plt.scatter(x = np.arange(5,30), y = 1e-5*np.power(sorted_svalues[5:30],2), color = 'orangered', \n",
    "            label = 'Permutation Test Eigenvalues')\n",
    "plt.legend()\n",
    "plt.title('Permutation Test: PCs 5-30')\n",
    "plot_dictionary['PermTestPcs5-30'] = plt.gca().get_figure()"
   ]
  },
  {
   "cell_type": "markdown",
   "metadata": {},
   "source": [
    "### Export Plots"
   ]
  },
  {
   "cell_type": "code",
   "execution_count": 68,
   "metadata": {},
   "outputs": [],
   "source": [
    "with PdfPages(output_plots) as pdf:\n",
    "    for title in plot_dictionary.keys():\n",
    "        pdf.savefig(plot_dictionary[title])"
   ]
  }
 ],
 "metadata": {
  "kernelspec": {
   "display_name": "Python 3",
   "language": "python",
   "name": "python3"
  },
  "language_info": {
   "codemirror_mode": {
    "name": "ipython",
    "version": 3
   },
   "file_extension": ".py",
   "mimetype": "text/x-python",
   "name": "python",
   "nbconvert_exporter": "python",
   "pygments_lexer": "ipython3",
   "version": "3.7.6"
  }
 },
 "nbformat": 4,
 "nbformat_minor": 4
}
