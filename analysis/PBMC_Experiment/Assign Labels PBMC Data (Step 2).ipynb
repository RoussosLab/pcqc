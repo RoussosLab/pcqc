{
 "cells": [
  {
   "cell_type": "markdown",
   "metadata": {},
   "source": [
    "## Assign Cluster Labels for PBMC Dataset\n",
    "1. Initial clustering with Leiden algorithm\n",
    "2. Combine clusters through KMeans\n",
    "3. Also construct the resampled PBMC set for dendritic cells."
   ]
  },
  {
   "cell_type": "code",
   "execution_count": 1,
   "metadata": {},
   "outputs": [
    {
     "name": "stderr",
     "output_type": "stream",
     "text": [
      "/opt/conda/lib/python3.7/site-packages/anndata/_core/anndata.py:21: FutureWarning: pandas.core.index is deprecated and will be removed in a future version.  The public classes are available in the top-level namespace.\n",
      "  from pandas.core.index import RangeIndex\n"
     ]
    }
   ],
   "source": [
    "import numpy as np\n",
    "import pandas as pd\n",
    "import matplotlib.pyplot as plt\n",
    "import seaborn as sns\n",
    "from scipy.sparse.linalg import svds\n",
    "from numpy.linalg import norm\n",
    "import scanpy as sc"
   ]
  },
  {
   "cell_type": "code",
   "execution_count": 2,
   "metadata": {},
   "outputs": [],
   "source": [
    "from sklearn.cluster import KMeans"
   ]
  },
  {
   "cell_type": "code",
   "execution_count": 93,
   "metadata": {},
   "outputs": [],
   "source": [
    "from matplotlib.backends.backend_pdf import PdfPages"
   ]
  },
  {
   "cell_type": "code",
   "execution_count": 3,
   "metadata": {},
   "outputs": [],
   "source": [
    "output_plots = 'pbmc_plots/ground_truth_plots_step2.pdf'\n",
    "plot_dictionary = dict()"
   ]
  },
  {
   "cell_type": "code",
   "execution_count": 4,
   "metadata": {},
   "outputs": [
    {
     "name": "stdout",
     "output_type": "stream",
     "text": [
      "/home/jovyan/work/PBMC_Experiment\r\n"
     ]
    }
   ],
   "source": [
    "!pwd"
   ]
  },
  {
   "cell_type": "code",
   "execution_count": 5,
   "metadata": {},
   "outputs": [
    {
     "name": "stdout",
     "output_type": "stream",
     "text": [
      "'Assign Labels PBMC Data (Step 2)-Copy1.ipynb'\r\n",
      "'Assign Labels PBMC Data (Step 2).ipynb'\r\n",
      "'Assign Labels PBMC Data (Step 2)-Old.ipynb'\r\n",
      " cache\r\n",
      " data\r\n",
      "'Ignore for Now, Preprocess Simulated PBMC Data (Step 2.1.ipynb'\r\n",
      "'PBMC Cluster Measure Sims Part 7.ipynb'\r\n",
      "'PBMC Measuring Cluster Performance (Part 4).ipynb'\r\n",
      "'PBMC Part 5 Resampling, Preprocessing.ipynb'\r\n",
      "'PBMC PC Analysis (Part 3).ipynb'\r\n",
      "'PBMC PCA Plot by Ground Truth (Exploratory) Part 8.ipynb'\r\n",
      " pbmc_plots\r\n",
      " pbmc_preprocess.h5ad\r\n",
      " pbmc_sample_preprocess.h5ad\r\n",
      " pca_ground_truth_stats.pdf\r\n",
      " pca_ground_truth_stats_sample.pdf\r\n",
      "'PMBC Sim Sample PCA Part 6.ipynb'\r\n",
      "'Preprocess PBMC Data (Step 1).ipynb'\r\n",
      " resampled_pbmc_data.csv\r\n",
      " sample_reweighted_ground_truth.csv\r\n",
      " write\r\n"
     ]
    }
   ],
   "source": [
    "!ls"
   ]
  },
  {
   "cell_type": "code",
   "execution_count": 6,
   "metadata": {},
   "outputs": [],
   "source": [
    "adata = sc.read('pbmc_preprocess.h5ad')"
   ]
  },
  {
   "cell_type": "code",
   "execution_count": 7,
   "metadata": {},
   "outputs": [
    {
     "data": {
      "text/plain": [
       "array([[-0.17146961, -0.2808123 , -0.04667677, ..., -0.09826882,\n",
       "        -0.20909512, -0.5312033 ],\n",
       "       [-0.21458235, -0.37265328, -0.05480441, ..., -0.266844  ,\n",
       "        -0.31314582, -0.5966543 ],\n",
       "       [-0.3768877 , -0.29508454, -0.05752748, ..., -0.15865593,\n",
       "        -0.17087644,  1.3789997 ],\n",
       "       ...,\n",
       "       [-0.20708963, -0.2504642 , -0.04639699, ..., -0.05114426,\n",
       "        -0.16106427,  2.041497  ],\n",
       "       [-0.1903285 , -0.2263338 , -0.04399936, ..., -0.00591774,\n",
       "        -0.13521305, -0.48211104],\n",
       "       [-0.33378935, -0.25358772, -0.05271561, ..., -0.07842438,\n",
       "        -0.13032718, -0.47133783]], dtype=float32)"
      ]
     },
     "execution_count": 7,
     "metadata": {},
     "output_type": "execute_result"
    }
   ],
   "source": [
    "adata.X"
   ]
  },
  {
   "cell_type": "code",
   "execution_count": 8,
   "metadata": {},
   "outputs": [],
   "source": [
    "marker_genes = ['IL7R', 'LYZ', 'CD14', 'MS4A1','CD8A',\n",
    "                'GNLY', 'NKG7', 'FCGR3A', 'MS4A7', 'FCER1A', 'CST3', 'PPBP']"
   ]
  },
  {
   "cell_type": "code",
   "execution_count": 9,
   "metadata": {},
   "outputs": [],
   "source": [
    "my_data = pd.DataFrame(adata.raw.X.todense(), columns = adata.raw.var['gene_ids'].index.values)"
   ]
  },
  {
   "cell_type": "code",
   "execution_count": 10,
   "metadata": {},
   "outputs": [],
   "source": [
    "df_marker_genes = my_data[marker_genes]"
   ]
  },
  {
   "cell_type": "code",
   "execution_count": 11,
   "metadata": {},
   "outputs": [],
   "source": [
    "df_marker_genes = pd.DataFrame(df_marker_genes/df_marker_genes.std())"
   ]
  },
  {
   "cell_type": "code",
   "execution_count": 12,
   "metadata": {},
   "outputs": [
    {
     "name": "stderr",
     "output_type": "stream",
     "text": [
      "Transforming to str index.\n"
     ]
    }
   ],
   "source": [
    "adata_marker_genes = sc.AnnData(X = df_marker_genes)"
   ]
  },
  {
   "cell_type": "code",
   "execution_count": 13,
   "metadata": {},
   "outputs": [],
   "source": [
    "sc.pp.neighbors(adata_marker_genes, n_neighbors = 10)"
   ]
  },
  {
   "cell_type": "code",
   "execution_count": 14,
   "metadata": {},
   "outputs": [],
   "source": [
    "sc.tl.leiden(adata_marker_genes, random_state = 0, resolution = .8)"
   ]
  },
  {
   "cell_type": "code",
   "execution_count": 15,
   "metadata": {},
   "outputs": [],
   "source": [
    "ground_truth = pd.concat([pd.DataFrame(adata_marker_genes.X, columns = marker_genes),\n",
    "                          pd.DataFrame(adata_marker_genes.obs['leiden'].values, columns = ['leiden'])], axis = 1)"
   ]
  },
  {
   "cell_type": "code",
   "execution_count": 16,
   "metadata": {},
   "outputs": [
    {
     "data": {
      "image/png": "[encoded data removed]",
      "text/plain": [
       "<Figure size 432x288 with 2 Axes>"
      ]
     },
     "metadata": {
      "needs_background": "light"
     },
     "output_type": "display_data"
    }
   ],
   "source": [
    "sns.heatmap(ground_truth.groupby('leiden').median())\n",
    "plot_dictionary['HeatMapLeiden'] = plt.gca().get_figure()"
   ]
  },
  {
   "cell_type": "code",
   "execution_count": 17,
   "metadata": {},
   "outputs": [],
   "source": [
    "cluster_stats = ground_truth.groupby('leiden').median()"
   ]
  },
  {
   "cell_type": "code",
   "execution_count": 26,
   "metadata": {},
   "outputs": [],
   "source": [
    "kmeans = KMeans(n_clusters = 12, random_state = 1).fit(cluster_stats.values)"
   ]
  },
  {
   "cell_type": "code",
   "execution_count": 27,
   "metadata": {},
   "outputs": [
    {
     "data": {
      "text/plain": [
       "array([ 8,  6,  5,  4,  1,  9,  8,  0,  0,  6,  0,  1,  6,  3,  4,  0,  1,\n",
       "        1,  4,  3,  0, 10,  8,  0,  7,  4,  4,  0,  5,  0,  0,  0,  4,  4,\n",
       "        3,  9,  0,  0,  4, 11,  0,  0,  2], dtype=int32)"
      ]
     },
     "execution_count": 27,
     "metadata": {},
     "output_type": "execute_result"
    }
   ],
   "source": [
    "kmeans.labels_"
   ]
  },
  {
   "cell_type": "code",
   "execution_count": 28,
   "metadata": {},
   "outputs": [],
   "source": [
    "cluster_stats['new_label'] = kmeans.labels_"
   ]
  },
  {
   "cell_type": "code",
   "execution_count": 29,
   "metadata": {},
   "outputs": [],
   "source": [
    "new_mapping = dict()\n",
    "for i in range(len(cluster_stats)):\n",
    "    new_mapping[cluster_stats.index[i]] = kmeans.labels_[i]"
   ]
  },
  {
   "cell_type": "code",
   "execution_count": 30,
   "metadata": {},
   "outputs": [],
   "source": [
    "ground_truth['reduced_clustering'] = ground_truth['leiden'].replace(new_mapping)"
   ]
  },
  {
   "cell_type": "code",
   "execution_count": 31,
   "metadata": {},
   "outputs": [
    {
     "data": {
      "image/png": "[encoded data removed]",
      "text/plain": [
       "<Figure size 432x288 with 2 Axes>"
      ]
     },
     "metadata": {
      "needs_background": "light"
     },
     "output_type": "display_data"
    }
   ],
   "source": [
    "sns.heatmap(ground_truth.groupby('reduced_clustering').median())\n",
    "plot_dictionary['ReducedHeatMapKMeans'] = plt.gca().get_figure()"
   ]
  },
  {
   "cell_type": "markdown",
   "metadata": {},
   "source": [
    "1. Cluster 0: CD4 T Cells (IL74)\n",
    "2. Cluster 1: B Cells (MS4A1)\n",
    "3. Cluster 2: Megakaryocytes (PPBP)\n",
    "4. Cluster 3 CD14+ Monocyte (LYZ)\n",
    "5. Cluster 4: Other\n",
    "6. Cluster 5: NK Cells (GNLY/NKG7)\n",
    "7. Cluster 6: CD8 Cells (CD8A)\n",
    "8. Cluster 7: Dendritic (FCER1A)\n",
    "9. Cluster 8: CD14+ Monocyte\n",
    "10. Cluster 9: FCGR3A Monocyte\n",
    "11. Clusters 10: CD14+ Monocyte\n",
    "12. Cluster 11: Other"
   ]
  },
  {
   "cell_type": "code",
   "execution_count": 32,
   "metadata": {},
   "outputs": [],
   "source": [
    "#edit this\n",
    "cluster_mapping = {0: 'CD4', 1: 'B Cells', 2: 'Megakaryocytes',\n",
    "                  3: 'CD14+ Monocyte', 4: 'Other', 5: 'NK Cells', 6: 'CD8 Cells',\n",
    "                  7: 'Dendritic', 8: 'CD14+', 9: 'FCGR3A Monocytes', 10: 'CD14+ Monocyte', 11: 'Other'}"
   ]
  },
  {
   "cell_type": "code",
   "execution_count": 33,
   "metadata": {},
   "outputs": [
    {
     "data": {
      "text/plain": [
       "0     701\n",
       "4     424\n",
       "1     322\n",
       "8     298\n",
       "6     292\n",
       "3     164\n",
       "5     159\n",
       "9     133\n",
       "10     56\n",
       "7      55\n",
       "11     20\n",
       "2      14\n",
       "Name: reduced_clustering, dtype: int64"
      ]
     },
     "execution_count": 33,
     "metadata": {},
     "output_type": "execute_result"
    }
   ],
   "source": [
    "ground_truth['reduced_clustering'].value_counts()"
   ]
  },
  {
   "cell_type": "code",
   "execution_count": 34,
   "metadata": {},
   "outputs": [],
   "source": [
    "ground_truth['truth_names'] = ground_truth['reduced_clustering'].astype(int).replace(cluster_mapping)"
   ]
  },
  {
   "cell_type": "code",
   "execution_count": 37,
   "metadata": {},
   "outputs": [
    {
     "data": {
      "text/html": [
       "<div>\n",
       "<style scoped>\n",
       "    .dataframe tbody tr th:only-of-type {\n",
       "        vertical-align: middle;\n",
       "    }\n",
       "\n",
       "    .dataframe tbody tr th {\n",
       "        vertical-align: top;\n",
       "    }\n",
       "\n",
       "    .dataframe thead th {\n",
       "        text-align: right;\n",
       "    }\n",
       "</style>\n",
       "<table border=\"1\" class=\"dataframe\">\n",
       "  <thead>\n",
       "    <tr style=\"text-align: right;\">\n",
       "      <th></th>\n",
       "      <th>index</th>\n",
       "      <th>truth_names</th>\n",
       "    </tr>\n",
       "  </thead>\n",
       "  <tbody>\n",
       "    <tr>\n",
       "      <th>0</th>\n",
       "      <td>CD4</td>\n",
       "      <td>701</td>\n",
       "    </tr>\n",
       "    <tr>\n",
       "      <th>1</th>\n",
       "      <td>Other</td>\n",
       "      <td>444</td>\n",
       "    </tr>\n",
       "    <tr>\n",
       "      <th>2</th>\n",
       "      <td>B Cells</td>\n",
       "      <td>322</td>\n",
       "    </tr>\n",
       "    <tr>\n",
       "      <th>3</th>\n",
       "      <td>CD14+</td>\n",
       "      <td>298</td>\n",
       "    </tr>\n",
       "    <tr>\n",
       "      <th>4</th>\n",
       "      <td>CD8 Cells</td>\n",
       "      <td>292</td>\n",
       "    </tr>\n",
       "    <tr>\n",
       "      <th>5</th>\n",
       "      <td>CD14+ Monocyte</td>\n",
       "      <td>220</td>\n",
       "    </tr>\n",
       "    <tr>\n",
       "      <th>6</th>\n",
       "      <td>NK Cells</td>\n",
       "      <td>159</td>\n",
       "    </tr>\n",
       "    <tr>\n",
       "      <th>7</th>\n",
       "      <td>FCGR3A Monocytes</td>\n",
       "      <td>133</td>\n",
       "    </tr>\n",
       "    <tr>\n",
       "      <th>8</th>\n",
       "      <td>Dendritic</td>\n",
       "      <td>55</td>\n",
       "    </tr>\n",
       "    <tr>\n",
       "      <th>9</th>\n",
       "      <td>Megakaryocytes</td>\n",
       "      <td>14</td>\n",
       "    </tr>\n",
       "  </tbody>\n",
       "</table>\n",
       "</div>"
      ],
      "text/plain": [
       "              index  truth_names\n",
       "0               CD4          701\n",
       "1             Other          444\n",
       "2           B Cells          322\n",
       "3             CD14+          298\n",
       "4         CD8 Cells          292\n",
       "5    CD14+ Monocyte          220\n",
       "6          NK Cells          159\n",
       "7  FCGR3A Monocytes          133\n",
       "8         Dendritic           55\n",
       "9    Megakaryocytes           14"
      ]
     },
     "execution_count": 37,
     "metadata": {},
     "output_type": "execute_result"
    }
   ],
   "source": [
    "ground_truth['truth_names'].value_counts().reset_index()"
   ]
  },
  {
   "cell_type": "code",
   "execution_count": 36,
   "metadata": {},
   "outputs": [
    {
     "data": {
      "text/html": [
       "<div>\n",
       "<style scoped>\n",
       "    .dataframe tbody tr th:only-of-type {\n",
       "        vertical-align: middle;\n",
       "    }\n",
       "\n",
       "    .dataframe tbody tr th {\n",
       "        vertical-align: top;\n",
       "    }\n",
       "\n",
       "    .dataframe thead th {\n",
       "        text-align: right;\n",
       "    }\n",
       "</style>\n",
       "<table border=\"1\" class=\"dataframe\">\n",
       "  <thead>\n",
       "    <tr style=\"text-align: right;\">\n",
       "      <th></th>\n",
       "      <th>IL7R</th>\n",
       "      <th>LYZ</th>\n",
       "      <th>CD14</th>\n",
       "      <th>MS4A1</th>\n",
       "      <th>CD8A</th>\n",
       "      <th>GNLY</th>\n",
       "      <th>NKG7</th>\n",
       "      <th>FCGR3A</th>\n",
       "      <th>MS4A7</th>\n",
       "      <th>FCER1A</th>\n",
       "      <th>CST3</th>\n",
       "      <th>PPBP</th>\n",
       "      <th>leiden</th>\n",
       "      <th>reduced_clustering</th>\n",
       "      <th>truth_names</th>\n",
       "    </tr>\n",
       "  </thead>\n",
       "  <tbody>\n",
       "    <tr>\n",
       "      <th>0</th>\n",
       "      <td>2.309376</td>\n",
       "      <td>0.861680</td>\n",
       "      <td>0.0</td>\n",
       "      <td>0.000000</td>\n",
       "      <td>2.457721</td>\n",
       "      <td>0.000000</td>\n",
       "      <td>0.000000</td>\n",
       "      <td>0.000000</td>\n",
       "      <td>0.0000</td>\n",
       "      <td>0.0</td>\n",
       "      <td>0.000000</td>\n",
       "      <td>0.000000</td>\n",
       "      <td>1</td>\n",
       "      <td>6</td>\n",
       "      <td>CD8 Cells</td>\n",
       "    </tr>\n",
       "    <tr>\n",
       "      <th>1</th>\n",
       "      <td>1.446049</td>\n",
       "      <td>1.033846</td>\n",
       "      <td>0.0</td>\n",
       "      <td>3.007615</td>\n",
       "      <td>0.000000</td>\n",
       "      <td>0.000000</td>\n",
       "      <td>0.712672</td>\n",
       "      <td>0.000000</td>\n",
       "      <td>0.0000</td>\n",
       "      <td>0.0</td>\n",
       "      <td>0.650767</td>\n",
       "      <td>0.000000</td>\n",
       "      <td>16</td>\n",
       "      <td>1</td>\n",
       "      <td>B Cells</td>\n",
       "    </tr>\n",
       "    <tr>\n",
       "      <th>2</th>\n",
       "      <td>1.272185</td>\n",
       "      <td>1.051065</td>\n",
       "      <td>0.0</td>\n",
       "      <td>0.000000</td>\n",
       "      <td>0.000000</td>\n",
       "      <td>1.160852</td>\n",
       "      <td>0.000000</td>\n",
       "      <td>0.000000</td>\n",
       "      <td>0.0000</td>\n",
       "      <td>0.0</td>\n",
       "      <td>0.836933</td>\n",
       "      <td>0.000000</td>\n",
       "      <td>10</td>\n",
       "      <td>0</td>\n",
       "      <td>CD4</td>\n",
       "    </tr>\n",
       "    <tr>\n",
       "      <th>3</th>\n",
       "      <td>0.000000</td>\n",
       "      <td>2.381483</td>\n",
       "      <td>0.0</td>\n",
       "      <td>0.000000</td>\n",
       "      <td>0.000000</td>\n",
       "      <td>0.000000</td>\n",
       "      <td>1.004142</td>\n",
       "      <td>1.580884</td>\n",
       "      <td>3.8512</td>\n",
       "      <td>0.0</td>\n",
       "      <td>2.596215</td>\n",
       "      <td>3.067146</td>\n",
       "      <td>21</td>\n",
       "      <td>10</td>\n",
       "      <td>CD14+ Monocyte</td>\n",
       "    </tr>\n",
       "    <tr>\n",
       "      <th>4</th>\n",
       "      <td>0.000000</td>\n",
       "      <td>0.000000</td>\n",
       "      <td>0.0</td>\n",
       "      <td>0.000000</td>\n",
       "      <td>0.000000</td>\n",
       "      <td>2.804037</td>\n",
       "      <td>3.031908</td>\n",
       "      <td>0.000000</td>\n",
       "      <td>0.0000</td>\n",
       "      <td>0.0</td>\n",
       "      <td>0.000000</td>\n",
       "      <td>0.000000</td>\n",
       "      <td>28</td>\n",
       "      <td>5</td>\n",
       "      <td>NK Cells</td>\n",
       "    </tr>\n",
       "  </tbody>\n",
       "</table>\n",
       "</div>"
      ],
      "text/plain": [
       "       IL7R       LYZ  CD14     MS4A1      CD8A      GNLY      NKG7    FCGR3A  \\\n",
       "0  2.309376  0.861680   0.0  0.000000  2.457721  0.000000  0.000000  0.000000   \n",
       "1  1.446049  1.033846   0.0  3.007615  0.000000  0.000000  0.712672  0.000000   \n",
       "2  1.272185  1.051065   0.0  0.000000  0.000000  1.160852  0.000000  0.000000   \n",
       "3  0.000000  2.381483   0.0  0.000000  0.000000  0.000000  1.004142  1.580884   \n",
       "4  0.000000  0.000000   0.0  0.000000  0.000000  2.804037  3.031908  0.000000   \n",
       "\n",
       "    MS4A7  FCER1A      CST3      PPBP leiden  reduced_clustering  \\\n",
       "0  0.0000     0.0  0.000000  0.000000      1                   6   \n",
       "1  0.0000     0.0  0.650767  0.000000     16                   1   \n",
       "2  0.0000     0.0  0.836933  0.000000     10                   0   \n",
       "3  3.8512     0.0  2.596215  3.067146     21                  10   \n",
       "4  0.0000     0.0  0.000000  0.000000     28                   5   \n",
       "\n",
       "      truth_names  \n",
       "0       CD8 Cells  \n",
       "1         B Cells  \n",
       "2             CD4  \n",
       "3  CD14+ Monocyte  \n",
       "4        NK Cells  "
      ]
     },
     "execution_count": 36,
     "metadata": {},
     "output_type": "execute_result"
    }
   ],
   "source": [
    "ground_truth.head()"
   ]
  },
  {
   "cell_type": "code",
   "execution_count": 40,
   "metadata": {},
   "outputs": [
    {
     "data": {
      "image/png": "[encoded data removed]",
      "text/plain": [
       "<Figure size 1440x720 with 1 Axes>"
      ]
     },
     "metadata": {
      "needs_background": "light"
     },
     "output_type": "display_data"
    }
   ],
   "source": [
    "plt.figure(figsize=(20,10))\n",
    "sns.barplot(x=\"index\", y=\"truth_names\", data=ground_truth['truth_names'].value_counts().reset_index(), \n",
    "            color = 'skyblue')\n",
    "plt.title('Cluster Sizes by Id')\n",
    "plt.xlabel('Cell Type')\n",
    "plt.ylabel('Frequency')\n",
    "plot_dictionary['ClusterSizes'] = plt.gca().get_figure()"
   ]
  },
  {
   "cell_type": "code",
   "execution_count": 41,
   "metadata": {},
   "outputs": [],
   "source": [
    "ground_truth.to_csv('data/ground_truth_pbmc_v2.csv')"
   ]
  },
  {
   "cell_type": "code",
   "execution_count": 150,
   "metadata": {},
   "outputs": [
    {
     "data": {
      "text/plain": [
       "0.02084912812736922"
      ]
     },
     "execution_count": 150,
     "metadata": {},
     "output_type": "execute_result"
    }
   ],
   "source": [
    "55/2638"
   ]
  },
  {
   "cell_type": "markdown",
   "metadata": {},
   "source": [
    "### Generate Synthetic Data with Half Dendritic Frequency"
   ]
  },
  {
   "cell_type": "code",
   "execution_count": 57,
   "metadata": {},
   "outputs": [],
   "source": [
    "my_data = pd.DataFrame(adata.X)"
   ]
  },
  {
   "cell_type": "code",
   "execution_count": 58,
   "metadata": {},
   "outputs": [
    {
     "data": {
      "text/plain": [
       "(2638, 1838)"
      ]
     },
     "execution_count": 58,
     "metadata": {},
     "output_type": "execute_result"
    }
   ],
   "source": [
    "my_data.shape"
   ]
  },
  {
   "cell_type": "code",
   "execution_count": 59,
   "metadata": {},
   "outputs": [],
   "source": [
    "my_data = pd.concat([my_data, ground_truth[['reduced_clustering','truth_names']]], axis = 1)"
   ]
  },
  {
   "cell_type": "code",
   "execution_count": 60,
   "metadata": {},
   "outputs": [
    {
     "data": {
      "text/plain": [
       "(2638, 1840)"
      ]
     },
     "execution_count": 60,
     "metadata": {},
     "output_type": "execute_result"
    }
   ],
   "source": [
    "my_data.shape"
   ]
  },
  {
   "cell_type": "code",
   "execution_count": 61,
   "metadata": {},
   "outputs": [],
   "source": [
    "my_data['weights'] = 1\n",
    "my_data.loc[my_data['truth_names'] == 'Dendritic', 'weights'] = .5\n",
    "my_data['weights'] = my_data['weights']/np.sum(my_data['weights'])"
   ]
  },
  {
   "cell_type": "code",
   "execution_count": 62,
   "metadata": {},
   "outputs": [
    {
     "data": {
      "text/html": [
       "<div>\n",
       "<style scoped>\n",
       "    .dataframe tbody tr th:only-of-type {\n",
       "        vertical-align: middle;\n",
       "    }\n",
       "\n",
       "    .dataframe tbody tr th {\n",
       "        vertical-align: top;\n",
       "    }\n",
       "\n",
       "    .dataframe thead th {\n",
       "        text-align: right;\n",
       "    }\n",
       "</style>\n",
       "<table border=\"1\" class=\"dataframe\">\n",
       "  <thead>\n",
       "    <tr style=\"text-align: right;\">\n",
       "      <th></th>\n",
       "      <th>0</th>\n",
       "      <th>1</th>\n",
       "      <th>2</th>\n",
       "      <th>3</th>\n",
       "      <th>4</th>\n",
       "      <th>5</th>\n",
       "      <th>6</th>\n",
       "      <th>7</th>\n",
       "      <th>8</th>\n",
       "      <th>9</th>\n",
       "      <th>...</th>\n",
       "      <th>1831</th>\n",
       "      <th>1832</th>\n",
       "      <th>1833</th>\n",
       "      <th>1834</th>\n",
       "      <th>1835</th>\n",
       "      <th>1836</th>\n",
       "      <th>1837</th>\n",
       "      <th>reduced_clustering</th>\n",
       "      <th>truth_names</th>\n",
       "      <th>weights</th>\n",
       "    </tr>\n",
       "  </thead>\n",
       "  <tbody>\n",
       "    <tr>\n",
       "      <th>0</th>\n",
       "      <td>-0.171470</td>\n",
       "      <td>-0.280812</td>\n",
       "      <td>-0.046677</td>\n",
       "      <td>-0.475169</td>\n",
       "      <td>-0.544024</td>\n",
       "      <td>4.928497</td>\n",
       "      <td>-0.038028</td>\n",
       "      <td>-0.280573</td>\n",
       "      <td>-0.341788</td>\n",
       "      <td>-0.195361</td>\n",
       "      <td>...</td>\n",
       "      <td>-0.222116</td>\n",
       "      <td>-0.312401</td>\n",
       "      <td>-0.121678</td>\n",
       "      <td>-0.521229</td>\n",
       "      <td>-0.098269</td>\n",
       "      <td>-0.209095</td>\n",
       "      <td>-0.531203</td>\n",
       "      <td>6</td>\n",
       "      <td>CD8 Cells</td>\n",
       "      <td>0.000383</td>\n",
       "    </tr>\n",
       "    <tr>\n",
       "      <th>1</th>\n",
       "      <td>-0.214582</td>\n",
       "      <td>-0.372653</td>\n",
       "      <td>-0.054804</td>\n",
       "      <td>-0.683391</td>\n",
       "      <td>0.633951</td>\n",
       "      <td>-0.334837</td>\n",
       "      <td>-0.045589</td>\n",
       "      <td>-0.498264</td>\n",
       "      <td>-0.541914</td>\n",
       "      <td>-0.209017</td>\n",
       "      <td>...</td>\n",
       "      <td>-0.445372</td>\n",
       "      <td>1.629285</td>\n",
       "      <td>-0.058662</td>\n",
       "      <td>-0.857163</td>\n",
       "      <td>-0.266844</td>\n",
       "      <td>-0.313146</td>\n",
       "      <td>-0.596654</td>\n",
       "      <td>1</td>\n",
       "      <td>B Cells</td>\n",
       "      <td>0.000383</td>\n",
       "    </tr>\n",
       "    <tr>\n",
       "      <th>2</th>\n",
       "      <td>-0.376888</td>\n",
       "      <td>-0.295085</td>\n",
       "      <td>-0.057527</td>\n",
       "      <td>-0.520972</td>\n",
       "      <td>1.332648</td>\n",
       "      <td>-0.309362</td>\n",
       "      <td>-0.103108</td>\n",
       "      <td>-0.272526</td>\n",
       "      <td>-0.500799</td>\n",
       "      <td>-0.220228</td>\n",
       "      <td>...</td>\n",
       "      <td>-0.297857</td>\n",
       "      <td>-0.410920</td>\n",
       "      <td>-0.070431</td>\n",
       "      <td>-0.590720</td>\n",
       "      <td>-0.158656</td>\n",
       "      <td>-0.170876</td>\n",
       "      <td>1.379000</td>\n",
       "      <td>0</td>\n",
       "      <td>CD4</td>\n",
       "      <td>0.000383</td>\n",
       "    </tr>\n",
       "    <tr>\n",
       "      <th>3</th>\n",
       "      <td>-0.285241</td>\n",
       "      <td>-0.281735</td>\n",
       "      <td>-0.052227</td>\n",
       "      <td>-0.484929</td>\n",
       "      <td>1.572680</td>\n",
       "      <td>-0.271825</td>\n",
       "      <td>-0.074552</td>\n",
       "      <td>-0.258875</td>\n",
       "      <td>-0.416752</td>\n",
       "      <td>-0.208471</td>\n",
       "      <td>...</td>\n",
       "      <td>-0.247770</td>\n",
       "      <td>2.552079</td>\n",
       "      <td>-0.097402</td>\n",
       "      <td>1.631684</td>\n",
       "      <td>-0.119462</td>\n",
       "      <td>-0.179120</td>\n",
       "      <td>-0.505669</td>\n",
       "      <td>10</td>\n",
       "      <td>CD14+ Monocyte</td>\n",
       "      <td>0.000383</td>\n",
       "    </tr>\n",
       "    <tr>\n",
       "      <th>4</th>\n",
       "      <td>-0.256484</td>\n",
       "      <td>-0.220394</td>\n",
       "      <td>-0.046800</td>\n",
       "      <td>-0.345859</td>\n",
       "      <td>-0.333409</td>\n",
       "      <td>-0.208122</td>\n",
       "      <td>-0.069514</td>\n",
       "      <td>5.806440</td>\n",
       "      <td>-0.283112</td>\n",
       "      <td>-0.199355</td>\n",
       "      <td>...</td>\n",
       "      <td>-0.098665</td>\n",
       "      <td>-0.275836</td>\n",
       "      <td>-0.139482</td>\n",
       "      <td>-0.310095</td>\n",
       "      <td>-0.006877</td>\n",
       "      <td>-0.109614</td>\n",
       "      <td>-0.461946</td>\n",
       "      <td>5</td>\n",
       "      <td>NK Cells</td>\n",
       "      <td>0.000383</td>\n",
       "    </tr>\n",
       "  </tbody>\n",
       "</table>\n",
       "<p>5 rows × 1841 columns</p>\n",
       "</div>"
      ],
      "text/plain": [
       "          0         1         2         3         4         5         6  \\\n",
       "0 -0.171470 -0.280812 -0.046677 -0.475169 -0.544024  4.928497 -0.038028   \n",
       "1 -0.214582 -0.372653 -0.054804 -0.683391  0.633951 -0.334837 -0.045589   \n",
       "2 -0.376888 -0.295085 -0.057527 -0.520972  1.332648 -0.309362 -0.103108   \n",
       "3 -0.285241 -0.281735 -0.052227 -0.484929  1.572680 -0.271825 -0.074552   \n",
       "4 -0.256484 -0.220394 -0.046800 -0.345859 -0.333409 -0.208122 -0.069514   \n",
       "\n",
       "          7         8         9  ...      1831      1832      1833      1834  \\\n",
       "0 -0.280573 -0.341788 -0.195361  ... -0.222116 -0.312401 -0.121678 -0.521229   \n",
       "1 -0.498264 -0.541914 -0.209017  ... -0.445372  1.629285 -0.058662 -0.857163   \n",
       "2 -0.272526 -0.500799 -0.220228  ... -0.297857 -0.410920 -0.070431 -0.590720   \n",
       "3 -0.258875 -0.416752 -0.208471  ... -0.247770  2.552079 -0.097402  1.631684   \n",
       "4  5.806440 -0.283112 -0.199355  ... -0.098665 -0.275836 -0.139482 -0.310095   \n",
       "\n",
       "       1835      1836      1837  reduced_clustering     truth_names   weights  \n",
       "0 -0.098269 -0.209095 -0.531203                   6       CD8 Cells  0.000383  \n",
       "1 -0.266844 -0.313146 -0.596654                   1         B Cells  0.000383  \n",
       "2 -0.158656 -0.170876  1.379000                   0             CD4  0.000383  \n",
       "3 -0.119462 -0.179120 -0.505669                  10  CD14+ Monocyte  0.000383  \n",
       "4 -0.006877 -0.109614 -0.461946                   5        NK Cells  0.000383  \n",
       "\n",
       "[5 rows x 1841 columns]"
      ]
     },
     "execution_count": 62,
     "metadata": {},
     "output_type": "execute_result"
    }
   ],
   "source": [
    "my_data.head()"
   ]
  },
  {
   "cell_type": "code",
   "execution_count": 83,
   "metadata": {},
   "outputs": [],
   "source": [
    "sim_data = my_data.sample(n = 2638*2, replace = True, weights = my_data['weights'], random_state = 5)"
   ]
  },
  {
   "cell_type": "code",
   "execution_count": 84,
   "metadata": {},
   "outputs": [
    {
     "data": {
      "text/plain": [
       "(2638, 1841)"
      ]
     },
     "execution_count": 84,
     "metadata": {},
     "output_type": "execute_result"
    }
   ],
   "source": [
    "my_data.shape"
   ]
  },
  {
   "cell_type": "code",
   "execution_count": 85,
   "metadata": {},
   "outputs": [
    {
     "data": {
      "text/plain": [
       "(5276, 1841)"
      ]
     },
     "execution_count": 85,
     "metadata": {},
     "output_type": "execute_result"
    }
   ],
   "source": [
    "sim_data.shape"
   ]
  },
  {
   "cell_type": "code",
   "execution_count": 86,
   "metadata": {},
   "outputs": [
    {
     "data": {
      "text/html": [
       "<div>\n",
       "<style scoped>\n",
       "    .dataframe tbody tr th:only-of-type {\n",
       "        vertical-align: middle;\n",
       "    }\n",
       "\n",
       "    .dataframe tbody tr th {\n",
       "        vertical-align: top;\n",
       "    }\n",
       "\n",
       "    .dataframe thead th {\n",
       "        text-align: right;\n",
       "    }\n",
       "</style>\n",
       "<table border=\"1\" class=\"dataframe\">\n",
       "  <thead>\n",
       "    <tr style=\"text-align: right;\">\n",
       "      <th></th>\n",
       "      <th>index</th>\n",
       "      <th>truth_names</th>\n",
       "    </tr>\n",
       "  </thead>\n",
       "  <tbody>\n",
       "    <tr>\n",
       "      <th>0</th>\n",
       "      <td>CD4</td>\n",
       "      <td>1437</td>\n",
       "    </tr>\n",
       "    <tr>\n",
       "      <th>1</th>\n",
       "      <td>Other</td>\n",
       "      <td>925</td>\n",
       "    </tr>\n",
       "    <tr>\n",
       "      <th>2</th>\n",
       "      <td>CD14+</td>\n",
       "      <td>631</td>\n",
       "    </tr>\n",
       "    <tr>\n",
       "      <th>3</th>\n",
       "      <td>B Cells</td>\n",
       "      <td>603</td>\n",
       "    </tr>\n",
       "    <tr>\n",
       "      <th>4</th>\n",
       "      <td>CD8 Cells</td>\n",
       "      <td>580</td>\n",
       "    </tr>\n",
       "    <tr>\n",
       "      <th>5</th>\n",
       "      <td>CD14+ Monocyte</td>\n",
       "      <td>442</td>\n",
       "    </tr>\n",
       "    <tr>\n",
       "      <th>6</th>\n",
       "      <td>NK Cells</td>\n",
       "      <td>306</td>\n",
       "    </tr>\n",
       "    <tr>\n",
       "      <th>7</th>\n",
       "      <td>FCGR3A Monocytes</td>\n",
       "      <td>277</td>\n",
       "    </tr>\n",
       "    <tr>\n",
       "      <th>8</th>\n",
       "      <td>Dendritic</td>\n",
       "      <td>54</td>\n",
       "    </tr>\n",
       "    <tr>\n",
       "      <th>9</th>\n",
       "      <td>Megakaryocytes</td>\n",
       "      <td>21</td>\n",
       "    </tr>\n",
       "  </tbody>\n",
       "</table>\n",
       "</div>"
      ],
      "text/plain": [
       "              index  truth_names\n",
       "0               CD4         1437\n",
       "1             Other          925\n",
       "2             CD14+          631\n",
       "3           B Cells          603\n",
       "4         CD8 Cells          580\n",
       "5    CD14+ Monocyte          442\n",
       "6          NK Cells          306\n",
       "7  FCGR3A Monocytes          277\n",
       "8         Dendritic           54\n",
       "9    Megakaryocytes           21"
      ]
     },
     "execution_count": 86,
     "metadata": {},
     "output_type": "execute_result"
    }
   ],
   "source": [
    "sim_data['truth_names'].value_counts().reset_index()"
   ]
  },
  {
   "cell_type": "code",
   "execution_count": 87,
   "metadata": {},
   "outputs": [],
   "source": [
    "dendrites = my_data.loc[my_data['truth_names'] == 'Dendritic']\n",
    "non_dendrites = my_data.loc[my_data['truth_names'] != 'Dendritic']"
   ]
  },
  {
   "cell_type": "code",
   "execution_count": 88,
   "metadata": {},
   "outputs": [
    {
     "data": {
      "text/plain": [
       "(55, 1841)"
      ]
     },
     "execution_count": 88,
     "metadata": {},
     "output_type": "execute_result"
    }
   ],
   "source": [
    "dendrites.shape"
   ]
  },
  {
   "cell_type": "code",
   "execution_count": 89,
   "metadata": {},
   "outputs": [
    {
     "data": {
      "text/plain": [
       "(2583, 1841)"
      ]
     },
     "execution_count": 89,
     "metadata": {},
     "output_type": "execute_result"
    }
   ],
   "source": [
    "non_dendrites.shape"
   ]
  },
  {
   "cell_type": "code",
   "execution_count": 90,
   "metadata": {},
   "outputs": [],
   "source": [
    "sim_data.to_csv('data/resampled_pbmc_data_v2.csv')"
   ]
  },
  {
   "cell_type": "code",
   "execution_count": 91,
   "metadata": {},
   "outputs": [
    {
     "data": {
      "image/png": "[encoded data removed]",
      "text/plain": [
       "<Figure size 1440x720 with 1 Axes>"
      ]
     },
     "metadata": {
      "needs_background": "light"
     },
     "output_type": "display_data"
    }
   ],
   "source": [
    "plt.figure(figsize=(20,10))\n",
    "sns.barplot(x=\"index\", y=\"truth_names\", data=sim_data['truth_names'].value_counts().reset_index(), \n",
    "            color = 'skyblue')\n",
    "plt.title('Bootstrap Cluster Sizes by Id')\n",
    "plt.xlabel('Cell Type')\n",
    "plt.ylabel('Frequency')\n",
    "plot_dictionary['NewSamplingClusterSizes'] = plt.gca().get_figure()"
   ]
  },
  {
   "cell_type": "code",
   "execution_count": 94,
   "metadata": {},
   "outputs": [],
   "source": [
    "with PdfPages('ground_truth_dist_pbmc.pdf') as pdf:\n",
    "    for key in plot_dictionary.keys():\n",
    "        pdf.savefig(plot_dictionary[key])"
   ]
  }
 ],
 "metadata": {
  "kernelspec": {
   "display_name": "Python 3",
   "language": "python",
   "name": "python3"
  },
  "language_info": {
   "codemirror_mode": {
    "name": "ipython",
    "version": 3
   },
   "file_extension": ".py",
   "mimetype": "text/x-python",
   "name": "python",
   "nbconvert_exporter": "python",
   "pygments_lexer": "ipython3",
   "version": "3.7.6"
  }
 },
 "nbformat": 4,
 "nbformat_minor": 4
}
