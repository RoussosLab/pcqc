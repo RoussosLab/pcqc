{
 "cells": [
  {
   "cell_type": "markdown",
   "metadata": {},
   "source": [
    "### For Future Iteration \n",
    "1. Preprocess simulated data again from beginning as the resampling could slightly impact the regression, etc.\n",
    "2. Refine Kruskal Method to be an iterative process (although this is tricky to define in general- parameter sensitive)"
   ]
  },
  {
   "cell_type": "code",
   "execution_count": 2,
   "metadata": {},
   "outputs": [
    {
     "name": "stderr",
     "output_type": "stream",
     "text": [
      "/opt/conda/lib/python3.7/site-packages/anndata/_core/anndata.py:21: FutureWarning: pandas.core.index is deprecated and will be removed in a future version.  The public classes are available in the top-level namespace.\n",
      "  from pandas.core.index import RangeIndex\n"
     ]
    }
   ],
   "source": [
    "import sys\n",
    "sys.path.append('../pcqc')\n",
    "import numpy as np\n",
    "import pandas as pd\n",
    "import matplotlib.pyplot as plt\n",
    "import seaborn as sns\n",
    "from pcqc import *\n",
    "from kruskal_best_pcs import *"
   ]
  },
  {
   "cell_type": "code",
   "execution_count": 3,
   "metadata": {},
   "outputs": [],
   "source": [
    "output_plots = 'pbmc_plots/pc_plots_pt3.pdf'\n",
    "plot_dictionary = dict()"
   ]
  },
  {
   "cell_type": "code",
   "execution_count": 4,
   "metadata": {},
   "outputs": [],
   "source": [
    "sim_data = pd.read_csv('data/pbmc_original_data.csv')"
   ]
  },
  {
   "cell_type": "code",
   "execution_count": 5,
   "metadata": {},
   "outputs": [
    {
     "data": {
      "text/html": [
       "<div>\n",
       "<style scoped>\n",
       "    .dataframe tbody tr th:only-of-type {\n",
       "        vertical-align: middle;\n",
       "    }\n",
       "\n",
       "    .dataframe tbody tr th {\n",
       "        vertical-align: top;\n",
       "    }\n",
       "\n",
       "    .dataframe thead th {\n",
       "        text-align: right;\n",
       "    }\n",
       "</style>\n",
       "<table border=\"1\" class=\"dataframe\">\n",
       "  <thead>\n",
       "    <tr style=\"text-align: right;\">\n",
       "      <th></th>\n",
       "      <th>Unnamed: 0</th>\n",
       "      <th>0</th>\n",
       "      <th>1</th>\n",
       "      <th>2</th>\n",
       "      <th>3</th>\n",
       "      <th>4</th>\n",
       "      <th>5</th>\n",
       "      <th>6</th>\n",
       "      <th>7</th>\n",
       "      <th>8</th>\n",
       "      <th>...</th>\n",
       "      <th>1830</th>\n",
       "      <th>1831</th>\n",
       "      <th>1832</th>\n",
       "      <th>1833</th>\n",
       "      <th>1834</th>\n",
       "      <th>1835</th>\n",
       "      <th>1836</th>\n",
       "      <th>1837</th>\n",
       "      <th>reduced_clustering</th>\n",
       "      <th>truth_names</th>\n",
       "    </tr>\n",
       "  </thead>\n",
       "  <tbody>\n",
       "    <tr>\n",
       "      <th>0</th>\n",
       "      <td>0</td>\n",
       "      <td>-0.171470</td>\n",
       "      <td>-0.280812</td>\n",
       "      <td>-0.046677</td>\n",
       "      <td>-0.475169</td>\n",
       "      <td>-0.544024</td>\n",
       "      <td>4.928497</td>\n",
       "      <td>-0.038028</td>\n",
       "      <td>-0.280573</td>\n",
       "      <td>-0.341788</td>\n",
       "      <td>...</td>\n",
       "      <td>-0.102943</td>\n",
       "      <td>-0.222116</td>\n",
       "      <td>-0.312401</td>\n",
       "      <td>-0.121678</td>\n",
       "      <td>-0.521229</td>\n",
       "      <td>-0.098269</td>\n",
       "      <td>-0.209095</td>\n",
       "      <td>-0.531203</td>\n",
       "      <td>0</td>\n",
       "      <td>CD8</td>\n",
       "    </tr>\n",
       "    <tr>\n",
       "      <th>1</th>\n",
       "      <td>1</td>\n",
       "      <td>-0.214582</td>\n",
       "      <td>-0.372653</td>\n",
       "      <td>-0.054804</td>\n",
       "      <td>-0.683391</td>\n",
       "      <td>0.633951</td>\n",
       "      <td>-0.334837</td>\n",
       "      <td>-0.045589</td>\n",
       "      <td>-0.498264</td>\n",
       "      <td>-0.541914</td>\n",
       "      <td>...</td>\n",
       "      <td>0.007155</td>\n",
       "      <td>-0.445372</td>\n",
       "      <td>1.629285</td>\n",
       "      <td>-0.058662</td>\n",
       "      <td>-0.857163</td>\n",
       "      <td>-0.266844</td>\n",
       "      <td>-0.313146</td>\n",
       "      <td>-0.596654</td>\n",
       "      <td>2</td>\n",
       "      <td>CD4 T</td>\n",
       "    </tr>\n",
       "    <tr>\n",
       "      <th>2</th>\n",
       "      <td>2</td>\n",
       "      <td>-0.376888</td>\n",
       "      <td>-0.295085</td>\n",
       "      <td>-0.057527</td>\n",
       "      <td>-0.520972</td>\n",
       "      <td>1.332648</td>\n",
       "      <td>-0.309362</td>\n",
       "      <td>-0.103108</td>\n",
       "      <td>-0.272526</td>\n",
       "      <td>-0.500799</td>\n",
       "      <td>...</td>\n",
       "      <td>-0.071774</td>\n",
       "      <td>-0.297857</td>\n",
       "      <td>-0.410920</td>\n",
       "      <td>-0.070431</td>\n",
       "      <td>-0.590720</td>\n",
       "      <td>-0.158656</td>\n",
       "      <td>-0.170876</td>\n",
       "      <td>1.379000</td>\n",
       "      <td>2</td>\n",
       "      <td>CD4 T</td>\n",
       "    </tr>\n",
       "    <tr>\n",
       "      <th>3</th>\n",
       "      <td>3</td>\n",
       "      <td>-0.285241</td>\n",
       "      <td>-0.281735</td>\n",
       "      <td>-0.052227</td>\n",
       "      <td>-0.484929</td>\n",
       "      <td>1.572680</td>\n",
       "      <td>-0.271825</td>\n",
       "      <td>-0.074552</td>\n",
       "      <td>-0.258875</td>\n",
       "      <td>-0.416752</td>\n",
       "      <td>...</td>\n",
       "      <td>-0.093818</td>\n",
       "      <td>-0.247770</td>\n",
       "      <td>2.552079</td>\n",
       "      <td>-0.097402</td>\n",
       "      <td>1.631684</td>\n",
       "      <td>-0.119462</td>\n",
       "      <td>-0.179120</td>\n",
       "      <td>-0.505669</td>\n",
       "      <td>1</td>\n",
       "      <td>CD14+</td>\n",
       "    </tr>\n",
       "    <tr>\n",
       "      <th>4</th>\n",
       "      <td>4</td>\n",
       "      <td>-0.256484</td>\n",
       "      <td>-0.220394</td>\n",
       "      <td>-0.046800</td>\n",
       "      <td>-0.345859</td>\n",
       "      <td>-0.333409</td>\n",
       "      <td>-0.208122</td>\n",
       "      <td>-0.069514</td>\n",
       "      <td>5.806440</td>\n",
       "      <td>-0.283112</td>\n",
       "      <td>...</td>\n",
       "      <td>-0.167350</td>\n",
       "      <td>-0.098665</td>\n",
       "      <td>-0.275836</td>\n",
       "      <td>-0.139482</td>\n",
       "      <td>-0.310095</td>\n",
       "      <td>-0.006877</td>\n",
       "      <td>-0.109614</td>\n",
       "      <td>-0.461946</td>\n",
       "      <td>3</td>\n",
       "      <td>NK</td>\n",
       "    </tr>\n",
       "  </tbody>\n",
       "</table>\n",
       "<p>5 rows × 1841 columns</p>\n",
       "</div>"
      ],
      "text/plain": [
       "   Unnamed: 0         0         1         2         3         4         5  \\\n",
       "0           0 -0.171470 -0.280812 -0.046677 -0.475169 -0.544024  4.928497   \n",
       "1           1 -0.214582 -0.372653 -0.054804 -0.683391  0.633951 -0.334837   \n",
       "2           2 -0.376888 -0.295085 -0.057527 -0.520972  1.332648 -0.309362   \n",
       "3           3 -0.285241 -0.281735 -0.052227 -0.484929  1.572680 -0.271825   \n",
       "4           4 -0.256484 -0.220394 -0.046800 -0.345859 -0.333409 -0.208122   \n",
       "\n",
       "          6         7         8  ...      1830      1831      1832      1833  \\\n",
       "0 -0.038028 -0.280573 -0.341788  ... -0.102943 -0.222116 -0.312401 -0.121678   \n",
       "1 -0.045589 -0.498264 -0.541914  ...  0.007155 -0.445372  1.629285 -0.058662   \n",
       "2 -0.103108 -0.272526 -0.500799  ... -0.071774 -0.297857 -0.410920 -0.070431   \n",
       "3 -0.074552 -0.258875 -0.416752  ... -0.093818 -0.247770  2.552079 -0.097402   \n",
       "4 -0.069514  5.806440 -0.283112  ... -0.167350 -0.098665 -0.275836 -0.139482   \n",
       "\n",
       "       1834      1835      1836      1837  reduced_clustering  truth_names  \n",
       "0 -0.521229 -0.098269 -0.209095 -0.531203                   0          CD8  \n",
       "1 -0.857163 -0.266844 -0.313146 -0.596654                   2        CD4 T  \n",
       "2 -0.590720 -0.158656 -0.170876  1.379000                   2        CD4 T  \n",
       "3  1.631684 -0.119462 -0.179120 -0.505669                   1        CD14+  \n",
       "4 -0.310095 -0.006877 -0.109614 -0.461946                   3           NK  \n",
       "\n",
       "[5 rows x 1841 columns]"
      ]
     },
     "execution_count": 5,
     "metadata": {},
     "output_type": "execute_result"
    }
   ],
   "source": [
    "sim_data.head()"
   ]
  },
  {
   "cell_type": "code",
   "execution_count": 6,
   "metadata": {},
   "outputs": [],
   "source": [
    "data = sim_data.iloc[:,1:1839]"
   ]
  },
  {
   "cell_type": "code",
   "execution_count": 7,
   "metadata": {},
   "outputs": [
    {
     "data": {
      "text/html": [
       "<div>\n",
       "<style scoped>\n",
       "    .dataframe tbody tr th:only-of-type {\n",
       "        vertical-align: middle;\n",
       "    }\n",
       "\n",
       "    .dataframe tbody tr th {\n",
       "        vertical-align: top;\n",
       "    }\n",
       "\n",
       "    .dataframe thead th {\n",
       "        text-align: right;\n",
       "    }\n",
       "</style>\n",
       "<table border=\"1\" class=\"dataframe\">\n",
       "  <thead>\n",
       "    <tr style=\"text-align: right;\">\n",
       "      <th></th>\n",
       "      <th>0</th>\n",
       "      <th>1</th>\n",
       "      <th>2</th>\n",
       "      <th>3</th>\n",
       "      <th>4</th>\n",
       "      <th>5</th>\n",
       "      <th>6</th>\n",
       "      <th>7</th>\n",
       "      <th>8</th>\n",
       "      <th>9</th>\n",
       "      <th>...</th>\n",
       "      <th>1828</th>\n",
       "      <th>1829</th>\n",
       "      <th>1830</th>\n",
       "      <th>1831</th>\n",
       "      <th>1832</th>\n",
       "      <th>1833</th>\n",
       "      <th>1834</th>\n",
       "      <th>1835</th>\n",
       "      <th>1836</th>\n",
       "      <th>1837</th>\n",
       "    </tr>\n",
       "  </thead>\n",
       "  <tbody>\n",
       "    <tr>\n",
       "      <th>0</th>\n",
       "      <td>-0.171470</td>\n",
       "      <td>-0.280812</td>\n",
       "      <td>-0.046677</td>\n",
       "      <td>-0.475169</td>\n",
       "      <td>-0.544024</td>\n",
       "      <td>4.928497</td>\n",
       "      <td>-0.038028</td>\n",
       "      <td>-0.280573</td>\n",
       "      <td>-0.341788</td>\n",
       "      <td>-0.195361</td>\n",
       "      <td>...</td>\n",
       "      <td>-0.226570</td>\n",
       "      <td>-0.236269</td>\n",
       "      <td>-0.102943</td>\n",
       "      <td>-0.222116</td>\n",
       "      <td>-0.312401</td>\n",
       "      <td>-0.121678</td>\n",
       "      <td>-0.521229</td>\n",
       "      <td>-0.098269</td>\n",
       "      <td>-0.209095</td>\n",
       "      <td>-0.531203</td>\n",
       "    </tr>\n",
       "    <tr>\n",
       "      <th>1</th>\n",
       "      <td>-0.214582</td>\n",
       "      <td>-0.372653</td>\n",
       "      <td>-0.054804</td>\n",
       "      <td>-0.683391</td>\n",
       "      <td>0.633951</td>\n",
       "      <td>-0.334837</td>\n",
       "      <td>-0.045589</td>\n",
       "      <td>-0.498264</td>\n",
       "      <td>-0.541914</td>\n",
       "      <td>-0.209017</td>\n",
       "      <td>...</td>\n",
       "      <td>-0.317531</td>\n",
       "      <td>2.568868</td>\n",
       "      <td>0.007155</td>\n",
       "      <td>-0.445372</td>\n",
       "      <td>1.629285</td>\n",
       "      <td>-0.058662</td>\n",
       "      <td>-0.857163</td>\n",
       "      <td>-0.266844</td>\n",
       "      <td>-0.313146</td>\n",
       "      <td>-0.596654</td>\n",
       "    </tr>\n",
       "    <tr>\n",
       "      <th>2</th>\n",
       "      <td>-0.376888</td>\n",
       "      <td>-0.295085</td>\n",
       "      <td>-0.057527</td>\n",
       "      <td>-0.520972</td>\n",
       "      <td>1.332648</td>\n",
       "      <td>-0.309362</td>\n",
       "      <td>-0.103108</td>\n",
       "      <td>-0.272526</td>\n",
       "      <td>-0.500799</td>\n",
       "      <td>-0.220228</td>\n",
       "      <td>...</td>\n",
       "      <td>-0.302938</td>\n",
       "      <td>-0.239801</td>\n",
       "      <td>-0.071774</td>\n",
       "      <td>-0.297857</td>\n",
       "      <td>-0.410920</td>\n",
       "      <td>-0.070431</td>\n",
       "      <td>-0.590720</td>\n",
       "      <td>-0.158656</td>\n",
       "      <td>-0.170876</td>\n",
       "      <td>1.379000</td>\n",
       "    </tr>\n",
       "    <tr>\n",
       "      <th>3</th>\n",
       "      <td>-0.285241</td>\n",
       "      <td>-0.281735</td>\n",
       "      <td>-0.052227</td>\n",
       "      <td>-0.484929</td>\n",
       "      <td>1.572680</td>\n",
       "      <td>-0.271825</td>\n",
       "      <td>-0.074552</td>\n",
       "      <td>-0.258875</td>\n",
       "      <td>-0.416752</td>\n",
       "      <td>-0.208471</td>\n",
       "      <td>...</td>\n",
       "      <td>-0.262978</td>\n",
       "      <td>-0.231807</td>\n",
       "      <td>-0.093818</td>\n",
       "      <td>-0.247770</td>\n",
       "      <td>2.552079</td>\n",
       "      <td>-0.097402</td>\n",
       "      <td>1.631684</td>\n",
       "      <td>-0.119462</td>\n",
       "      <td>-0.179120</td>\n",
       "      <td>-0.505669</td>\n",
       "    </tr>\n",
       "    <tr>\n",
       "      <th>4</th>\n",
       "      <td>-0.256484</td>\n",
       "      <td>-0.220394</td>\n",
       "      <td>-0.046800</td>\n",
       "      <td>-0.345859</td>\n",
       "      <td>-0.333409</td>\n",
       "      <td>-0.208122</td>\n",
       "      <td>-0.069514</td>\n",
       "      <td>5.806440</td>\n",
       "      <td>-0.283112</td>\n",
       "      <td>-0.199355</td>\n",
       "      <td>...</td>\n",
       "      <td>-0.202237</td>\n",
       "      <td>-0.176765</td>\n",
       "      <td>-0.167350</td>\n",
       "      <td>-0.098665</td>\n",
       "      <td>-0.275836</td>\n",
       "      <td>-0.139482</td>\n",
       "      <td>-0.310095</td>\n",
       "      <td>-0.006877</td>\n",
       "      <td>-0.109614</td>\n",
       "      <td>-0.461946</td>\n",
       "    </tr>\n",
       "  </tbody>\n",
       "</table>\n",
       "<p>5 rows × 1838 columns</p>\n",
       "</div>"
      ],
      "text/plain": [
       "          0         1         2         3         4         5         6  \\\n",
       "0 -0.171470 -0.280812 -0.046677 -0.475169 -0.544024  4.928497 -0.038028   \n",
       "1 -0.214582 -0.372653 -0.054804 -0.683391  0.633951 -0.334837 -0.045589   \n",
       "2 -0.376888 -0.295085 -0.057527 -0.520972  1.332648 -0.309362 -0.103108   \n",
       "3 -0.285241 -0.281735 -0.052227 -0.484929  1.572680 -0.271825 -0.074552   \n",
       "4 -0.256484 -0.220394 -0.046800 -0.345859 -0.333409 -0.208122 -0.069514   \n",
       "\n",
       "          7         8         9  ...      1828      1829      1830      1831  \\\n",
       "0 -0.280573 -0.341788 -0.195361  ... -0.226570 -0.236269 -0.102943 -0.222116   \n",
       "1 -0.498264 -0.541914 -0.209017  ... -0.317531  2.568868  0.007155 -0.445372   \n",
       "2 -0.272526 -0.500799 -0.220228  ... -0.302938 -0.239801 -0.071774 -0.297857   \n",
       "3 -0.258875 -0.416752 -0.208471  ... -0.262978 -0.231807 -0.093818 -0.247770   \n",
       "4  5.806440 -0.283112 -0.199355  ... -0.202237 -0.176765 -0.167350 -0.098665   \n",
       "\n",
       "       1832      1833      1834      1835      1836      1837  \n",
       "0 -0.312401 -0.121678 -0.521229 -0.098269 -0.209095 -0.531203  \n",
       "1  1.629285 -0.058662 -0.857163 -0.266844 -0.313146 -0.596654  \n",
       "2 -0.410920 -0.070431 -0.590720 -0.158656 -0.170876  1.379000  \n",
       "3  2.552079 -0.097402  1.631684 -0.119462 -0.179120 -0.505669  \n",
       "4 -0.275836 -0.139482 -0.310095 -0.006877 -0.109614 -0.461946  \n",
       "\n",
       "[5 rows x 1838 columns]"
      ]
     },
     "execution_count": 7,
     "metadata": {},
     "output_type": "execute_result"
    }
   ],
   "source": [
    "data.head()"
   ]
  },
  {
   "cell_type": "markdown",
   "metadata": {},
   "source": [
    "### Run PCQC"
   ]
  },
  {
   "cell_type": "code",
   "execution_count": 8,
   "metadata": {},
   "outputs": [
    {
     "data": {
      "text/plain": [
       "array([0.02012665, 0.01173268, 0.00979   , 0.00829639, 0.00301003,\n",
       "       0.00249836, 0.00221046, 0.00202671, 0.0019566 , 0.00192758,\n",
       "       0.00187948, 0.00185546, 0.00185016, 0.00184544, 0.0018264 ,\n",
       "       0.0018171 , 0.00180573, 0.00179558, 0.00178203, 0.00177742])"
      ]
     },
     "execution_count": 8,
     "metadata": {},
     "output_type": "execute_result"
    }
   ],
   "source": [
    "pca = PC_Cluster(n_pcs = 100)\n",
    "pca.fit(data.values)\n",
    "pca.norm_eigenvalues[0:20]"
   ]
  },
  {
   "cell_type": "code",
   "execution_count": 9,
   "metadata": {},
   "outputs": [
    {
     "data": {
      "text/plain": [
       "array([290.99080096, 222.17348561, 202.94800732, 186.82638292,\n",
       "       112.53282036, 102.52284537,  96.43508072,  92.33988782,\n",
       "        90.72860407,  90.05341191,  88.92259855,  88.35249282,\n",
       "        88.22623294,  88.11364853,  87.65796801,  87.43456737,\n",
       "        87.1606445 ,  86.91521122,  86.58669766,  86.47472017,\n",
       "        86.40869143,  86.2086503 ,  85.98342176,  85.92890392,\n",
       "        85.75879114,  85.59200334,  85.47530624,  85.3160535 ,\n",
       "        85.21694634,  85.09497396,  84.95855928,  84.9111451 ,\n",
       "        84.72571183,  84.57164795,  84.4181872 ,  84.38023223,\n",
       "        84.12736681,  84.05184353,  84.01828338,  83.97280125])"
      ]
     },
     "execution_count": 9,
     "metadata": {},
     "output_type": "execute_result"
    }
   ],
   "source": [
    "pca.singular_values[0:40]"
   ]
  },
  {
   "cell_type": "code",
   "execution_count": 10,
   "metadata": {},
   "outputs": [
    {
     "data": {
      "text/html": [
       "<div>\n",
       "<style scoped>\n",
       "    .dataframe tbody tr th:only-of-type {\n",
       "        vertical-align: middle;\n",
       "    }\n",
       "\n",
       "    .dataframe tbody tr th {\n",
       "        vertical-align: top;\n",
       "    }\n",
       "\n",
       "    .dataframe thead th {\n",
       "        text-align: right;\n",
       "    }\n",
       "</style>\n",
       "<table border=\"1\" class=\"dataframe\">\n",
       "  <thead>\n",
       "    <tr style=\"text-align: right;\">\n",
       "      <th></th>\n",
       "      <th>PC_Dist_0</th>\n",
       "      <th>PC_Dist_1</th>\n",
       "      <th>PC_Dist_2</th>\n",
       "      <th>PC_Dist_3</th>\n",
       "      <th>PC_Dist_4</th>\n",
       "      <th>PC_Dist_5</th>\n",
       "      <th>PC_Dist_6</th>\n",
       "      <th>PC_Dist_7</th>\n",
       "      <th>PC_Dist_8</th>\n",
       "      <th>PC_Dist_9</th>\n",
       "      <th>...</th>\n",
       "      <th>PC_Dist_90</th>\n",
       "      <th>PC_Dist_91</th>\n",
       "      <th>PC_Dist_92</th>\n",
       "      <th>PC_Dist_93</th>\n",
       "      <th>PC_Dist_94</th>\n",
       "      <th>PC_Dist_95</th>\n",
       "      <th>PC_Dist_96</th>\n",
       "      <th>PC_Dist_97</th>\n",
       "      <th>PC_Dist_98</th>\n",
       "      <th>PC_Dist_99</th>\n",
       "    </tr>\n",
       "  </thead>\n",
       "  <tbody>\n",
       "    <tr>\n",
       "      <th>0</th>\n",
       "      <td>7.370892e-06</td>\n",
       "      <td>1.606444e-08</td>\n",
       "      <td>1.292511e-09</td>\n",
       "      <td>1.906396e-06</td>\n",
       "      <td>7.261065e-10</td>\n",
       "      <td>5.039832e-11</td>\n",
       "      <td>8.045703e-08</td>\n",
       "      <td>2.232605e-06</td>\n",
       "      <td>2.098192e-06</td>\n",
       "      <td>8.986616e-07</td>\n",
       "      <td>...</td>\n",
       "      <td>5.884445e-07</td>\n",
       "      <td>4.264131e-07</td>\n",
       "      <td>4.772918e-09</td>\n",
       "      <td>2.397413e-07</td>\n",
       "      <td>1.362874e-07</td>\n",
       "      <td>1.280025e-08</td>\n",
       "      <td>5.251442e-07</td>\n",
       "      <td>2.731123e-07</td>\n",
       "      <td>6.852190e-07</td>\n",
       "      <td>7.353519e-07</td>\n",
       "    </tr>\n",
       "    <tr>\n",
       "      <th>1</th>\n",
       "      <td>1.239648e-05</td>\n",
       "      <td>1.331350e-05</td>\n",
       "      <td>1.582314e-08</td>\n",
       "      <td>1.516528e-05</td>\n",
       "      <td>2.142233e-06</td>\n",
       "      <td>3.533945e-09</td>\n",
       "      <td>1.377374e-06</td>\n",
       "      <td>2.673263e-07</td>\n",
       "      <td>9.679425e-08</td>\n",
       "      <td>1.036112e-07</td>\n",
       "      <td>...</td>\n",
       "      <td>6.678799e-07</td>\n",
       "      <td>3.869001e-07</td>\n",
       "      <td>5.825933e-07</td>\n",
       "      <td>1.911799e-06</td>\n",
       "      <td>3.678298e-07</td>\n",
       "      <td>2.147745e-07</td>\n",
       "      <td>3.178895e-08</td>\n",
       "      <td>4.375681e-07</td>\n",
       "      <td>3.846201e-08</td>\n",
       "      <td>6.771211e-07</td>\n",
       "    </tr>\n",
       "    <tr>\n",
       "      <th>2</th>\n",
       "      <td>1.741570e-06</td>\n",
       "      <td>5.944674e-07</td>\n",
       "      <td>7.209295e-08</td>\n",
       "      <td>1.190835e-06</td>\n",
       "      <td>7.645581e-07</td>\n",
       "      <td>9.006031e-07</td>\n",
       "      <td>9.957315e-07</td>\n",
       "      <td>6.073309e-07</td>\n",
       "      <td>2.144548e-07</td>\n",
       "      <td>4.646564e-07</td>\n",
       "      <td>...</td>\n",
       "      <td>1.234377e-07</td>\n",
       "      <td>4.954344e-08</td>\n",
       "      <td>3.424159e-07</td>\n",
       "      <td>2.001739e-07</td>\n",
       "      <td>4.047485e-07</td>\n",
       "      <td>7.668854e-08</td>\n",
       "      <td>1.507830e-06</td>\n",
       "      <td>1.421585e-07</td>\n",
       "      <td>9.687281e-07</td>\n",
       "      <td>1.292944e-10</td>\n",
       "    </tr>\n",
       "    <tr>\n",
       "      <th>3</th>\n",
       "      <td>2.439416e-05</td>\n",
       "      <td>4.436121e-07</td>\n",
       "      <td>4.155001e-07</td>\n",
       "      <td>1.063058e-07</td>\n",
       "      <td>2.014659e-06</td>\n",
       "      <td>2.377038e-10</td>\n",
       "      <td>4.016027e-07</td>\n",
       "      <td>3.709437e-08</td>\n",
       "      <td>1.898643e-07</td>\n",
       "      <td>2.240972e-11</td>\n",
       "      <td>...</td>\n",
       "      <td>1.405138e-07</td>\n",
       "      <td>5.920863e-07</td>\n",
       "      <td>4.571019e-09</td>\n",
       "      <td>1.144099e-08</td>\n",
       "      <td>3.633370e-08</td>\n",
       "      <td>1.242972e-07</td>\n",
       "      <td>6.656153e-08</td>\n",
       "      <td>3.338272e-07</td>\n",
       "      <td>6.862598e-08</td>\n",
       "      <td>4.297384e-07</td>\n",
       "    </tr>\n",
       "    <tr>\n",
       "      <th>4</th>\n",
       "      <td>2.877294e-07</td>\n",
       "      <td>1.578983e-05</td>\n",
       "      <td>4.921933e-07</td>\n",
       "      <td>4.236064e-06</td>\n",
       "      <td>9.113367e-07</td>\n",
       "      <td>7.657503e-06</td>\n",
       "      <td>3.707000e-08</td>\n",
       "      <td>4.738933e-09</td>\n",
       "      <td>1.475366e-07</td>\n",
       "      <td>3.288386e-09</td>\n",
       "      <td>...</td>\n",
       "      <td>2.781326e-07</td>\n",
       "      <td>1.219959e-07</td>\n",
       "      <td>1.459721e-07</td>\n",
       "      <td>4.126577e-08</td>\n",
       "      <td>4.443362e-07</td>\n",
       "      <td>3.575474e-07</td>\n",
       "      <td>7.323167e-07</td>\n",
       "      <td>2.246008e-07</td>\n",
       "      <td>1.700669e-06</td>\n",
       "      <td>8.497985e-11</td>\n",
       "    </tr>\n",
       "  </tbody>\n",
       "</table>\n",
       "<p>5 rows × 100 columns</p>\n",
       "</div>"
      ],
      "text/plain": [
       "      PC_Dist_0     PC_Dist_1     PC_Dist_2     PC_Dist_3     PC_Dist_4  \\\n",
       "0  7.370892e-06  1.606444e-08  1.292511e-09  1.906396e-06  7.261065e-10   \n",
       "1  1.239648e-05  1.331350e-05  1.582314e-08  1.516528e-05  2.142233e-06   \n",
       "2  1.741570e-06  5.944674e-07  7.209295e-08  1.190835e-06  7.645581e-07   \n",
       "3  2.439416e-05  4.436121e-07  4.155001e-07  1.063058e-07  2.014659e-06   \n",
       "4  2.877294e-07  1.578983e-05  4.921933e-07  4.236064e-06  9.113367e-07   \n",
       "\n",
       "      PC_Dist_5     PC_Dist_6     PC_Dist_7     PC_Dist_8     PC_Dist_9  ...  \\\n",
       "0  5.039832e-11  8.045703e-08  2.232605e-06  2.098192e-06  8.986616e-07  ...   \n",
       "1  3.533945e-09  1.377374e-06  2.673263e-07  9.679425e-08  1.036112e-07  ...   \n",
       "2  9.006031e-07  9.957315e-07  6.073309e-07  2.144548e-07  4.646564e-07  ...   \n",
       "3  2.377038e-10  4.016027e-07  3.709437e-08  1.898643e-07  2.240972e-11  ...   \n",
       "4  7.657503e-06  3.707000e-08  4.738933e-09  1.475366e-07  3.288386e-09  ...   \n",
       "\n",
       "     PC_Dist_90    PC_Dist_91    PC_Dist_92    PC_Dist_93    PC_Dist_94  \\\n",
       "0  5.884445e-07  4.264131e-07  4.772918e-09  2.397413e-07  1.362874e-07   \n",
       "1  6.678799e-07  3.869001e-07  5.825933e-07  1.911799e-06  3.678298e-07   \n",
       "2  1.234377e-07  4.954344e-08  3.424159e-07  2.001739e-07  4.047485e-07   \n",
       "3  1.405138e-07  5.920863e-07  4.571019e-09  1.144099e-08  3.633370e-08   \n",
       "4  2.781326e-07  1.219959e-07  1.459721e-07  4.126577e-08  4.443362e-07   \n",
       "\n",
       "     PC_Dist_95    PC_Dist_96    PC_Dist_97    PC_Dist_98    PC_Dist_99  \n",
       "0  1.280025e-08  5.251442e-07  2.731123e-07  6.852190e-07  7.353519e-07  \n",
       "1  2.147745e-07  3.178895e-08  4.375681e-07  3.846201e-08  6.771211e-07  \n",
       "2  7.668854e-08  1.507830e-06  1.421585e-07  9.687281e-07  1.292944e-10  \n",
       "3  1.242972e-07  6.656153e-08  3.338272e-07  6.862598e-08  4.297384e-07  \n",
       "4  3.575474e-07  7.323167e-07  2.246008e-07  1.700669e-06  8.497985e-11  \n",
       "\n",
       "[5 rows x 100 columns]"
      ]
     },
     "execution_count": 10,
     "metadata": {},
     "output_type": "execute_result"
    }
   ],
   "source": [
    "pca.pc_distribution()\n",
    "pca.df_pca_dist.head()"
   ]
  },
  {
   "cell_type": "code",
   "execution_count": 11,
   "metadata": {},
   "outputs": [
    {
     "data": {
      "image/png": "[encoded data removed]",
      "text/plain": [
       "<Figure size 432x288 with 1 Axes>"
      ]
     },
     "metadata": {
      "needs_background": "light"
     },
     "output_type": "display_data"
    }
   ],
   "source": [
    "pc_distplot(pca, cols = np.arange(0,10))\n",
    "plt.title('Distribution of Variance Explained for Top 10 PCs')\n",
    "plot_dictionary['Boxenplot'] = plt.gca().get_figure()"
   ]
  },
  {
   "cell_type": "code",
   "execution_count": 12,
   "metadata": {},
   "outputs": [],
   "source": [
    "pca.pc_stats(thresholds=[0.9,0.95,0.98,0.99,0.995])"
   ]
  },
  {
   "cell_type": "code",
   "execution_count": 13,
   "metadata": {},
   "outputs": [
    {
     "data": {
      "text/html": [
       "<div>\n",
       "<style scoped>\n",
       "    .dataframe tbody tr th:only-of-type {\n",
       "        vertical-align: middle;\n",
       "    }\n",
       "\n",
       "    .dataframe tbody tr th {\n",
       "        vertical-align: top;\n",
       "    }\n",
       "\n",
       "    .dataframe thead th {\n",
       "        text-align: right;\n",
       "    }\n",
       "</style>\n",
       "<table border=\"1\" class=\"dataframe\">\n",
       "  <thead>\n",
       "    <tr style=\"text-align: right;\">\n",
       "      <th></th>\n",
       "      <th>90.0_Percentile</th>\n",
       "      <th>95.0_Percentile</th>\n",
       "      <th>98.0_Percentile</th>\n",
       "      <th>99.0_Percentile</th>\n",
       "      <th>100.0_Percentile</th>\n",
       "      <th>evalue</th>\n",
       "      <th>rank</th>\n",
       "    </tr>\n",
       "  </thead>\n",
       "  <tbody>\n",
       "    <tr>\n",
       "      <th>PC_Dist_2</th>\n",
       "      <td>7.406829e-13</td>\n",
       "      <td>1.000187e-12</td>\n",
       "      <td>1.469928e-12</td>\n",
       "      <td>2.218325e-12</td>\n",
       "      <td>9.497100e-11</td>\n",
       "      <td>9.789995e-09</td>\n",
       "      <td>0.000003</td>\n",
       "    </tr>\n",
       "    <tr>\n",
       "      <th>PC_Dist_1</th>\n",
       "      <td>1.388939e-11</td>\n",
       "      <td>2.259476e-11</td>\n",
       "      <td>4.040342e-11</td>\n",
       "      <td>4.865603e-11</td>\n",
       "      <td>5.388433e-11</td>\n",
       "      <td>1.173268e-08</td>\n",
       "      <td>0.000002</td>\n",
       "    </tr>\n",
       "    <tr>\n",
       "      <th>PC_Dist_0</th>\n",
       "      <td>2.428705e-11</td>\n",
       "      <td>2.960248e-11</td>\n",
       "      <td>3.504858e-11</td>\n",
       "      <td>3.832355e-11</td>\n",
       "      <td>4.128527e-11</td>\n",
       "      <td>2.012665e-08</td>\n",
       "      <td>0.000001</td>\n",
       "    </tr>\n",
       "    <tr>\n",
       "      <th>PC_Dist_3</th>\n",
       "      <td>9.133196e-12</td>\n",
       "      <td>1.290561e-11</td>\n",
       "      <td>1.789261e-11</td>\n",
       "      <td>2.247810e-11</td>\n",
       "      <td>2.595241e-11</td>\n",
       "      <td>8.296393e-09</td>\n",
       "      <td>0.000004</td>\n",
       "    </tr>\n",
       "    <tr>\n",
       "      <th>PC_Dist_4</th>\n",
       "      <td>2.742280e-12</td>\n",
       "      <td>6.758979e-12</td>\n",
       "      <td>1.136969e-11</td>\n",
       "      <td>1.507173e-11</td>\n",
       "      <td>1.805102e-11</td>\n",
       "      <td>3.010033e-09</td>\n",
       "      <td>0.000005</td>\n",
       "    </tr>\n",
       "    <tr>\n",
       "      <th>PC_Dist_8</th>\n",
       "      <td>1.689392e-12</td>\n",
       "      <td>2.845167e-12</td>\n",
       "      <td>5.828197e-12</td>\n",
       "      <td>8.963401e-12</td>\n",
       "      <td>1.347299e-11</td>\n",
       "      <td>1.956597e-09</td>\n",
       "      <td>0.000009</td>\n",
       "    </tr>\n",
       "    <tr>\n",
       "      <th>PC_Dist_7</th>\n",
       "      <td>1.712253e-12</td>\n",
       "      <td>2.918925e-12</td>\n",
       "      <td>5.237493e-12</td>\n",
       "      <td>8.585746e-12</td>\n",
       "      <td>1.176387e-11</td>\n",
       "      <td>2.026710e-09</td>\n",
       "      <td>0.000008</td>\n",
       "    </tr>\n",
       "    <tr>\n",
       "      <th>PC_Dist_5</th>\n",
       "      <td>2.505716e-12</td>\n",
       "      <td>4.288814e-12</td>\n",
       "      <td>6.991696e-12</td>\n",
       "      <td>8.842575e-12</td>\n",
       "      <td>1.047459e-11</td>\n",
       "      <td>2.498355e-09</td>\n",
       "      <td>0.000006</td>\n",
       "    </tr>\n",
       "    <tr>\n",
       "      <th>PC_Dist_10</th>\n",
       "      <td>1.623228e-12</td>\n",
       "      <td>2.536529e-12</td>\n",
       "      <td>4.499679e-12</td>\n",
       "      <td>6.767708e-12</td>\n",
       "      <td>9.620682e-12</td>\n",
       "      <td>1.879478e-09</td>\n",
       "      <td>0.000011</td>\n",
       "    </tr>\n",
       "    <tr>\n",
       "      <th>PC_Dist_9</th>\n",
       "      <td>1.825889e-12</td>\n",
       "      <td>2.762171e-12</td>\n",
       "      <td>4.379484e-12</td>\n",
       "      <td>6.307722e-12</td>\n",
       "      <td>8.791372e-12</td>\n",
       "      <td>1.927584e-09</td>\n",
       "      <td>0.000010</td>\n",
       "    </tr>\n",
       "    <tr>\n",
       "      <th>PC_Dist_6</th>\n",
       "      <td>2.160315e-12</td>\n",
       "      <td>3.373650e-12</td>\n",
       "      <td>5.279864e-12</td>\n",
       "      <td>7.003751e-12</td>\n",
       "      <td>8.755422e-12</td>\n",
       "      <td>2.210462e-09</td>\n",
       "      <td>0.000007</td>\n",
       "    </tr>\n",
       "    <tr>\n",
       "      <th>PC_Dist_12</th>\n",
       "      <td>1.745044e-12</td>\n",
       "      <td>2.611583e-12</td>\n",
       "      <td>4.249986e-12</td>\n",
       "      <td>5.849684e-12</td>\n",
       "      <td>8.050079e-12</td>\n",
       "      <td>1.850156e-09</td>\n",
       "      <td>0.000013</td>\n",
       "    </tr>\n",
       "    <tr>\n",
       "      <th>PC_Dist_13</th>\n",
       "      <td>1.815066e-12</td>\n",
       "      <td>2.648401e-12</td>\n",
       "      <td>4.137390e-12</td>\n",
       "      <td>5.404029e-12</td>\n",
       "      <td>7.976996e-12</td>\n",
       "      <td>1.845437e-09</td>\n",
       "      <td>0.000014</td>\n",
       "    </tr>\n",
       "    <tr>\n",
       "      <th>PC_Dist_11</th>\n",
       "      <td>1.685037e-12</td>\n",
       "      <td>2.515927e-12</td>\n",
       "      <td>3.804807e-12</td>\n",
       "      <td>5.200063e-12</td>\n",
       "      <td>7.911866e-12</td>\n",
       "      <td>1.855455e-09</td>\n",
       "      <td>0.000012</td>\n",
       "    </tr>\n",
       "    <tr>\n",
       "      <th>PC_Dist_16</th>\n",
       "      <td>1.775188e-12</td>\n",
       "      <td>2.683914e-12</td>\n",
       "      <td>4.186649e-12</td>\n",
       "      <td>5.301679e-12</td>\n",
       "      <td>7.732236e-12</td>\n",
       "      <td>1.805734e-09</td>\n",
       "      <td>0.000017</td>\n",
       "    </tr>\n",
       "    <tr>\n",
       "      <th>PC_Dist_20</th>\n",
       "      <td>1.736329e-12</td>\n",
       "      <td>2.583683e-12</td>\n",
       "      <td>4.009002e-12</td>\n",
       "      <td>5.538796e-12</td>\n",
       "      <td>7.274199e-12</td>\n",
       "      <td>1.774712e-09</td>\n",
       "      <td>0.000021</td>\n",
       "    </tr>\n",
       "    <tr>\n",
       "      <th>PC_Dist_23</th>\n",
       "      <td>1.738698e-12</td>\n",
       "      <td>2.510229e-12</td>\n",
       "      <td>3.981899e-12</td>\n",
       "      <td>5.208160e-12</td>\n",
       "      <td>7.017003e-12</td>\n",
       "      <td>1.755058e-09</td>\n",
       "      <td>0.000024</td>\n",
       "    </tr>\n",
       "    <tr>\n",
       "      <th>PC_Dist_18</th>\n",
       "      <td>1.804725e-12</td>\n",
       "      <td>2.753871e-12</td>\n",
       "      <td>4.097323e-12</td>\n",
       "      <td>5.275910e-12</td>\n",
       "      <td>6.950169e-12</td>\n",
       "      <td>1.782031e-09</td>\n",
       "      <td>0.000019</td>\n",
       "    </tr>\n",
       "    <tr>\n",
       "      <th>PC_Dist_29</th>\n",
       "      <td>1.705799e-12</td>\n",
       "      <td>2.566558e-12</td>\n",
       "      <td>3.829420e-12</td>\n",
       "      <td>5.257156e-12</td>\n",
       "      <td>6.811598e-12</td>\n",
       "      <td>1.721158e-09</td>\n",
       "      <td>0.000030</td>\n",
       "    </tr>\n",
       "    <tr>\n",
       "      <th>PC_Dist_39</th>\n",
       "      <td>1.710537e-12</td>\n",
       "      <td>2.422833e-12</td>\n",
       "      <td>3.693583e-12</td>\n",
       "      <td>4.871783e-12</td>\n",
       "      <td>6.783481e-12</td>\n",
       "      <td>1.676062e-09</td>\n",
       "      <td>0.000040</td>\n",
       "    </tr>\n",
       "  </tbody>\n",
       "</table>\n",
       "</div>"
      ],
      "text/plain": [
       "            90.0_Percentile  95.0_Percentile  98.0_Percentile  \\\n",
       "PC_Dist_2      7.406829e-13     1.000187e-12     1.469928e-12   \n",
       "PC_Dist_1      1.388939e-11     2.259476e-11     4.040342e-11   \n",
       "PC_Dist_0      2.428705e-11     2.960248e-11     3.504858e-11   \n",
       "PC_Dist_3      9.133196e-12     1.290561e-11     1.789261e-11   \n",
       "PC_Dist_4      2.742280e-12     6.758979e-12     1.136969e-11   \n",
       "PC_Dist_8      1.689392e-12     2.845167e-12     5.828197e-12   \n",
       "PC_Dist_7      1.712253e-12     2.918925e-12     5.237493e-12   \n",
       "PC_Dist_5      2.505716e-12     4.288814e-12     6.991696e-12   \n",
       "PC_Dist_10     1.623228e-12     2.536529e-12     4.499679e-12   \n",
       "PC_Dist_9      1.825889e-12     2.762171e-12     4.379484e-12   \n",
       "PC_Dist_6      2.160315e-12     3.373650e-12     5.279864e-12   \n",
       "PC_Dist_12     1.745044e-12     2.611583e-12     4.249986e-12   \n",
       "PC_Dist_13     1.815066e-12     2.648401e-12     4.137390e-12   \n",
       "PC_Dist_11     1.685037e-12     2.515927e-12     3.804807e-12   \n",
       "PC_Dist_16     1.775188e-12     2.683914e-12     4.186649e-12   \n",
       "PC_Dist_20     1.736329e-12     2.583683e-12     4.009002e-12   \n",
       "PC_Dist_23     1.738698e-12     2.510229e-12     3.981899e-12   \n",
       "PC_Dist_18     1.804725e-12     2.753871e-12     4.097323e-12   \n",
       "PC_Dist_29     1.705799e-12     2.566558e-12     3.829420e-12   \n",
       "PC_Dist_39     1.710537e-12     2.422833e-12     3.693583e-12   \n",
       "\n",
       "            99.0_Percentile  100.0_Percentile        evalue      rank  \n",
       "PC_Dist_2      2.218325e-12      9.497100e-11  9.789995e-09  0.000003  \n",
       "PC_Dist_1      4.865603e-11      5.388433e-11  1.173268e-08  0.000002  \n",
       "PC_Dist_0      3.832355e-11      4.128527e-11  2.012665e-08  0.000001  \n",
       "PC_Dist_3      2.247810e-11      2.595241e-11  8.296393e-09  0.000004  \n",
       "PC_Dist_4      1.507173e-11      1.805102e-11  3.010033e-09  0.000005  \n",
       "PC_Dist_8      8.963401e-12      1.347299e-11  1.956597e-09  0.000009  \n",
       "PC_Dist_7      8.585746e-12      1.176387e-11  2.026710e-09  0.000008  \n",
       "PC_Dist_5      8.842575e-12      1.047459e-11  2.498355e-09  0.000006  \n",
       "PC_Dist_10     6.767708e-12      9.620682e-12  1.879478e-09  0.000011  \n",
       "PC_Dist_9      6.307722e-12      8.791372e-12  1.927584e-09  0.000010  \n",
       "PC_Dist_6      7.003751e-12      8.755422e-12  2.210462e-09  0.000007  \n",
       "PC_Dist_12     5.849684e-12      8.050079e-12  1.850156e-09  0.000013  \n",
       "PC_Dist_13     5.404029e-12      7.976996e-12  1.845437e-09  0.000014  \n",
       "PC_Dist_11     5.200063e-12      7.911866e-12  1.855455e-09  0.000012  \n",
       "PC_Dist_16     5.301679e-12      7.732236e-12  1.805734e-09  0.000017  \n",
       "PC_Dist_20     5.538796e-12      7.274199e-12  1.774712e-09  0.000021  \n",
       "PC_Dist_23     5.208160e-12      7.017003e-12  1.755058e-09  0.000024  \n",
       "PC_Dist_18     5.275910e-12      6.950169e-12  1.782031e-09  0.000019  \n",
       "PC_Dist_29     5.257156e-12      6.811598e-12  1.721158e-09  0.000030  \n",
       "PC_Dist_39     4.871783e-12      6.783481e-12  1.676062e-09  0.000040  "
      ]
     },
     "execution_count": 13,
     "metadata": {},
     "output_type": "execute_result"
    }
   ],
   "source": [
    "#calls 99.5th percentile 100.0 by rounding\n",
    "1e-6*pca.df_pc_stats.sort_values(by = '100.0_Percentile',\n",
    "                                 ascending = False).head(20)"
   ]
  },
  {
   "cell_type": "code",
   "execution_count": 106,
   "metadata": {},
   "outputs": [
    {
     "data": {
      "text/html": [
       "<div>\n",
       "<style scoped>\n",
       "    .dataframe tbody tr th:only-of-type {\n",
       "        vertical-align: middle;\n",
       "    }\n",
       "\n",
       "    .dataframe tbody tr th {\n",
       "        vertical-align: top;\n",
       "    }\n",
       "\n",
       "    .dataframe thead th {\n",
       "        text-align: right;\n",
       "    }\n",
       "</style>\n",
       "<table border=\"1\" class=\"dataframe\">\n",
       "  <thead>\n",
       "    <tr style=\"text-align: right;\">\n",
       "      <th></th>\n",
       "      <th>90.0_Percentile</th>\n",
       "      <th>95.0_Percentile</th>\n",
       "      <th>98.0_Percentile</th>\n",
       "      <th>99.0_Percentile</th>\n",
       "      <th>100.0_Percentile</th>\n",
       "      <th>evalue</th>\n",
       "      <th>rank</th>\n",
       "    </tr>\n",
       "  </thead>\n",
       "  <tbody>\n",
       "    <tr>\n",
       "      <th>PC_Dist_1</th>\n",
       "      <td>1.388939e-11</td>\n",
       "      <td>2.259476e-11</td>\n",
       "      <td>4.040342e-11</td>\n",
       "      <td>4.865603e-11</td>\n",
       "      <td>5.388433e-11</td>\n",
       "      <td>1.173268e-08</td>\n",
       "      <td>0.000002</td>\n",
       "    </tr>\n",
       "    <tr>\n",
       "      <th>PC_Dist_0</th>\n",
       "      <td>2.428705e-11</td>\n",
       "      <td>2.960248e-11</td>\n",
       "      <td>3.504858e-11</td>\n",
       "      <td>3.832355e-11</td>\n",
       "      <td>4.128527e-11</td>\n",
       "      <td>2.012665e-08</td>\n",
       "      <td>0.000001</td>\n",
       "    </tr>\n",
       "    <tr>\n",
       "      <th>PC_Dist_3</th>\n",
       "      <td>9.133196e-12</td>\n",
       "      <td>1.290561e-11</td>\n",
       "      <td>1.789261e-11</td>\n",
       "      <td>2.247810e-11</td>\n",
       "      <td>2.595241e-11</td>\n",
       "      <td>8.296393e-09</td>\n",
       "      <td>0.000004</td>\n",
       "    </tr>\n",
       "    <tr>\n",
       "      <th>PC_Dist_4</th>\n",
       "      <td>2.742280e-12</td>\n",
       "      <td>6.758979e-12</td>\n",
       "      <td>1.136969e-11</td>\n",
       "      <td>1.507173e-11</td>\n",
       "      <td>1.805102e-11</td>\n",
       "      <td>3.010033e-09</td>\n",
       "      <td>0.000005</td>\n",
       "    </tr>\n",
       "    <tr>\n",
       "      <th>PC_Dist_5</th>\n",
       "      <td>2.505716e-12</td>\n",
       "      <td>4.288814e-12</td>\n",
       "      <td>6.991696e-12</td>\n",
       "      <td>8.842575e-12</td>\n",
       "      <td>1.047459e-11</td>\n",
       "      <td>2.498355e-09</td>\n",
       "      <td>0.000006</td>\n",
       "    </tr>\n",
       "    <tr>\n",
       "      <th>PC_Dist_8</th>\n",
       "      <td>1.689392e-12</td>\n",
       "      <td>2.845167e-12</td>\n",
       "      <td>5.828197e-12</td>\n",
       "      <td>8.963401e-12</td>\n",
       "      <td>1.347299e-11</td>\n",
       "      <td>1.956597e-09</td>\n",
       "      <td>0.000009</td>\n",
       "    </tr>\n",
       "    <tr>\n",
       "      <th>PC_Dist_6</th>\n",
       "      <td>2.160315e-12</td>\n",
       "      <td>3.373650e-12</td>\n",
       "      <td>5.279864e-12</td>\n",
       "      <td>7.003751e-12</td>\n",
       "      <td>8.755422e-12</td>\n",
       "      <td>2.210462e-09</td>\n",
       "      <td>0.000007</td>\n",
       "    </tr>\n",
       "    <tr>\n",
       "      <th>PC_Dist_7</th>\n",
       "      <td>1.712253e-12</td>\n",
       "      <td>2.918925e-12</td>\n",
       "      <td>5.237493e-12</td>\n",
       "      <td>8.585746e-12</td>\n",
       "      <td>1.176387e-11</td>\n",
       "      <td>2.026710e-09</td>\n",
       "      <td>0.000008</td>\n",
       "    </tr>\n",
       "    <tr>\n",
       "      <th>PC_Dist_10</th>\n",
       "      <td>1.623228e-12</td>\n",
       "      <td>2.536529e-12</td>\n",
       "      <td>4.499679e-12</td>\n",
       "      <td>6.767708e-12</td>\n",
       "      <td>9.620682e-12</td>\n",
       "      <td>1.879478e-09</td>\n",
       "      <td>0.000011</td>\n",
       "    </tr>\n",
       "    <tr>\n",
       "      <th>PC_Dist_14</th>\n",
       "      <td>1.882424e-12</td>\n",
       "      <td>2.769614e-12</td>\n",
       "      <td>4.385139e-12</td>\n",
       "      <td>5.289298e-12</td>\n",
       "      <td>6.074676e-12</td>\n",
       "      <td>1.826399e-09</td>\n",
       "      <td>0.000015</td>\n",
       "    </tr>\n",
       "    <tr>\n",
       "      <th>PC_Dist_9</th>\n",
       "      <td>1.825889e-12</td>\n",
       "      <td>2.762171e-12</td>\n",
       "      <td>4.379484e-12</td>\n",
       "      <td>6.307722e-12</td>\n",
       "      <td>8.791372e-12</td>\n",
       "      <td>1.927584e-09</td>\n",
       "      <td>0.000010</td>\n",
       "    </tr>\n",
       "    <tr>\n",
       "      <th>PC_Dist_17</th>\n",
       "      <td>1.740409e-12</td>\n",
       "      <td>2.738455e-12</td>\n",
       "      <td>4.371061e-12</td>\n",
       "      <td>5.607119e-12</td>\n",
       "      <td>6.755426e-12</td>\n",
       "      <td>1.795579e-09</td>\n",
       "      <td>0.000018</td>\n",
       "    </tr>\n",
       "    <tr>\n",
       "      <th>PC_Dist_12</th>\n",
       "      <td>1.745044e-12</td>\n",
       "      <td>2.611583e-12</td>\n",
       "      <td>4.249986e-12</td>\n",
       "      <td>5.849684e-12</td>\n",
       "      <td>8.050079e-12</td>\n",
       "      <td>1.850156e-09</td>\n",
       "      <td>0.000013</td>\n",
       "    </tr>\n",
       "    <tr>\n",
       "      <th>PC_Dist_16</th>\n",
       "      <td>1.775188e-12</td>\n",
       "      <td>2.683914e-12</td>\n",
       "      <td>4.186649e-12</td>\n",
       "      <td>5.301679e-12</td>\n",
       "      <td>7.732236e-12</td>\n",
       "      <td>1.805734e-09</td>\n",
       "      <td>0.000017</td>\n",
       "    </tr>\n",
       "    <tr>\n",
       "      <th>PC_Dist_32</th>\n",
       "      <td>1.686170e-12</td>\n",
       "      <td>2.459020e-12</td>\n",
       "      <td>4.171978e-12</td>\n",
       "      <td>5.291342e-12</td>\n",
       "      <td>6.207643e-12</td>\n",
       "      <td>1.706253e-09</td>\n",
       "      <td>0.000033</td>\n",
       "    </tr>\n",
       "    <tr>\n",
       "      <th>PC_Dist_22</th>\n",
       "      <td>1.756886e-12</td>\n",
       "      <td>2.832771e-12</td>\n",
       "      <td>4.171276e-12</td>\n",
       "      <td>5.263365e-12</td>\n",
       "      <td>6.681996e-12</td>\n",
       "      <td>1.757286e-09</td>\n",
       "      <td>0.000023</td>\n",
       "    </tr>\n",
       "    <tr>\n",
       "      <th>PC_Dist_13</th>\n",
       "      <td>1.815066e-12</td>\n",
       "      <td>2.648401e-12</td>\n",
       "      <td>4.137390e-12</td>\n",
       "      <td>5.404029e-12</td>\n",
       "      <td>7.976996e-12</td>\n",
       "      <td>1.845437e-09</td>\n",
       "      <td>0.000014</td>\n",
       "    </tr>\n",
       "    <tr>\n",
       "      <th>PC_Dist_18</th>\n",
       "      <td>1.804725e-12</td>\n",
       "      <td>2.753871e-12</td>\n",
       "      <td>4.097323e-12</td>\n",
       "      <td>5.275910e-12</td>\n",
       "      <td>6.950169e-12</td>\n",
       "      <td>1.782031e-09</td>\n",
       "      <td>0.000019</td>\n",
       "    </tr>\n",
       "    <tr>\n",
       "      <th>PC_Dist_53</th>\n",
       "      <td>1.568803e-12</td>\n",
       "      <td>2.430293e-12</td>\n",
       "      <td>4.058417e-12</td>\n",
       "      <td>4.963878e-12</td>\n",
       "      <td>6.248229e-12</td>\n",
       "      <td>1.615867e-09</td>\n",
       "      <td>0.000054</td>\n",
       "    </tr>\n",
       "    <tr>\n",
       "      <th>PC_Dist_28</th>\n",
       "      <td>1.628486e-12</td>\n",
       "      <td>2.449244e-12</td>\n",
       "      <td>4.057286e-12</td>\n",
       "      <td>5.252207e-12</td>\n",
       "      <td>6.720928e-12</td>\n",
       "      <td>1.726096e-09</td>\n",
       "      <td>0.000029</td>\n",
       "    </tr>\n",
       "  </tbody>\n",
       "</table>\n",
       "</div>"
      ],
      "text/plain": [
       "            90.0_Percentile  95.0_Percentile  98.0_Percentile  \\\n",
       "PC_Dist_1      1.388939e-11     2.259476e-11     4.040342e-11   \n",
       "PC_Dist_0      2.428705e-11     2.960248e-11     3.504858e-11   \n",
       "PC_Dist_3      9.133196e-12     1.290561e-11     1.789261e-11   \n",
       "PC_Dist_4      2.742280e-12     6.758979e-12     1.136969e-11   \n",
       "PC_Dist_5      2.505716e-12     4.288814e-12     6.991696e-12   \n",
       "PC_Dist_8      1.689392e-12     2.845167e-12     5.828197e-12   \n",
       "PC_Dist_6      2.160315e-12     3.373650e-12     5.279864e-12   \n",
       "PC_Dist_7      1.712253e-12     2.918925e-12     5.237493e-12   \n",
       "PC_Dist_10     1.623228e-12     2.536529e-12     4.499679e-12   \n",
       "PC_Dist_14     1.882424e-12     2.769614e-12     4.385139e-12   \n",
       "PC_Dist_9      1.825889e-12     2.762171e-12     4.379484e-12   \n",
       "PC_Dist_17     1.740409e-12     2.738455e-12     4.371061e-12   \n",
       "PC_Dist_12     1.745044e-12     2.611583e-12     4.249986e-12   \n",
       "PC_Dist_16     1.775188e-12     2.683914e-12     4.186649e-12   \n",
       "PC_Dist_32     1.686170e-12     2.459020e-12     4.171978e-12   \n",
       "PC_Dist_22     1.756886e-12     2.832771e-12     4.171276e-12   \n",
       "PC_Dist_13     1.815066e-12     2.648401e-12     4.137390e-12   \n",
       "PC_Dist_18     1.804725e-12     2.753871e-12     4.097323e-12   \n",
       "PC_Dist_53     1.568803e-12     2.430293e-12     4.058417e-12   \n",
       "PC_Dist_28     1.628486e-12     2.449244e-12     4.057286e-12   \n",
       "\n",
       "            99.0_Percentile  100.0_Percentile        evalue      rank  \n",
       "PC_Dist_1      4.865603e-11      5.388433e-11  1.173268e-08  0.000002  \n",
       "PC_Dist_0      3.832355e-11      4.128527e-11  2.012665e-08  0.000001  \n",
       "PC_Dist_3      2.247810e-11      2.595241e-11  8.296393e-09  0.000004  \n",
       "PC_Dist_4      1.507173e-11      1.805102e-11  3.010033e-09  0.000005  \n",
       "PC_Dist_5      8.842575e-12      1.047459e-11  2.498355e-09  0.000006  \n",
       "PC_Dist_8      8.963401e-12      1.347299e-11  1.956597e-09  0.000009  \n",
       "PC_Dist_6      7.003751e-12      8.755422e-12  2.210462e-09  0.000007  \n",
       "PC_Dist_7      8.585746e-12      1.176387e-11  2.026710e-09  0.000008  \n",
       "PC_Dist_10     6.767708e-12      9.620682e-12  1.879478e-09  0.000011  \n",
       "PC_Dist_14     5.289298e-12      6.074676e-12  1.826399e-09  0.000015  \n",
       "PC_Dist_9      6.307722e-12      8.791372e-12  1.927584e-09  0.000010  \n",
       "PC_Dist_17     5.607119e-12      6.755426e-12  1.795579e-09  0.000018  \n",
       "PC_Dist_12     5.849684e-12      8.050079e-12  1.850156e-09  0.000013  \n",
       "PC_Dist_16     5.301679e-12      7.732236e-12  1.805734e-09  0.000017  \n",
       "PC_Dist_32     5.291342e-12      6.207643e-12  1.706253e-09  0.000033  \n",
       "PC_Dist_22     5.263365e-12      6.681996e-12  1.757286e-09  0.000023  \n",
       "PC_Dist_13     5.404029e-12      7.976996e-12  1.845437e-09  0.000014  \n",
       "PC_Dist_18     5.275910e-12      6.950169e-12  1.782031e-09  0.000019  \n",
       "PC_Dist_53     4.963878e-12      6.248229e-12  1.615867e-09  0.000054  \n",
       "PC_Dist_28     5.252207e-12      6.720928e-12  1.726096e-09  0.000029  "
      ]
     },
     "execution_count": 106,
     "metadata": {},
     "output_type": "execute_result"
    }
   ],
   "source": [
    "1e-6*pca.df_pc_stats.sort_values(by = '98.0_Percentile',\n",
    "                                 ascending = False).head(20)"
   ]
  },
  {
   "cell_type": "code",
   "execution_count": 105,
   "metadata": {
    "collapsed": true
   },
   "outputs": [
    {
     "data": {
      "text/html": [
       "<div>\n",
       "<style scoped>\n",
       "    .dataframe tbody tr th:only-of-type {\n",
       "        vertical-align: middle;\n",
       "    }\n",
       "\n",
       "    .dataframe tbody tr th {\n",
       "        vertical-align: top;\n",
       "    }\n",
       "\n",
       "    .dataframe thead th {\n",
       "        text-align: right;\n",
       "    }\n",
       "</style>\n",
       "<table border=\"1\" class=\"dataframe\">\n",
       "  <thead>\n",
       "    <tr style=\"text-align: right;\">\n",
       "      <th></th>\n",
       "      <th>90.0_Percentile</th>\n",
       "      <th>95.0_Percentile</th>\n",
       "      <th>98.0_Percentile</th>\n",
       "      <th>99.0_Percentile</th>\n",
       "      <th>100.0_Percentile</th>\n",
       "      <th>evalue</th>\n",
       "      <th>rank</th>\n",
       "    </tr>\n",
       "  </thead>\n",
       "  <tbody>\n",
       "    <tr>\n",
       "      <th>PC_Dist_0</th>\n",
       "      <td>2.428705e-11</td>\n",
       "      <td>2.960248e-11</td>\n",
       "      <td>3.504858e-11</td>\n",
       "      <td>3.832355e-11</td>\n",
       "      <td>4.128527e-11</td>\n",
       "      <td>2.012665e-08</td>\n",
       "      <td>0.000001</td>\n",
       "    </tr>\n",
       "    <tr>\n",
       "      <th>PC_Dist_1</th>\n",
       "      <td>1.388939e-11</td>\n",
       "      <td>2.259476e-11</td>\n",
       "      <td>4.040342e-11</td>\n",
       "      <td>4.865603e-11</td>\n",
       "      <td>5.388433e-11</td>\n",
       "      <td>1.173268e-08</td>\n",
       "      <td>0.000002</td>\n",
       "    </tr>\n",
       "    <tr>\n",
       "      <th>PC_Dist_3</th>\n",
       "      <td>9.133196e-12</td>\n",
       "      <td>1.290561e-11</td>\n",
       "      <td>1.789261e-11</td>\n",
       "      <td>2.247810e-11</td>\n",
       "      <td>2.595241e-11</td>\n",
       "      <td>8.296393e-09</td>\n",
       "      <td>0.000004</td>\n",
       "    </tr>\n",
       "    <tr>\n",
       "      <th>PC_Dist_4</th>\n",
       "      <td>2.742280e-12</td>\n",
       "      <td>6.758979e-12</td>\n",
       "      <td>1.136969e-11</td>\n",
       "      <td>1.507173e-11</td>\n",
       "      <td>1.805102e-11</td>\n",
       "      <td>3.010033e-09</td>\n",
       "      <td>0.000005</td>\n",
       "    </tr>\n",
       "    <tr>\n",
       "      <th>PC_Dist_5</th>\n",
       "      <td>2.505716e-12</td>\n",
       "      <td>4.288814e-12</td>\n",
       "      <td>6.991696e-12</td>\n",
       "      <td>8.842575e-12</td>\n",
       "      <td>1.047459e-11</td>\n",
       "      <td>2.498355e-09</td>\n",
       "      <td>0.000006</td>\n",
       "    </tr>\n",
       "    <tr>\n",
       "      <th>PC_Dist_6</th>\n",
       "      <td>2.160315e-12</td>\n",
       "      <td>3.373650e-12</td>\n",
       "      <td>5.279864e-12</td>\n",
       "      <td>7.003751e-12</td>\n",
       "      <td>8.755422e-12</td>\n",
       "      <td>2.210462e-09</td>\n",
       "      <td>0.000007</td>\n",
       "    </tr>\n",
       "    <tr>\n",
       "      <th>PC_Dist_7</th>\n",
       "      <td>1.712253e-12</td>\n",
       "      <td>2.918925e-12</td>\n",
       "      <td>5.237493e-12</td>\n",
       "      <td>8.585746e-12</td>\n",
       "      <td>1.176387e-11</td>\n",
       "      <td>2.026710e-09</td>\n",
       "      <td>0.000008</td>\n",
       "    </tr>\n",
       "    <tr>\n",
       "      <th>PC_Dist_8</th>\n",
       "      <td>1.689392e-12</td>\n",
       "      <td>2.845167e-12</td>\n",
       "      <td>5.828197e-12</td>\n",
       "      <td>8.963401e-12</td>\n",
       "      <td>1.347299e-11</td>\n",
       "      <td>1.956597e-09</td>\n",
       "      <td>0.000009</td>\n",
       "    </tr>\n",
       "    <tr>\n",
       "      <th>PC_Dist_22</th>\n",
       "      <td>1.756886e-12</td>\n",
       "      <td>2.832771e-12</td>\n",
       "      <td>4.171276e-12</td>\n",
       "      <td>5.263365e-12</td>\n",
       "      <td>6.681996e-12</td>\n",
       "      <td>1.757286e-09</td>\n",
       "      <td>0.000023</td>\n",
       "    </tr>\n",
       "    <tr>\n",
       "      <th>PC_Dist_14</th>\n",
       "      <td>1.882424e-12</td>\n",
       "      <td>2.769614e-12</td>\n",
       "      <td>4.385139e-12</td>\n",
       "      <td>5.289298e-12</td>\n",
       "      <td>6.074676e-12</td>\n",
       "      <td>1.826399e-09</td>\n",
       "      <td>0.000015</td>\n",
       "    </tr>\n",
       "    <tr>\n",
       "      <th>PC_Dist_15</th>\n",
       "      <td>1.800611e-12</td>\n",
       "      <td>2.764190e-12</td>\n",
       "      <td>3.976589e-12</td>\n",
       "      <td>4.949314e-12</td>\n",
       "      <td>6.302676e-12</td>\n",
       "      <td>1.817102e-09</td>\n",
       "      <td>0.000016</td>\n",
       "    </tr>\n",
       "    <tr>\n",
       "      <th>PC_Dist_9</th>\n",
       "      <td>1.825889e-12</td>\n",
       "      <td>2.762171e-12</td>\n",
       "      <td>4.379484e-12</td>\n",
       "      <td>6.307722e-12</td>\n",
       "      <td>8.791372e-12</td>\n",
       "      <td>1.927584e-09</td>\n",
       "      <td>0.000010</td>\n",
       "    </tr>\n",
       "    <tr>\n",
       "      <th>PC_Dist_18</th>\n",
       "      <td>1.804725e-12</td>\n",
       "      <td>2.753871e-12</td>\n",
       "      <td>4.097323e-12</td>\n",
       "      <td>5.275910e-12</td>\n",
       "      <td>6.950169e-12</td>\n",
       "      <td>1.782031e-09</td>\n",
       "      <td>0.000019</td>\n",
       "    </tr>\n",
       "    <tr>\n",
       "      <th>PC_Dist_17</th>\n",
       "      <td>1.740409e-12</td>\n",
       "      <td>2.738455e-12</td>\n",
       "      <td>4.371061e-12</td>\n",
       "      <td>5.607119e-12</td>\n",
       "      <td>6.755426e-12</td>\n",
       "      <td>1.795579e-09</td>\n",
       "      <td>0.000018</td>\n",
       "    </tr>\n",
       "    <tr>\n",
       "      <th>PC_Dist_16</th>\n",
       "      <td>1.775188e-12</td>\n",
       "      <td>2.683914e-12</td>\n",
       "      <td>4.186649e-12</td>\n",
       "      <td>5.301679e-12</td>\n",
       "      <td>7.732236e-12</td>\n",
       "      <td>1.805734e-09</td>\n",
       "      <td>0.000017</td>\n",
       "    </tr>\n",
       "    <tr>\n",
       "      <th>PC_Dist_13</th>\n",
       "      <td>1.815066e-12</td>\n",
       "      <td>2.648401e-12</td>\n",
       "      <td>4.137390e-12</td>\n",
       "      <td>5.404029e-12</td>\n",
       "      <td>7.976996e-12</td>\n",
       "      <td>1.845437e-09</td>\n",
       "      <td>0.000014</td>\n",
       "    </tr>\n",
       "    <tr>\n",
       "      <th>PC_Dist_25</th>\n",
       "      <td>1.761941e-12</td>\n",
       "      <td>2.620711e-12</td>\n",
       "      <td>4.025242e-12</td>\n",
       "      <td>4.953920e-12</td>\n",
       "      <td>6.219482e-12</td>\n",
       "      <td>1.741323e-09</td>\n",
       "      <td>0.000026</td>\n",
       "    </tr>\n",
       "    <tr>\n",
       "      <th>PC_Dist_12</th>\n",
       "      <td>1.745044e-12</td>\n",
       "      <td>2.611583e-12</td>\n",
       "      <td>4.249986e-12</td>\n",
       "      <td>5.849684e-12</td>\n",
       "      <td>8.050079e-12</td>\n",
       "      <td>1.850156e-09</td>\n",
       "      <td>0.000013</td>\n",
       "    </tr>\n",
       "    <tr>\n",
       "      <th>PC_Dist_26</th>\n",
       "      <td>1.707584e-12</td>\n",
       "      <td>2.608202e-12</td>\n",
       "      <td>4.047424e-12</td>\n",
       "      <td>4.998136e-12</td>\n",
       "      <td>6.142459e-12</td>\n",
       "      <td>1.736578e-09</td>\n",
       "      <td>0.000027</td>\n",
       "    </tr>\n",
       "    <tr>\n",
       "      <th>PC_Dist_40</th>\n",
       "      <td>1.724990e-12</td>\n",
       "      <td>2.603731e-12</td>\n",
       "      <td>3.679744e-12</td>\n",
       "      <td>4.341340e-12</td>\n",
       "      <td>5.788128e-12</td>\n",
       "      <td>1.670315e-09</td>\n",
       "      <td>0.000041</td>\n",
       "    </tr>\n",
       "  </tbody>\n",
       "</table>\n",
       "</div>"
      ],
      "text/plain": [
       "            90.0_Percentile  95.0_Percentile  98.0_Percentile  \\\n",
       "PC_Dist_0      2.428705e-11     2.960248e-11     3.504858e-11   \n",
       "PC_Dist_1      1.388939e-11     2.259476e-11     4.040342e-11   \n",
       "PC_Dist_3      9.133196e-12     1.290561e-11     1.789261e-11   \n",
       "PC_Dist_4      2.742280e-12     6.758979e-12     1.136969e-11   \n",
       "PC_Dist_5      2.505716e-12     4.288814e-12     6.991696e-12   \n",
       "PC_Dist_6      2.160315e-12     3.373650e-12     5.279864e-12   \n",
       "PC_Dist_7      1.712253e-12     2.918925e-12     5.237493e-12   \n",
       "PC_Dist_8      1.689392e-12     2.845167e-12     5.828197e-12   \n",
       "PC_Dist_22     1.756886e-12     2.832771e-12     4.171276e-12   \n",
       "PC_Dist_14     1.882424e-12     2.769614e-12     4.385139e-12   \n",
       "PC_Dist_15     1.800611e-12     2.764190e-12     3.976589e-12   \n",
       "PC_Dist_9      1.825889e-12     2.762171e-12     4.379484e-12   \n",
       "PC_Dist_18     1.804725e-12     2.753871e-12     4.097323e-12   \n",
       "PC_Dist_17     1.740409e-12     2.738455e-12     4.371061e-12   \n",
       "PC_Dist_16     1.775188e-12     2.683914e-12     4.186649e-12   \n",
       "PC_Dist_13     1.815066e-12     2.648401e-12     4.137390e-12   \n",
       "PC_Dist_25     1.761941e-12     2.620711e-12     4.025242e-12   \n",
       "PC_Dist_12     1.745044e-12     2.611583e-12     4.249986e-12   \n",
       "PC_Dist_26     1.707584e-12     2.608202e-12     4.047424e-12   \n",
       "PC_Dist_40     1.724990e-12     2.603731e-12     3.679744e-12   \n",
       "\n",
       "            99.0_Percentile  100.0_Percentile        evalue      rank  \n",
       "PC_Dist_0      3.832355e-11      4.128527e-11  2.012665e-08  0.000001  \n",
       "PC_Dist_1      4.865603e-11      5.388433e-11  1.173268e-08  0.000002  \n",
       "PC_Dist_3      2.247810e-11      2.595241e-11  8.296393e-09  0.000004  \n",
       "PC_Dist_4      1.507173e-11      1.805102e-11  3.010033e-09  0.000005  \n",
       "PC_Dist_5      8.842575e-12      1.047459e-11  2.498355e-09  0.000006  \n",
       "PC_Dist_6      7.003751e-12      8.755422e-12  2.210462e-09  0.000007  \n",
       "PC_Dist_7      8.585746e-12      1.176387e-11  2.026710e-09  0.000008  \n",
       "PC_Dist_8      8.963401e-12      1.347299e-11  1.956597e-09  0.000009  \n",
       "PC_Dist_22     5.263365e-12      6.681996e-12  1.757286e-09  0.000023  \n",
       "PC_Dist_14     5.289298e-12      6.074676e-12  1.826399e-09  0.000015  \n",
       "PC_Dist_15     4.949314e-12      6.302676e-12  1.817102e-09  0.000016  \n",
       "PC_Dist_9      6.307722e-12      8.791372e-12  1.927584e-09  0.000010  \n",
       "PC_Dist_18     5.275910e-12      6.950169e-12  1.782031e-09  0.000019  \n",
       "PC_Dist_17     5.607119e-12      6.755426e-12  1.795579e-09  0.000018  \n",
       "PC_Dist_16     5.301679e-12      7.732236e-12  1.805734e-09  0.000017  \n",
       "PC_Dist_13     5.404029e-12      7.976996e-12  1.845437e-09  0.000014  \n",
       "PC_Dist_25     4.953920e-12      6.219482e-12  1.741323e-09  0.000026  \n",
       "PC_Dist_12     5.849684e-12      8.050079e-12  1.850156e-09  0.000013  \n",
       "PC_Dist_26     4.998136e-12      6.142459e-12  1.736578e-09  0.000027  \n",
       "PC_Dist_40     4.341340e-12      5.788128e-12  1.670315e-09  0.000041  "
      ]
     },
     "execution_count": 105,
     "metadata": {},
     "output_type": "execute_result"
    }
   ],
   "source": [
    "1e-6*pca.df_pc_stats.sort_values(by = '95.0_Percentile',\n",
    "                                 ascending = False).head(20)"
   ]
  },
  {
   "cell_type": "code",
   "execution_count": 14,
   "metadata": {},
   "outputs": [
    {
     "data": {
      "image/png": "[encoded data removed]",
      "text/plain": [
       "<Figure size 432x288 with 1 Axes>"
      ]
     },
     "metadata": {
      "needs_background": "light"
     },
     "output_type": "display_data"
    }
   ],
   "source": [
    "scatter_scree_plot(pca)\n",
    "plot_dictionary['Traditional Scree Plot'] = plt.gca().get_figure()"
   ]
  },
  {
   "cell_type": "code",
   "execution_count": 15,
   "metadata": {},
   "outputs": [
    {
     "data": {
      "image/png": "[encoded data removed]",
      "text/plain": [
       "<Figure size 432x288 with 1 Axes>"
      ]
     },
     "metadata": {
      "needs_background": "light"
     },
     "output_type": "display_data"
    }
   ],
   "source": [
    "#Top 7/8 PC's seem most significant according to scree plot\n",
    "scatter_scree_plot(pca, rank = np.arange(5,51))\n",
    "plt.title('PCs 5-50')\n",
    "plot_dictionary['Traditional Scree Plot, 5-50'] = plt.gca().get_figure()"
   ]
  },
  {
   "cell_type": "code",
   "execution_count": 16,
   "metadata": {},
   "outputs": [
    {
     "data": {
      "image/png": "[encoded data removed]",
      "text/plain": [
       "<Figure size 432x288 with 1 Axes>"
      ]
     },
     "metadata": {
      "needs_background": "light"
     },
     "output_type": "display_data"
    }
   ],
   "source": [
    "scatter_scree_plot(pca, rank = np.arange(7,51))\n",
    "plt.title('PCs 7-50')\n",
    "plot_dictionary['Traditional Scree Plot, 7-50'] = plt.gca().get_figure()"
   ]
  },
  {
   "cell_type": "code",
   "execution_count": 18,
   "metadata": {},
   "outputs": [
    {
     "data": {
      "image/png": "[encoded data removed]",
      "text/plain": [
       "<Figure size 432x288 with 1 Axes>"
      ]
     },
     "metadata": {
      "needs_background": "light"
     },
     "output_type": "display_data"
    }
   ],
   "source": [
    "#Top 7/8 PC's seem most significant according to scree plot\n",
    "scatter_scree_plot(pca, rank = np.arange(10,51))\n",
    "plt.title('PCs 10-50')\n",
    "plot_dictionary['Traditional Scree Plot, 10-50'] = plt.gca().get_figure()"
   ]
  },
  {
   "cell_type": "code",
   "execution_count": 19,
   "metadata": {},
   "outputs": [
    {
     "data": {
      "image/png": "[encoded data removed]",
      "text/plain": [
       "<Figure size 432x288 with 1 Axes>"
      ]
     },
     "metadata": {
      "needs_background": "light"
     },
     "output_type": "display_data"
    }
   ],
   "source": [
    "fig = dist_var_pc_plot(pca, rank = np.arange(5,35), threshold_subset = ['98.0_Percentile',\n",
    "                                                                        '99.0_Percentile',\n",
    "                                                                        '100.0_Percentile'])\n",
    "plot_dictionary['PCQC_NotSorted'] = plt.gca().get_figure()"
   ]
  },
  {
   "cell_type": "code",
   "execution_count": 20,
   "metadata": {},
   "outputs": [
    {
     "data": {
      "image/png": "[encoded data removed]",
      "text/plain": [
       "<Figure size 432x288 with 1 Axes>"
      ]
     },
     "metadata": {
      "needs_background": "light"
     },
     "output_type": "display_data"
    }
   ],
   "source": [
    "#somewhere between 15 and 30 from PCQC\n",
    "fig = sorted_dist_var_pc_plot(pca, rank = np.arange(10,50), sort_var = '100.0_Percentile', \n",
    "                             threshold_subset =                       ['98.0_Percentile',\n",
    "                                                                        '99.0_Percentile',\n",
    "                                                                        '100.0_Percentile'])\n",
    "plot_dictionary['PCQC_Sorted'] = plt.gca().get_figure()"
   ]
  },
  {
   "cell_type": "code",
   "execution_count": 109,
   "metadata": {},
   "outputs": [
    {
     "data": {
      "image/png": "[encoded data removed]",
      "text/plain": [
       "<Figure size 432x288 with 1 Axes>"
      ]
     },
     "metadata": {
      "needs_background": "light"
     },
     "output_type": "display_data"
    }
   ],
   "source": [
    "fig = sorted_dist_var_pc_plot(pca, rank = np.arange(5,20), sort_var = '100.0_Percentile', \n",
    "                             threshold_subset =                       ['98.0_Percentile',\n",
    "                                                                        '99.0_Percentile',\n",
    "                                                                        '100.0_Percentile'])\n",
    "plot_dictionary['PCQC_Sortedv2'] = plt.gca().get_figure()"
   ]
  },
  {
   "cell_type": "code",
   "execution_count": 21,
   "metadata": {},
   "outputs": [],
   "source": [
    "def compute_gap(df, var_name):\n",
    "    nrows = df.shape[0]\n",
    "    df = df.sort_values(by = var_name,ascending = False).reset_index()\n",
    "    ratios = np.divide(df.loc[0:nrows-2,var_name].values,df.loc[1:nrows-1,var_name].values)\n",
    "    top_args = np.argsort(-1*ratios)\n",
    "    top_gaps = -1*np.sort(-1*ratios)\n",
    "    gap_stats = pd.DataFrame(top_args, columns = ['args'])\n",
    "    gap_stats['gaps'] = top_gaps\n",
    "    return gap_stats"
   ]
  },
  {
   "cell_type": "code",
   "execution_count": 22,
   "metadata": {},
   "outputs": [],
   "source": [
    "gap_stats = compute_gap(pca.df_pc_stats,'evalue')"
   ]
  },
  {
   "cell_type": "code",
   "execution_count": 23,
   "metadata": {},
   "outputs": [
    {
     "data": {
      "text/html": [
       "<div>\n",
       "<style scoped>\n",
       "    .dataframe tbody tr th:only-of-type {\n",
       "        vertical-align: middle;\n",
       "    }\n",
       "\n",
       "    .dataframe tbody tr th {\n",
       "        vertical-align: top;\n",
       "    }\n",
       "\n",
       "    .dataframe thead th {\n",
       "        text-align: right;\n",
       "    }\n",
       "</style>\n",
       "<table border=\"1\" class=\"dataframe\">\n",
       "  <thead>\n",
       "    <tr style=\"text-align: right;\">\n",
       "      <th></th>\n",
       "      <th>args</th>\n",
       "      <th>gaps</th>\n",
       "    </tr>\n",
       "  </thead>\n",
       "  <tbody>\n",
       "    <tr>\n",
       "      <th>0</th>\n",
       "      <td>3</td>\n",
       "      <td>2.756246</td>\n",
       "    </tr>\n",
       "    <tr>\n",
       "      <th>1</th>\n",
       "      <td>0</td>\n",
       "      <td>1.715434</td>\n",
       "    </tr>\n",
       "    <tr>\n",
       "      <th>2</th>\n",
       "      <td>4</td>\n",
       "      <td>1.204806</td>\n",
       "    </tr>\n",
       "    <tr>\n",
       "      <th>3</th>\n",
       "      <td>1</td>\n",
       "      <td>1.198436</td>\n",
       "    </tr>\n",
       "    <tr>\n",
       "      <th>4</th>\n",
       "      <td>2</td>\n",
       "      <td>1.180030</td>\n",
       "    </tr>\n",
       "    <tr>\n",
       "      <th>5</th>\n",
       "      <td>5</td>\n",
       "      <td>1.130241</td>\n",
       "    </tr>\n",
       "    <tr>\n",
       "      <th>6</th>\n",
       "      <td>6</td>\n",
       "      <td>1.090665</td>\n",
       "    </tr>\n",
       "    <tr>\n",
       "      <th>7</th>\n",
       "      <td>7</td>\n",
       "      <td>1.035834</td>\n",
       "    </tr>\n",
       "    <tr>\n",
       "      <th>8</th>\n",
       "      <td>9</td>\n",
       "      <td>1.025595</td>\n",
       "    </tr>\n",
       "    <tr>\n",
       "      <th>9</th>\n",
       "      <td>8</td>\n",
       "      <td>1.015052</td>\n",
       "    </tr>\n",
       "  </tbody>\n",
       "</table>\n",
       "</div>"
      ],
      "text/plain": [
       "   args      gaps\n",
       "0     3  2.756246\n",
       "1     0  1.715434\n",
       "2     4  1.204806\n",
       "3     1  1.198436\n",
       "4     2  1.180030\n",
       "5     5  1.130241\n",
       "6     6  1.090665\n",
       "7     7  1.035834\n",
       "8     9  1.025595\n",
       "9     8  1.015052"
      ]
     },
     "execution_count": 23,
     "metadata": {},
     "output_type": "execute_result"
    }
   ],
   "source": [
    "#Top 7\n",
    "gap_stats[0:10]"
   ]
  },
  {
   "cell_type": "code",
   "execution_count": 24,
   "metadata": {},
   "outputs": [],
   "source": [
    "gap_stats = compute_gap(pca.df_pc_stats,'100.0_Percentile')"
   ]
  },
  {
   "cell_type": "code",
   "execution_count": 25,
   "metadata": {
    "scrolled": false
   },
   "outputs": [
    {
     "data": {
      "text/html": [
       "<div>\n",
       "<style scoped>\n",
       "    .dataframe tbody tr th:only-of-type {\n",
       "        vertical-align: middle;\n",
       "    }\n",
       "\n",
       "    .dataframe tbody tr th {\n",
       "        vertical-align: top;\n",
       "    }\n",
       "\n",
       "    .dataframe thead th {\n",
       "        text-align: right;\n",
       "    }\n",
       "</style>\n",
       "<table border=\"1\" class=\"dataframe\">\n",
       "  <thead>\n",
       "    <tr style=\"text-align: right;\">\n",
       "      <th></th>\n",
       "      <th>args</th>\n",
       "      <th>gaps</th>\n",
       "    </tr>\n",
       "  </thead>\n",
       "  <tbody>\n",
       "    <tr>\n",
       "      <th>0</th>\n",
       "      <td>0</td>\n",
       "      <td>1.762498</td>\n",
       "    </tr>\n",
       "    <tr>\n",
       "      <th>1</th>\n",
       "      <td>2</td>\n",
       "      <td>1.590807</td>\n",
       "    </tr>\n",
       "    <tr>\n",
       "      <th>2</th>\n",
       "      <td>3</td>\n",
       "      <td>1.437725</td>\n",
       "    </tr>\n",
       "    <tr>\n",
       "      <th>3</th>\n",
       "      <td>4</td>\n",
       "      <td>1.339793</td>\n",
       "    </tr>\n",
       "    <tr>\n",
       "      <th>4</th>\n",
       "      <td>1</td>\n",
       "      <td>1.305171</td>\n",
       "    </tr>\n",
       "    <tr>\n",
       "      <th>5</th>\n",
       "      <td>5</td>\n",
       "      <td>1.145286</td>\n",
       "    </tr>\n",
       "    <tr>\n",
       "      <th>6</th>\n",
       "      <td>6</td>\n",
       "      <td>1.123086</td>\n",
       "    </tr>\n",
       "    <tr>\n",
       "      <th>7</th>\n",
       "      <td>8</td>\n",
       "      <td>1.094332</td>\n",
       "    </tr>\n",
       "    <tr>\n",
       "      <th>8</th>\n",
       "      <td>7</td>\n",
       "      <td>1.088758</td>\n",
       "    </tr>\n",
       "    <tr>\n",
       "      <th>9</th>\n",
       "      <td>10</td>\n",
       "      <td>1.087619</td>\n",
       "    </tr>\n",
       "    <tr>\n",
       "      <th>10</th>\n",
       "      <td>14</td>\n",
       "      <td>1.062967</td>\n",
       "    </tr>\n",
       "    <tr>\n",
       "      <th>11</th>\n",
       "      <td>15</td>\n",
       "      <td>1.036653</td>\n",
       "    </tr>\n",
       "  </tbody>\n",
       "</table>\n",
       "</div>"
      ],
      "text/plain": [
       "    args      gaps\n",
       "0      0  1.762498\n",
       "1      2  1.590807\n",
       "2      3  1.437725\n",
       "3      4  1.339793\n",
       "4      1  1.305171\n",
       "5      5  1.145286\n",
       "6      6  1.123086\n",
       "7      8  1.094332\n",
       "8      7  1.088758\n",
       "9     10  1.087619\n",
       "10    14  1.062967\n",
       "11    15  1.036653"
      ]
     },
     "execution_count": 25,
     "metadata": {},
     "output_type": "execute_result"
    }
   ],
   "source": [
    "#Top 9, possibly Top 11\n",
    "gap_stats[0:12]"
   ]
  },
  {
   "cell_type": "code",
   "execution_count": 26,
   "metadata": {},
   "outputs": [
    {
     "data": {
      "text/html": [
       "<div>\n",
       "<style scoped>\n",
       "    .dataframe tbody tr th:only-of-type {\n",
       "        vertical-align: middle;\n",
       "    }\n",
       "\n",
       "    .dataframe tbody tr th {\n",
       "        vertical-align: top;\n",
       "    }\n",
       "\n",
       "    .dataframe thead th {\n",
       "        text-align: right;\n",
       "    }\n",
       "</style>\n",
       "<table border=\"1\" class=\"dataframe\">\n",
       "  <thead>\n",
       "    <tr style=\"text-align: right;\">\n",
       "      <th></th>\n",
       "      <th>args</th>\n",
       "      <th>gaps</th>\n",
       "    </tr>\n",
       "  </thead>\n",
       "  <tbody>\n",
       "    <tr>\n",
       "      <th>0</th>\n",
       "      <td>1</td>\n",
       "      <td>1.704928</td>\n",
       "    </tr>\n",
       "    <tr>\n",
       "      <th>1</th>\n",
       "      <td>3</td>\n",
       "      <td>1.681475</td>\n",
       "    </tr>\n",
       "    <tr>\n",
       "      <th>2</th>\n",
       "      <td>98</td>\n",
       "      <td>1.644535</td>\n",
       "    </tr>\n",
       "    <tr>\n",
       "      <th>3</th>\n",
       "      <td>2</td>\n",
       "      <td>1.491408</td>\n",
       "    </tr>\n",
       "    <tr>\n",
       "      <th>4</th>\n",
       "      <td>0</td>\n",
       "      <td>1.269612</td>\n",
       "    </tr>\n",
       "    <tr>\n",
       "      <th>5</th>\n",
       "      <td>6</td>\n",
       "      <td>1.225878</td>\n",
       "    </tr>\n",
       "    <tr>\n",
       "      <th>6</th>\n",
       "      <td>9</td>\n",
       "      <td>1.078301</td>\n",
       "    </tr>\n",
       "    <tr>\n",
       "      <th>7</th>\n",
       "      <td>8</td>\n",
       "      <td>1.072924</td>\n",
       "    </tr>\n",
       "    <tr>\n",
       "      <th>8</th>\n",
       "      <td>96</td>\n",
       "      <td>1.050258</td>\n",
       "    </tr>\n",
       "    <tr>\n",
       "      <th>9</th>\n",
       "      <td>10</td>\n",
       "      <td>1.043260</td>\n",
       "    </tr>\n",
       "    <tr>\n",
       "      <th>10</th>\n",
       "      <td>7</td>\n",
       "      <td>1.034878</td>\n",
       "    </tr>\n",
       "    <tr>\n",
       "      <th>11</th>\n",
       "      <td>5</td>\n",
       "      <td>1.029913</td>\n",
       "    </tr>\n",
       "  </tbody>\n",
       "</table>\n",
       "</div>"
      ],
      "text/plain": [
       "    args      gaps\n",
       "0      1  1.704928\n",
       "1      3  1.681475\n",
       "2     98  1.644535\n",
       "3      2  1.491408\n",
       "4      0  1.269612\n",
       "5      6  1.225878\n",
       "6      9  1.078301\n",
       "7      8  1.072924\n",
       "8     96  1.050258\n",
       "9     10  1.043260\n",
       "10     7  1.034878\n",
       "11     5  1.029913"
      ]
     },
     "execution_count": 26,
     "metadata": {},
     "output_type": "execute_result"
    }
   ],
   "source": [
    "#possibly top 7\n",
    "gap_stats = compute_gap(pca.df_pc_stats,'99.0_Percentile')\n",
    "gap_stats[0:12]"
   ]
  },
  {
   "cell_type": "code",
   "execution_count": 102,
   "metadata": {},
   "outputs": [
    {
     "data": {
      "text/html": [
       "<div>\n",
       "<style scoped>\n",
       "    .dataframe tbody tr th:only-of-type {\n",
       "        vertical-align: middle;\n",
       "    }\n",
       "\n",
       "    .dataframe tbody tr th {\n",
       "        vertical-align: top;\n",
       "    }\n",
       "\n",
       "    .dataframe thead th {\n",
       "        text-align: right;\n",
       "    }\n",
       "</style>\n",
       "<table border=\"1\" class=\"dataframe\">\n",
       "  <thead>\n",
       "    <tr style=\"text-align: right;\">\n",
       "      <th></th>\n",
       "      <th>args</th>\n",
       "      <th>gaps</th>\n",
       "    </tr>\n",
       "  </thead>\n",
       "  <tbody>\n",
       "    <tr>\n",
       "      <th>0</th>\n",
       "      <td>98</td>\n",
       "      <td>2.022692</td>\n",
       "    </tr>\n",
       "    <tr>\n",
       "      <th>1</th>\n",
       "      <td>1</td>\n",
       "      <td>1.958830</td>\n",
       "    </tr>\n",
       "    <tr>\n",
       "      <th>2</th>\n",
       "      <td>3</td>\n",
       "      <td>1.626170</td>\n",
       "    </tr>\n",
       "    <tr>\n",
       "      <th>3</th>\n",
       "      <td>2</td>\n",
       "      <td>1.573712</td>\n",
       "    </tr>\n",
       "    <tr>\n",
       "      <th>4</th>\n",
       "      <td>4</td>\n",
       "      <td>1.199633</td>\n",
       "    </tr>\n",
       "    <tr>\n",
       "      <th>5</th>\n",
       "      <td>7</td>\n",
       "      <td>1.163970</td>\n",
       "    </tr>\n",
       "    <tr>\n",
       "      <th>6</th>\n",
       "      <td>0</td>\n",
       "      <td>1.152784</td>\n",
       "    </tr>\n",
       "    <tr>\n",
       "      <th>7</th>\n",
       "      <td>5</td>\n",
       "      <td>1.103854</td>\n",
       "    </tr>\n",
       "    <tr>\n",
       "      <th>8</th>\n",
       "      <td>11</td>\n",
       "      <td>1.028488</td>\n",
       "    </tr>\n",
       "    <tr>\n",
       "      <th>9</th>\n",
       "      <td>8</td>\n",
       "      <td>1.026120</td>\n",
       "    </tr>\n",
       "    <tr>\n",
       "      <th>10</th>\n",
       "      <td>96</td>\n",
       "      <td>1.024284</td>\n",
       "    </tr>\n",
       "    <tr>\n",
       "      <th>11</th>\n",
       "      <td>94</td>\n",
       "      <td>1.017646</td>\n",
       "    </tr>\n",
       "  </tbody>\n",
       "</table>\n",
       "</div>"
      ],
      "text/plain": [
       "    args      gaps\n",
       "0     98  2.022692\n",
       "1      1  1.958830\n",
       "2      3  1.626170\n",
       "3      2  1.573712\n",
       "4      4  1.199633\n",
       "5      7  1.163970\n",
       "6      0  1.152784\n",
       "7      5  1.103854\n",
       "8     11  1.028488\n",
       "9      8  1.026120\n",
       "10    96  1.024284\n",
       "11    94  1.017646"
      ]
     },
     "execution_count": 102,
     "metadata": {},
     "output_type": "execute_result"
    }
   ],
   "source": [
    "#top 8\n",
    "gap_stats = compute_gap(pca.df_pc_stats,'98.0_Percentile')\n",
    "gap_stats[0:12]"
   ]
  },
  {
   "cell_type": "code",
   "execution_count": 103,
   "metadata": {},
   "outputs": [
    {
     "data": {
      "text/html": [
       "<div>\n",
       "<style scoped>\n",
       "    .dataframe tbody tr th:only-of-type {\n",
       "        vertical-align: middle;\n",
       "    }\n",
       "\n",
       "    .dataframe tbody tr th {\n",
       "        vertical-align: top;\n",
       "    }\n",
       "\n",
       "    .dataframe thead th {\n",
       "        text-align: right;\n",
       "    }\n",
       "</style>\n",
       "<table border=\"1\" class=\"dataframe\">\n",
       "  <thead>\n",
       "    <tr style=\"text-align: right;\">\n",
       "      <th></th>\n",
       "      <th>args</th>\n",
       "      <th>gaps</th>\n",
       "    </tr>\n",
       "  </thead>\n",
       "  <tbody>\n",
       "    <tr>\n",
       "      <th>0</th>\n",
       "      <td>98</td>\n",
       "      <td>2.108330</td>\n",
       "    </tr>\n",
       "    <tr>\n",
       "      <th>1</th>\n",
       "      <td>2</td>\n",
       "      <td>1.909402</td>\n",
       "    </tr>\n",
       "    <tr>\n",
       "      <th>2</th>\n",
       "      <td>1</td>\n",
       "      <td>1.750771</td>\n",
       "    </tr>\n",
       "    <tr>\n",
       "      <th>3</th>\n",
       "      <td>3</td>\n",
       "      <td>1.575955</td>\n",
       "    </tr>\n",
       "    <tr>\n",
       "      <th>4</th>\n",
       "      <td>0</td>\n",
       "      <td>1.310148</td>\n",
       "    </tr>\n",
       "    <tr>\n",
       "      <th>5</th>\n",
       "      <td>4</td>\n",
       "      <td>1.271268</td>\n",
       "    </tr>\n",
       "    <tr>\n",
       "      <th>6</th>\n",
       "      <td>5</td>\n",
       "      <td>1.155785</td>\n",
       "    </tr>\n",
       "    <tr>\n",
       "      <th>7</th>\n",
       "      <td>6</td>\n",
       "      <td>1.025924</td>\n",
       "    </tr>\n",
       "    <tr>\n",
       "      <th>8</th>\n",
       "      <td>8</td>\n",
       "      <td>1.022803</td>\n",
       "    </tr>\n",
       "    <tr>\n",
       "      <th>9</th>\n",
       "      <td>13</td>\n",
       "      <td>1.020322</td>\n",
       "    </tr>\n",
       "    <tr>\n",
       "      <th>10</th>\n",
       "      <td>14</td>\n",
       "      <td>1.013409</td>\n",
       "    </tr>\n",
       "    <tr>\n",
       "      <th>11</th>\n",
       "      <td>15</td>\n",
       "      <td>1.010566</td>\n",
       "    </tr>\n",
       "  </tbody>\n",
       "</table>\n",
       "</div>"
      ],
      "text/plain": [
       "    args      gaps\n",
       "0     98  2.108330\n",
       "1      2  1.909402\n",
       "2      1  1.750771\n",
       "3      3  1.575955\n",
       "4      0  1.310148\n",
       "5      4  1.271268\n",
       "6      5  1.155785\n",
       "7      6  1.025924\n",
       "8      8  1.022803\n",
       "9     13  1.020322\n",
       "10    14  1.013409\n",
       "11    15  1.010566"
      ]
     },
     "execution_count": 103,
     "metadata": {},
     "output_type": "execute_result"
    }
   ],
   "source": [
    "#top 6\n",
    "gap_stats = compute_gap(pca.df_pc_stats,'95.0_Percentile')\n",
    "gap_stats[0:12]"
   ]
  },
  {
   "cell_type": "markdown",
   "metadata": {},
   "source": [
    "### What about Kruskal?"
   ]
  },
  {
   "cell_type": "markdown",
   "metadata": {},
   "source": [
    "__1. Use subset of PC's: Top 20__"
   ]
  },
  {
   "cell_type": "code",
   "execution_count": 27,
   "metadata": {},
   "outputs": [],
   "source": [
    "pca.select_top_pcs(criteria = 'evalue', n_top_pcs = 20)"
   ]
  },
  {
   "cell_type": "code",
   "execution_count": 28,
   "metadata": {},
   "outputs": [],
   "source": [
    "reduced_matrix = pca.use_top_pcs()"
   ]
  },
  {
   "cell_type": "code",
   "execution_count": 29,
   "metadata": {},
   "outputs": [
    {
     "data": {
      "text/plain": [
       "(2638, 20)"
      ]
     },
     "execution_count": 29,
     "metadata": {},
     "output_type": "execute_result"
    }
   ],
   "source": [
    "reduced_matrix.shape"
   ]
  },
  {
   "cell_type": "code",
   "execution_count": 30,
   "metadata": {},
   "outputs": [],
   "source": [
    "def compute_best_pcs(reduced_matrix, n_neighbors, resolution, threshold = 1e-6, max_discard = 20):\n",
    "    #max discard, max number of pcs that are discarded in a single round \n",
    "    df = pd.DataFrame(reduced_matrix)\n",
    "    finished = False\n",
    "    index = 0\n",
    "    while not finished:\n",
    "        adata = sc.AnnData(X = reduced_matrix)\n",
    "        sc.pp.neighbors(adata, n_neighbors = n_neighbors, use_rep = 'X')\n",
    "        sc.tl.leiden(adata, resolution = resolution, random_state = np.random.randint(100))\n",
    "        df['Clusters'] = adata.obs['leiden'].values\n",
    "        valid_cols = [col for col in df.columns if col != 'Clusters']\n",
    "        kruskal_test, best_pcs = pc_kruskal_test(df,valid_cols, threshold = threshold)\n",
    "        candidates_to_elim = np.where(np.array(kruskal_test) > threshold)\n",
    "        #get max discard lowest values\n",
    "        #print(kruskal_test)\n",
    "        #print(candidates_to_elim)\n",
    "        \n",
    "        lowest_values = np.argsort(-1*np.array(kruskal_test))[0:max_discard]\n",
    "        #print(lowest_values)\n",
    "        to_discard = []\n",
    "        for value in lowest_values:\n",
    "            if kruskal_test[value] > threshold:\n",
    "                to_discard.append(value)\n",
    "        #print(to_discard)\n",
    "        to_keep = [col for i,col in enumerate(df.columns) if i not in to_discard]\n",
    "        if len(to_discard) == 0:\n",
    "            finished = True\n",
    "        else:\n",
    "            df = df[to_keep]\n",
    "            reduced_matrix = df.values\n",
    "        \n",
    "    return df,kruskal_test"
   ]
  },
  {
   "cell_type": "code",
   "execution_count": 31,
   "metadata": {},
   "outputs": [],
   "source": [
    "_, kruskal = compute_best_pcs(reduced_matrix, 15, .8, threshold = 1)"
   ]
  },
  {
   "cell_type": "code",
   "execution_count": 32,
   "metadata": {},
   "outputs": [],
   "source": [
    "y = np.log10(np.array(kruskal)+1e-300)"
   ]
  },
  {
   "cell_type": "code",
   "execution_count": 33,
   "metadata": {},
   "outputs": [
    {
     "data": {
      "image/png": "[encoded data removed]",
      "text/plain": [
       "<Figure size 432x288 with 1 Axes>"
      ]
     },
     "metadata": {
      "needs_background": "light"
     },
     "output_type": "display_data"
    }
   ],
   "source": [
    "#good threshold would be between 1e-40, 1e-50\n",
    "plt.scatter(x = np.arange(len(y)), y = np.sort(y))\n",
    "plot_dictionary['Kruskal_Scatter'] = plt.gca().get_figure()"
   ]
  },
  {
   "cell_type": "code",
   "execution_count": 34,
   "metadata": {},
   "outputs": [
    {
     "data": {
      "text/plain": [
       "array([-3.00000000e+02, -3.00000000e+02, -2.28803518e+02, -3.00000000e+02,\n",
       "       -1.62246791e+02, -1.79870899e+02, -8.90541129e+01, -3.44960846e+01,\n",
       "       -2.87774457e+01, -6.39430349e+00, -7.51391503e+00, -7.17896333e+00,\n",
       "       -1.54623206e+00, -7.78904665e-01, -1.16283910e-01, -2.14480659e-01,\n",
       "       -2.41955449e+00, -6.80724834e-01, -2.38349427e+00, -1.68225179e+00])"
      ]
     },
     "execution_count": 34,
     "metadata": {},
     "output_type": "execute_result"
    }
   ],
   "source": [
    "#here Kruskal chooses top 9 PC's out of 20.  Cutoff around 1e-20\n",
    "#0-8,\n",
    "y"
   ]
  },
  {
   "cell_type": "code",
   "execution_count": null,
   "metadata": {},
   "outputs": [],
   "source": []
  },
  {
   "cell_type": "markdown",
   "metadata": {},
   "source": [
    "__2. Use subset of PC's: Top 18__"
   ]
  },
  {
   "cell_type": "code",
   "execution_count": 35,
   "metadata": {},
   "outputs": [],
   "source": [
    "pca.select_top_pcs(criteria = 'evalue', n_top_pcs = 12)"
   ]
  },
  {
   "cell_type": "code",
   "execution_count": 36,
   "metadata": {},
   "outputs": [],
   "source": [
    "reduced_matrix = pca.use_top_pcs()"
   ]
  },
  {
   "cell_type": "code",
   "execution_count": 37,
   "metadata": {},
   "outputs": [
    {
     "data": {
      "text/plain": [
       "(2638, 12)"
      ]
     },
     "execution_count": 37,
     "metadata": {},
     "output_type": "execute_result"
    }
   ],
   "source": [
    "reduced_matrix.shape"
   ]
  },
  {
   "cell_type": "code",
   "execution_count": 38,
   "metadata": {},
   "outputs": [],
   "source": [
    "_, kruskal = compute_best_pcs(reduced_matrix, 15, .8, threshold = 1)"
   ]
  },
  {
   "cell_type": "code",
   "execution_count": 39,
   "metadata": {},
   "outputs": [],
   "source": [
    "y = np.log10(np.array(kruskal)+1e-300)"
   ]
  },
  {
   "cell_type": "code",
   "execution_count": 42,
   "metadata": {},
   "outputs": [
    {
     "data": {
      "image/png": "[encoded data removed]",
      "text/plain": [
       "<Figure size 432x288 with 1 Axes>"
      ]
     },
     "metadata": {
      "needs_background": "light"
     },
     "output_type": "display_data"
    }
   ],
   "source": [
    "#good threshold would be between 1e-40, 1e-50\n",
    "plt.scatter(x = np.arange(len(y)), y = np.sort(y))\n",
    "plot_dictionary['Kruskal_Scatterv2'] = plt.gca().get_figure()"
   ]
  },
  {
   "cell_type": "code",
   "execution_count": 43,
   "metadata": {},
   "outputs": [
    {
     "data": {
      "text/plain": [
       "array([-300.        , -300.        , -231.86022107, -300.        ,\n",
       "       -198.51192248, -280.05280272, -179.22053103,  -54.3262174 ,\n",
       "        -34.62891187,  -19.38221408,  -12.45565475,   -9.18774293])"
      ]
     },
     "execution_count": 43,
     "metadata": {},
     "output_type": "execute_result"
    }
   ],
   "source": [
    "#suggests top 7\n",
    "y"
   ]
  },
  {
   "cell_type": "markdown",
   "metadata": {},
   "source": [
    "__Use Top 100 PCs__"
   ]
  },
  {
   "cell_type": "code",
   "execution_count": 57,
   "metadata": {},
   "outputs": [],
   "source": [
    "pca.select_top_pcs(criteria = 'evalue', n_top_pcs = 100)"
   ]
  },
  {
   "cell_type": "code",
   "execution_count": 58,
   "metadata": {},
   "outputs": [],
   "source": [
    "reduced_matrix = pca.use_top_pcs()"
   ]
  },
  {
   "cell_type": "code",
   "execution_count": 59,
   "metadata": {},
   "outputs": [],
   "source": [
    "_, kruskal = compute_best_pcs(reduced_matrix, 15, .8, threshold = 1)"
   ]
  },
  {
   "cell_type": "code",
   "execution_count": 60,
   "metadata": {},
   "outputs": [],
   "source": [
    "y = np.log10(np.array(kruskal)+1e-300)"
   ]
  },
  {
   "cell_type": "code",
   "execution_count": 61,
   "metadata": {},
   "outputs": [
    {
     "data": {
      "image/png": "[encoded data removed]",
      "text/plain": [
       "<Figure size 432x288 with 1 Axes>"
      ]
     },
     "metadata": {
      "needs_background": "light"
     },
     "output_type": "display_data"
    }
   ],
   "source": [
    "plt.scatter(x = np.arange(len(y)), y = np.sort(y))\n",
    "plot_dictionary['Kruskal_Scatterv3'] = plt.gca().get_figure()"
   ]
  },
  {
   "cell_type": "code",
   "execution_count": 62,
   "metadata": {},
   "outputs": [
    {
     "data": {
      "text/plain": [
       "array([-3.00000000e+02, -3.00000000e+02, -2.16156262e+02, -3.00000000e+02,\n",
       "       -3.26781404e+01, -1.34977855e+01, -2.71266168e+01, -3.05560356e+01,\n",
       "       -1.96772793e+01, -1.59304068e+00, -6.67507082e+00, -4.89014824e+00,\n",
       "       -9.92908730e-01, -4.86456448e-01, -2.81768112e-01, -4.65505727e-01,\n",
       "       -2.06267377e+00, -2.77907400e-02, -2.99561506e+00, -2.00552106e+00,\n",
       "       -2.02651343e-01, -8.70073706e-02, -1.49280851e-01, -6.08984028e-01,\n",
       "       -1.37005938e-01, -1.16383249e-01, -1.30368760e+00, -3.14283927e-01,\n",
       "       -2.20269020e-01, -3.50734050e-01, -1.03673438e-01, -1.29570560e-01,\n",
       "       -2.56685184e+00, -2.34726457e+00, -7.92762461e-02, -2.00603825e-02,\n",
       "       -5.52726302e-01, -7.89521392e-01, -6.98931655e-01, -1.75982869e-01,\n",
       "       -2.10405124e-01, -3.67913584e-01, -3.33844575e-01, -3.66165227e-01,\n",
       "       -6.10176434e-01, -1.47748114e+00, -1.57405423e-01, -5.52415625e-02,\n",
       "       -3.66015169e-02, -6.92467487e-01, -8.15898489e-02, -1.41127105e-01,\n",
       "       -1.26118323e-01, -2.01567000e-02, -9.58929501e-02, -7.72459097e-01,\n",
       "       -5.75002482e-02, -1.07693431e-01, -5.06439822e-01, -2.68886849e-01,\n",
       "       -1.63831540e+00, -3.38829029e-01, -1.49857831e-02, -1.23186134e-01,\n",
       "       -3.60923791e-01, -1.92424908e-01, -9.02427148e-02, -4.37379980e-03,\n",
       "       -1.23774782e-02, -5.21147633e-02, -2.60655349e-02, -3.58760968e-02,\n",
       "       -3.87371394e-02, -9.62347019e-02, -6.12031746e-02, -2.39914552e-02,\n",
       "       -1.71871765e-01, -3.93422926e-01, -4.75351742e-01, -4.95295938e-01,\n",
       "       -1.61996329e-02, -5.13577287e-02, -3.46203118e-02, -2.06558394e-01,\n",
       "       -7.05634745e-01, -1.02575654e-01, -1.79811649e-01, -3.61242496e-02,\n",
       "       -2.13047217e-01, -2.28464861e-01, -5.15106067e-02, -3.30270654e-01,\n",
       "       -2.35585881e-01, -2.45689621e-01, -1.16076602e-01, -1.40322423e-01,\n",
       "       -2.88557879e-02, -3.43870777e-02, -4.27750020e-01, -6.84570190e-01])"
      ]
     },
     "execution_count": 62,
     "metadata": {},
     "output_type": "execute_result"
    }
   ],
   "source": [
    "#having to include 100 components, degrade quality of clustring- only finds 8 or so significant PC's\n",
    "y"
   ]
  },
  {
   "cell_type": "code",
   "execution_count": 63,
   "metadata": {},
   "outputs": [
    {
     "data": {
      "text/plain": [
       "array([-3.00000000e+02, -3.00000000e+02, -3.00000000e+02, -2.16156262e+02,\n",
       "       -3.26781404e+01, -3.05560356e+01, -2.71266168e+01, -1.96772793e+01,\n",
       "       -1.34977855e+01, -6.67507082e+00, -4.89014824e+00, -2.99561506e+00,\n",
       "       -2.56685184e+00, -2.34726457e+00, -2.06267377e+00, -2.00552106e+00,\n",
       "       -1.63831540e+00, -1.59304068e+00, -1.47748114e+00, -1.30368760e+00,\n",
       "       -9.92908730e-01, -7.89521392e-01, -7.72459097e-01, -7.05634745e-01,\n",
       "       -6.98931655e-01, -6.92467487e-01, -6.84570190e-01, -6.10176434e-01,\n",
       "       -6.08984028e-01, -5.52726302e-01, -5.06439822e-01, -4.95295938e-01,\n",
       "       -4.86456448e-01, -4.75351742e-01, -4.65505727e-01, -4.27750020e-01,\n",
       "       -3.93422926e-01, -3.67913584e-01, -3.66165227e-01, -3.60923791e-01,\n",
       "       -3.50734050e-01, -3.38829029e-01, -3.33844575e-01, -3.30270654e-01,\n",
       "       -3.14283927e-01, -2.81768112e-01, -2.68886849e-01, -2.45689621e-01,\n",
       "       -2.35585881e-01, -2.28464861e-01, -2.20269020e-01, -2.13047217e-01,\n",
       "       -2.10405124e-01, -2.06558394e-01, -2.02651343e-01, -1.92424908e-01,\n",
       "       -1.79811649e-01, -1.75982869e-01, -1.71871765e-01, -1.57405423e-01,\n",
       "       -1.49280851e-01, -1.41127105e-01, -1.40322423e-01, -1.37005938e-01,\n",
       "       -1.29570560e-01, -1.26118323e-01, -1.23186134e-01, -1.16383249e-01,\n",
       "       -1.16076602e-01, -1.07693431e-01, -1.03673438e-01, -1.02575654e-01,\n",
       "       -9.62347019e-02, -9.58929501e-02, -9.02427148e-02, -8.70073706e-02,\n",
       "       -8.15898489e-02, -7.92762461e-02, -6.12031746e-02, -5.75002482e-02,\n",
       "       -5.52415625e-02, -5.21147633e-02, -5.15106067e-02, -5.13577287e-02,\n",
       "       -3.87371394e-02, -3.66015169e-02, -3.61242496e-02, -3.58760968e-02,\n",
       "       -3.46203118e-02, -3.43870777e-02, -2.88557879e-02, -2.77907400e-02,\n",
       "       -2.60655349e-02, -2.39914552e-02, -2.01567000e-02, -2.00603825e-02,\n",
       "       -1.61996329e-02, -1.49857831e-02, -1.23774782e-02, -4.37379980e-03])"
      ]
     },
     "execution_count": 63,
     "metadata": {},
     "output_type": "execute_result"
    }
   ],
   "source": [
    "#in all cases strongly favors 0-4, 6-8\n",
    "np.sort(y)"
   ]
  },
  {
   "cell_type": "markdown",
   "metadata": {},
   "source": [
    "__Use Top 25 PCQC__"
   ]
  },
  {
   "cell_type": "code",
   "execution_count": 64,
   "metadata": {},
   "outputs": [],
   "source": [
    "pca.select_top_pcs(criteria = '100.0_Percentile', n_top_pcs = 25)"
   ]
  },
  {
   "cell_type": "code",
   "execution_count": 65,
   "metadata": {},
   "outputs": [],
   "source": [
    "reduced_matrix = pca.use_top_pcs()"
   ]
  },
  {
   "cell_type": "code",
   "execution_count": 66,
   "metadata": {},
   "outputs": [],
   "source": [
    "_, kruskal = compute_best_pcs(reduced_matrix, 15, .8, threshold = 1)"
   ]
  },
  {
   "cell_type": "code",
   "execution_count": 67,
   "metadata": {},
   "outputs": [],
   "source": [
    "y = np.log10(np.array(kruskal)+1e-300)"
   ]
  },
  {
   "cell_type": "code",
   "execution_count": 68,
   "metadata": {},
   "outputs": [
    {
     "data": {
      "image/png": "[encoded data removed]",
      "text/plain": [
       "<Figure size 432x288 with 1 Axes>"
      ]
     },
     "metadata": {
      "needs_background": "light"
     },
     "output_type": "display_data"
    }
   ],
   "source": [
    "plt.scatter(x = np.arange(len(y)), y = np.sort(y))\n",
    "plot_dictionary['Kruskal_Scatterv4'] = plt.gca().get_figure()"
   ]
  },
  {
   "cell_type": "code",
   "execution_count": 69,
   "metadata": {},
   "outputs": [
    {
     "data": {
      "text/plain": [
       "array([-2.28319807e+02, -3.00000000e+02, -3.00000000e+02, -3.00000000e+02,\n",
       "       -1.59164398e+02, -2.98558410e+01, -3.31172483e+01, -1.71586096e+02,\n",
       "       -7.34559301e+00, -5.64674594e+00, -9.24559816e+01, -6.70395358e-01,\n",
       "       -4.03145720e-01, -7.74787117e+00, -2.11999286e+00, -5.53581164e-02,\n",
       "       -2.39335740e+00, -2.48462807e+00, -4.56876307e-01, -2.26854918e-01,\n",
       "       -3.06403411e-01, -5.24161732e-02, -6.76122285e-02, -1.31777592e-01,\n",
       "       -6.08764146e-02])"
      ]
     },
     "execution_count": 69,
     "metadata": {},
     "output_type": "execute_result"
    }
   ],
   "source": [
    "#selecting just 0-7,10\n",
    "y"
   ]
  },
  {
   "cell_type": "markdown",
   "metadata": {},
   "source": [
    "__Use Top 20 PCQC__"
   ]
  },
  {
   "cell_type": "code",
   "execution_count": 70,
   "metadata": {},
   "outputs": [],
   "source": [
    "pca.select_top_pcs(criteria = '99.0_Percentile', n_top_pcs = 20)"
   ]
  },
  {
   "cell_type": "code",
   "execution_count": 71,
   "metadata": {},
   "outputs": [],
   "source": [
    "reduced_matrix = pca.use_top_pcs()"
   ]
  },
  {
   "cell_type": "code",
   "execution_count": 72,
   "metadata": {},
   "outputs": [],
   "source": [
    "_, kruskal = compute_best_pcs(reduced_matrix, 15, .8, threshold = 1)"
   ]
  },
  {
   "cell_type": "code",
   "execution_count": 73,
   "metadata": {},
   "outputs": [],
   "source": [
    "y = np.log10(np.array(kruskal)+1e-300)"
   ]
  },
  {
   "cell_type": "code",
   "execution_count": 74,
   "metadata": {},
   "outputs": [
    {
     "data": {
      "image/png": "[encoded data removed]",
      "text/plain": [
       "<Figure size 432x288 with 1 Axes>"
      ]
     },
     "metadata": {
      "needs_background": "light"
     },
     "output_type": "display_data"
    }
   ],
   "source": [
    "plt.scatter(x = np.arange(len(y)), y = np.sort(y))\n",
    "plot_dictionary['Kruskal_Scatterv5'] = plt.gca().get_figure()"
   ]
  },
  {
   "cell_type": "code",
   "execution_count": 75,
   "metadata": {},
   "outputs": [
    {
     "data": {
      "text/plain": [
       "array([-3.00000000e+02, -3.00000000e+02, -3.00000000e+02, -1.92300640e+02,\n",
       "       -2.96915942e+01, -1.60948232e+02, -3.39391420e+01, -9.89808693e+01,\n",
       "       -6.74357856e+00, -2.46125089e+00, -7.75076519e-01, -2.48312299e-01,\n",
       "       -5.24411939e-01, -8.48492251e-02, -1.54081698e-01, -1.03535217e-01,\n",
       "       -7.65538663e-01, -1.54631047e+00, -4.11566163e+00, -3.15727331e-01])"
      ]
     },
     "execution_count": 75,
     "metadata": {},
     "output_type": "execute_result"
    }
   ],
   "source": [
    "y"
   ]
  },
  {
   "cell_type": "markdown",
   "metadata": {},
   "source": [
    "### Top 15 PCQC"
   ]
  },
  {
   "cell_type": "code",
   "execution_count": 76,
   "metadata": {},
   "outputs": [],
   "source": [
    "pca.select_top_pcs(criteria = '99.0_Percentile', n_top_pcs = 15)"
   ]
  },
  {
   "cell_type": "code",
   "execution_count": 77,
   "metadata": {},
   "outputs": [],
   "source": [
    "reduced_matrix = pca.use_top_pcs()"
   ]
  },
  {
   "cell_type": "code",
   "execution_count": 78,
   "metadata": {},
   "outputs": [],
   "source": [
    "_, kruskal = compute_best_pcs(reduced_matrix, 15, .8, threshold = 1)"
   ]
  },
  {
   "cell_type": "code",
   "execution_count": 79,
   "metadata": {},
   "outputs": [],
   "source": [
    "y = np.log10(np.array(kruskal)+1e-300)"
   ]
  },
  {
   "cell_type": "code",
   "execution_count": 80,
   "metadata": {},
   "outputs": [
    {
     "data": {
      "image/png": "[encoded data removed]",
      "text/plain": [
       "<Figure size 432x288 with 1 Axes>"
      ]
     },
     "metadata": {
      "needs_background": "light"
     },
     "output_type": "display_data"
    }
   ],
   "source": [
    "plt.scatter(x = np.arange(len(y)), y = np.sort(y))\n",
    "plot_dictionary['Kruskal_Scatterv6'] = plt.gca().get_figure()"
   ]
  },
  {
   "cell_type": "code",
   "execution_count": 81,
   "metadata": {},
   "outputs": [
    {
     "data": {
      "text/plain": [
       "array([-3.00000000e+02, -3.00000000e+02, -3.00000000e+02, -1.66687982e+02,\n",
       "       -2.57111407e+01, -1.71901661e+02, -3.23778336e+01, -9.50302281e+01,\n",
       "       -5.77492565e+00, -4.98114358e+00, -1.11376803e+00, -3.75108369e-01,\n",
       "       -3.40368230e-01, -7.99920721e-02, -4.53048367e-01])"
      ]
     },
     "execution_count": 81,
     "metadata": {},
     "output_type": "execute_result"
    }
   ],
   "source": [
    "#first 0-8,\n",
    "y"
   ]
  },
  {
   "cell_type": "code",
   "execution_count": null,
   "metadata": {},
   "outputs": [],
   "source": []
  },
  {
   "cell_type": "code",
   "execution_count": null,
   "metadata": {},
   "outputs": [],
   "source": []
  },
  {
   "cell_type": "code",
   "execution_count": null,
   "metadata": {},
   "outputs": [],
   "source": []
  },
  {
   "cell_type": "code",
   "execution_count": null,
   "metadata": {},
   "outputs": [],
   "source": []
  },
  {
   "cell_type": "markdown",
   "metadata": {},
   "source": [
    "### Confirm Choice"
   ]
  },
  {
   "cell_type": "code",
   "execution_count": 82,
   "metadata": {},
   "outputs": [],
   "source": [
    "reduced_matrix = reduced_matrix[:,[0,1,2,3,4,5,6,7,10]]"
   ]
  },
  {
   "cell_type": "code",
   "execution_count": 83,
   "metadata": {},
   "outputs": [],
   "source": [
    "_, kruskal = compute_best_pcs(reduced_matrix, 15, .8, threshold = 1)"
   ]
  },
  {
   "cell_type": "code",
   "execution_count": 84,
   "metadata": {},
   "outputs": [],
   "source": [
    "y = np.log10(np.array(kruskal)+1e-300)"
   ]
  },
  {
   "cell_type": "code",
   "execution_count": 85,
   "metadata": {},
   "outputs": [
    {
     "data": {
      "text/plain": [
       "<matplotlib.collections.PathCollection at 0x7fca34ae8e90>"
      ]
     },
     "execution_count": 85,
     "metadata": {},
     "output_type": "execute_result"
    },
    {
     "data": {
      "image/png": "[encoded data removed]",
      "text/plain": [
       "<Figure size 432x288 with 1 Axes>"
      ]
     },
     "metadata": {
      "needs_background": "light"
     },
     "output_type": "display_data"
    }
   ],
   "source": [
    "plt.scatter(x = np.arange(len(y)), y = np.sort(y))"
   ]
  },
  {
   "cell_type": "code",
   "execution_count": 86,
   "metadata": {},
   "outputs": [
    {
     "data": {
      "text/plain": [
       "array([-300.        , -300.        , -300.        , -204.34243393,\n",
       "        -35.35267676, -266.95120257,  -57.38371171, -179.81885753,\n",
       "        -35.95619141])"
      ]
     },
     "execution_count": 86,
     "metadata": {},
     "output_type": "execute_result"
    }
   ],
   "source": [
    "#first 0-9, 12,14,16\n",
    "y"
   ]
  },
  {
   "cell_type": "markdown",
   "metadata": {},
   "source": [
    "### Permutation Test"
   ]
  },
  {
   "cell_type": "code",
   "execution_count": 87,
   "metadata": {},
   "outputs": [],
   "source": [
    "mtrx = data.values"
   ]
  },
  {
   "cell_type": "code",
   "execution_count": 88,
   "metadata": {},
   "outputs": [
    {
     "name": "stdout",
     "output_type": "stream",
     "text": [
      "0\n",
      "1\n",
      "2\n",
      "3\n",
      "4\n",
      "5\n",
      "6\n",
      "7\n",
      "8\n",
      "9\n",
      "10\n",
      "11\n",
      "12\n",
      "13\n",
      "14\n",
      "15\n",
      "16\n",
      "17\n",
      "18\n",
      "19\n"
     ]
    }
   ],
   "source": [
    "perm_test = permutation_test(mtrx, trials = 20)"
   ]
  },
  {
   "cell_type": "code",
   "execution_count": 89,
   "metadata": {},
   "outputs": [],
   "source": [
    "sorted_svalues = -1*np.sort(-1*perm_test.max())"
   ]
  },
  {
   "cell_type": "code",
   "execution_count": 90,
   "metadata": {},
   "outputs": [
    {
     "data": {
      "text/plain": [
       "array([90.00097826, 89.56913515, 89.30374594, 89.12014401, 88.77852247,\n",
       "       88.57170317, 88.43422258, 88.33353294, 88.1868859 , 87.9622151 ,\n",
       "       87.78492998, 87.6596762 , 87.54247137, 87.28790502, 87.2117854 ,\n",
       "       87.05022857, 86.91508001, 86.77298469, 86.61843696, 86.49345258,\n",
       "       86.39925061, 86.28605206, 86.17976397, 86.08690645, 85.92619274,\n",
       "       85.847496  , 85.62574205, 85.57351205, 85.43771664, 85.32185334,\n",
       "       85.22358124, 85.10637965, 84.95962611, 84.92984569, 84.85697757,\n",
       "       84.79441439, 84.58943052, 84.535686  , 84.3733605 , 84.31162098,\n",
       "       84.20894094, 84.14442209, 84.0164731 , 83.91524134, 83.81387364,\n",
       "       83.71260241, 83.67985777, 83.60661046, 83.46229969, 83.41121621,\n",
       "       83.33922954, 83.17078633, 83.10170353, 83.01666837, 82.92242059,\n",
       "       82.86405556, 82.78921148, 82.67363936, 82.63544967, 82.50441556,\n",
       "       82.44120652, 82.33038203, 82.23204414, 82.17591494, 82.12742059,\n",
       "       82.03535983, 81.95469383, 81.85963743, 81.76635478, 81.7174765 ,\n",
       "       81.59992317, 81.46565192, 81.40175483, 81.35370695, 81.2985956 ,\n",
       "       81.24590085, 81.11387586, 81.06011139, 80.99238463, 80.92746852,\n",
       "       80.87540642, 80.80346518, 80.68556614, 80.57942731, 80.52020622,\n",
       "       80.42476665, 80.31832751, 80.26317389, 80.19661825, 80.10897245,\n",
       "       80.0473884 , 79.95578572, 79.88922788, 79.7993698 , 79.72372828,\n",
       "       79.67359036, 79.57919334, 79.52412185, 79.48307795, 79.40409209])"
      ]
     },
     "execution_count": 90,
     "metadata": {},
     "output_type": "execute_result"
    }
   ],
   "source": [
    "sorted_svalues"
   ]
  },
  {
   "cell_type": "code",
   "execution_count": 91,
   "metadata": {},
   "outputs": [
    {
     "data": {
      "text/plain": [
       "array([290.99080096, 222.17348561, 202.94800732, 186.82638292,\n",
       "       112.53282036, 102.52284537,  96.43508072,  92.33988782,\n",
       "        90.72860407,  90.05341191,  88.92259855,  88.35249282,\n",
       "        88.22623294,  88.11364853,  87.65796801,  87.43456737,\n",
       "        87.1606445 ,  86.91521122,  86.58669766,  86.47472017,\n",
       "        86.40869143,  86.2086503 ,  85.98342176,  85.92890392,\n",
       "        85.75879114,  85.59200334,  85.47530624,  85.3160535 ,\n",
       "        85.21694634,  85.09497396,  84.95855928,  84.9111451 ,\n",
       "        84.72571183,  84.57164795,  84.4181872 ,  84.38023223,\n",
       "        84.12736681,  84.05184353,  84.01828338,  83.97280125,\n",
       "        83.82870271,  83.71067799,  83.61329409,  83.46492497,\n",
       "        83.32578124,  83.27102456,  83.19257429,  83.09471083,\n",
       "        83.08857298,  82.83296593,  82.74693977,  82.63202112,\n",
       "        82.53089949,  82.45108963,  82.4074684 ,  82.33658628,\n",
       "        82.19998444,  82.08089209,  81.99928917,  81.94803487,\n",
       "        81.76081965,  81.64134904,  81.55767504,  81.52996569,\n",
       "        81.45181167,  81.33142588,  81.23149721,  81.15559833,\n",
       "        81.08984081,  81.06232786,  80.98108634,  80.7623008 ,\n",
       "        80.67723066,  80.62290834,  80.52559319,  80.4225409 ,\n",
       "        80.33610001,  80.24293386,  80.2140354 ,  80.12302239,\n",
       "        80.01351327,  79.89231684,  79.76431764,  79.7126513 ,\n",
       "        79.64360361,  79.59986958,  79.43805261,  79.34244407,\n",
       "        79.26174122,  79.15883382,  79.13020713,  78.9986252 ,\n",
       "        78.96890362,  78.90548058,  78.81712111,  78.74991111,\n",
       "        78.68601467,  78.50248225,  78.47392238,  78.40760841])"
      ]
     },
     "execution_count": 91,
     "metadata": {},
     "output_type": "execute_result"
    }
   ],
   "source": [
    "pca.singular_values"
   ]
  },
  {
   "cell_type": "code",
   "execution_count": 92,
   "metadata": {},
   "outputs": [
    {
     "data": {
      "text/plain": [
       "19"
      ]
     },
     "execution_count": 92,
     "metadata": {},
     "output_type": "execute_result"
    }
   ],
   "source": [
    "np.sum(pca.singular_values > sorted_svalues)"
   ]
  },
  {
   "cell_type": "code",
   "execution_count": 94,
   "metadata": {},
   "outputs": [
    {
     "data": {
      "image/png": "[encoded data removed]",
      "text/plain": [
       "<Figure size 432x288 with 1 Axes>"
      ]
     },
     "metadata": {
      "needs_background": "light"
     },
     "output_type": "display_data"
    }
   ],
   "source": [
    "plt.scatter(x = np.arange(0,30), y = 1e-5*np.power(pca.singular_values[0:30],2), color = 'skyblue', label = 'Eigenvalues')\n",
    "plt.scatter(x = np.arange(0,30), y = 1e-5*np.power(sorted_svalues[0:30],2), color = 'orangered', \n",
    "            label = 'Permutation Test Eigenvalues')\n",
    "plt.legend()\n",
    "plt.title('Permutation Test')\n",
    "plot_dictionary['PermTest'] = plt.gca().get_figure()"
   ]
  },
  {
   "cell_type": "code",
   "execution_count": 96,
   "metadata": {},
   "outputs": [
    {
     "data": {
      "image/png": "[encoded data removed]",
      "text/plain": [
       "<Figure size 432x288 with 1 Axes>"
      ]
     },
     "metadata": {
      "needs_background": "light"
     },
     "output_type": "display_data"
    }
   ],
   "source": [
    "plt.scatter(x = np.arange(5,30), y = 1e-5*np.power(pca.singular_values[5:30],2), color = 'skyblue', label = 'Eigenvalues')\n",
    "plt.scatter(x = np.arange(5,30), y = 1e-5*np.power(sorted_svalues[5:30],2), color = 'orangered', \n",
    "            label = 'Permutation Test Eigenvalues')\n",
    "plt.legend()\n",
    "plt.title('Permutation Test: PCs 5-30')\n",
    "plot_dictionary['PermTestPcs5-30'] = plt.gca().get_figure()"
   ]
  },
  {
   "cell_type": "code",
   "execution_count": 97,
   "metadata": {},
   "outputs": [],
   "source": [
    "def compute_e_ratio(svalues,perm):\n",
    "    answer = np.divide(svalues,perm)\n",
    "    answer = np.power(answer,2) #use eigenvalues\n",
    "    df = pd.DataFrame(answer,columns = ['E_Ratio'])\n",
    "    return df"
   ]
  },
  {
   "cell_type": "code",
   "execution_count": 98,
   "metadata": {},
   "outputs": [],
   "source": [
    "sorted_medians = -1*np.sort(-1*perm_test.median())\n",
    "e_ratio = compute_e_ratio(pca.singular_values,sorted_medians)"
   ]
  },
  {
   "cell_type": "code",
   "execution_count": 99,
   "metadata": {},
   "outputs": [
    {
     "data": {
      "text/html": [
       "<div>\n",
       "<style scoped>\n",
       "    .dataframe tbody tr th:only-of-type {\n",
       "        vertical-align: middle;\n",
       "    }\n",
       "\n",
       "    .dataframe tbody tr th {\n",
       "        vertical-align: top;\n",
       "    }\n",
       "\n",
       "    .dataframe thead th {\n",
       "        text-align: right;\n",
       "    }\n",
       "</style>\n",
       "<table border=\"1\" class=\"dataframe\">\n",
       "  <thead>\n",
       "    <tr style=\"text-align: right;\">\n",
       "      <th></th>\n",
       "      <th>E_Ratio</th>\n",
       "    </tr>\n",
       "  </thead>\n",
       "  <tbody>\n",
       "    <tr>\n",
       "      <th>0</th>\n",
       "      <td>10.541040</td>\n",
       "    </tr>\n",
       "    <tr>\n",
       "      <th>1</th>\n",
       "      <td>6.191321</td>\n",
       "    </tr>\n",
       "    <tr>\n",
       "      <th>2</th>\n",
       "      <td>5.202596</td>\n",
       "    </tr>\n",
       "    <tr>\n",
       "      <th>3</th>\n",
       "      <td>4.427348</td>\n",
       "    </tr>\n",
       "    <tr>\n",
       "      <th>4</th>\n",
       "      <td>1.613960</td>\n",
       "    </tr>\n",
       "    <tr>\n",
       "      <th>5</th>\n",
       "      <td>1.346133</td>\n",
       "    </tr>\n",
       "    <tr>\n",
       "      <th>6</th>\n",
       "      <td>1.194344</td>\n",
       "    </tr>\n",
       "    <tr>\n",
       "      <th>7</th>\n",
       "      <td>1.099935</td>\n",
       "    </tr>\n",
       "    <tr>\n",
       "      <th>8</th>\n",
       "      <td>1.065844</td>\n",
       "    </tr>\n",
       "    <tr>\n",
       "      <th>9</th>\n",
       "      <td>1.054444</td>\n",
       "    </tr>\n",
       "  </tbody>\n",
       "</table>\n",
       "</div>"
      ],
      "text/plain": [
       "     E_Ratio\n",
       "0  10.541040\n",
       "1   6.191321\n",
       "2   5.202596\n",
       "3   4.427348\n",
       "4   1.613960\n",
       "5   1.346133\n",
       "6   1.194344\n",
       "7   1.099935\n",
       "8   1.065844\n",
       "9   1.054444"
      ]
     },
     "execution_count": 99,
     "metadata": {},
     "output_type": "execute_result"
    }
   ],
   "source": [
    "#top 7, possibly top 8\n",
    "e_ratio[0:10]"
   ]
  },
  {
   "cell_type": "markdown",
   "metadata": {},
   "source": [
    "### Permutation test \n",
    "1. Top 19 look stat significant\n",
    "2. Only top 7-8 look like there are large differences"
   ]
  },
  {
   "cell_type": "code",
   "execution_count": 110,
   "metadata": {},
   "outputs": [],
   "source": [
    "with PdfPages(output_plots) as pdf:\n",
    "    for title in plot_dictionary.keys():\n",
    "        pdf.savefig(plot_dictionary[title])"
   ]
  },
  {
   "cell_type": "code",
   "execution_count": null,
   "metadata": {},
   "outputs": [],
   "source": []
  }
 ],
 "metadata": {
  "kernelspec": {
   "display_name": "Python 3",
   "language": "python",
   "name": "python3"
  },
  "language_info": {
   "codemirror_mode": {
    "name": "ipython",
    "version": 3
   },
   "file_extension": ".py",
   "mimetype": "text/x-python",
   "name": "python",
   "nbconvert_exporter": "python",
   "pygments_lexer": "ipython3",
   "version": "3.7.6"
  }
 },
 "nbformat": 4,
 "nbformat_minor": 4
}
