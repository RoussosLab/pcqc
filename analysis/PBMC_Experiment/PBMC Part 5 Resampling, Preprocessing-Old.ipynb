{
 "cells": [
  {
   "cell_type": "code",
   "execution_count": 1,
   "metadata": {},
   "outputs": [
    {
     "name": "stderr",
     "output_type": "stream",
     "text": [
      "/opt/conda/lib/python3.7/site-packages/anndata/_core/anndata.py:21: FutureWarning: pandas.core.index is deprecated and will be removed in a future version.  The public classes are available in the top-level namespace.\n",
      "  from pandas.core.index import RangeIndex\n"
     ]
    }
   ],
   "source": [
    "import sys\n",
    "sys.path.append('../pcqc')\n",
    "import numpy as np\n",
    "import pandas as pd\n",
    "import matplotlib.pyplot as plt\n",
    "import seaborn as sns\n",
    "from pcqc import *"
   ]
  },
  {
   "cell_type": "code",
   "execution_count": 2,
   "metadata": {},
   "outputs": [],
   "source": [
    "import scipy"
   ]
  },
  {
   "cell_type": "code",
   "execution_count": 3,
   "metadata": {},
   "outputs": [],
   "source": [
    "import scanpy as sc"
   ]
  },
  {
   "cell_type": "code",
   "execution_count": 4,
   "metadata": {},
   "outputs": [],
   "source": [
    "sim_data = pd.read_csv('data/pbmc_original_data.csv')"
   ]
  },
  {
   "cell_type": "code",
   "execution_count": 5,
   "metadata": {},
   "outputs": [
    {
     "data": {
      "text/html": [
       "<div>\n",
       "<style scoped>\n",
       "    .dataframe tbody tr th:only-of-type {\n",
       "        vertical-align: middle;\n",
       "    }\n",
       "\n",
       "    .dataframe tbody tr th {\n",
       "        vertical-align: top;\n",
       "    }\n",
       "\n",
       "    .dataframe thead th {\n",
       "        text-align: right;\n",
       "    }\n",
       "</style>\n",
       "<table border=\"1\" class=\"dataframe\">\n",
       "  <thead>\n",
       "    <tr style=\"text-align: right;\">\n",
       "      <th></th>\n",
       "      <th>Unnamed: 0</th>\n",
       "      <th>0</th>\n",
       "      <th>1</th>\n",
       "      <th>2</th>\n",
       "      <th>3</th>\n",
       "      <th>4</th>\n",
       "      <th>5</th>\n",
       "      <th>6</th>\n",
       "      <th>7</th>\n",
       "      <th>8</th>\n",
       "      <th>...</th>\n",
       "      <th>1830</th>\n",
       "      <th>1831</th>\n",
       "      <th>1832</th>\n",
       "      <th>1833</th>\n",
       "      <th>1834</th>\n",
       "      <th>1835</th>\n",
       "      <th>1836</th>\n",
       "      <th>1837</th>\n",
       "      <th>reduced_clustering</th>\n",
       "      <th>truth_names</th>\n",
       "    </tr>\n",
       "  </thead>\n",
       "  <tbody>\n",
       "    <tr>\n",
       "      <th>0</th>\n",
       "      <td>0</td>\n",
       "      <td>-0.171470</td>\n",
       "      <td>-0.280812</td>\n",
       "      <td>-0.046677</td>\n",
       "      <td>-0.475169</td>\n",
       "      <td>-0.544024</td>\n",
       "      <td>4.928497</td>\n",
       "      <td>-0.038028</td>\n",
       "      <td>-0.280573</td>\n",
       "      <td>-0.341788</td>\n",
       "      <td>...</td>\n",
       "      <td>-0.102943</td>\n",
       "      <td>-0.222116</td>\n",
       "      <td>-0.312401</td>\n",
       "      <td>-0.121678</td>\n",
       "      <td>-0.521229</td>\n",
       "      <td>-0.098269</td>\n",
       "      <td>-0.209095</td>\n",
       "      <td>-0.531203</td>\n",
       "      <td>0</td>\n",
       "      <td>CD8</td>\n",
       "    </tr>\n",
       "    <tr>\n",
       "      <th>1</th>\n",
       "      <td>1</td>\n",
       "      <td>-0.214582</td>\n",
       "      <td>-0.372653</td>\n",
       "      <td>-0.054804</td>\n",
       "      <td>-0.683391</td>\n",
       "      <td>0.633951</td>\n",
       "      <td>-0.334837</td>\n",
       "      <td>-0.045589</td>\n",
       "      <td>-0.498264</td>\n",
       "      <td>-0.541914</td>\n",
       "      <td>...</td>\n",
       "      <td>0.007155</td>\n",
       "      <td>-0.445372</td>\n",
       "      <td>1.629285</td>\n",
       "      <td>-0.058662</td>\n",
       "      <td>-0.857163</td>\n",
       "      <td>-0.266844</td>\n",
       "      <td>-0.313146</td>\n",
       "      <td>-0.596654</td>\n",
       "      <td>2</td>\n",
       "      <td>CD4 T</td>\n",
       "    </tr>\n",
       "    <tr>\n",
       "      <th>2</th>\n",
       "      <td>2</td>\n",
       "      <td>-0.376888</td>\n",
       "      <td>-0.295085</td>\n",
       "      <td>-0.057527</td>\n",
       "      <td>-0.520972</td>\n",
       "      <td>1.332648</td>\n",
       "      <td>-0.309362</td>\n",
       "      <td>-0.103108</td>\n",
       "      <td>-0.272526</td>\n",
       "      <td>-0.500799</td>\n",
       "      <td>...</td>\n",
       "      <td>-0.071774</td>\n",
       "      <td>-0.297857</td>\n",
       "      <td>-0.410920</td>\n",
       "      <td>-0.070431</td>\n",
       "      <td>-0.590720</td>\n",
       "      <td>-0.158656</td>\n",
       "      <td>-0.170876</td>\n",
       "      <td>1.379000</td>\n",
       "      <td>2</td>\n",
       "      <td>CD4 T</td>\n",
       "    </tr>\n",
       "    <tr>\n",
       "      <th>3</th>\n",
       "      <td>3</td>\n",
       "      <td>-0.285241</td>\n",
       "      <td>-0.281735</td>\n",
       "      <td>-0.052227</td>\n",
       "      <td>-0.484929</td>\n",
       "      <td>1.572680</td>\n",
       "      <td>-0.271825</td>\n",
       "      <td>-0.074552</td>\n",
       "      <td>-0.258875</td>\n",
       "      <td>-0.416752</td>\n",
       "      <td>...</td>\n",
       "      <td>-0.093818</td>\n",
       "      <td>-0.247770</td>\n",
       "      <td>2.552079</td>\n",
       "      <td>-0.097402</td>\n",
       "      <td>1.631684</td>\n",
       "      <td>-0.119462</td>\n",
       "      <td>-0.179120</td>\n",
       "      <td>-0.505669</td>\n",
       "      <td>1</td>\n",
       "      <td>CD14+</td>\n",
       "    </tr>\n",
       "    <tr>\n",
       "      <th>4</th>\n",
       "      <td>4</td>\n",
       "      <td>-0.256484</td>\n",
       "      <td>-0.220394</td>\n",
       "      <td>-0.046800</td>\n",
       "      <td>-0.345859</td>\n",
       "      <td>-0.333409</td>\n",
       "      <td>-0.208122</td>\n",
       "      <td>-0.069514</td>\n",
       "      <td>5.806440</td>\n",
       "      <td>-0.283112</td>\n",
       "      <td>...</td>\n",
       "      <td>-0.167350</td>\n",
       "      <td>-0.098665</td>\n",
       "      <td>-0.275836</td>\n",
       "      <td>-0.139482</td>\n",
       "      <td>-0.310095</td>\n",
       "      <td>-0.006877</td>\n",
       "      <td>-0.109614</td>\n",
       "      <td>-0.461946</td>\n",
       "      <td>3</td>\n",
       "      <td>NK</td>\n",
       "    </tr>\n",
       "  </tbody>\n",
       "</table>\n",
       "<p>5 rows × 1841 columns</p>\n",
       "</div>"
      ],
      "text/plain": [
       "   Unnamed: 0         0         1         2         3         4         5  \\\n",
       "0           0 -0.171470 -0.280812 -0.046677 -0.475169 -0.544024  4.928497   \n",
       "1           1 -0.214582 -0.372653 -0.054804 -0.683391  0.633951 -0.334837   \n",
       "2           2 -0.376888 -0.295085 -0.057527 -0.520972  1.332648 -0.309362   \n",
       "3           3 -0.285241 -0.281735 -0.052227 -0.484929  1.572680 -0.271825   \n",
       "4           4 -0.256484 -0.220394 -0.046800 -0.345859 -0.333409 -0.208122   \n",
       "\n",
       "          6         7         8  ...      1830      1831      1832      1833  \\\n",
       "0 -0.038028 -0.280573 -0.341788  ... -0.102943 -0.222116 -0.312401 -0.121678   \n",
       "1 -0.045589 -0.498264 -0.541914  ...  0.007155 -0.445372  1.629285 -0.058662   \n",
       "2 -0.103108 -0.272526 -0.500799  ... -0.071774 -0.297857 -0.410920 -0.070431   \n",
       "3 -0.074552 -0.258875 -0.416752  ... -0.093818 -0.247770  2.552079 -0.097402   \n",
       "4 -0.069514  5.806440 -0.283112  ... -0.167350 -0.098665 -0.275836 -0.139482   \n",
       "\n",
       "       1834      1835      1836      1837  reduced_clustering  truth_names  \n",
       "0 -0.521229 -0.098269 -0.209095 -0.531203                   0          CD8  \n",
       "1 -0.857163 -0.266844 -0.313146 -0.596654                   2        CD4 T  \n",
       "2 -0.590720 -0.158656 -0.170876  1.379000                   2        CD4 T  \n",
       "3  1.631684 -0.119462 -0.179120 -0.505669                   1        CD14+  \n",
       "4 -0.310095 -0.006877 -0.109614 -0.461946                   3           NK  \n",
       "\n",
       "[5 rows x 1841 columns]"
      ]
     },
     "execution_count": 5,
     "metadata": {},
     "output_type": "execute_result"
    }
   ],
   "source": [
    "sim_data.head()"
   ]
  },
  {
   "cell_type": "code",
   "execution_count": 6,
   "metadata": {},
   "outputs": [
    {
     "data": {
      "text/plain": [
       "(2638, 1841)"
      ]
     },
     "execution_count": 6,
     "metadata": {},
     "output_type": "execute_result"
    }
   ],
   "source": [
    "sim_data.shape"
   ]
  },
  {
   "cell_type": "code",
   "execution_count": 7,
   "metadata": {},
   "outputs": [],
   "source": [
    "adata = sc.read_10x_mtx(\n",
    "    'data/filtered_gene_bc_matrices/hg19/',  # the directory with the `.mtx` file\n",
    "    var_names='gene_symbols',                # use gene symbols for the variable names (variables-axis index)\n",
    "    cache=True)   "
   ]
  },
  {
   "cell_type": "code",
   "execution_count": 8,
   "metadata": {},
   "outputs": [],
   "source": [
    "sc.pp.filter_cells(adata, min_genes=200)\n",
    "sc.pp.filter_genes(adata, min_cells=3)"
   ]
  },
  {
   "cell_type": "code",
   "execution_count": 9,
   "metadata": {},
   "outputs": [],
   "source": [
    "adata.var['mt'] = adata.var_names.str.startswith('MT-')  # annotate the group of mitochondrial genes as 'mt'\n",
    "sc.pp.calculate_qc_metrics(adata, qc_vars=['mt'], percent_top=None, inplace=True)"
   ]
  },
  {
   "cell_type": "code",
   "execution_count": 10,
   "metadata": {},
   "outputs": [],
   "source": [
    "adata = adata[adata.obs.n_genes_by_counts < 2500, :]\n",
    "adata = adata[adata.obs.pct_counts_mt < 5, :]"
   ]
  },
  {
   "cell_type": "code",
   "execution_count": 11,
   "metadata": {},
   "outputs": [],
   "source": [
    "sc.pp.normalize_total(adata, target_sum=1e4)"
   ]
  },
  {
   "cell_type": "code",
   "execution_count": 12,
   "metadata": {},
   "outputs": [
    {
     "name": "stderr",
     "output_type": "stream",
     "text": [
      "/opt/conda/lib/python3.7/site-packages/scanpy/preprocessing/_simple.py:297: UserWarning: Revieved a view of an AnnData. Making a copy.\n",
      "  view_to_actual(data)\n"
     ]
    }
   ],
   "source": [
    "sc.pp.log1p(adata)"
   ]
  },
  {
   "cell_type": "code",
   "execution_count": 13,
   "metadata": {},
   "outputs": [],
   "source": [
    "sc.pp.highly_variable_genes(adata, min_mean=0.0125, max_mean=3, min_disp=0.5)"
   ]
  },
  {
   "cell_type": "code",
   "execution_count": 14,
   "metadata": {},
   "outputs": [],
   "source": [
    "adata = adata[:, adata.var.highly_variable]"
   ]
  },
  {
   "cell_type": "code",
   "execution_count": 15,
   "metadata": {},
   "outputs": [
    {
     "data": {
      "text/plain": [
       "<2638x1838 sparse matrix of type '<class 'numpy.float32'>'\n",
       "\twith 408743 stored elements in Compressed Sparse Row format>"
      ]
     },
     "execution_count": 15,
     "metadata": {},
     "output_type": "execute_result"
    }
   ],
   "source": [
    "adata.X"
   ]
  },
  {
   "cell_type": "code",
   "execution_count": 16,
   "metadata": {},
   "outputs": [
    {
     "data": {
      "text/plain": [
       "(array([   0,    0,    0, ..., 2637, 2637, 2637], dtype=int32),\n",
       " array([   5,   13,   17, ..., 1806, 1808, 1816], dtype=int32))"
      ]
     },
     "execution_count": 16,
     "metadata": {},
     "output_type": "execute_result"
    }
   ],
   "source": [
    "adata.X.nonzero()"
   ]
  },
  {
   "cell_type": "code",
   "execution_count": 17,
   "metadata": {},
   "outputs": [],
   "source": [
    "data = pd.DataFrame.sparse.from_spmatrix(adata.X)"
   ]
  },
  {
   "cell_type": "code",
   "execution_count": 18,
   "metadata": {},
   "outputs": [],
   "source": [
    "total_data = pd.concat([data,sim_data['truth_names']], axis = 1)"
   ]
  },
  {
   "cell_type": "code",
   "execution_count": 19,
   "metadata": {},
   "outputs": [
    {
     "data": {
      "text/plain": [
       "array(['CD8', 'CD4 T', 'CD14+', 'NK', 'Other', 'B Cells',\n",
       "       'FCGR3A Monocytes', 'Dendritic', 'Megakaryocytes'], dtype=object)"
      ]
     },
     "execution_count": 19,
     "metadata": {},
     "output_type": "execute_result"
    }
   ],
   "source": [
    "total_data['truth_names'].unique()"
   ]
  },
  {
   "cell_type": "code",
   "execution_count": 20,
   "metadata": {},
   "outputs": [],
   "source": [
    "total_data['weights'] = 1"
   ]
  },
  {
   "cell_type": "code",
   "execution_count": 21,
   "metadata": {},
   "outputs": [],
   "source": [
    "total_data.loc[total_data['truth_names'] == 'Dendritic', 'weights'] = .5"
   ]
  },
  {
   "cell_type": "code",
   "execution_count": 36,
   "metadata": {},
   "outputs": [],
   "source": [
    "new_data = total_data.sample(n = 2328, replace = False, \n",
    "                             random_state = 2, weights = total_data['weights'])"
   ]
  },
  {
   "cell_type": "code",
   "execution_count": 37,
   "metadata": {},
   "outputs": [
    {
     "data": {
      "text/plain": [
       "CD4 T               688\n",
       "CD14+               475\n",
       "Other               406\n",
       "CD8                 254\n",
       "B Cells             229\n",
       "NK                  138\n",
       "FCGR3A Monocytes     93\n",
       "Dendritic            33\n",
       "Megakaryocytes       12\n",
       "Name: truth_names, dtype: int64"
      ]
     },
     "execution_count": 37,
     "metadata": {},
     "output_type": "execute_result"
    }
   ],
   "source": [
    "new_data['truth_names'].value_counts()"
   ]
  },
  {
   "cell_type": "code",
   "execution_count": 38,
   "metadata": {},
   "outputs": [
    {
     "data": {
      "text/plain": [
       "Index([            0,             1,             2,             3,\n",
       "                   4,             5,             6,             7,\n",
       "                   8,             9,\n",
       "       ...\n",
       "                1830,          1831,          1832,          1833,\n",
       "                1834,          1835,          1836,          1837,\n",
       "       'truth_names',     'weights'],\n",
       "      dtype='object', length=1840)"
      ]
     },
     "execution_count": 38,
     "metadata": {},
     "output_type": "execute_result"
    }
   ],
   "source": [
    "new_data.columns"
   ]
  },
  {
   "cell_type": "code",
   "execution_count": 25,
   "metadata": {},
   "outputs": [],
   "source": [
    "cols = [var for var in new_data.columns if var not in ['truth_names','weights']]"
   ]
  },
  {
   "cell_type": "code",
   "execution_count": 26,
   "metadata": {},
   "outputs": [
    {
     "data": {
      "text/plain": [
       "View of AnnData object with n_obs × n_vars = 2638 × 1838 \n",
       "    obs: 'n_genes', 'n_genes_by_counts', 'log1p_n_genes_by_counts', 'total_counts', 'log1p_total_counts', 'total_counts_mt', 'log1p_total_counts_mt', 'pct_counts_mt'\n",
       "    var: 'gene_ids', 'n_cells', 'mt', 'n_cells_by_counts', 'mean_counts', 'log1p_mean_counts', 'pct_dropout_by_counts', 'total_counts', 'log1p_total_counts', 'highly_variable', 'means', 'dispersions', 'dispersions_norm'\n",
       "    uns: 'log1p'"
      ]
     },
     "execution_count": 26,
     "metadata": {},
     "output_type": "execute_result"
    }
   ],
   "source": [
    "adata"
   ]
  },
  {
   "cell_type": "code",
   "execution_count": null,
   "metadata": {},
   "outputs": [],
   "source": [
    "#trick scanpy into filtering additional cells.\n",
    "#so that I can make assignment later\n",
    "#will want to clean this up later"
   ]
  },
  {
   "cell_type": "code",
   "execution_count": 31,
   "metadata": {},
   "outputs": [],
   "source": [
    "sc.pp.filter_cells(adata, min_genes=100)"
   ]
  },
  {
   "cell_type": "code",
   "execution_count": 32,
   "metadata": {},
   "outputs": [
    {
     "data": {
      "text/plain": [
       "AnnData object with n_obs × n_vars = 2328 × 1838 \n",
       "    obs: 'n_genes', 'n_genes_by_counts', 'log1p_n_genes_by_counts', 'total_counts', 'log1p_total_counts', 'total_counts_mt', 'log1p_total_counts_mt', 'pct_counts_mt'\n",
       "    var: 'gene_ids', 'n_cells', 'mt', 'n_cells_by_counts', 'mean_counts', 'log1p_mean_counts', 'pct_dropout_by_counts', 'total_counts', 'log1p_total_counts', 'highly_variable', 'means', 'dispersions', 'dispersions_norm'\n",
       "    uns: 'log1p'"
      ]
     },
     "execution_count": 32,
     "metadata": {},
     "output_type": "execute_result"
    }
   ],
   "source": [
    "adata"
   ]
  },
  {
   "cell_type": "code",
   "execution_count": 39,
   "metadata": {},
   "outputs": [],
   "source": [
    "adata.X = new_data[cols].values"
   ]
  },
  {
   "cell_type": "code",
   "execution_count": 40,
   "metadata": {},
   "outputs": [
    {
     "data": {
      "text/plain": [
       "AnnData object with n_obs × n_vars = 2328 × 1838 \n",
       "    obs: 'n_genes', 'n_genes_by_counts', 'log1p_n_genes_by_counts', 'total_counts', 'log1p_total_counts', 'total_counts_mt', 'log1p_total_counts_mt', 'pct_counts_mt'\n",
       "    var: 'gene_ids', 'n_cells', 'mt', 'n_cells_by_counts', 'mean_counts', 'log1p_mean_counts', 'pct_dropout_by_counts', 'total_counts', 'log1p_total_counts', 'highly_variable', 'means', 'dispersions', 'dispersions_norm'\n",
       "    uns: 'log1p'"
      ]
     },
     "execution_count": 40,
     "metadata": {},
     "output_type": "execute_result"
    }
   ],
   "source": [
    "adata"
   ]
  },
  {
   "cell_type": "code",
   "execution_count": 41,
   "metadata": {},
   "outputs": [],
   "source": [
    "sc.pp.regress_out(adata, ['total_counts', 'pct_counts_mt'])"
   ]
  },
  {
   "cell_type": "code",
   "execution_count": 42,
   "metadata": {},
   "outputs": [
    {
     "data": {
      "text/plain": [
       "array([[-0.10941371,  1.81278416, -0.00670635, ..., -0.02189088,\n",
       "        -0.07794149,  0.9859726 ],\n",
       "       [ 1.44705919, -0.19916775, -0.01173237, ..., -0.01876304,\n",
       "        -0.08626134, -0.35953965],\n",
       "       [-0.08400768, -0.1150032 , -0.00595699, ..., -0.01063621,\n",
       "        -0.06949817, -0.33967609],\n",
       "       ...,\n",
       "       [-0.08013368, -0.12079936, -0.00650612, ..., -0.01003191,\n",
       "        -0.07024583, -0.33264522],\n",
       "       [-0.11388184, -0.11440416, -0.0046615 , ..., -0.02022218,\n",
       "        -0.07274906,  1.02304457],\n",
       "       [-0.09974709, -0.09358495, -0.00386796, ..., -0.01332937,\n",
       "        -0.06689618, -0.36897695]])"
      ]
     },
     "execution_count": 42,
     "metadata": {},
     "output_type": "execute_result"
    }
   ],
   "source": [
    "adata.X"
   ]
  },
  {
   "cell_type": "code",
   "execution_count": 43,
   "metadata": {},
   "outputs": [
    {
     "data": {
      "text/plain": [
       "(2328, 1838)"
      ]
     },
     "execution_count": 43,
     "metadata": {},
     "output_type": "execute_result"
    }
   ],
   "source": [
    "adata.X.shape"
   ]
  },
  {
   "cell_type": "code",
   "execution_count": 44,
   "metadata": {},
   "outputs": [],
   "source": [
    "sc.pp.scale(adata, max_value=10)"
   ]
  },
  {
   "cell_type": "code",
   "execution_count": 45,
   "metadata": {},
   "outputs": [],
   "source": [
    "adata.write('pbmc_sample_preprocess.h5ad')"
   ]
  },
  {
   "cell_type": "code",
   "execution_count": 48,
   "metadata": {},
   "outputs": [],
   "source": [
    "new_data[['truth_names']].to_csv('sample_reweighted_ground_truth.csv',index = True)"
   ]
  },
  {
   "cell_type": "code",
   "execution_count": 49,
   "metadata": {},
   "outputs": [
    {
     "data": {
      "text/plain": [
       "(2328, 1840)"
      ]
     },
     "execution_count": 49,
     "metadata": {},
     "output_type": "execute_result"
    }
   ],
   "source": [
    "new_data.shape"
   ]
  },
  {
   "cell_type": "code",
   "execution_count": null,
   "metadata": {},
   "outputs": [],
   "source": [
    "#resample data"
   ]
  }
 ],
 "metadata": {
  "kernelspec": {
   "display_name": "Python 3",
   "language": "python",
   "name": "python3"
  },
  "language_info": {
   "codemirror_mode": {
    "name": "ipython",
    "version": 3
   },
   "file_extension": ".py",
   "mimetype": "text/x-python",
   "name": "python",
   "nbconvert_exporter": "python",
   "pygments_lexer": "ipython3",
   "version": "3.7.6"
  }
 },
 "nbformat": 4,
 "nbformat_minor": 4
}
