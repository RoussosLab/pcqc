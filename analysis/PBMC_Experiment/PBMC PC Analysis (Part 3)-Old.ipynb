{
 "cells": [
  {
   "cell_type": "markdown",
   "metadata": {},
   "source": [
    "### For Future Iteration \n",
    "1. Preprocess simulated data again from beginning as the resampling could slightly impact the regression, etc.\n",
    "2. Refine Kruskal Method to be an iterative process (although this is tricky to define in general- parameter sensitive)"
   ]
  },
  {
   "cell_type": "code",
   "execution_count": 1,
   "metadata": {},
   "outputs": [
    {
     "name": "stderr",
     "output_type": "stream",
     "text": [
      "/opt/conda/lib/python3.7/site-packages/anndata/_core/anndata.py:21: FutureWarning: pandas.core.index is deprecated and will be removed in a future version.  The public classes are available in the top-level namespace.\n",
      "  from pandas.core.index import RangeIndex\n"
     ]
    }
   ],
   "source": [
    "import sys\n",
    "sys.path.append('../pcqc')\n",
    "import numpy as np\n",
    "import pandas as pd\n",
    "import matplotlib.pyplot as plt\n",
    "import seaborn as sns\n",
    "from pcqc import *\n",
    "from kruskal_best_pcs import *"
   ]
  },
  {
   "cell_type": "code",
   "execution_count": 213,
   "metadata": {},
   "outputs": [],
   "source": [
    "sim_data = pd.read_csv('data/pbmc_original_data.csv')"
   ]
  },
  {
   "cell_type": "code",
   "execution_count": 214,
   "metadata": {},
   "outputs": [
    {
     "data": {
      "text/html": [
       "<div>\n",
       "<style scoped>\n",
       "    .dataframe tbody tr th:only-of-type {\n",
       "        vertical-align: middle;\n",
       "    }\n",
       "\n",
       "    .dataframe tbody tr th {\n",
       "        vertical-align: top;\n",
       "    }\n",
       "\n",
       "    .dataframe thead th {\n",
       "        text-align: right;\n",
       "    }\n",
       "</style>\n",
       "<table border=\"1\" class=\"dataframe\">\n",
       "  <thead>\n",
       "    <tr style=\"text-align: right;\">\n",
       "      <th></th>\n",
       "      <th>Unnamed: 0</th>\n",
       "      <th>0</th>\n",
       "      <th>1</th>\n",
       "      <th>2</th>\n",
       "      <th>3</th>\n",
       "      <th>4</th>\n",
       "      <th>5</th>\n",
       "      <th>6</th>\n",
       "      <th>7</th>\n",
       "      <th>8</th>\n",
       "      <th>...</th>\n",
       "      <th>1830</th>\n",
       "      <th>1831</th>\n",
       "      <th>1832</th>\n",
       "      <th>1833</th>\n",
       "      <th>1834</th>\n",
       "      <th>1835</th>\n",
       "      <th>1836</th>\n",
       "      <th>1837</th>\n",
       "      <th>reduced_clustering</th>\n",
       "      <th>truth_names</th>\n",
       "    </tr>\n",
       "  </thead>\n",
       "  <tbody>\n",
       "    <tr>\n",
       "      <th>0</th>\n",
       "      <td>0</td>\n",
       "      <td>-0.171470</td>\n",
       "      <td>-0.280812</td>\n",
       "      <td>-0.046677</td>\n",
       "      <td>-0.475169</td>\n",
       "      <td>-0.544024</td>\n",
       "      <td>4.928497</td>\n",
       "      <td>-0.038028</td>\n",
       "      <td>-0.280573</td>\n",
       "      <td>-0.341788</td>\n",
       "      <td>...</td>\n",
       "      <td>-0.102943</td>\n",
       "      <td>-0.222116</td>\n",
       "      <td>-0.312401</td>\n",
       "      <td>-0.121678</td>\n",
       "      <td>-0.521229</td>\n",
       "      <td>-0.098269</td>\n",
       "      <td>-0.209095</td>\n",
       "      <td>-0.531203</td>\n",
       "      <td>0</td>\n",
       "      <td>CD8</td>\n",
       "    </tr>\n",
       "    <tr>\n",
       "      <th>1</th>\n",
       "      <td>1</td>\n",
       "      <td>-0.214582</td>\n",
       "      <td>-0.372653</td>\n",
       "      <td>-0.054804</td>\n",
       "      <td>-0.683391</td>\n",
       "      <td>0.633951</td>\n",
       "      <td>-0.334837</td>\n",
       "      <td>-0.045589</td>\n",
       "      <td>-0.498264</td>\n",
       "      <td>-0.541914</td>\n",
       "      <td>...</td>\n",
       "      <td>0.007155</td>\n",
       "      <td>-0.445372</td>\n",
       "      <td>1.629285</td>\n",
       "      <td>-0.058662</td>\n",
       "      <td>-0.857163</td>\n",
       "      <td>-0.266844</td>\n",
       "      <td>-0.313146</td>\n",
       "      <td>-0.596654</td>\n",
       "      <td>2</td>\n",
       "      <td>CD4 T</td>\n",
       "    </tr>\n",
       "    <tr>\n",
       "      <th>2</th>\n",
       "      <td>2</td>\n",
       "      <td>-0.376888</td>\n",
       "      <td>-0.295085</td>\n",
       "      <td>-0.057527</td>\n",
       "      <td>-0.520972</td>\n",
       "      <td>1.332648</td>\n",
       "      <td>-0.309362</td>\n",
       "      <td>-0.103108</td>\n",
       "      <td>-0.272526</td>\n",
       "      <td>-0.500799</td>\n",
       "      <td>...</td>\n",
       "      <td>-0.071774</td>\n",
       "      <td>-0.297857</td>\n",
       "      <td>-0.410920</td>\n",
       "      <td>-0.070431</td>\n",
       "      <td>-0.590720</td>\n",
       "      <td>-0.158656</td>\n",
       "      <td>-0.170876</td>\n",
       "      <td>1.379000</td>\n",
       "      <td>2</td>\n",
       "      <td>CD4 T</td>\n",
       "    </tr>\n",
       "    <tr>\n",
       "      <th>3</th>\n",
       "      <td>3</td>\n",
       "      <td>-0.285241</td>\n",
       "      <td>-0.281735</td>\n",
       "      <td>-0.052227</td>\n",
       "      <td>-0.484929</td>\n",
       "      <td>1.572680</td>\n",
       "      <td>-0.271825</td>\n",
       "      <td>-0.074552</td>\n",
       "      <td>-0.258875</td>\n",
       "      <td>-0.416752</td>\n",
       "      <td>...</td>\n",
       "      <td>-0.093818</td>\n",
       "      <td>-0.247770</td>\n",
       "      <td>2.552079</td>\n",
       "      <td>-0.097402</td>\n",
       "      <td>1.631684</td>\n",
       "      <td>-0.119462</td>\n",
       "      <td>-0.179120</td>\n",
       "      <td>-0.505669</td>\n",
       "      <td>1</td>\n",
       "      <td>CD14+</td>\n",
       "    </tr>\n",
       "    <tr>\n",
       "      <th>4</th>\n",
       "      <td>4</td>\n",
       "      <td>-0.256484</td>\n",
       "      <td>-0.220394</td>\n",
       "      <td>-0.046800</td>\n",
       "      <td>-0.345859</td>\n",
       "      <td>-0.333409</td>\n",
       "      <td>-0.208122</td>\n",
       "      <td>-0.069514</td>\n",
       "      <td>5.806440</td>\n",
       "      <td>-0.283112</td>\n",
       "      <td>...</td>\n",
       "      <td>-0.167350</td>\n",
       "      <td>-0.098665</td>\n",
       "      <td>-0.275836</td>\n",
       "      <td>-0.139482</td>\n",
       "      <td>-0.310095</td>\n",
       "      <td>-0.006877</td>\n",
       "      <td>-0.109614</td>\n",
       "      <td>-0.461946</td>\n",
       "      <td>3</td>\n",
       "      <td>NK</td>\n",
       "    </tr>\n",
       "  </tbody>\n",
       "</table>\n",
       "<p>5 rows × 1841 columns</p>\n",
       "</div>"
      ],
      "text/plain": [
       "   Unnamed: 0         0         1         2         3         4         5  \\\n",
       "0           0 -0.171470 -0.280812 -0.046677 -0.475169 -0.544024  4.928497   \n",
       "1           1 -0.214582 -0.372653 -0.054804 -0.683391  0.633951 -0.334837   \n",
       "2           2 -0.376888 -0.295085 -0.057527 -0.520972  1.332648 -0.309362   \n",
       "3           3 -0.285241 -0.281735 -0.052227 -0.484929  1.572680 -0.271825   \n",
       "4           4 -0.256484 -0.220394 -0.046800 -0.345859 -0.333409 -0.208122   \n",
       "\n",
       "          6         7         8  ...      1830      1831      1832      1833  \\\n",
       "0 -0.038028 -0.280573 -0.341788  ... -0.102943 -0.222116 -0.312401 -0.121678   \n",
       "1 -0.045589 -0.498264 -0.541914  ...  0.007155 -0.445372  1.629285 -0.058662   \n",
       "2 -0.103108 -0.272526 -0.500799  ... -0.071774 -0.297857 -0.410920 -0.070431   \n",
       "3 -0.074552 -0.258875 -0.416752  ... -0.093818 -0.247770  2.552079 -0.097402   \n",
       "4 -0.069514  5.806440 -0.283112  ... -0.167350 -0.098665 -0.275836 -0.139482   \n",
       "\n",
       "       1834      1835      1836      1837  reduced_clustering  truth_names  \n",
       "0 -0.521229 -0.098269 -0.209095 -0.531203                   0          CD8  \n",
       "1 -0.857163 -0.266844 -0.313146 -0.596654                   2        CD4 T  \n",
       "2 -0.590720 -0.158656 -0.170876  1.379000                   2        CD4 T  \n",
       "3  1.631684 -0.119462 -0.179120 -0.505669                   1        CD14+  \n",
       "4 -0.310095 -0.006877 -0.109614 -0.461946                   3           NK  \n",
       "\n",
       "[5 rows x 1841 columns]"
      ]
     },
     "execution_count": 214,
     "metadata": {},
     "output_type": "execute_result"
    }
   ],
   "source": [
    "sim_data.head()"
   ]
  },
  {
   "cell_type": "code",
   "execution_count": 215,
   "metadata": {},
   "outputs": [],
   "source": [
    "data = sim_data.iloc[:,1:1839]"
   ]
  },
  {
   "cell_type": "markdown",
   "metadata": {},
   "source": [
    "### Run PCQC"
   ]
  },
  {
   "cell_type": "code",
   "execution_count": 216,
   "metadata": {},
   "outputs": [
    {
     "data": {
      "text/plain": [
       "array([0.02012665, 0.01173268, 0.00979   , 0.00829639, 0.00301003,\n",
       "       0.00249836, 0.00221046, 0.00202671, 0.0019566 , 0.00192758,\n",
       "       0.00187948, 0.00185546, 0.00185016, 0.00184544, 0.0018264 ,\n",
       "       0.0018171 , 0.00180573, 0.00179558, 0.00178203, 0.00177742])"
      ]
     },
     "execution_count": 216,
     "metadata": {},
     "output_type": "execute_result"
    }
   ],
   "source": [
    "pca = PC_Cluster(n_pcs = 100)\n",
    "pca.fit(data.values)\n",
    "pca.norm_eigenvalues[0:20]"
   ]
  },
  {
   "cell_type": "code",
   "execution_count": 217,
   "metadata": {},
   "outputs": [
    {
     "data": {
      "text/plain": [
       "array([290.99080096, 222.17348561, 202.94800732, 186.82638292,\n",
       "       112.53282036, 102.52284537,  96.43508072,  92.33988782,\n",
       "        90.72860407,  90.05341191,  88.92259855,  88.35249282,\n",
       "        88.22623294,  88.11364853,  87.65796801,  87.43456737,\n",
       "        87.1606445 ,  86.91521122,  86.58669766,  86.47472017,\n",
       "        86.40869143,  86.2086503 ,  85.98342176,  85.92890392,\n",
       "        85.75879114,  85.59200334,  85.47530624,  85.3160535 ,\n",
       "        85.21694634,  85.09497396,  84.95855928,  84.9111451 ,\n",
       "        84.72571183,  84.57164795,  84.4181872 ,  84.38023223,\n",
       "        84.12736681,  84.05184353,  84.01828338,  83.97280125])"
      ]
     },
     "execution_count": 217,
     "metadata": {},
     "output_type": "execute_result"
    }
   ],
   "source": [
    "pca.singular_values[0:40]"
   ]
  },
  {
   "cell_type": "code",
   "execution_count": 218,
   "metadata": {},
   "outputs": [
    {
     "data": {
      "text/html": [
       "<div>\n",
       "<style scoped>\n",
       "    .dataframe tbody tr th:only-of-type {\n",
       "        vertical-align: middle;\n",
       "    }\n",
       "\n",
       "    .dataframe tbody tr th {\n",
       "        vertical-align: top;\n",
       "    }\n",
       "\n",
       "    .dataframe thead th {\n",
       "        text-align: right;\n",
       "    }\n",
       "</style>\n",
       "<table border=\"1\" class=\"dataframe\">\n",
       "  <thead>\n",
       "    <tr style=\"text-align: right;\">\n",
       "      <th></th>\n",
       "      <th>PC_Dist_0</th>\n",
       "      <th>PC_Dist_1</th>\n",
       "      <th>PC_Dist_2</th>\n",
       "      <th>PC_Dist_3</th>\n",
       "      <th>PC_Dist_4</th>\n",
       "      <th>PC_Dist_5</th>\n",
       "      <th>PC_Dist_6</th>\n",
       "      <th>PC_Dist_7</th>\n",
       "      <th>PC_Dist_8</th>\n",
       "      <th>PC_Dist_9</th>\n",
       "      <th>...</th>\n",
       "      <th>PC_Dist_90</th>\n",
       "      <th>PC_Dist_91</th>\n",
       "      <th>PC_Dist_92</th>\n",
       "      <th>PC_Dist_93</th>\n",
       "      <th>PC_Dist_94</th>\n",
       "      <th>PC_Dist_95</th>\n",
       "      <th>PC_Dist_96</th>\n",
       "      <th>PC_Dist_97</th>\n",
       "      <th>PC_Dist_98</th>\n",
       "      <th>PC_Dist_99</th>\n",
       "    </tr>\n",
       "  </thead>\n",
       "  <tbody>\n",
       "    <tr>\n",
       "      <th>0</th>\n",
       "      <td>7.370892e-06</td>\n",
       "      <td>1.606444e-08</td>\n",
       "      <td>1.292511e-09</td>\n",
       "      <td>1.906396e-06</td>\n",
       "      <td>7.261065e-10</td>\n",
       "      <td>5.039832e-11</td>\n",
       "      <td>8.045703e-08</td>\n",
       "      <td>2.232605e-06</td>\n",
       "      <td>2.098192e-06</td>\n",
       "      <td>8.986616e-07</td>\n",
       "      <td>...</td>\n",
       "      <td>5.884445e-07</td>\n",
       "      <td>4.264131e-07</td>\n",
       "      <td>4.772918e-09</td>\n",
       "      <td>2.397413e-07</td>\n",
       "      <td>1.362874e-07</td>\n",
       "      <td>1.280025e-08</td>\n",
       "      <td>5.251442e-07</td>\n",
       "      <td>2.731123e-07</td>\n",
       "      <td>6.852190e-07</td>\n",
       "      <td>7.353519e-07</td>\n",
       "    </tr>\n",
       "    <tr>\n",
       "      <th>1</th>\n",
       "      <td>1.239648e-05</td>\n",
       "      <td>1.331350e-05</td>\n",
       "      <td>1.582314e-08</td>\n",
       "      <td>1.516528e-05</td>\n",
       "      <td>2.142233e-06</td>\n",
       "      <td>3.533945e-09</td>\n",
       "      <td>1.377374e-06</td>\n",
       "      <td>2.673263e-07</td>\n",
       "      <td>9.679425e-08</td>\n",
       "      <td>1.036112e-07</td>\n",
       "      <td>...</td>\n",
       "      <td>6.678799e-07</td>\n",
       "      <td>3.869001e-07</td>\n",
       "      <td>5.825933e-07</td>\n",
       "      <td>1.911799e-06</td>\n",
       "      <td>3.678298e-07</td>\n",
       "      <td>2.147745e-07</td>\n",
       "      <td>3.178895e-08</td>\n",
       "      <td>4.375681e-07</td>\n",
       "      <td>3.846201e-08</td>\n",
       "      <td>6.771211e-07</td>\n",
       "    </tr>\n",
       "    <tr>\n",
       "      <th>2</th>\n",
       "      <td>1.741570e-06</td>\n",
       "      <td>5.944674e-07</td>\n",
       "      <td>7.209295e-08</td>\n",
       "      <td>1.190835e-06</td>\n",
       "      <td>7.645581e-07</td>\n",
       "      <td>9.006031e-07</td>\n",
       "      <td>9.957315e-07</td>\n",
       "      <td>6.073309e-07</td>\n",
       "      <td>2.144548e-07</td>\n",
       "      <td>4.646564e-07</td>\n",
       "      <td>...</td>\n",
       "      <td>1.234377e-07</td>\n",
       "      <td>4.954344e-08</td>\n",
       "      <td>3.424159e-07</td>\n",
       "      <td>2.001739e-07</td>\n",
       "      <td>4.047485e-07</td>\n",
       "      <td>7.668854e-08</td>\n",
       "      <td>1.507830e-06</td>\n",
       "      <td>1.421585e-07</td>\n",
       "      <td>9.687281e-07</td>\n",
       "      <td>1.292944e-10</td>\n",
       "    </tr>\n",
       "    <tr>\n",
       "      <th>3</th>\n",
       "      <td>2.439416e-05</td>\n",
       "      <td>4.436121e-07</td>\n",
       "      <td>4.155001e-07</td>\n",
       "      <td>1.063058e-07</td>\n",
       "      <td>2.014659e-06</td>\n",
       "      <td>2.377038e-10</td>\n",
       "      <td>4.016027e-07</td>\n",
       "      <td>3.709437e-08</td>\n",
       "      <td>1.898643e-07</td>\n",
       "      <td>2.240972e-11</td>\n",
       "      <td>...</td>\n",
       "      <td>1.405138e-07</td>\n",
       "      <td>5.920863e-07</td>\n",
       "      <td>4.571019e-09</td>\n",
       "      <td>1.144099e-08</td>\n",
       "      <td>3.633370e-08</td>\n",
       "      <td>1.242972e-07</td>\n",
       "      <td>6.656153e-08</td>\n",
       "      <td>3.338272e-07</td>\n",
       "      <td>6.862598e-08</td>\n",
       "      <td>4.297384e-07</td>\n",
       "    </tr>\n",
       "    <tr>\n",
       "      <th>4</th>\n",
       "      <td>2.877294e-07</td>\n",
       "      <td>1.578983e-05</td>\n",
       "      <td>4.921933e-07</td>\n",
       "      <td>4.236064e-06</td>\n",
       "      <td>9.113367e-07</td>\n",
       "      <td>7.657503e-06</td>\n",
       "      <td>3.707000e-08</td>\n",
       "      <td>4.738933e-09</td>\n",
       "      <td>1.475366e-07</td>\n",
       "      <td>3.288386e-09</td>\n",
       "      <td>...</td>\n",
       "      <td>2.781326e-07</td>\n",
       "      <td>1.219959e-07</td>\n",
       "      <td>1.459721e-07</td>\n",
       "      <td>4.126577e-08</td>\n",
       "      <td>4.443362e-07</td>\n",
       "      <td>3.575474e-07</td>\n",
       "      <td>7.323167e-07</td>\n",
       "      <td>2.246008e-07</td>\n",
       "      <td>1.700669e-06</td>\n",
       "      <td>8.497985e-11</td>\n",
       "    </tr>\n",
       "  </tbody>\n",
       "</table>\n",
       "<p>5 rows × 100 columns</p>\n",
       "</div>"
      ],
      "text/plain": [
       "      PC_Dist_0     PC_Dist_1     PC_Dist_2     PC_Dist_3     PC_Dist_4  \\\n",
       "0  7.370892e-06  1.606444e-08  1.292511e-09  1.906396e-06  7.261065e-10   \n",
       "1  1.239648e-05  1.331350e-05  1.582314e-08  1.516528e-05  2.142233e-06   \n",
       "2  1.741570e-06  5.944674e-07  7.209295e-08  1.190835e-06  7.645581e-07   \n",
       "3  2.439416e-05  4.436121e-07  4.155001e-07  1.063058e-07  2.014659e-06   \n",
       "4  2.877294e-07  1.578983e-05  4.921933e-07  4.236064e-06  9.113367e-07   \n",
       "\n",
       "      PC_Dist_5     PC_Dist_6     PC_Dist_7     PC_Dist_8     PC_Dist_9  ...  \\\n",
       "0  5.039832e-11  8.045703e-08  2.232605e-06  2.098192e-06  8.986616e-07  ...   \n",
       "1  3.533945e-09  1.377374e-06  2.673263e-07  9.679425e-08  1.036112e-07  ...   \n",
       "2  9.006031e-07  9.957315e-07  6.073309e-07  2.144548e-07  4.646564e-07  ...   \n",
       "3  2.377038e-10  4.016027e-07  3.709437e-08  1.898643e-07  2.240972e-11  ...   \n",
       "4  7.657503e-06  3.707000e-08  4.738933e-09  1.475366e-07  3.288386e-09  ...   \n",
       "\n",
       "     PC_Dist_90    PC_Dist_91    PC_Dist_92    PC_Dist_93    PC_Dist_94  \\\n",
       "0  5.884445e-07  4.264131e-07  4.772918e-09  2.397413e-07  1.362874e-07   \n",
       "1  6.678799e-07  3.869001e-07  5.825933e-07  1.911799e-06  3.678298e-07   \n",
       "2  1.234377e-07  4.954344e-08  3.424159e-07  2.001739e-07  4.047485e-07   \n",
       "3  1.405138e-07  5.920863e-07  4.571019e-09  1.144099e-08  3.633370e-08   \n",
       "4  2.781326e-07  1.219959e-07  1.459721e-07  4.126577e-08  4.443362e-07   \n",
       "\n",
       "     PC_Dist_95    PC_Dist_96    PC_Dist_97    PC_Dist_98    PC_Dist_99  \n",
       "0  1.280025e-08  5.251442e-07  2.731123e-07  6.852190e-07  7.353519e-07  \n",
       "1  2.147745e-07  3.178895e-08  4.375681e-07  3.846201e-08  6.771211e-07  \n",
       "2  7.668854e-08  1.507830e-06  1.421585e-07  9.687281e-07  1.292944e-10  \n",
       "3  1.242972e-07  6.656153e-08  3.338272e-07  6.862598e-08  4.297384e-07  \n",
       "4  3.575474e-07  7.323167e-07  2.246008e-07  1.700669e-06  8.497985e-11  \n",
       "\n",
       "[5 rows x 100 columns]"
      ]
     },
     "execution_count": 218,
     "metadata": {},
     "output_type": "execute_result"
    }
   ],
   "source": [
    "pca.pc_distribution()\n",
    "pca.df_pca_dist.head()"
   ]
  },
  {
   "cell_type": "code",
   "execution_count": 219,
   "metadata": {},
   "outputs": [
    {
     "data": {
      "text/plain": [
       "<matplotlib.axes._subplots.AxesSubplot at 0x7f87bd863750>"
      ]
     },
     "execution_count": 219,
     "metadata": {},
     "output_type": "execute_result"
    },
    {
     "data": {
      "image/png": "[encoded data removed]",
      "text/plain": [
       "<Figure size 432x288 with 1 Axes>"
      ]
     },
     "metadata": {
      "needs_background": "light"
     },
     "output_type": "display_data"
    }
   ],
   "source": [
    "pc_distplot(pca, cols = np.arange(0,10))"
   ]
  },
  {
   "cell_type": "code",
   "execution_count": 220,
   "metadata": {},
   "outputs": [],
   "source": [
    "pca.pc_stats(thresholds=[0.9,0.95,0.98,0.99,0.995])"
   ]
  },
  {
   "cell_type": "code",
   "execution_count": 348,
   "metadata": {},
   "outputs": [
    {
     "data": {
      "text/html": [
       "<div>\n",
       "<style scoped>\n",
       "    .dataframe tbody tr th:only-of-type {\n",
       "        vertical-align: middle;\n",
       "    }\n",
       "\n",
       "    .dataframe tbody tr th {\n",
       "        vertical-align: top;\n",
       "    }\n",
       "\n",
       "    .dataframe thead th {\n",
       "        text-align: right;\n",
       "    }\n",
       "</style>\n",
       "<table border=\"1\" class=\"dataframe\">\n",
       "  <thead>\n",
       "    <tr style=\"text-align: right;\">\n",
       "      <th></th>\n",
       "      <th>90.0_Percentile</th>\n",
       "      <th>95.0_Percentile</th>\n",
       "      <th>98.0_Percentile</th>\n",
       "      <th>99.0_Percentile</th>\n",
       "      <th>100.0_Percentile</th>\n",
       "      <th>evalue</th>\n",
       "      <th>rank</th>\n",
       "    </tr>\n",
       "  </thead>\n",
       "  <tbody>\n",
       "    <tr>\n",
       "      <th>PC_Dist_2</th>\n",
       "      <td>7.406829e-13</td>\n",
       "      <td>1.000187e-12</td>\n",
       "      <td>1.469928e-12</td>\n",
       "      <td>2.218325e-12</td>\n",
       "      <td>9.497100e-11</td>\n",
       "      <td>9.789995e-09</td>\n",
       "      <td>0.000003</td>\n",
       "    </tr>\n",
       "    <tr>\n",
       "      <th>PC_Dist_1</th>\n",
       "      <td>1.388939e-11</td>\n",
       "      <td>2.259476e-11</td>\n",
       "      <td>4.040342e-11</td>\n",
       "      <td>4.865603e-11</td>\n",
       "      <td>5.388433e-11</td>\n",
       "      <td>1.173268e-08</td>\n",
       "      <td>0.000002</td>\n",
       "    </tr>\n",
       "    <tr>\n",
       "      <th>PC_Dist_0</th>\n",
       "      <td>2.428705e-11</td>\n",
       "      <td>2.960248e-11</td>\n",
       "      <td>3.504858e-11</td>\n",
       "      <td>3.832355e-11</td>\n",
       "      <td>4.128527e-11</td>\n",
       "      <td>2.012665e-08</td>\n",
       "      <td>0.000001</td>\n",
       "    </tr>\n",
       "    <tr>\n",
       "      <th>PC_Dist_3</th>\n",
       "      <td>9.133196e-12</td>\n",
       "      <td>1.290561e-11</td>\n",
       "      <td>1.789261e-11</td>\n",
       "      <td>2.247810e-11</td>\n",
       "      <td>2.595241e-11</td>\n",
       "      <td>8.296393e-09</td>\n",
       "      <td>0.000004</td>\n",
       "    </tr>\n",
       "    <tr>\n",
       "      <th>PC_Dist_4</th>\n",
       "      <td>2.742280e-12</td>\n",
       "      <td>6.758979e-12</td>\n",
       "      <td>1.136969e-11</td>\n",
       "      <td>1.507173e-11</td>\n",
       "      <td>1.805102e-11</td>\n",
       "      <td>3.010033e-09</td>\n",
       "      <td>0.000005</td>\n",
       "    </tr>\n",
       "    <tr>\n",
       "      <th>PC_Dist_8</th>\n",
       "      <td>1.689392e-12</td>\n",
       "      <td>2.845167e-12</td>\n",
       "      <td>5.828197e-12</td>\n",
       "      <td>8.963401e-12</td>\n",
       "      <td>1.347299e-11</td>\n",
       "      <td>1.956597e-09</td>\n",
       "      <td>0.000009</td>\n",
       "    </tr>\n",
       "    <tr>\n",
       "      <th>PC_Dist_7</th>\n",
       "      <td>1.712253e-12</td>\n",
       "      <td>2.918925e-12</td>\n",
       "      <td>5.237493e-12</td>\n",
       "      <td>8.585746e-12</td>\n",
       "      <td>1.176387e-11</td>\n",
       "      <td>2.026710e-09</td>\n",
       "      <td>0.000008</td>\n",
       "    </tr>\n",
       "    <tr>\n",
       "      <th>PC_Dist_5</th>\n",
       "      <td>2.505716e-12</td>\n",
       "      <td>4.288814e-12</td>\n",
       "      <td>6.991696e-12</td>\n",
       "      <td>8.842575e-12</td>\n",
       "      <td>1.047459e-11</td>\n",
       "      <td>2.498355e-09</td>\n",
       "      <td>0.000006</td>\n",
       "    </tr>\n",
       "    <tr>\n",
       "      <th>PC_Dist_10</th>\n",
       "      <td>1.623228e-12</td>\n",
       "      <td>2.536529e-12</td>\n",
       "      <td>4.499679e-12</td>\n",
       "      <td>6.767708e-12</td>\n",
       "      <td>9.620682e-12</td>\n",
       "      <td>1.879478e-09</td>\n",
       "      <td>0.000011</td>\n",
       "    </tr>\n",
       "    <tr>\n",
       "      <th>PC_Dist_9</th>\n",
       "      <td>1.825889e-12</td>\n",
       "      <td>2.762171e-12</td>\n",
       "      <td>4.379484e-12</td>\n",
       "      <td>6.307722e-12</td>\n",
       "      <td>8.791372e-12</td>\n",
       "      <td>1.927584e-09</td>\n",
       "      <td>0.000010</td>\n",
       "    </tr>\n",
       "    <tr>\n",
       "      <th>PC_Dist_6</th>\n",
       "      <td>2.160315e-12</td>\n",
       "      <td>3.373650e-12</td>\n",
       "      <td>5.279864e-12</td>\n",
       "      <td>7.003751e-12</td>\n",
       "      <td>8.755422e-12</td>\n",
       "      <td>2.210462e-09</td>\n",
       "      <td>0.000007</td>\n",
       "    </tr>\n",
       "    <tr>\n",
       "      <th>PC_Dist_12</th>\n",
       "      <td>1.745044e-12</td>\n",
       "      <td>2.611583e-12</td>\n",
       "      <td>4.249986e-12</td>\n",
       "      <td>5.849684e-12</td>\n",
       "      <td>8.050079e-12</td>\n",
       "      <td>1.850156e-09</td>\n",
       "      <td>0.000013</td>\n",
       "    </tr>\n",
       "    <tr>\n",
       "      <th>PC_Dist_13</th>\n",
       "      <td>1.815066e-12</td>\n",
       "      <td>2.648401e-12</td>\n",
       "      <td>4.137390e-12</td>\n",
       "      <td>5.404029e-12</td>\n",
       "      <td>7.976996e-12</td>\n",
       "      <td>1.845437e-09</td>\n",
       "      <td>0.000014</td>\n",
       "    </tr>\n",
       "    <tr>\n",
       "      <th>PC_Dist_11</th>\n",
       "      <td>1.685037e-12</td>\n",
       "      <td>2.515927e-12</td>\n",
       "      <td>3.804807e-12</td>\n",
       "      <td>5.200063e-12</td>\n",
       "      <td>7.911866e-12</td>\n",
       "      <td>1.855455e-09</td>\n",
       "      <td>0.000012</td>\n",
       "    </tr>\n",
       "    <tr>\n",
       "      <th>PC_Dist_16</th>\n",
       "      <td>1.775188e-12</td>\n",
       "      <td>2.683914e-12</td>\n",
       "      <td>4.186649e-12</td>\n",
       "      <td>5.301679e-12</td>\n",
       "      <td>7.732236e-12</td>\n",
       "      <td>1.805734e-09</td>\n",
       "      <td>0.000017</td>\n",
       "    </tr>\n",
       "    <tr>\n",
       "      <th>PC_Dist_20</th>\n",
       "      <td>1.736329e-12</td>\n",
       "      <td>2.583683e-12</td>\n",
       "      <td>4.009002e-12</td>\n",
       "      <td>5.538796e-12</td>\n",
       "      <td>7.274199e-12</td>\n",
       "      <td>1.774712e-09</td>\n",
       "      <td>0.000021</td>\n",
       "    </tr>\n",
       "    <tr>\n",
       "      <th>PC_Dist_23</th>\n",
       "      <td>1.738698e-12</td>\n",
       "      <td>2.510229e-12</td>\n",
       "      <td>3.981899e-12</td>\n",
       "      <td>5.208160e-12</td>\n",
       "      <td>7.017003e-12</td>\n",
       "      <td>1.755058e-09</td>\n",
       "      <td>0.000024</td>\n",
       "    </tr>\n",
       "    <tr>\n",
       "      <th>PC_Dist_18</th>\n",
       "      <td>1.804725e-12</td>\n",
       "      <td>2.753871e-12</td>\n",
       "      <td>4.097323e-12</td>\n",
       "      <td>5.275910e-12</td>\n",
       "      <td>6.950169e-12</td>\n",
       "      <td>1.782031e-09</td>\n",
       "      <td>0.000019</td>\n",
       "    </tr>\n",
       "    <tr>\n",
       "      <th>PC_Dist_29</th>\n",
       "      <td>1.705799e-12</td>\n",
       "      <td>2.566558e-12</td>\n",
       "      <td>3.829420e-12</td>\n",
       "      <td>5.257156e-12</td>\n",
       "      <td>6.811598e-12</td>\n",
       "      <td>1.721158e-09</td>\n",
       "      <td>0.000030</td>\n",
       "    </tr>\n",
       "    <tr>\n",
       "      <th>PC_Dist_39</th>\n",
       "      <td>1.710537e-12</td>\n",
       "      <td>2.422833e-12</td>\n",
       "      <td>3.693583e-12</td>\n",
       "      <td>4.871783e-12</td>\n",
       "      <td>6.783481e-12</td>\n",
       "      <td>1.676062e-09</td>\n",
       "      <td>0.000040</td>\n",
       "    </tr>\n",
       "  </tbody>\n",
       "</table>\n",
       "</div>"
      ],
      "text/plain": [
       "            90.0_Percentile  95.0_Percentile  98.0_Percentile  \\\n",
       "PC_Dist_2      7.406829e-13     1.000187e-12     1.469928e-12   \n",
       "PC_Dist_1      1.388939e-11     2.259476e-11     4.040342e-11   \n",
       "PC_Dist_0      2.428705e-11     2.960248e-11     3.504858e-11   \n",
       "PC_Dist_3      9.133196e-12     1.290561e-11     1.789261e-11   \n",
       "PC_Dist_4      2.742280e-12     6.758979e-12     1.136969e-11   \n",
       "PC_Dist_8      1.689392e-12     2.845167e-12     5.828197e-12   \n",
       "PC_Dist_7      1.712253e-12     2.918925e-12     5.237493e-12   \n",
       "PC_Dist_5      2.505716e-12     4.288814e-12     6.991696e-12   \n",
       "PC_Dist_10     1.623228e-12     2.536529e-12     4.499679e-12   \n",
       "PC_Dist_9      1.825889e-12     2.762171e-12     4.379484e-12   \n",
       "PC_Dist_6      2.160315e-12     3.373650e-12     5.279864e-12   \n",
       "PC_Dist_12     1.745044e-12     2.611583e-12     4.249986e-12   \n",
       "PC_Dist_13     1.815066e-12     2.648401e-12     4.137390e-12   \n",
       "PC_Dist_11     1.685037e-12     2.515927e-12     3.804807e-12   \n",
       "PC_Dist_16     1.775188e-12     2.683914e-12     4.186649e-12   \n",
       "PC_Dist_20     1.736329e-12     2.583683e-12     4.009002e-12   \n",
       "PC_Dist_23     1.738698e-12     2.510229e-12     3.981899e-12   \n",
       "PC_Dist_18     1.804725e-12     2.753871e-12     4.097323e-12   \n",
       "PC_Dist_29     1.705799e-12     2.566558e-12     3.829420e-12   \n",
       "PC_Dist_39     1.710537e-12     2.422833e-12     3.693583e-12   \n",
       "\n",
       "            99.0_Percentile  100.0_Percentile        evalue      rank  \n",
       "PC_Dist_2      2.218325e-12      9.497100e-11  9.789995e-09  0.000003  \n",
       "PC_Dist_1      4.865603e-11      5.388433e-11  1.173268e-08  0.000002  \n",
       "PC_Dist_0      3.832355e-11      4.128527e-11  2.012665e-08  0.000001  \n",
       "PC_Dist_3      2.247810e-11      2.595241e-11  8.296393e-09  0.000004  \n",
       "PC_Dist_4      1.507173e-11      1.805102e-11  3.010033e-09  0.000005  \n",
       "PC_Dist_8      8.963401e-12      1.347299e-11  1.956597e-09  0.000009  \n",
       "PC_Dist_7      8.585746e-12      1.176387e-11  2.026710e-09  0.000008  \n",
       "PC_Dist_5      8.842575e-12      1.047459e-11  2.498355e-09  0.000006  \n",
       "PC_Dist_10     6.767708e-12      9.620682e-12  1.879478e-09  0.000011  \n",
       "PC_Dist_9      6.307722e-12      8.791372e-12  1.927584e-09  0.000010  \n",
       "PC_Dist_6      7.003751e-12      8.755422e-12  2.210462e-09  0.000007  \n",
       "PC_Dist_12     5.849684e-12      8.050079e-12  1.850156e-09  0.000013  \n",
       "PC_Dist_13     5.404029e-12      7.976996e-12  1.845437e-09  0.000014  \n",
       "PC_Dist_11     5.200063e-12      7.911866e-12  1.855455e-09  0.000012  \n",
       "PC_Dist_16     5.301679e-12      7.732236e-12  1.805734e-09  0.000017  \n",
       "PC_Dist_20     5.538796e-12      7.274199e-12  1.774712e-09  0.000021  \n",
       "PC_Dist_23     5.208160e-12      7.017003e-12  1.755058e-09  0.000024  \n",
       "PC_Dist_18     5.275910e-12      6.950169e-12  1.782031e-09  0.000019  \n",
       "PC_Dist_29     5.257156e-12      6.811598e-12  1.721158e-09  0.000030  \n",
       "PC_Dist_39     4.871783e-12      6.783481e-12  1.676062e-09  0.000040  "
      ]
     },
     "execution_count": 348,
     "metadata": {},
     "output_type": "execute_result"
    }
   ],
   "source": [
    "#calls 99.5th percentile 100.0 by rounding\n",
    "1e-6*pca.df_pc_stats.sort_values(by = '100.0_Percentile',\n",
    "                                 ascending = False).head(20)"
   ]
  },
  {
   "cell_type": "code",
   "execution_count": 294,
   "metadata": {},
   "outputs": [
    {
     "data": {
      "text/plain": [
       "<matplotlib.axes._subplots.AxesSubplot at 0x7f87bcc66a10>"
      ]
     },
     "execution_count": 294,
     "metadata": {},
     "output_type": "execute_result"
    },
    {
     "data": {
      "image/png": "[encoded data removed]",
      "text/plain": [
       "<Figure size 432x288 with 1 Axes>"
      ]
     },
     "metadata": {
      "needs_background": "light"
     },
     "output_type": "display_data"
    }
   ],
   "source": [
    "scatter_scree_plot(pca)"
   ]
  },
  {
   "cell_type": "code",
   "execution_count": 351,
   "metadata": {},
   "outputs": [
    {
     "data": {
      "text/plain": [
       "<matplotlib.axes._subplots.AxesSubplot at 0x7f87b710c3d0>"
      ]
     },
     "execution_count": 351,
     "metadata": {},
     "output_type": "execute_result"
    },
    {
     "data": {
      "image/png": "[encoded data removed]",
      "text/plain": [
       "<Figure size 432x288 with 1 Axes>"
      ]
     },
     "metadata": {
      "needs_background": "light"
     },
     "output_type": "display_data"
    }
   ],
   "source": [
    "#Top 7/8 PC's seem most significant according to scree plot\n",
    "scatter_scree_plot(pca, rank = np.arange(5,51))"
   ]
  },
  {
   "cell_type": "code",
   "execution_count": 349,
   "metadata": {},
   "outputs": [
    {
     "data": {
      "text/plain": [
       "<matplotlib.axes._subplots.AxesSubplot at 0x7f87b64b1bd0>"
      ]
     },
     "execution_count": 349,
     "metadata": {},
     "output_type": "execute_result"
    },
    {
     "data": {
      "image/png": "[encoded data removed]",
      "text/plain": [
       "<Figure size 432x288 with 1 Axes>"
      ]
     },
     "metadata": {
      "needs_background": "light"
     },
     "output_type": "display_data"
    }
   ],
   "source": [
    "scatter_scree_plot(pca, rank = np.arange(7,51))"
   ]
  },
  {
   "cell_type": "code",
   "execution_count": 296,
   "metadata": {},
   "outputs": [
    {
     "data": {
      "text/plain": [
       "<matplotlib.axes._subplots.AxesSubplot at 0x7f87b6832b50>"
      ]
     },
     "execution_count": 296,
     "metadata": {},
     "output_type": "execute_result"
    },
    {
     "data": {
      "image/png": "[encoded data removed]",
      "text/plain": [
       "<Figure size 432x288 with 1 Axes>"
      ]
     },
     "metadata": {
      "needs_background": "light"
     },
     "output_type": "display_data"
    }
   ],
   "source": [
    "#Top 7/8 PC's seem most significant according to scree plot\n",
    "scatter_scree_plot(pca, rank = np.arange(10,51))"
   ]
  },
  {
   "cell_type": "code",
   "execution_count": 297,
   "metadata": {},
   "outputs": [
    {
     "data": {
      "image/png": "[encoded data removed]",
      "text/plain": [
       "<Figure size 432x288 with 1 Axes>"
      ]
     },
     "metadata": {
      "needs_background": "light"
     },
     "output_type": "display_data"
    }
   ],
   "source": [
    "fig = dist_var_pc_plot(pca, rank = np.arange(5,35), threshold_subset = ['98.0_Percentile',\n",
    "                                                                        '99.0_Percentile',\n",
    "                                                                        '100.0_Percentile'])"
   ]
  },
  {
   "cell_type": "code",
   "execution_count": 298,
   "metadata": {},
   "outputs": [
    {
     "data": {
      "image/png": "[encoded data removed]",
      "text/plain": [
       "<Figure size 432x288 with 1 Axes>"
      ]
     },
     "metadata": {
      "needs_background": "light"
     },
     "output_type": "display_data"
    }
   ],
   "source": [
    "#somewhere between 15 and 30 from PCQC\n",
    "fig = sorted_dist_var_pc_plot(pca, rank = np.arange(10,50), sort_var = '100.0_Percentile', \n",
    "                             threshold_subset =                       ['98.0_Percentile',\n",
    "                                                                        '99.0_Percentile',\n",
    "                                                                        '100.0_Percentile'])"
   ]
  },
  {
   "cell_type": "code",
   "execution_count": 357,
   "metadata": {},
   "outputs": [],
   "source": [
    "def compute_gap(df, var_name):\n",
    "    nrows = df.shape[0]\n",
    "    df = df.sort_values(by = var_name,ascending = False).reset_index()\n",
    "    ratios = np.divide(df.loc[0:nrows-2,var_name].values,df.loc[1:nrows-1,var_name].values)\n",
    "    top_args = np.argsort(-1*ratios)\n",
    "    top_gaps = -1*np.sort(-1*ratios)\n",
    "    gap_stats = pd.DataFrame(top_args, columns = ['args'])\n",
    "    gap_stats['gaps'] = top_gaps\n",
    "    return gap_stats"
   ]
  },
  {
   "cell_type": "code",
   "execution_count": 358,
   "metadata": {},
   "outputs": [],
   "source": [
    "gap_stats = compute_gap(pca.df_pc_stats,'evalue')"
   ]
  },
  {
   "cell_type": "code",
   "execution_count": 359,
   "metadata": {},
   "outputs": [
    {
     "data": {
      "text/html": [
       "<div>\n",
       "<style scoped>\n",
       "    .dataframe tbody tr th:only-of-type {\n",
       "        vertical-align: middle;\n",
       "    }\n",
       "\n",
       "    .dataframe tbody tr th {\n",
       "        vertical-align: top;\n",
       "    }\n",
       "\n",
       "    .dataframe thead th {\n",
       "        text-align: right;\n",
       "    }\n",
       "</style>\n",
       "<table border=\"1\" class=\"dataframe\">\n",
       "  <thead>\n",
       "    <tr style=\"text-align: right;\">\n",
       "      <th></th>\n",
       "      <th>args</th>\n",
       "      <th>gaps</th>\n",
       "    </tr>\n",
       "  </thead>\n",
       "  <tbody>\n",
       "    <tr>\n",
       "      <th>0</th>\n",
       "      <td>3</td>\n",
       "      <td>2.756246</td>\n",
       "    </tr>\n",
       "    <tr>\n",
       "      <th>1</th>\n",
       "      <td>0</td>\n",
       "      <td>1.715434</td>\n",
       "    </tr>\n",
       "    <tr>\n",
       "      <th>2</th>\n",
       "      <td>4</td>\n",
       "      <td>1.204806</td>\n",
       "    </tr>\n",
       "    <tr>\n",
       "      <th>3</th>\n",
       "      <td>1</td>\n",
       "      <td>1.198436</td>\n",
       "    </tr>\n",
       "    <tr>\n",
       "      <th>4</th>\n",
       "      <td>2</td>\n",
       "      <td>1.180030</td>\n",
       "    </tr>\n",
       "    <tr>\n",
       "      <th>5</th>\n",
       "      <td>5</td>\n",
       "      <td>1.130241</td>\n",
       "    </tr>\n",
       "    <tr>\n",
       "      <th>6</th>\n",
       "      <td>6</td>\n",
       "      <td>1.090665</td>\n",
       "    </tr>\n",
       "    <tr>\n",
       "      <th>7</th>\n",
       "      <td>7</td>\n",
       "      <td>1.035834</td>\n",
       "    </tr>\n",
       "    <tr>\n",
       "      <th>8</th>\n",
       "      <td>9</td>\n",
       "      <td>1.025595</td>\n",
       "    </tr>\n",
       "    <tr>\n",
       "      <th>9</th>\n",
       "      <td>8</td>\n",
       "      <td>1.015052</td>\n",
       "    </tr>\n",
       "  </tbody>\n",
       "</table>\n",
       "</div>"
      ],
      "text/plain": [
       "   args      gaps\n",
       "0     3  2.756246\n",
       "1     0  1.715434\n",
       "2     4  1.204806\n",
       "3     1  1.198436\n",
       "4     2  1.180030\n",
       "5     5  1.130241\n",
       "6     6  1.090665\n",
       "7     7  1.035834\n",
       "8     9  1.025595\n",
       "9     8  1.015052"
      ]
     },
     "execution_count": 359,
     "metadata": {},
     "output_type": "execute_result"
    }
   ],
   "source": [
    "#Top 7\n",
    "gap_stats[0:10]"
   ]
  },
  {
   "cell_type": "code",
   "execution_count": 360,
   "metadata": {},
   "outputs": [],
   "source": [
    "gap_stats = compute_gap(pca.df_pc_stats,'100.0_Percentile')"
   ]
  },
  {
   "cell_type": "code",
   "execution_count": 362,
   "metadata": {
    "scrolled": false
   },
   "outputs": [
    {
     "data": {
      "text/html": [
       "<div>\n",
       "<style scoped>\n",
       "    .dataframe tbody tr th:only-of-type {\n",
       "        vertical-align: middle;\n",
       "    }\n",
       "\n",
       "    .dataframe tbody tr th {\n",
       "        vertical-align: top;\n",
       "    }\n",
       "\n",
       "    .dataframe thead th {\n",
       "        text-align: right;\n",
       "    }\n",
       "</style>\n",
       "<table border=\"1\" class=\"dataframe\">\n",
       "  <thead>\n",
       "    <tr style=\"text-align: right;\">\n",
       "      <th></th>\n",
       "      <th>args</th>\n",
       "      <th>gaps</th>\n",
       "    </tr>\n",
       "  </thead>\n",
       "  <tbody>\n",
       "    <tr>\n",
       "      <th>0</th>\n",
       "      <td>0</td>\n",
       "      <td>1.762498</td>\n",
       "    </tr>\n",
       "    <tr>\n",
       "      <th>1</th>\n",
       "      <td>2</td>\n",
       "      <td>1.590807</td>\n",
       "    </tr>\n",
       "    <tr>\n",
       "      <th>2</th>\n",
       "      <td>3</td>\n",
       "      <td>1.437725</td>\n",
       "    </tr>\n",
       "    <tr>\n",
       "      <th>3</th>\n",
       "      <td>4</td>\n",
       "      <td>1.339793</td>\n",
       "    </tr>\n",
       "    <tr>\n",
       "      <th>4</th>\n",
       "      <td>1</td>\n",
       "      <td>1.305171</td>\n",
       "    </tr>\n",
       "    <tr>\n",
       "      <th>5</th>\n",
       "      <td>5</td>\n",
       "      <td>1.145286</td>\n",
       "    </tr>\n",
       "    <tr>\n",
       "      <th>6</th>\n",
       "      <td>6</td>\n",
       "      <td>1.123086</td>\n",
       "    </tr>\n",
       "    <tr>\n",
       "      <th>7</th>\n",
       "      <td>8</td>\n",
       "      <td>1.094332</td>\n",
       "    </tr>\n",
       "    <tr>\n",
       "      <th>8</th>\n",
       "      <td>7</td>\n",
       "      <td>1.088758</td>\n",
       "    </tr>\n",
       "    <tr>\n",
       "      <th>9</th>\n",
       "      <td>10</td>\n",
       "      <td>1.087619</td>\n",
       "    </tr>\n",
       "    <tr>\n",
       "      <th>10</th>\n",
       "      <td>14</td>\n",
       "      <td>1.062967</td>\n",
       "    </tr>\n",
       "    <tr>\n",
       "      <th>11</th>\n",
       "      <td>15</td>\n",
       "      <td>1.036653</td>\n",
       "    </tr>\n",
       "  </tbody>\n",
       "</table>\n",
       "</div>"
      ],
      "text/plain": [
       "    args      gaps\n",
       "0      0  1.762498\n",
       "1      2  1.590807\n",
       "2      3  1.437725\n",
       "3      4  1.339793\n",
       "4      1  1.305171\n",
       "5      5  1.145286\n",
       "6      6  1.123086\n",
       "7      8  1.094332\n",
       "8      7  1.088758\n",
       "9     10  1.087619\n",
       "10    14  1.062967\n",
       "11    15  1.036653"
      ]
     },
     "execution_count": 362,
     "metadata": {},
     "output_type": "execute_result"
    }
   ],
   "source": [
    "#Top 11, possibly Top 14\n",
    "gap_stats[0:12]"
   ]
  },
  {
   "cell_type": "markdown",
   "metadata": {},
   "source": [
    "### What about Kruskal?"
   ]
  },
  {
   "cell_type": "markdown",
   "metadata": {},
   "source": [
    "__1. Use subset of PC's: Top 20__"
   ]
  },
  {
   "cell_type": "code",
   "execution_count": 227,
   "metadata": {},
   "outputs": [],
   "source": [
    "pca.select_top_pcs(criteria = 'evalue', n_top_pcs = 20)"
   ]
  },
  {
   "cell_type": "code",
   "execution_count": 228,
   "metadata": {},
   "outputs": [],
   "source": [
    "reduced_matrix = pca.use_top_pcs()"
   ]
  },
  {
   "cell_type": "code",
   "execution_count": 229,
   "metadata": {},
   "outputs": [
    {
     "data": {
      "text/plain": [
       "(2638, 20)"
      ]
     },
     "execution_count": 229,
     "metadata": {},
     "output_type": "execute_result"
    }
   ],
   "source": [
    "reduced_matrix.shape"
   ]
  },
  {
   "cell_type": "code",
   "execution_count": 230,
   "metadata": {},
   "outputs": [],
   "source": [
    "def compute_best_pcs(reduced_matrix, n_neighbors, resolution, threshold = 1e-6, max_discard = 20):\n",
    "    #max discard, max number of pcs that are discarded in a single round \n",
    "    df = pd.DataFrame(reduced_matrix)\n",
    "    finished = False\n",
    "    index = 0\n",
    "    while not finished:\n",
    "        adata = sc.AnnData(X = reduced_matrix)\n",
    "        sc.pp.neighbors(adata, n_neighbors = n_neighbors, use_rep = 'X')\n",
    "        sc.tl.leiden(adata, resolution = resolution, random_state = np.random.randint(100))\n",
    "        df['Clusters'] = adata.obs['leiden'].values\n",
    "        valid_cols = [col for col in df.columns if col != 'Clusters']\n",
    "        kruskal_test, best_pcs = pc_kruskal_test(df,valid_cols, threshold = threshold)\n",
    "        candidates_to_elim = np.where(np.array(kruskal_test) > threshold)\n",
    "        #get max discard lowest values\n",
    "        #print(kruskal_test)\n",
    "        #print(candidates_to_elim)\n",
    "        \n",
    "        lowest_values = np.argsort(-1*np.array(kruskal_test))[0:max_discard]\n",
    "        #print(lowest_values)\n",
    "        to_discard = []\n",
    "        for value in lowest_values:\n",
    "            if kruskal_test[value] > threshold:\n",
    "                to_discard.append(value)\n",
    "        #print(to_discard)\n",
    "        to_keep = [col for i,col in enumerate(df.columns) if i not in to_discard]\n",
    "        if len(to_discard) == 0:\n",
    "            finished = True\n",
    "        else:\n",
    "            df = df[to_keep]\n",
    "            reduced_matrix = df.values\n",
    "        \n",
    "    return df,kruskal_test"
   ]
  },
  {
   "cell_type": "code",
   "execution_count": 231,
   "metadata": {},
   "outputs": [],
   "source": [
    "_, kruskal = compute_best_pcs(reduced_matrix, 15, .8, threshold = 1)"
   ]
  },
  {
   "cell_type": "code",
   "execution_count": 232,
   "metadata": {},
   "outputs": [],
   "source": [
    "y = np.log10(np.array(kruskal)+1e-300)"
   ]
  },
  {
   "cell_type": "code",
   "execution_count": 233,
   "metadata": {},
   "outputs": [
    {
     "data": {
      "text/plain": [
       "<matplotlib.collections.PathCollection at 0x7f87b6e86590>"
      ]
     },
     "execution_count": 233,
     "metadata": {},
     "output_type": "execute_result"
    },
    {
     "data": {
      "image/png": "[encoded data removed]",
      "text/plain": [
       "<Figure size 432x288 with 1 Axes>"
      ]
     },
     "metadata": {
      "needs_background": "light"
     },
     "output_type": "display_data"
    }
   ],
   "source": [
    "#good threshold would be between 1e-40, 1e-50\n",
    "plt.scatter(x = np.arange(len(y)), y = np.sort(y))"
   ]
  },
  {
   "cell_type": "code",
   "execution_count": 235,
   "metadata": {},
   "outputs": [
    {
     "data": {
      "text/plain": [
       "array([-3.00000000e+02, -3.00000000e+02, -2.28085149e+02, -3.00000000e+02,\n",
       "       -1.84092121e+02, -1.72584288e+02, -9.75996490e+01, -3.63399301e+01,\n",
       "       -3.27693673e+01, -3.11719568e+00, -7.09292478e+00, -6.56690751e+00,\n",
       "       -8.20197895e-01, -6.22855144e-01, -5.34105085e-01, -2.88281698e-01,\n",
       "       -2.34133245e+00, -3.50134410e-01, -2.47238272e+00, -1.58542845e+00])"
      ]
     },
     "execution_count": 235,
     "metadata": {},
     "output_type": "execute_result"
    }
   ],
   "source": [
    "#here Kruskal chooses top 9 PC's out of 20.  Cutoff around 1e-20\n",
    "#0-8,\n",
    "y"
   ]
  },
  {
   "cell_type": "code",
   "execution_count": null,
   "metadata": {},
   "outputs": [],
   "source": []
  },
  {
   "cell_type": "markdown",
   "metadata": {},
   "source": [
    "__2. Use subset of PC's: Top 18__"
   ]
  },
  {
   "cell_type": "code",
   "execution_count": 243,
   "metadata": {},
   "outputs": [],
   "source": [
    "pca.select_top_pcs(criteria = 'evalue', n_top_pcs = 12)"
   ]
  },
  {
   "cell_type": "code",
   "execution_count": 244,
   "metadata": {},
   "outputs": [],
   "source": [
    "reduced_matrix = pca.use_top_pcs()"
   ]
  },
  {
   "cell_type": "code",
   "execution_count": 245,
   "metadata": {},
   "outputs": [
    {
     "data": {
      "text/plain": [
       "(2638, 12)"
      ]
     },
     "execution_count": 245,
     "metadata": {},
     "output_type": "execute_result"
    }
   ],
   "source": [
    "reduced_matrix.shape"
   ]
  },
  {
   "cell_type": "code",
   "execution_count": 246,
   "metadata": {},
   "outputs": [],
   "source": [
    "_, kruskal = compute_best_pcs(reduced_matrix, 15, .8, threshold = 1)"
   ]
  },
  {
   "cell_type": "code",
   "execution_count": 247,
   "metadata": {},
   "outputs": [],
   "source": [
    "y = np.log10(np.array(kruskal)+1e-300)"
   ]
  },
  {
   "cell_type": "code",
   "execution_count": 248,
   "metadata": {},
   "outputs": [
    {
     "data": {
      "text/plain": [
       "<matplotlib.collections.PathCollection at 0x7f87b6aa4f10>"
      ]
     },
     "execution_count": 248,
     "metadata": {},
     "output_type": "execute_result"
    },
    {
     "data": {
      "image/png": "[encoded data removed]",
      "text/plain": [
       "<Figure size 432x288 with 1 Axes>"
      ]
     },
     "metadata": {
      "needs_background": "light"
     },
     "output_type": "display_data"
    }
   ],
   "source": [
    "#good threshold would be between 1e-40, 1e-50\n",
    "plt.scatter(x = np.arange(len(y)), y = np.sort(y))"
   ]
  },
  {
   "cell_type": "code",
   "execution_count": 249,
   "metadata": {},
   "outputs": [
    {
     "data": {
      "text/plain": [
       "array([-300.        , -300.        , -231.82420129, -300.        ,\n",
       "       -190.67260788, -273.00927068, -166.07690374,  -51.16903243,\n",
       "        -30.98459709,  -20.14257849,  -11.69187241,   -6.77207119])"
      ]
     },
     "execution_count": 249,
     "metadata": {},
     "output_type": "execute_result"
    }
   ],
   "source": [
    "#suggests top 7\n",
    "y"
   ]
  },
  {
   "cell_type": "markdown",
   "metadata": {},
   "source": [
    "__Use Top 100 PCs__"
   ]
  },
  {
   "cell_type": "code",
   "execution_count": 250,
   "metadata": {},
   "outputs": [],
   "source": [
    "pca.select_top_pcs(criteria = 'evalue', n_top_pcs = 100)"
   ]
  },
  {
   "cell_type": "code",
   "execution_count": 251,
   "metadata": {},
   "outputs": [],
   "source": [
    "reduced_matrix = pca.use_top_pcs()"
   ]
  },
  {
   "cell_type": "code",
   "execution_count": 252,
   "metadata": {},
   "outputs": [],
   "source": [
    "_, kruskal = compute_best_pcs(reduced_matrix, 15, .8, threshold = 1)"
   ]
  },
  {
   "cell_type": "code",
   "execution_count": 253,
   "metadata": {},
   "outputs": [],
   "source": [
    "y = np.log10(np.array(kruskal)+1e-300)"
   ]
  },
  {
   "cell_type": "code",
   "execution_count": 254,
   "metadata": {},
   "outputs": [
    {
     "data": {
      "text/plain": [
       "<matplotlib.collections.PathCollection at 0x7f87b6951d50>"
      ]
     },
     "execution_count": 254,
     "metadata": {},
     "output_type": "execute_result"
    },
    {
     "data": {
      "image/png": "[encoded data removed]",
      "text/plain": [
       "<Figure size 432x288 with 1 Axes>"
      ]
     },
     "metadata": {
      "needs_background": "light"
     },
     "output_type": "display_data"
    }
   ],
   "source": [
    "plt.scatter(x = np.arange(len(y)), y = np.sort(y))"
   ]
  },
  {
   "cell_type": "code",
   "execution_count": 255,
   "metadata": {},
   "outputs": [
    {
     "data": {
      "text/plain": [
       "array([-3.00000000e+02, -3.00000000e+02, -2.20714636e+02, -3.00000000e+02,\n",
       "       -3.24048962e+01, -8.72953303e+00, -2.73489973e+01, -2.92860358e+01,\n",
       "       -1.99626390e+01, -1.69872608e+00, -6.21344303e+00, -4.78447695e+00,\n",
       "       -1.04641945e+00, -5.61893610e-01, -4.48502927e-01, -5.21476153e-01,\n",
       "       -2.06256826e+00, -3.03944225e-02, -2.73782862e+00, -2.27762701e+00,\n",
       "       -3.39330663e-01, -8.84503786e-02, -1.34580615e-01, -5.97536471e-01,\n",
       "       -2.01975218e-01, -1.59285960e-01, -1.40469502e+00, -2.47435734e-01,\n",
       "       -1.83621332e-01, -3.85376884e-01, -8.81217759e-02, -2.96624702e-02,\n",
       "       -2.57502354e+00, -2.27445395e+00, -7.54703216e-02, -1.96799160e-02,\n",
       "       -2.68927037e-01, -7.32127906e-01, -7.82435363e-01, -2.97762740e-01,\n",
       "       -2.43799739e-01, -4.13471432e-01, -3.07089297e-01, -2.74051877e-01,\n",
       "       -3.24495585e-01, -1.51490331e+00, -1.35364524e-01, -9.83845065e-02,\n",
       "       -9.36546649e-03, -6.91845061e-01, -8.21026153e-02, -1.36694282e-01,\n",
       "       -1.33523760e-01, -2.45101979e-02, -8.99798336e-02, -6.36044016e-01,\n",
       "       -5.77851679e-02, -1.03143315e-01, -4.99473628e-01, -2.39688222e-01,\n",
       "       -1.56258220e+00, -2.73401577e-01, -1.83828654e-02, -1.92899036e-01,\n",
       "       -3.13377071e-01, -3.28359506e-01, -7.41818131e-02, -4.97138564e-03,\n",
       "       -8.63769762e-03, -3.32062881e-02, -5.55949740e-02, -3.65744466e-02,\n",
       "       -3.00574995e-02, -9.31230317e-02, -5.59451549e-02, -2.60163194e-02,\n",
       "       -1.73773818e-01, -4.19588635e-01, -5.19729036e-01, -4.71490628e-01,\n",
       "       -2.02102675e-02, -8.64452446e-02, -1.56372589e-02, -1.72855620e-01,\n",
       "       -6.30273074e-01, -1.02598232e-01, -1.33163301e-01, -1.33741953e-02,\n",
       "       -2.38625584e-01, -2.29216453e-01, -6.43798947e-02, -2.86061224e-01,\n",
       "       -2.16571332e-01, -2.60755257e-01, -9.43846303e-02, -1.36781664e-01,\n",
       "       -3.09619880e-02, -1.72100279e-02, -6.64228847e-01, -6.84518509e-01])"
      ]
     },
     "execution_count": 255,
     "metadata": {},
     "output_type": "execute_result"
    }
   ],
   "source": [
    "#having to include 100 components, degrade quality of clustring- only finds 7 significant PC's\n",
    "#first 0-9, 18, cutoff 1e-40, do not choose 10/11\n",
    "y"
   ]
  },
  {
   "cell_type": "code",
   "execution_count": 256,
   "metadata": {},
   "outputs": [
    {
     "data": {
      "text/plain": [
       "array([-3.00000000e+02, -3.00000000e+02, -3.00000000e+02, -2.20714636e+02,\n",
       "       -3.24048962e+01, -2.92860358e+01, -2.73489973e+01, -1.99626390e+01,\n",
       "       -8.72953303e+00, -6.21344303e+00, -4.78447695e+00, -2.73782862e+00,\n",
       "       -2.57502354e+00, -2.27762701e+00, -2.27445395e+00, -2.06256826e+00,\n",
       "       -1.69872608e+00, -1.56258220e+00, -1.51490331e+00, -1.40469502e+00,\n",
       "       -1.04641945e+00, -7.82435363e-01, -7.32127906e-01, -6.91845061e-01,\n",
       "       -6.84518509e-01, -6.64228847e-01, -6.36044016e-01, -6.30273074e-01,\n",
       "       -5.97536471e-01, -5.61893610e-01, -5.21476153e-01, -5.19729036e-01,\n",
       "       -4.99473628e-01, -4.71490628e-01, -4.48502927e-01, -4.19588635e-01,\n",
       "       -4.13471432e-01, -3.85376884e-01, -3.39330663e-01, -3.28359506e-01,\n",
       "       -3.24495585e-01, -3.13377071e-01, -3.07089297e-01, -2.97762740e-01,\n",
       "       -2.86061224e-01, -2.74051877e-01, -2.73401577e-01, -2.68927037e-01,\n",
       "       -2.60755257e-01, -2.47435734e-01, -2.43799739e-01, -2.39688222e-01,\n",
       "       -2.38625584e-01, -2.29216453e-01, -2.16571332e-01, -2.01975218e-01,\n",
       "       -1.92899036e-01, -1.83621332e-01, -1.73773818e-01, -1.72855620e-01,\n",
       "       -1.59285960e-01, -1.36781664e-01, -1.36694282e-01, -1.35364524e-01,\n",
       "       -1.34580615e-01, -1.33523760e-01, -1.33163301e-01, -1.03143315e-01,\n",
       "       -1.02598232e-01, -9.83845065e-02, -9.43846303e-02, -9.31230317e-02,\n",
       "       -8.99798336e-02, -8.84503786e-02, -8.81217759e-02, -8.64452446e-02,\n",
       "       -8.21026153e-02, -7.54703216e-02, -7.41818131e-02, -6.43798947e-02,\n",
       "       -5.77851679e-02, -5.59451549e-02, -5.55949740e-02, -3.65744466e-02,\n",
       "       -3.32062881e-02, -3.09619880e-02, -3.03944225e-02, -3.00574995e-02,\n",
       "       -2.96624702e-02, -2.60163194e-02, -2.45101979e-02, -2.02102675e-02,\n",
       "       -1.96799160e-02, -1.83828654e-02, -1.72100279e-02, -1.56372589e-02,\n",
       "       -1.33741953e-02, -9.36546649e-03, -8.63769762e-03, -4.97138564e-03])"
      ]
     },
     "execution_count": 256,
     "metadata": {},
     "output_type": "execute_result"
    }
   ],
   "source": [
    "#in all cases strongly favors 0-4, 6-8\n",
    "np.sort(y)"
   ]
  },
  {
   "cell_type": "markdown",
   "metadata": {},
   "source": [
    "__Use Top 25 PCQC__"
   ]
  },
  {
   "cell_type": "code",
   "execution_count": 323,
   "metadata": {},
   "outputs": [],
   "source": [
    "pca.select_top_pcs(criteria = '100.0_Percentile', n_top_pcs = 25)"
   ]
  },
  {
   "cell_type": "code",
   "execution_count": 324,
   "metadata": {},
   "outputs": [],
   "source": [
    "reduced_matrix = pca.use_top_pcs()"
   ]
  },
  {
   "cell_type": "code",
   "execution_count": 325,
   "metadata": {},
   "outputs": [],
   "source": [
    "_, kruskal = compute_best_pcs(reduced_matrix, 15, .8, threshold = 1)"
   ]
  },
  {
   "cell_type": "code",
   "execution_count": 347,
   "metadata": {},
   "outputs": [],
   "source": [
    "?compute_best_pcs"
   ]
  },
  {
   "cell_type": "code",
   "execution_count": 326,
   "metadata": {},
   "outputs": [],
   "source": [
    "y = np.log10(np.array(kruskal)+1e-300)"
   ]
  },
  {
   "cell_type": "code",
   "execution_count": 327,
   "metadata": {},
   "outputs": [
    {
     "data": {
      "text/plain": [
       "<matplotlib.collections.PathCollection at 0x7f87b7044690>"
      ]
     },
     "execution_count": 327,
     "metadata": {},
     "output_type": "execute_result"
    },
    {
     "data": {
      "image/png": "[encoded data removed]",
      "text/plain": [
       "<Figure size 432x288 with 1 Axes>"
      ]
     },
     "metadata": {
      "needs_background": "light"
     },
     "output_type": "display_data"
    }
   ],
   "source": [
    "plt.scatter(x = np.arange(len(y)), y = np.sort(y))"
   ]
  },
  {
   "cell_type": "code",
   "execution_count": 328,
   "metadata": {},
   "outputs": [
    {
     "data": {
      "text/plain": [
       "array([-2.27589437e+02, -3.00000000e+02, -3.00000000e+02, -3.00000000e+02,\n",
       "       -1.95065722e+02, -3.55840219e+01, -3.46407534e+01, -1.70179419e+02,\n",
       "       -6.89521244e+00, -2.48626470e+00, -9.96736327e+01, -6.06133633e-01,\n",
       "       -9.07596574e-01, -7.43601515e+00, -2.12323937e+00, -5.47406955e-02,\n",
       "       -1.96552151e+00, -2.55509077e+00, -3.25453704e-01, -1.10121268e-01,\n",
       "       -2.11773888e-01, -1.83165832e-01, -1.14439334e-01, -5.80225335e-02,\n",
       "       -8.24728584e-02])"
      ]
     },
     "execution_count": 328,
     "metadata": {},
     "output_type": "execute_result"
    }
   ],
   "source": [
    "#selecting just 0-7,10\n",
    "y"
   ]
  },
  {
   "cell_type": "markdown",
   "metadata": {},
   "source": [
    "__Use Top 20 PCQC__"
   ]
  },
  {
   "cell_type": "code",
   "execution_count": 341,
   "metadata": {},
   "outputs": [],
   "source": [
    "pca.select_top_pcs(criteria = '99.0_Percentile', n_top_pcs = 20)"
   ]
  },
  {
   "cell_type": "code",
   "execution_count": 342,
   "metadata": {},
   "outputs": [],
   "source": [
    "reduced_matrix = pca.use_top_pcs()"
   ]
  },
  {
   "cell_type": "code",
   "execution_count": 343,
   "metadata": {},
   "outputs": [],
   "source": [
    "_, kruskal = compute_best_pcs(reduced_matrix, 15, .8, threshold = 1)"
   ]
  },
  {
   "cell_type": "code",
   "execution_count": 344,
   "metadata": {},
   "outputs": [],
   "source": [
    "y = np.log10(np.array(kruskal)+1e-300)"
   ]
  },
  {
   "cell_type": "code",
   "execution_count": 345,
   "metadata": {},
   "outputs": [
    {
     "data": {
      "text/plain": [
       "<matplotlib.collections.PathCollection at 0x7f87b63f4350>"
      ]
     },
     "execution_count": 345,
     "metadata": {},
     "output_type": "execute_result"
    },
    {
     "data": {
      "image/png": "[encoded data removed]",
      "text/plain": [
       "<Figure size 432x288 with 1 Axes>"
      ]
     },
     "metadata": {
      "needs_background": "light"
     },
     "output_type": "display_data"
    }
   ],
   "source": [
    "plt.scatter(x = np.arange(len(y)), y = np.sort(y))"
   ]
  },
  {
   "cell_type": "code",
   "execution_count": 346,
   "metadata": {},
   "outputs": [
    {
     "data": {
      "text/plain": [
       "array([-3.00000000e+02, -3.00000000e+02, -3.00000000e+02, -2.08874532e+02,\n",
       "       -3.38246775e+01, -1.60972880e+02, -3.63065409e+01, -1.05234346e+02,\n",
       "       -6.76131409e+00, -1.90472374e+00, -7.36394644e-01, -2.44060534e-01,\n",
       "       -5.50141418e-01, -5.91024075e-02, -1.36559533e-01, -1.83773882e-01,\n",
       "       -7.19218925e-01, -1.99953884e+00, -3.78229566e+00, -3.31005634e-01])"
      ]
     },
     "execution_count": 346,
     "metadata": {},
     "output_type": "execute_result"
    }
   ],
   "source": [
    "y"
   ]
  },
  {
   "cell_type": "markdown",
   "metadata": {},
   "source": [
    "### Top 15 PCQC"
   ]
  },
  {
   "cell_type": "code",
   "execution_count": 335,
   "metadata": {},
   "outputs": [],
   "source": [
    "pca.select_top_pcs(criteria = '99.0_Percentile', n_top_pcs = 15)"
   ]
  },
  {
   "cell_type": "code",
   "execution_count": 336,
   "metadata": {},
   "outputs": [],
   "source": [
    "reduced_matrix = pca.use_top_pcs()"
   ]
  },
  {
   "cell_type": "code",
   "execution_count": 337,
   "metadata": {},
   "outputs": [],
   "source": [
    "_, kruskal = compute_best_pcs(reduced_matrix, 15, .8, threshold = 1)"
   ]
  },
  {
   "cell_type": "code",
   "execution_count": 338,
   "metadata": {},
   "outputs": [],
   "source": [
    "y = np.log10(np.array(kruskal)+1e-300)"
   ]
  },
  {
   "cell_type": "code",
   "execution_count": 339,
   "metadata": {},
   "outputs": [
    {
     "data": {
      "text/plain": [
       "<matplotlib.collections.PathCollection at 0x7f87b6c55950>"
      ]
     },
     "execution_count": 339,
     "metadata": {},
     "output_type": "execute_result"
    },
    {
     "data": {
      "image/png": "[encoded data removed]",
      "text/plain": [
       "<Figure size 432x288 with 1 Axes>"
      ]
     },
     "metadata": {
      "needs_background": "light"
     },
     "output_type": "display_data"
    }
   ],
   "source": [
    "plt.scatter(x = np.arange(len(y)), y = np.sort(y))"
   ]
  },
  {
   "cell_type": "code",
   "execution_count": 340,
   "metadata": {},
   "outputs": [
    {
     "data": {
      "text/plain": [
       "array([-3.00000000e+02, -3.00000000e+02, -3.00000000e+02, -2.23159339e+02,\n",
       "       -3.29178155e+01, -2.75250054e+02, -4.80271410e+01, -1.71852014e+02,\n",
       "       -5.36713247e+00, -1.80085902e+01, -2.01552311e+00, -1.00029107e+00,\n",
       "       -1.92468064e+00, -3.61606635e+00, -2.43906040e-01])"
      ]
     },
     "execution_count": 340,
     "metadata": {},
     "output_type": "execute_result"
    }
   ],
   "source": [
    "#first 0-7, 10,\n",
    "y"
   ]
  },
  {
   "cell_type": "code",
   "execution_count": null,
   "metadata": {},
   "outputs": [],
   "source": []
  },
  {
   "cell_type": "code",
   "execution_count": null,
   "metadata": {},
   "outputs": [],
   "source": []
  },
  {
   "cell_type": "code",
   "execution_count": null,
   "metadata": {},
   "outputs": [],
   "source": []
  },
  {
   "cell_type": "code",
   "execution_count": null,
   "metadata": {},
   "outputs": [],
   "source": []
  },
  {
   "cell_type": "markdown",
   "metadata": {},
   "source": [
    "### Confirm Choice"
   ]
  },
  {
   "cell_type": "code",
   "execution_count": 280,
   "metadata": {},
   "outputs": [],
   "source": [
    "reduced_matrix = reduced_matrix[:,[0,1,2,3,4,5,6,7,10]]"
   ]
  },
  {
   "cell_type": "code",
   "execution_count": 281,
   "metadata": {},
   "outputs": [],
   "source": [
    "_, kruskal = compute_best_pcs(reduced_matrix, 15, .8, threshold = 1)"
   ]
  },
  {
   "cell_type": "code",
   "execution_count": 282,
   "metadata": {},
   "outputs": [],
   "source": [
    "y = np.log10(np.array(kruskal)+1e-300)"
   ]
  },
  {
   "cell_type": "code",
   "execution_count": 283,
   "metadata": {},
   "outputs": [
    {
     "data": {
      "text/plain": [
       "<matplotlib.collections.PathCollection at 0x7f87b65ddd50>"
      ]
     },
     "execution_count": 283,
     "metadata": {},
     "output_type": "execute_result"
    },
    {
     "data": {
      "image/png": "[encoded data removed]",
      "text/plain": [
       "<Figure size 432x288 with 1 Axes>"
      ]
     },
     "metadata": {
      "needs_background": "light"
     },
     "output_type": "display_data"
    }
   ],
   "source": [
    "plt.scatter(x = np.arange(len(y)), y = np.sort(y))"
   ]
  },
  {
   "cell_type": "code",
   "execution_count": 284,
   "metadata": {},
   "outputs": [
    {
     "data": {
      "text/plain": [
       "array([-238.37040089, -300.        , -300.        , -300.        ,\n",
       "       -228.77672235,  -75.49687281, -117.78773442, -263.86146589,\n",
       "       -206.40214916])"
      ]
     },
     "execution_count": 284,
     "metadata": {},
     "output_type": "execute_result"
    }
   ],
   "source": [
    "#first 0-9, 12,14,16\n",
    "y"
   ]
  },
  {
   "cell_type": "markdown",
   "metadata": {},
   "source": [
    "### Permutation Test"
   ]
  },
  {
   "cell_type": "code",
   "execution_count": 285,
   "metadata": {},
   "outputs": [],
   "source": [
    "mtrx = data.values"
   ]
  },
  {
   "cell_type": "code",
   "execution_count": 286,
   "metadata": {},
   "outputs": [
    {
     "name": "stdout",
     "output_type": "stream",
     "text": [
      "0\n",
      "1\n",
      "2\n",
      "3\n",
      "4\n",
      "5\n",
      "6\n",
      "7\n",
      "8\n",
      "9\n",
      "10\n",
      "11\n",
      "12\n",
      "13\n",
      "14\n",
      "15\n",
      "16\n",
      "17\n",
      "18\n",
      "19\n"
     ]
    }
   ],
   "source": [
    "perm_test = permutation_test(mtrx, trials = 20)"
   ]
  },
  {
   "cell_type": "code",
   "execution_count": 287,
   "metadata": {},
   "outputs": [],
   "source": [
    "sorted_svalues = -1*np.sort(-1*perm_test.max())"
   ]
  },
  {
   "cell_type": "code",
   "execution_count": 288,
   "metadata": {},
   "outputs": [
    {
     "data": {
      "text/plain": [
       "array([90.22405083, 89.6998172 , 89.50361711, 88.96764635, 88.7223966 ,\n",
       "       88.66605476, 88.468946  , 88.2219012 , 88.05946452, 87.83685092,\n",
       "       87.65982537, 87.54299559, 87.45250013, 87.29926941, 87.17245409,\n",
       "       87.04430121, 86.88059184, 86.74358106, 86.64283128, 86.52607437,\n",
       "       86.41405083, 86.25986232, 86.12933146, 85.9805972 , 85.90119187,\n",
       "       85.80573127, 85.75930863, 85.62367557, 85.54720572, 85.4280507 ,\n",
       "       85.21935486, 85.16665824, 85.01682357, 84.90162215, 84.87709609,\n",
       "       84.73517793, 84.68341813, 84.45512104, 84.39781019, 84.31915947,\n",
       "       84.20291289, 84.08496831, 84.03955929, 83.93046996, 83.86178461,\n",
       "       83.74549611, 83.66004856, 83.63987855, 83.49149079, 83.38299445,\n",
       "       83.30439862, 83.158344  , 83.06374667, 83.03748371, 82.90420199,\n",
       "       82.83112371, 82.76347219, 82.63833864, 82.58215472, 82.47121137,\n",
       "       82.44259795, 82.34026723, 82.23372429, 82.14243911, 82.05770899,\n",
       "       81.97864179, 81.94069363, 81.89519211, 81.78572265, 81.68650578,\n",
       "       81.59763773, 81.4804913 , 81.39523605, 81.33726822, 81.28280293,\n",
       "       81.20331238, 81.09036723, 80.97693605, 80.95215452, 80.86684986,\n",
       "       80.7764607 , 80.74660493, 80.59021099, 80.54846503, 80.47845677,\n",
       "       80.43109382, 80.37513544, 80.29547314, 80.18850748, 80.14855184,\n",
       "       80.04354389, 80.00944044, 79.9329563 , 79.8550379 , 79.78690382,\n",
       "       79.67482574, 79.64115868, 79.53014105, 79.46998506, 79.38168643])"
      ]
     },
     "execution_count": 288,
     "metadata": {},
     "output_type": "execute_result"
    }
   ],
   "source": [
    "sorted_svalues"
   ]
  },
  {
   "cell_type": "code",
   "execution_count": 289,
   "metadata": {},
   "outputs": [
    {
     "data": {
      "text/plain": [
       "array([290.99080096, 222.17348561, 202.94800732, 186.82638292,\n",
       "       112.53282036, 102.52284537,  96.43508072,  92.33988782,\n",
       "        90.72860407,  90.05341191,  88.92259855,  88.35249282,\n",
       "        88.22623294,  88.11364853,  87.65796801,  87.43456737,\n",
       "        87.1606445 ,  86.91521122,  86.58669766,  86.47472017,\n",
       "        86.40869143,  86.2086503 ,  85.98342176,  85.92890392,\n",
       "        85.75879114,  85.59200334,  85.47530624,  85.3160535 ,\n",
       "        85.21694634,  85.09497396,  84.95855928,  84.9111451 ,\n",
       "        84.72571183,  84.57164795,  84.4181872 ,  84.38023223,\n",
       "        84.12736681,  84.05184353,  84.01828338,  83.97280125,\n",
       "        83.82870271,  83.71067799,  83.61329409,  83.46492497,\n",
       "        83.32578124,  83.27102456,  83.19257429,  83.09471083,\n",
       "        83.08857298,  82.83296593,  82.74693977,  82.63202112,\n",
       "        82.53089949,  82.45108963,  82.4074684 ,  82.33658628,\n",
       "        82.19998444,  82.08089209,  81.99928917,  81.94803487,\n",
       "        81.76081965,  81.64134904,  81.55767504,  81.52996569,\n",
       "        81.45181167,  81.33142588,  81.23149721,  81.15559833,\n",
       "        81.08984081,  81.06232786,  80.98108634,  80.7623008 ,\n",
       "        80.67723066,  80.62290834,  80.52559319,  80.4225409 ,\n",
       "        80.33610001,  80.24293386,  80.2140354 ,  80.12302239,\n",
       "        80.01351327,  79.89231684,  79.76431764,  79.7126513 ,\n",
       "        79.64360361,  79.59986958,  79.43805261,  79.34244407,\n",
       "        79.26174122,  79.15883382,  79.13020713,  78.9986252 ,\n",
       "        78.96890362,  78.90548058,  78.81712111,  78.74991111,\n",
       "        78.68601467,  78.50248225,  78.47392238,  78.40760841])"
      ]
     },
     "execution_count": 289,
     "metadata": {},
     "output_type": "execute_result"
    }
   ],
   "source": [
    "pca.singular_values"
   ]
  },
  {
   "cell_type": "code",
   "execution_count": 290,
   "metadata": {},
   "outputs": [
    {
     "data": {
      "text/plain": [
       "18"
      ]
     },
     "execution_count": 290,
     "metadata": {},
     "output_type": "execute_result"
    }
   ],
   "source": [
    "np.sum(pca.singular_values > sorted_svalues)"
   ]
  },
  {
   "cell_type": "code",
   "execution_count": 291,
   "metadata": {},
   "outputs": [
    {
     "data": {
      "text/plain": [
       "<matplotlib.collections.PathCollection at 0x7f87bcbf0450>"
      ]
     },
     "execution_count": 291,
     "metadata": {},
     "output_type": "execute_result"
    },
    {
     "data": {
      "image/png": "[encoded data removed]",
      "text/plain": [
       "<Figure size 432x288 with 1 Axes>"
      ]
     },
     "metadata": {
      "needs_background": "light"
     },
     "output_type": "display_data"
    }
   ],
   "source": [
    "plt.scatter(x = np.arange(100), y = pca.singular_values - sorted_svalues)"
   ]
  },
  {
   "cell_type": "code",
   "execution_count": 292,
   "metadata": {},
   "outputs": [
    {
     "data": {
      "text/plain": [
       "<matplotlib.collections.PathCollection at 0x7f87b70113d0>"
      ]
     },
     "execution_count": 292,
     "metadata": {},
     "output_type": "execute_result"
    },
    {
     "data": {
      "image/png": "[encoded data removed]",
      "text/plain": [
       "<Figure size 432x288 with 1 Axes>"
      ]
     },
     "metadata": {
      "needs_background": "light"
     },
     "output_type": "display_data"
    }
   ],
   "source": [
    "plt.scatter(x = np.arange(5,100), y = pca.singular_values[5:] - sorted_svalues[5:])"
   ]
  },
  {
   "cell_type": "code",
   "execution_count": 352,
   "metadata": {},
   "outputs": [
    {
     "data": {
      "text/plain": [
       "<matplotlib.collections.PathCollection at 0x7f87b7157b90>"
      ]
     },
     "execution_count": 352,
     "metadata": {},
     "output_type": "execute_result"
    },
    {
     "data": {
      "image/png": "[encoded data removed]",
      "text/plain": [
       "<Figure size 432x288 with 1 Axes>"
      ]
     },
     "metadata": {
      "needs_background": "light"
     },
     "output_type": "display_data"
    }
   ],
   "source": [
    "plt.scatter(x = np.arange(9,100), y = pca.singular_values[9:] - sorted_svalues[9:])"
   ]
  },
  {
   "cell_type": "code",
   "execution_count": 353,
   "metadata": {},
   "outputs": [],
   "source": [
    "def compute_e_ratio(svalues,perm):\n",
    "    answer = np.divide(svalues,perm)\n",
    "    df = pd.DataFrame(answer,columns = ['E_Ratio'])\n",
    "    return df"
   ]
  },
  {
   "cell_type": "code",
   "execution_count": 354,
   "metadata": {},
   "outputs": [],
   "source": [
    "sorted_medians = -1*np.sort(-1*perm_test.median())\n",
    "e_ratio = compute_e_ratio(pca.singular_values,sorted_medians)"
   ]
  },
  {
   "cell_type": "code",
   "execution_count": 356,
   "metadata": {},
   "outputs": [
    {
     "data": {
      "text/html": [
       "<div>\n",
       "<style scoped>\n",
       "    .dataframe tbody tr th:only-of-type {\n",
       "        vertical-align: middle;\n",
       "    }\n",
       "\n",
       "    .dataframe tbody tr th {\n",
       "        vertical-align: top;\n",
       "    }\n",
       "\n",
       "    .dataframe thead th {\n",
       "        text-align: right;\n",
       "    }\n",
       "</style>\n",
       "<table border=\"1\" class=\"dataframe\">\n",
       "  <thead>\n",
       "    <tr style=\"text-align: right;\">\n",
       "      <th></th>\n",
       "      <th>E_Ratio</th>\n",
       "    </tr>\n",
       "  </thead>\n",
       "  <tbody>\n",
       "    <tr>\n",
       "      <th>0</th>\n",
       "      <td>3.244008</td>\n",
       "    </tr>\n",
       "    <tr>\n",
       "      <th>1</th>\n",
       "      <td>2.489006</td>\n",
       "    </tr>\n",
       "    <tr>\n",
       "      <th>2</th>\n",
       "      <td>2.279956</td>\n",
       "    </tr>\n",
       "    <tr>\n",
       "      <th>3</th>\n",
       "      <td>2.104819</td>\n",
       "    </tr>\n",
       "    <tr>\n",
       "      <th>4</th>\n",
       "      <td>1.270596</td>\n",
       "    </tr>\n",
       "    <tr>\n",
       "      <th>5</th>\n",
       "      <td>1.159560</td>\n",
       "    </tr>\n",
       "    <tr>\n",
       "      <th>6</th>\n",
       "      <td>1.093463</td>\n",
       "    </tr>\n",
       "    <tr>\n",
       "      <th>7</th>\n",
       "      <td>1.048941</td>\n",
       "    </tr>\n",
       "    <tr>\n",
       "      <th>8</th>\n",
       "      <td>1.032897</td>\n",
       "    </tr>\n",
       "    <tr>\n",
       "      <th>9</th>\n",
       "      <td>1.027206</td>\n",
       "    </tr>\n",
       "  </tbody>\n",
       "</table>\n",
       "</div>"
      ],
      "text/plain": [
       "    E_Ratio\n",
       "0  3.244008\n",
       "1  2.489006\n",
       "2  2.279956\n",
       "3  2.104819\n",
       "4  1.270596\n",
       "5  1.159560\n",
       "6  1.093463\n",
       "7  1.048941\n",
       "8  1.032897\n",
       "9  1.027206"
      ]
     },
     "execution_count": 356,
     "metadata": {},
     "output_type": "execute_result"
    }
   ],
   "source": [
    "#top 7, possibly top 8\n",
    "e_ratio[0:10]"
   ]
  },
  {
   "cell_type": "markdown",
   "metadata": {},
   "source": [
    "### Permutation test \n",
    "1. Top 18 look stat significant\n",
    "2. Only top 6 look like there are large differences"
   ]
  },
  {
   "cell_type": "code",
   "execution_count": null,
   "metadata": {},
   "outputs": [],
   "source": []
  },
  {
   "cell_type": "code",
   "execution_count": null,
   "metadata": {},
   "outputs": [],
   "source": []
  }
 ],
 "metadata": {
  "kernelspec": {
   "display_name": "Python 3",
   "language": "python",
   "name": "python3"
  },
  "language_info": {
   "codemirror_mode": {
    "name": "ipython",
    "version": 3
   },
   "file_extension": ".py",
   "mimetype": "text/x-python",
   "name": "python",
   "nbconvert_exporter": "python",
   "pygments_lexer": "ipython3",
   "version": "3.7.6"
  }
 },
 "nbformat": 4,
 "nbformat_minor": 4
}
