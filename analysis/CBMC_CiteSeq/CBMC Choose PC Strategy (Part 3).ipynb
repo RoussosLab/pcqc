{
 "cells": [
  {
   "cell_type": "markdown",
   "metadata": {},
   "source": [
    "### Results Summary\n",
    "Using 10% increase threshold\n",
    "1. Scree Plot- Choose Top 16 components (0-15)\n",
    "2. PCQC-90: Choose Top 14 Components (0-13), note PC21 is in the top '14' for this ranking.\n",
    "3. PCQC-95: Choose Top 18 Components (0-17)\n",
    "4. Kruskal-Wallis: Unclear, Pvalues could be top 20-60; Log p-value ratios, mid 30's\n",
    "5. Permutation Test: Statistical significance, top 31.  Practical significance: top 24. (0-23)  "
   ]
  },
  {
   "cell_type": "code",
   "execution_count": 1,
   "metadata": {},
   "outputs": [
    {
     "name": "stderr",
     "output_type": "stream",
     "text": [
      "/opt/conda/lib/python3.7/site-packages/anndata/_core/anndata.py:21: FutureWarning: pandas.core.index is deprecated and will be removed in a future version.  The public classes are available in the top-level namespace.\n",
      "  from pandas.core.index import RangeIndex\n"
     ]
    }
   ],
   "source": [
    "import sys\n",
    "sys.path.append('../pcqc')\n",
    "import numpy as np\n",
    "import pandas as pd\n",
    "import matplotlib.pyplot as plt\n",
    "import seaborn as sns\n",
    "from pcqc import *\n",
    "from kruskal_best_pcs import *"
   ]
  },
  {
   "cell_type": "code",
   "execution_count": 2,
   "metadata": {},
   "outputs": [],
   "source": [
    "from matplotlib.backends.backend_pdf import PdfPages"
   ]
  },
  {
   "cell_type": "code",
   "execution_count": 3,
   "metadata": {},
   "outputs": [],
   "source": [
    "output_plots = 'plots/pca_plots.pdf'"
   ]
  },
  {
   "cell_type": "code",
   "execution_count": 4,
   "metadata": {},
   "outputs": [],
   "source": [
    "plot_dictionary = dict()"
   ]
  },
  {
   "cell_type": "markdown",
   "metadata": {},
   "source": [
    "### Get Polished Data"
   ]
  },
  {
   "cell_type": "code",
   "execution_count": 5,
   "metadata": {},
   "outputs": [
    {
     "data": {
      "text/html": [
       "<div>\n",
       "<style scoped>\n",
       "    .dataframe tbody tr th:only-of-type {\n",
       "        vertical-align: middle;\n",
       "    }\n",
       "\n",
       "    .dataframe tbody tr th {\n",
       "        vertical-align: top;\n",
       "    }\n",
       "\n",
       "    .dataframe thead th {\n",
       "        text-align: right;\n",
       "    }\n",
       "</style>\n",
       "<table border=\"1\" class=\"dataframe\">\n",
       "  <thead>\n",
       "    <tr style=\"text-align: right;\">\n",
       "      <th>Unnamed: 0</th>\n",
       "      <th>A4GALT</th>\n",
       "      <th>ABCB10</th>\n",
       "      <th>ABCC3</th>\n",
       "      <th>ABCG2</th>\n",
       "      <th>ABI3</th>\n",
       "      <th>AC002454.1</th>\n",
       "      <th>AC004381.6</th>\n",
       "      <th>AC004791.2</th>\n",
       "      <th>AC005339.2</th>\n",
       "      <th>AC005356.1</th>\n",
       "      <th>...</th>\n",
       "      <th>MOUSE-Rtn4</th>\n",
       "      <th>MOUSE-Ppp1ca</th>\n",
       "      <th>MOUSE-Cald1</th>\n",
       "      <th>MOUSE-Rps26</th>\n",
       "      <th>MOUSE-Ctsl</th>\n",
       "      <th>MOUSE-Tnfrsf12a</th>\n",
       "      <th>MOUSE-Esd</th>\n",
       "      <th>MOUSE-Acta2</th>\n",
       "      <th>MOUSE-Arpc2</th>\n",
       "      <th>MOUSE-Calr</th>\n",
       "    </tr>\n",
       "  </thead>\n",
       "  <tbody>\n",
       "    <tr>\n",
       "      <th>CTGTTTACACCGCTAG</th>\n",
       "      <td>-0.043005</td>\n",
       "      <td>-0.127965</td>\n",
       "      <td>-0.089527</td>\n",
       "      <td>-0.044218</td>\n",
       "      <td>-0.31871</td>\n",
       "      <td>-0.077685</td>\n",
       "      <td>-0.067245</td>\n",
       "      <td>-0.026909</td>\n",
       "      <td>-0.020008</td>\n",
       "      <td>-0.02334</td>\n",
       "      <td>...</td>\n",
       "      <td>3.666522</td>\n",
       "      <td>2.806501</td>\n",
       "      <td>4.390655</td>\n",
       "      <td>2.338495</td>\n",
       "      <td>4.236169</td>\n",
       "      <td>3.291269</td>\n",
       "      <td>3.338256</td>\n",
       "      <td>1.181500</td>\n",
       "      <td>3.575336</td>\n",
       "      <td>2.491014</td>\n",
       "    </tr>\n",
       "    <tr>\n",
       "      <th>CTCTACGGTGTGGCTC</th>\n",
       "      <td>-0.043005</td>\n",
       "      <td>-0.127965</td>\n",
       "      <td>-0.089527</td>\n",
       "      <td>-0.044218</td>\n",
       "      <td>-0.31871</td>\n",
       "      <td>-0.077685</td>\n",
       "      <td>-0.067245</td>\n",
       "      <td>-0.026909</td>\n",
       "      <td>-0.020008</td>\n",
       "      <td>-0.02334</td>\n",
       "      <td>...</td>\n",
       "      <td>3.431149</td>\n",
       "      <td>3.219714</td>\n",
       "      <td>3.572171</td>\n",
       "      <td>3.176395</td>\n",
       "      <td>3.501385</td>\n",
       "      <td>3.099354</td>\n",
       "      <td>3.375631</td>\n",
       "      <td>3.738814</td>\n",
       "      <td>3.165883</td>\n",
       "      <td>2.803176</td>\n",
       "    </tr>\n",
       "    <tr>\n",
       "      <th>AGCAGCCAGGCTCATT</th>\n",
       "      <td>-0.043005</td>\n",
       "      <td>-0.127965</td>\n",
       "      <td>-0.089527</td>\n",
       "      <td>-0.044218</td>\n",
       "      <td>-0.31871</td>\n",
       "      <td>-0.077685</td>\n",
       "      <td>-0.067245</td>\n",
       "      <td>-0.026909</td>\n",
       "      <td>-0.020008</td>\n",
       "      <td>-0.02334</td>\n",
       "      <td>...</td>\n",
       "      <td>3.810213</td>\n",
       "      <td>3.309678</td>\n",
       "      <td>3.658060</td>\n",
       "      <td>3.236889</td>\n",
       "      <td>3.957931</td>\n",
       "      <td>3.465798</td>\n",
       "      <td>2.787275</td>\n",
       "      <td>2.762576</td>\n",
       "      <td>3.510315</td>\n",
       "      <td>3.762173</td>\n",
       "    </tr>\n",
       "    <tr>\n",
       "      <th>GAATAAGAGATCCCAT</th>\n",
       "      <td>-0.043005</td>\n",
       "      <td>-0.127965</td>\n",
       "      <td>-0.089527</td>\n",
       "      <td>-0.044218</td>\n",
       "      <td>-0.31871</td>\n",
       "      <td>-0.077685</td>\n",
       "      <td>-0.067245</td>\n",
       "      <td>-0.026909</td>\n",
       "      <td>-0.020008</td>\n",
       "      <td>-0.02334</td>\n",
       "      <td>...</td>\n",
       "      <td>3.686728</td>\n",
       "      <td>3.248412</td>\n",
       "      <td>3.565898</td>\n",
       "      <td>3.485953</td>\n",
       "      <td>3.325856</td>\n",
       "      <td>2.842990</td>\n",
       "      <td>3.483046</td>\n",
       "      <td>2.815389</td>\n",
       "      <td>3.319044</td>\n",
       "      <td>4.037947</td>\n",
       "    </tr>\n",
       "    <tr>\n",
       "      <th>GTGCATAGTCATGCAT</th>\n",
       "      <td>-0.043005</td>\n",
       "      <td>-0.127965</td>\n",
       "      <td>-0.089527</td>\n",
       "      <td>-0.044218</td>\n",
       "      <td>-0.31871</td>\n",
       "      <td>-0.077685</td>\n",
       "      <td>-0.067245</td>\n",
       "      <td>-0.026909</td>\n",
       "      <td>-0.020008</td>\n",
       "      <td>-0.02334</td>\n",
       "      <td>...</td>\n",
       "      <td>3.561990</td>\n",
       "      <td>3.678177</td>\n",
       "      <td>4.183636</td>\n",
       "      <td>3.325419</td>\n",
       "      <td>2.450436</td>\n",
       "      <td>2.636636</td>\n",
       "      <td>1.886444</td>\n",
       "      <td>6.334562</td>\n",
       "      <td>3.971224</td>\n",
       "      <td>2.929176</td>\n",
       "    </tr>\n",
       "  </tbody>\n",
       "</table>\n",
       "<p>5 rows × 2000 columns</p>\n",
       "</div>"
      ],
      "text/plain": [
       "Unnamed: 0          A4GALT    ABCB10     ABCC3     ABCG2     ABI3  AC002454.1  \\\n",
       "CTGTTTACACCGCTAG -0.043005 -0.127965 -0.089527 -0.044218 -0.31871   -0.077685   \n",
       "CTCTACGGTGTGGCTC -0.043005 -0.127965 -0.089527 -0.044218 -0.31871   -0.077685   \n",
       "AGCAGCCAGGCTCATT -0.043005 -0.127965 -0.089527 -0.044218 -0.31871   -0.077685   \n",
       "GAATAAGAGATCCCAT -0.043005 -0.127965 -0.089527 -0.044218 -0.31871   -0.077685   \n",
       "GTGCATAGTCATGCAT -0.043005 -0.127965 -0.089527 -0.044218 -0.31871   -0.077685   \n",
       "\n",
       "Unnamed: 0        AC004381.6  AC004791.2  AC005339.2  AC005356.1  ...  \\\n",
       "CTGTTTACACCGCTAG   -0.067245   -0.026909   -0.020008    -0.02334  ...   \n",
       "CTCTACGGTGTGGCTC   -0.067245   -0.026909   -0.020008    -0.02334  ...   \n",
       "AGCAGCCAGGCTCATT   -0.067245   -0.026909   -0.020008    -0.02334  ...   \n",
       "GAATAAGAGATCCCAT   -0.067245   -0.026909   -0.020008    -0.02334  ...   \n",
       "GTGCATAGTCATGCAT   -0.067245   -0.026909   -0.020008    -0.02334  ...   \n",
       "\n",
       "Unnamed: 0        MOUSE-Rtn4  MOUSE-Ppp1ca  MOUSE-Cald1  MOUSE-Rps26  \\\n",
       "CTGTTTACACCGCTAG    3.666522      2.806501     4.390655     2.338495   \n",
       "CTCTACGGTGTGGCTC    3.431149      3.219714     3.572171     3.176395   \n",
       "AGCAGCCAGGCTCATT    3.810213      3.309678     3.658060     3.236889   \n",
       "GAATAAGAGATCCCAT    3.686728      3.248412     3.565898     3.485953   \n",
       "GTGCATAGTCATGCAT    3.561990      3.678177     4.183636     3.325419   \n",
       "\n",
       "Unnamed: 0        MOUSE-Ctsl  MOUSE-Tnfrsf12a  MOUSE-Esd  MOUSE-Acta2  \\\n",
       "CTGTTTACACCGCTAG    4.236169         3.291269   3.338256     1.181500   \n",
       "CTCTACGGTGTGGCTC    3.501385         3.099354   3.375631     3.738814   \n",
       "AGCAGCCAGGCTCATT    3.957931         3.465798   2.787275     2.762576   \n",
       "GAATAAGAGATCCCAT    3.325856         2.842990   3.483046     2.815389   \n",
       "GTGCATAGTCATGCAT    2.450436         2.636636   1.886444     6.334562   \n",
       "\n",
       "Unnamed: 0        MOUSE-Arpc2  MOUSE-Calr  \n",
       "CTGTTTACACCGCTAG     3.575336    2.491014  \n",
       "CTCTACGGTGTGGCTC     3.165883    2.803176  \n",
       "AGCAGCCAGGCTCATT     3.510315    3.762173  \n",
       "GAATAAGAGATCCCAT     3.319044    4.037947  \n",
       "GTGCATAGTCATGCAT     3.971224    2.929176  \n",
       "\n",
       "[5 rows x 2000 columns]"
      ]
     },
     "execution_count": 5,
     "metadata": {},
     "output_type": "execute_result"
    }
   ],
   "source": [
    "cbmc_df = pd.read_csv('data/filtered_cbmc_assay.csv')\n",
    "cbmc_df.index = cbmc_df['Unnamed: 0']\n",
    "cbmc_df.drop(columns = 'Unnamed: 0',inplace = True)\n",
    "cbmc_df = cbmc_df.transpose()\n",
    "cbmc_df.head()"
   ]
  },
  {
   "cell_type": "code",
   "execution_count": 6,
   "metadata": {},
   "outputs": [
    {
     "data": {
      "text/plain": [
       "array([0.06562919, 0.03916874, 0.02691411, 0.01778673, 0.01531372,\n",
       "       0.01340929, 0.01227411, 0.0069056 , 0.00643235, 0.00514619,\n",
       "       0.00342394, 0.00324247, 0.00302587, 0.00232158, 0.00222412,\n",
       "       0.00214154, 0.001905  , 0.00181226, 0.00176268, 0.00166096])"
      ]
     },
     "execution_count": 6,
     "metadata": {},
     "output_type": "execute_result"
    }
   ],
   "source": [
    "pca = PC_Cluster(n_pcs = 100)\n",
    "pca.fit(cbmc_df.values)\n",
    "pca.norm_eigenvalues[0:20]"
   ]
  },
  {
   "cell_type": "code",
   "execution_count": 7,
   "metadata": {},
   "outputs": [
    {
     "data": {
      "text/plain": [
       "array([868.95295056, 671.30139796, 556.46486991, 452.37205407,\n",
       "       419.74751803, 392.78109022, 375.78791519, 281.86983478,\n",
       "       272.03996754, 243.32710581, 198.47716244, 193.14613423,\n",
       "       186.58335143, 163.43284719, 159.96552011, 156.96792325,\n",
       "       148.04542448, 144.39681656, 142.40815718, 138.23778985,\n",
       "       136.1151185 , 133.40114625, 131.55387147, 129.87040203,\n",
       "       127.96288203, 127.17933396, 125.48905784, 124.00006504,\n",
       "       122.98194909, 122.92517486, 122.35573268, 120.94851116,\n",
       "       120.85115102, 120.30471171, 119.68894365, 119.60308555,\n",
       "       119.28672034, 119.14001671, 118.64576421, 118.11438032])"
      ]
     },
     "execution_count": 7,
     "metadata": {},
     "output_type": "execute_result"
    }
   ],
   "source": [
    "pca.singular_values[0:40]"
   ]
  },
  {
   "cell_type": "markdown",
   "metadata": {},
   "source": [
    "### Run pcqc to identify top pcs"
   ]
  },
  {
   "cell_type": "code",
   "execution_count": 8,
   "metadata": {},
   "outputs": [
    {
     "data": {
      "text/plain": [
       "array([0.06562919, 0.03916874, 0.02691411, 0.01778673, 0.01531372,\n",
       "       0.01340929, 0.01227411, 0.0069056 , 0.00643235, 0.00514619,\n",
       "       0.00342394, 0.00324247, 0.00302587, 0.00232158, 0.00222412,\n",
       "       0.00214154, 0.001905  , 0.00181226, 0.00176268, 0.00166096])"
      ]
     },
     "execution_count": 8,
     "metadata": {},
     "output_type": "execute_result"
    }
   ],
   "source": [
    "pca = PC_Cluster(n_pcs = 100)\n",
    "pca.fit(cbmc_df.values)\n",
    "pca.norm_eigenvalues[0:20]"
   ]
  },
  {
   "cell_type": "code",
   "execution_count": 9,
   "metadata": {},
   "outputs": [
    {
     "data": {
      "text/html": [
       "<div>\n",
       "<style scoped>\n",
       "    .dataframe tbody tr th:only-of-type {\n",
       "        vertical-align: middle;\n",
       "    }\n",
       "\n",
       "    .dataframe tbody tr th {\n",
       "        vertical-align: top;\n",
       "    }\n",
       "\n",
       "    .dataframe thead th {\n",
       "        text-align: right;\n",
       "    }\n",
       "</style>\n",
       "<table border=\"1\" class=\"dataframe\">\n",
       "  <thead>\n",
       "    <tr style=\"text-align: right;\">\n",
       "      <th></th>\n",
       "      <th>PC_Dist_0</th>\n",
       "      <th>PC_Dist_1</th>\n",
       "      <th>PC_Dist_2</th>\n",
       "      <th>PC_Dist_3</th>\n",
       "      <th>PC_Dist_4</th>\n",
       "      <th>PC_Dist_5</th>\n",
       "      <th>PC_Dist_6</th>\n",
       "      <th>PC_Dist_7</th>\n",
       "      <th>PC_Dist_8</th>\n",
       "      <th>PC_Dist_9</th>\n",
       "      <th>...</th>\n",
       "      <th>PC_Dist_90</th>\n",
       "      <th>PC_Dist_91</th>\n",
       "      <th>PC_Dist_92</th>\n",
       "      <th>PC_Dist_93</th>\n",
       "      <th>PC_Dist_94</th>\n",
       "      <th>PC_Dist_95</th>\n",
       "      <th>PC_Dist_96</th>\n",
       "      <th>PC_Dist_97</th>\n",
       "      <th>PC_Dist_98</th>\n",
       "      <th>PC_Dist_99</th>\n",
       "    </tr>\n",
       "  </thead>\n",
       "  <tbody>\n",
       "    <tr>\n",
       "      <th>0</th>\n",
       "      <td>0.000109</td>\n",
       "      <td>1.017151e-06</td>\n",
       "      <td>3.472080e-08</td>\n",
       "      <td>1.432048e-08</td>\n",
       "      <td>5.050533e-09</td>\n",
       "      <td>1.319299e-07</td>\n",
       "      <td>4.266750e-08</td>\n",
       "      <td>2.720950e-08</td>\n",
       "      <td>2.365754e-10</td>\n",
       "      <td>3.106800e-08</td>\n",
       "      <td>...</td>\n",
       "      <td>2.198981e-09</td>\n",
       "      <td>1.751499e-08</td>\n",
       "      <td>2.922613e-11</td>\n",
       "      <td>2.244439e-09</td>\n",
       "      <td>5.922574e-09</td>\n",
       "      <td>1.228976e-08</td>\n",
       "      <td>4.705107e-09</td>\n",
       "      <td>1.509249e-09</td>\n",
       "      <td>1.960247e-09</td>\n",
       "      <td>2.843155e-09</td>\n",
       "    </tr>\n",
       "    <tr>\n",
       "      <th>1</th>\n",
       "      <td>0.000106</td>\n",
       "      <td>1.330582e-06</td>\n",
       "      <td>4.509797e-07</td>\n",
       "      <td>9.829682e-10</td>\n",
       "      <td>4.407147e-08</td>\n",
       "      <td>1.592044e-06</td>\n",
       "      <td>2.385236e-07</td>\n",
       "      <td>3.358053e-08</td>\n",
       "      <td>5.075646e-09</td>\n",
       "      <td>1.728385e-08</td>\n",
       "      <td>...</td>\n",
       "      <td>9.969644e-10</td>\n",
       "      <td>2.087265e-09</td>\n",
       "      <td>8.196951e-09</td>\n",
       "      <td>2.109240e-09</td>\n",
       "      <td>4.168864e-08</td>\n",
       "      <td>2.796389e-08</td>\n",
       "      <td>5.889346e-11</td>\n",
       "      <td>5.691022e-09</td>\n",
       "      <td>1.084981e-09</td>\n",
       "      <td>4.350326e-09</td>\n",
       "    </tr>\n",
       "    <tr>\n",
       "      <th>2</th>\n",
       "      <td>0.000112</td>\n",
       "      <td>1.352623e-06</td>\n",
       "      <td>2.310197e-07</td>\n",
       "      <td>2.536909e-08</td>\n",
       "      <td>2.595612e-08</td>\n",
       "      <td>3.811017e-07</td>\n",
       "      <td>1.088577e-10</td>\n",
       "      <td>1.922921e-08</td>\n",
       "      <td>3.803947e-08</td>\n",
       "      <td>2.003366e-09</td>\n",
       "      <td>...</td>\n",
       "      <td>2.840543e-09</td>\n",
       "      <td>2.023886e-08</td>\n",
       "      <td>1.010993e-12</td>\n",
       "      <td>2.542236e-08</td>\n",
       "      <td>3.257220e-09</td>\n",
       "      <td>9.102833e-09</td>\n",
       "      <td>4.732683e-08</td>\n",
       "      <td>1.206457e-08</td>\n",
       "      <td>1.393310e-10</td>\n",
       "      <td>4.298715e-09</td>\n",
       "    </tr>\n",
       "    <tr>\n",
       "      <th>3</th>\n",
       "      <td>0.000108</td>\n",
       "      <td>1.341827e-06</td>\n",
       "      <td>1.159750e-07</td>\n",
       "      <td>2.082525e-08</td>\n",
       "      <td>2.928377e-08</td>\n",
       "      <td>4.010636e-07</td>\n",
       "      <td>3.102027e-10</td>\n",
       "      <td>6.158710e-09</td>\n",
       "      <td>1.380496e-10</td>\n",
       "      <td>7.409330e-13</td>\n",
       "      <td>...</td>\n",
       "      <td>1.377265e-08</td>\n",
       "      <td>3.063582e-10</td>\n",
       "      <td>5.103592e-09</td>\n",
       "      <td>2.295113e-09</td>\n",
       "      <td>9.564528e-09</td>\n",
       "      <td>4.424484e-10</td>\n",
       "      <td>3.092323e-09</td>\n",
       "      <td>7.237929e-09</td>\n",
       "      <td>1.433666e-08</td>\n",
       "      <td>2.075092e-10</td>\n",
       "    </tr>\n",
       "    <tr>\n",
       "      <th>4</th>\n",
       "      <td>0.000102</td>\n",
       "      <td>9.337392e-07</td>\n",
       "      <td>2.459761e-07</td>\n",
       "      <td>2.138715e-10</td>\n",
       "      <td>6.602527e-08</td>\n",
       "      <td>2.070620e-07</td>\n",
       "      <td>1.215814e-10</td>\n",
       "      <td>2.952202e-09</td>\n",
       "      <td>2.365325e-08</td>\n",
       "      <td>2.340283e-08</td>\n",
       "      <td>...</td>\n",
       "      <td>2.689249e-10</td>\n",
       "      <td>4.261099e-09</td>\n",
       "      <td>5.340679e-09</td>\n",
       "      <td>1.173059e-08</td>\n",
       "      <td>2.289973e-08</td>\n",
       "      <td>2.751366e-09</td>\n",
       "      <td>2.644236e-08</td>\n",
       "      <td>4.734207e-08</td>\n",
       "      <td>2.013404e-09</td>\n",
       "      <td>4.568171e-09</td>\n",
       "    </tr>\n",
       "  </tbody>\n",
       "</table>\n",
       "<p>5 rows × 100 columns</p>\n",
       "</div>"
      ],
      "text/plain": [
       "   PC_Dist_0     PC_Dist_1     PC_Dist_2     PC_Dist_3     PC_Dist_4  \\\n",
       "0   0.000109  1.017151e-06  3.472080e-08  1.432048e-08  5.050533e-09   \n",
       "1   0.000106  1.330582e-06  4.509797e-07  9.829682e-10  4.407147e-08   \n",
       "2   0.000112  1.352623e-06  2.310197e-07  2.536909e-08  2.595612e-08   \n",
       "3   0.000108  1.341827e-06  1.159750e-07  2.082525e-08  2.928377e-08   \n",
       "4   0.000102  9.337392e-07  2.459761e-07  2.138715e-10  6.602527e-08   \n",
       "\n",
       "      PC_Dist_5     PC_Dist_6     PC_Dist_7     PC_Dist_8     PC_Dist_9  ...  \\\n",
       "0  1.319299e-07  4.266750e-08  2.720950e-08  2.365754e-10  3.106800e-08  ...   \n",
       "1  1.592044e-06  2.385236e-07  3.358053e-08  5.075646e-09  1.728385e-08  ...   \n",
       "2  3.811017e-07  1.088577e-10  1.922921e-08  3.803947e-08  2.003366e-09  ...   \n",
       "3  4.010636e-07  3.102027e-10  6.158710e-09  1.380496e-10  7.409330e-13  ...   \n",
       "4  2.070620e-07  1.215814e-10  2.952202e-09  2.365325e-08  2.340283e-08  ...   \n",
       "\n",
       "     PC_Dist_90    PC_Dist_91    PC_Dist_92    PC_Dist_93    PC_Dist_94  \\\n",
       "0  2.198981e-09  1.751499e-08  2.922613e-11  2.244439e-09  5.922574e-09   \n",
       "1  9.969644e-10  2.087265e-09  8.196951e-09  2.109240e-09  4.168864e-08   \n",
       "2  2.840543e-09  2.023886e-08  1.010993e-12  2.542236e-08  3.257220e-09   \n",
       "3  1.377265e-08  3.063582e-10  5.103592e-09  2.295113e-09  9.564528e-09   \n",
       "4  2.689249e-10  4.261099e-09  5.340679e-09  1.173059e-08  2.289973e-08   \n",
       "\n",
       "     PC_Dist_95    PC_Dist_96    PC_Dist_97    PC_Dist_98    PC_Dist_99  \n",
       "0  1.228976e-08  4.705107e-09  1.509249e-09  1.960247e-09  2.843155e-09  \n",
       "1  2.796389e-08  5.889346e-11  5.691022e-09  1.084981e-09  4.350326e-09  \n",
       "2  9.102833e-09  4.732683e-08  1.206457e-08  1.393310e-10  4.298715e-09  \n",
       "3  4.424484e-10  3.092323e-09  7.237929e-09  1.433666e-08  2.075092e-10  \n",
       "4  2.751366e-09  2.644236e-08  4.734207e-08  2.013404e-09  4.568171e-09  \n",
       "\n",
       "[5 rows x 100 columns]"
      ]
     },
     "execution_count": 9,
     "metadata": {},
     "output_type": "execute_result"
    }
   ],
   "source": [
    "pca.pc_distribution()\n",
    "pca.df_pca_dist.head()"
   ]
  },
  {
   "cell_type": "code",
   "execution_count": 13,
   "metadata": {},
   "outputs": [
    {
     "data": {
      "image/png": "[encoded data removed]",
      "text/plain": [
       "<Figure size 432x288 with 1 Axes>"
      ]
     },
     "metadata": {
      "needs_background": "light"
     },
     "output_type": "display_data"
    }
   ],
   "source": [
    "pc_distplot(pca, cols = np.arange(0,10))\n",
    "plt.title('Distribution of Variance Explained for Top 10 PCs')\n",
    "plot_dictionary['Boxenplot'] = plt.gca().get_figure()"
   ]
  },
  {
   "cell_type": "code",
   "execution_count": 15,
   "metadata": {},
   "outputs": [],
   "source": [
    "pca.pc_stats()"
   ]
  },
  {
   "cell_type": "code",
   "execution_count": 151,
   "metadata": {
    "collapsed": true
   },
   "outputs": [
    {
     "data": {
      "text/html": [
       "<div>\n",
       "<style scoped>\n",
       "    .dataframe tbody tr th:only-of-type {\n",
       "        vertical-align: middle;\n",
       "    }\n",
       "\n",
       "    .dataframe tbody tr th {\n",
       "        vertical-align: top;\n",
       "    }\n",
       "\n",
       "    .dataframe thead th {\n",
       "        text-align: right;\n",
       "    }\n",
       "</style>\n",
       "<table border=\"1\" class=\"dataframe\">\n",
       "  <thead>\n",
       "    <tr style=\"text-align: right;\">\n",
       "      <th></th>\n",
       "      <th>85.0_Percentile</th>\n",
       "      <th>90.0_Percentile</th>\n",
       "      <th>95.0_Percentile</th>\n",
       "      <th>evalue</th>\n",
       "      <th>rank</th>\n",
       "    </tr>\n",
       "  </thead>\n",
       "  <tbody>\n",
       "    <tr>\n",
       "      <th>PC_Dist_1</th>\n",
       "      <td>8.601626e-06</td>\n",
       "      <td>1.014885e-05</td>\n",
       "      <td>1.210442e-05</td>\n",
       "      <td>0.039169</td>\n",
       "      <td>2.0</td>\n",
       "    </tr>\n",
       "    <tr>\n",
       "      <th>PC_Dist_3</th>\n",
       "      <td>2.813921e-06</td>\n",
       "      <td>7.694347e-06</td>\n",
       "      <td>1.292536e-05</td>\n",
       "      <td>0.017787</td>\n",
       "      <td>4.0</td>\n",
       "    </tr>\n",
       "    <tr>\n",
       "      <th>PC_Dist_0</th>\n",
       "      <td>2.311926e-06</td>\n",
       "      <td>2.936726e-06</td>\n",
       "      <td>9.714711e-05</td>\n",
       "      <td>0.065629</td>\n",
       "      <td>1.0</td>\n",
       "    </tr>\n",
       "    <tr>\n",
       "      <th>PC_Dist_2</th>\n",
       "      <td>1.285693e-06</td>\n",
       "      <td>1.547341e-06</td>\n",
       "      <td>2.749509e-06</td>\n",
       "      <td>0.026914</td>\n",
       "      <td>3.0</td>\n",
       "    </tr>\n",
       "    <tr>\n",
       "      <th>PC_Dist_9</th>\n",
       "      <td>9.158598e-07</td>\n",
       "      <td>1.511348e-06</td>\n",
       "      <td>3.181929e-06</td>\n",
       "      <td>0.005146</td>\n",
       "      <td>10.0</td>\n",
       "    </tr>\n",
       "    <tr>\n",
       "      <th>PC_Dist_5</th>\n",
       "      <td>5.801629e-07</td>\n",
       "      <td>1.427605e-06</td>\n",
       "      <td>5.020880e-06</td>\n",
       "      <td>0.013409</td>\n",
       "      <td>6.0</td>\n",
       "    </tr>\n",
       "    <tr>\n",
       "      <th>PC_Dist_4</th>\n",
       "      <td>4.296442e-07</td>\n",
       "      <td>9.569372e-07</td>\n",
       "      <td>6.487841e-06</td>\n",
       "      <td>0.015314</td>\n",
       "      <td>5.0</td>\n",
       "    </tr>\n",
       "    <tr>\n",
       "      <th>PC_Dist_7</th>\n",
       "      <td>4.446319e-07</td>\n",
       "      <td>7.045018e-07</td>\n",
       "      <td>1.570855e-06</td>\n",
       "      <td>0.006906</td>\n",
       "      <td>8.0</td>\n",
       "    </tr>\n",
       "    <tr>\n",
       "      <th>PC_Dist_16</th>\n",
       "      <td>3.702320e-07</td>\n",
       "      <td>6.042770e-07</td>\n",
       "      <td>1.083304e-06</td>\n",
       "      <td>0.001905</td>\n",
       "      <td>17.0</td>\n",
       "    </tr>\n",
       "    <tr>\n",
       "      <th>PC_Dist_15</th>\n",
       "      <td>4.147513e-07</td>\n",
       "      <td>5.718364e-07</td>\n",
       "      <td>9.152589e-07</td>\n",
       "      <td>0.002142</td>\n",
       "      <td>16.0</td>\n",
       "    </tr>\n",
       "    <tr>\n",
       "      <th>PC_Dist_10</th>\n",
       "      <td>3.054692e-07</td>\n",
       "      <td>5.656790e-07</td>\n",
       "      <td>1.611368e-06</td>\n",
       "      <td>0.003424</td>\n",
       "      <td>11.0</td>\n",
       "    </tr>\n",
       "    <tr>\n",
       "      <th>PC_Dist_18</th>\n",
       "      <td>3.340467e-07</td>\n",
       "      <td>5.092305e-07</td>\n",
       "      <td>9.802739e-07</td>\n",
       "      <td>0.001763</td>\n",
       "      <td>19.0</td>\n",
       "    </tr>\n",
       "    <tr>\n",
       "      <th>PC_Dist_6</th>\n",
       "      <td>3.048251e-07</td>\n",
       "      <td>5.059515e-07</td>\n",
       "      <td>1.295391e-05</td>\n",
       "      <td>0.012274</td>\n",
       "      <td>7.0</td>\n",
       "    </tr>\n",
       "    <tr>\n",
       "      <th>PC_Dist_19</th>\n",
       "      <td>2.041743e-07</td>\n",
       "      <td>3.267952e-07</td>\n",
       "      <td>7.288306e-07</td>\n",
       "      <td>0.001661</td>\n",
       "      <td>20.0</td>\n",
       "    </tr>\n",
       "    <tr>\n",
       "      <th>PC_Dist_11</th>\n",
       "      <td>1.764134e-07</td>\n",
       "      <td>2.940129e-07</td>\n",
       "      <td>9.874658e-07</td>\n",
       "      <td>0.003242</td>\n",
       "      <td>12.0</td>\n",
       "    </tr>\n",
       "    <tr>\n",
       "      <th>PC_Dist_8</th>\n",
       "      <td>1.406752e-07</td>\n",
       "      <td>2.863070e-07</td>\n",
       "      <td>1.789906e-06</td>\n",
       "      <td>0.006432</td>\n",
       "      <td>9.0</td>\n",
       "    </tr>\n",
       "    <tr>\n",
       "      <th>PC_Dist_12</th>\n",
       "      <td>1.371679e-07</td>\n",
       "      <td>2.051396e-07</td>\n",
       "      <td>4.088985e-07</td>\n",
       "      <td>0.003026</td>\n",
       "      <td>13.0</td>\n",
       "    </tr>\n",
       "    <tr>\n",
       "      <th>PC_Dist_14</th>\n",
       "      <td>1.368551e-07</td>\n",
       "      <td>1.952306e-07</td>\n",
       "      <td>3.420856e-07</td>\n",
       "      <td>0.002224</td>\n",
       "      <td>15.0</td>\n",
       "    </tr>\n",
       "    <tr>\n",
       "      <th>PC_Dist_13</th>\n",
       "      <td>1.296509e-07</td>\n",
       "      <td>1.920663e-07</td>\n",
       "      <td>3.916205e-07</td>\n",
       "      <td>0.002322</td>\n",
       "      <td>14.0</td>\n",
       "    </tr>\n",
       "    <tr>\n",
       "      <th>PC_Dist_17</th>\n",
       "      <td>1.228702e-07</td>\n",
       "      <td>1.744711e-07</td>\n",
       "      <td>3.196083e-07</td>\n",
       "      <td>0.001812</td>\n",
       "      <td>18.0</td>\n",
       "    </tr>\n",
       "  </tbody>\n",
       "</table>\n",
       "</div>"
      ],
      "text/plain": [
       "            85.0_Percentile  90.0_Percentile  95.0_Percentile    evalue  rank\n",
       "PC_Dist_1      8.601626e-06     1.014885e-05     1.210442e-05  0.039169   2.0\n",
       "PC_Dist_3      2.813921e-06     7.694347e-06     1.292536e-05  0.017787   4.0\n",
       "PC_Dist_0      2.311926e-06     2.936726e-06     9.714711e-05  0.065629   1.0\n",
       "PC_Dist_2      1.285693e-06     1.547341e-06     2.749509e-06  0.026914   3.0\n",
       "PC_Dist_9      9.158598e-07     1.511348e-06     3.181929e-06  0.005146  10.0\n",
       "PC_Dist_5      5.801629e-07     1.427605e-06     5.020880e-06  0.013409   6.0\n",
       "PC_Dist_4      4.296442e-07     9.569372e-07     6.487841e-06  0.015314   5.0\n",
       "PC_Dist_7      4.446319e-07     7.045018e-07     1.570855e-06  0.006906   8.0\n",
       "PC_Dist_16     3.702320e-07     6.042770e-07     1.083304e-06  0.001905  17.0\n",
       "PC_Dist_15     4.147513e-07     5.718364e-07     9.152589e-07  0.002142  16.0\n",
       "PC_Dist_10     3.054692e-07     5.656790e-07     1.611368e-06  0.003424  11.0\n",
       "PC_Dist_18     3.340467e-07     5.092305e-07     9.802739e-07  0.001763  19.0\n",
       "PC_Dist_6      3.048251e-07     5.059515e-07     1.295391e-05  0.012274   7.0\n",
       "PC_Dist_19     2.041743e-07     3.267952e-07     7.288306e-07  0.001661  20.0\n",
       "PC_Dist_11     1.764134e-07     2.940129e-07     9.874658e-07  0.003242  12.0\n",
       "PC_Dist_8      1.406752e-07     2.863070e-07     1.789906e-06  0.006432   9.0\n",
       "PC_Dist_12     1.371679e-07     2.051396e-07     4.088985e-07  0.003026  13.0\n",
       "PC_Dist_14     1.368551e-07     1.952306e-07     3.420856e-07  0.002224  15.0\n",
       "PC_Dist_13     1.296509e-07     1.920663e-07     3.916205e-07  0.002322  14.0\n",
       "PC_Dist_17     1.228702e-07     1.744711e-07     3.196083e-07  0.001812  18.0"
      ]
     },
     "execution_count": 151,
     "metadata": {},
     "output_type": "execute_result"
    }
   ],
   "source": [
    "pca.df_pc_stats.head(20).sort_values(by = '90.0_Percentile',ascending = False)"
   ]
  },
  {
   "cell_type": "code",
   "execution_count": 149,
   "metadata": {},
   "outputs": [
    {
     "data": {
      "text/html": [
       "<div>\n",
       "<style scoped>\n",
       "    .dataframe tbody tr th:only-of-type {\n",
       "        vertical-align: middle;\n",
       "    }\n",
       "\n",
       "    .dataframe tbody tr th {\n",
       "        vertical-align: top;\n",
       "    }\n",
       "\n",
       "    .dataframe thead th {\n",
       "        text-align: right;\n",
       "    }\n",
       "</style>\n",
       "<table border=\"1\" class=\"dataframe\">\n",
       "  <thead>\n",
       "    <tr style=\"text-align: right;\">\n",
       "      <th></th>\n",
       "      <th>85.0_Percentile</th>\n",
       "      <th>90.0_Percentile</th>\n",
       "      <th>95.0_Percentile</th>\n",
       "      <th>evalue</th>\n",
       "      <th>rank</th>\n",
       "    </tr>\n",
       "  </thead>\n",
       "  <tbody>\n",
       "    <tr>\n",
       "      <th>PC_Dist_1</th>\n",
       "      <td>8.601626e-06</td>\n",
       "      <td>1.014885e-05</td>\n",
       "      <td>1.210442e-05</td>\n",
       "      <td>0.039169</td>\n",
       "      <td>2.0</td>\n",
       "    </tr>\n",
       "    <tr>\n",
       "      <th>PC_Dist_3</th>\n",
       "      <td>2.813921e-06</td>\n",
       "      <td>7.694347e-06</td>\n",
       "      <td>1.292536e-05</td>\n",
       "      <td>0.017787</td>\n",
       "      <td>4.0</td>\n",
       "    </tr>\n",
       "    <tr>\n",
       "      <th>PC_Dist_0</th>\n",
       "      <td>2.311926e-06</td>\n",
       "      <td>2.936726e-06</td>\n",
       "      <td>9.714711e-05</td>\n",
       "      <td>0.065629</td>\n",
       "      <td>1.0</td>\n",
       "    </tr>\n",
       "    <tr>\n",
       "      <th>PC_Dist_2</th>\n",
       "      <td>1.285693e-06</td>\n",
       "      <td>1.547341e-06</td>\n",
       "      <td>2.749509e-06</td>\n",
       "      <td>0.026914</td>\n",
       "      <td>3.0</td>\n",
       "    </tr>\n",
       "    <tr>\n",
       "      <th>PC_Dist_9</th>\n",
       "      <td>9.158598e-07</td>\n",
       "      <td>1.511348e-06</td>\n",
       "      <td>3.181929e-06</td>\n",
       "      <td>0.005146</td>\n",
       "      <td>10.0</td>\n",
       "    </tr>\n",
       "    <tr>\n",
       "      <th>PC_Dist_5</th>\n",
       "      <td>5.801629e-07</td>\n",
       "      <td>1.427605e-06</td>\n",
       "      <td>5.020880e-06</td>\n",
       "      <td>0.013409</td>\n",
       "      <td>6.0</td>\n",
       "    </tr>\n",
       "    <tr>\n",
       "      <th>PC_Dist_4</th>\n",
       "      <td>4.296442e-07</td>\n",
       "      <td>9.569372e-07</td>\n",
       "      <td>6.487841e-06</td>\n",
       "      <td>0.015314</td>\n",
       "      <td>5.0</td>\n",
       "    </tr>\n",
       "    <tr>\n",
       "      <th>PC_Dist_7</th>\n",
       "      <td>4.446319e-07</td>\n",
       "      <td>7.045018e-07</td>\n",
       "      <td>1.570855e-06</td>\n",
       "      <td>0.006906</td>\n",
       "      <td>8.0</td>\n",
       "    </tr>\n",
       "    <tr>\n",
       "      <th>PC_Dist_16</th>\n",
       "      <td>3.702320e-07</td>\n",
       "      <td>6.042770e-07</td>\n",
       "      <td>1.083304e-06</td>\n",
       "      <td>0.001905</td>\n",
       "      <td>17.0</td>\n",
       "    </tr>\n",
       "    <tr>\n",
       "      <th>PC_Dist_15</th>\n",
       "      <td>4.147513e-07</td>\n",
       "      <td>5.718364e-07</td>\n",
       "      <td>9.152589e-07</td>\n",
       "      <td>0.002142</td>\n",
       "      <td>16.0</td>\n",
       "    </tr>\n",
       "    <tr>\n",
       "      <th>PC_Dist_10</th>\n",
       "      <td>3.054692e-07</td>\n",
       "      <td>5.656790e-07</td>\n",
       "      <td>1.611368e-06</td>\n",
       "      <td>0.003424</td>\n",
       "      <td>11.0</td>\n",
       "    </tr>\n",
       "    <tr>\n",
       "      <th>PC_Dist_18</th>\n",
       "      <td>3.340467e-07</td>\n",
       "      <td>5.092305e-07</td>\n",
       "      <td>9.802739e-07</td>\n",
       "      <td>0.001763</td>\n",
       "      <td>19.0</td>\n",
       "    </tr>\n",
       "    <tr>\n",
       "      <th>PC_Dist_6</th>\n",
       "      <td>3.048251e-07</td>\n",
       "      <td>5.059515e-07</td>\n",
       "      <td>1.295391e-05</td>\n",
       "      <td>0.012274</td>\n",
       "      <td>7.0</td>\n",
       "    </tr>\n",
       "    <tr>\n",
       "      <th>PC_Dist_21</th>\n",
       "      <td>3.256894e-07</td>\n",
       "      <td>4.796577e-07</td>\n",
       "      <td>7.956772e-07</td>\n",
       "      <td>0.001547</td>\n",
       "      <td>22.0</td>\n",
       "    </tr>\n",
       "    <tr>\n",
       "      <th>PC_Dist_20</th>\n",
       "      <td>2.690750e-07</td>\n",
       "      <td>3.943002e-07</td>\n",
       "      <td>7.245198e-07</td>\n",
       "      <td>0.001610</td>\n",
       "      <td>21.0</td>\n",
       "    </tr>\n",
       "    <tr>\n",
       "      <th>PC_Dist_28</th>\n",
       "      <td>2.687645e-07</td>\n",
       "      <td>3.791827e-07</td>\n",
       "      <td>6.307014e-07</td>\n",
       "      <td>0.001315</td>\n",
       "      <td>29.0</td>\n",
       "    </tr>\n",
       "    <tr>\n",
       "      <th>PC_Dist_27</th>\n",
       "      <td>2.748698e-07</td>\n",
       "      <td>3.732285e-07</td>\n",
       "      <td>5.755626e-07</td>\n",
       "      <td>0.001336</td>\n",
       "      <td>28.0</td>\n",
       "    </tr>\n",
       "    <tr>\n",
       "      <th>PC_Dist_30</th>\n",
       "      <td>2.502243e-07</td>\n",
       "      <td>3.650753e-07</td>\n",
       "      <td>5.929666e-07</td>\n",
       "      <td>0.001301</td>\n",
       "      <td>31.0</td>\n",
       "    </tr>\n",
       "    <tr>\n",
       "      <th>PC_Dist_25</th>\n",
       "      <td>2.655526e-07</td>\n",
       "      <td>3.638046e-07</td>\n",
       "      <td>5.504976e-07</td>\n",
       "      <td>0.001406</td>\n",
       "      <td>26.0</td>\n",
       "    </tr>\n",
       "    <tr>\n",
       "      <th>PC_Dist_23</th>\n",
       "      <td>2.634079e-07</td>\n",
       "      <td>3.629886e-07</td>\n",
       "      <td>5.835391e-07</td>\n",
       "      <td>0.001466</td>\n",
       "      <td>24.0</td>\n",
       "    </tr>\n",
       "  </tbody>\n",
       "</table>\n",
       "</div>"
      ],
      "text/plain": [
       "            85.0_Percentile  90.0_Percentile  95.0_Percentile    evalue  rank\n",
       "PC_Dist_1      8.601626e-06     1.014885e-05     1.210442e-05  0.039169   2.0\n",
       "PC_Dist_3      2.813921e-06     7.694347e-06     1.292536e-05  0.017787   4.0\n",
       "PC_Dist_0      2.311926e-06     2.936726e-06     9.714711e-05  0.065629   1.0\n",
       "PC_Dist_2      1.285693e-06     1.547341e-06     2.749509e-06  0.026914   3.0\n",
       "PC_Dist_9      9.158598e-07     1.511348e-06     3.181929e-06  0.005146  10.0\n",
       "PC_Dist_5      5.801629e-07     1.427605e-06     5.020880e-06  0.013409   6.0\n",
       "PC_Dist_4      4.296442e-07     9.569372e-07     6.487841e-06  0.015314   5.0\n",
       "PC_Dist_7      4.446319e-07     7.045018e-07     1.570855e-06  0.006906   8.0\n",
       "PC_Dist_16     3.702320e-07     6.042770e-07     1.083304e-06  0.001905  17.0\n",
       "PC_Dist_15     4.147513e-07     5.718364e-07     9.152589e-07  0.002142  16.0\n",
       "PC_Dist_10     3.054692e-07     5.656790e-07     1.611368e-06  0.003424  11.0\n",
       "PC_Dist_18     3.340467e-07     5.092305e-07     9.802739e-07  0.001763  19.0\n",
       "PC_Dist_6      3.048251e-07     5.059515e-07     1.295391e-05  0.012274   7.0\n",
       "PC_Dist_21     3.256894e-07     4.796577e-07     7.956772e-07  0.001547  22.0\n",
       "PC_Dist_20     2.690750e-07     3.943002e-07     7.245198e-07  0.001610  21.0\n",
       "PC_Dist_28     2.687645e-07     3.791827e-07     6.307014e-07  0.001315  29.0\n",
       "PC_Dist_27     2.748698e-07     3.732285e-07     5.755626e-07  0.001336  28.0\n",
       "PC_Dist_30     2.502243e-07     3.650753e-07     5.929666e-07  0.001301  31.0\n",
       "PC_Dist_25     2.655526e-07     3.638046e-07     5.504976e-07  0.001406  26.0\n",
       "PC_Dist_23     2.634079e-07     3.629886e-07     5.835391e-07  0.001466  24.0"
      ]
     },
     "execution_count": 149,
     "metadata": {},
     "output_type": "execute_result"
    }
   ],
   "source": [
    "pca.df_pc_stats.sort_values(by = '90.0_Percentile',ascending = False).head(20)"
   ]
  },
  {
   "cell_type": "code",
   "execution_count": 150,
   "metadata": {},
   "outputs": [],
   "source": [
    "def compute_gap(df, var_name):\n",
    "    nrows = df.shape[0]\n",
    "    df = df.sort_values(by = var_name,ascending = False).reset_index()\n",
    "    ratios = np.divide(df.loc[0:nrows-2,var_name].values,df.loc[1:nrows-1,var_name].values)\n",
    "    #print(ratios[0:18])\n",
    "    top_args = np.argsort(-1*ratios)\n",
    "    top_gaps = -1*np.sort(-1*ratios)\n",
    "    gap_stats = pd.DataFrame(top_args, columns = ['args'])\n",
    "    gap_stats['gaps'] = top_gaps\n",
    "    return gap_stats"
   ]
  },
  {
   "cell_type": "code",
   "execution_count": 20,
   "metadata": {},
   "outputs": [
    {
     "data": {
      "text/html": [
       "<div>\n",
       "<style scoped>\n",
       "    .dataframe tbody tr th:only-of-type {\n",
       "        vertical-align: middle;\n",
       "    }\n",
       "\n",
       "    .dataframe tbody tr th {\n",
       "        vertical-align: top;\n",
       "    }\n",
       "\n",
       "    .dataframe thead th {\n",
       "        text-align: right;\n",
       "    }\n",
       "</style>\n",
       "<table border=\"1\" class=\"dataframe\">\n",
       "  <thead>\n",
       "    <tr style=\"text-align: right;\">\n",
       "      <th></th>\n",
       "      <th>args</th>\n",
       "      <th>gaps</th>\n",
       "    </tr>\n",
       "  </thead>\n",
       "  <tbody>\n",
       "    <tr>\n",
       "      <th>0</th>\n",
       "      <td>6</td>\n",
       "      <td>1.777413</td>\n",
       "    </tr>\n",
       "    <tr>\n",
       "      <th>1</th>\n",
       "      <td>0</td>\n",
       "      <td>1.675550</td>\n",
       "    </tr>\n",
       "    <tr>\n",
       "      <th>2</th>\n",
       "      <td>2</td>\n",
       "      <td>1.513157</td>\n",
       "    </tr>\n",
       "    <tr>\n",
       "      <th>3</th>\n",
       "      <td>9</td>\n",
       "      <td>1.503003</td>\n",
       "    </tr>\n",
       "    <tr>\n",
       "      <th>4</th>\n",
       "      <td>1</td>\n",
       "      <td>1.455324</td>\n",
       "    </tr>\n",
       "    <tr>\n",
       "      <th>5</th>\n",
       "      <td>12</td>\n",
       "      <td>1.303368</td>\n",
       "    </tr>\n",
       "    <tr>\n",
       "      <th>6</th>\n",
       "      <td>8</td>\n",
       "      <td>1.249926</td>\n",
       "    </tr>\n",
       "    <tr>\n",
       "      <th>7</th>\n",
       "      <td>3</td>\n",
       "      <td>1.161489</td>\n",
       "    </tr>\n",
       "    <tr>\n",
       "      <th>8</th>\n",
       "      <td>4</td>\n",
       "      <td>1.142024</td>\n",
       "    </tr>\n",
       "    <tr>\n",
       "      <th>9</th>\n",
       "      <td>15</td>\n",
       "      <td>1.124170</td>\n",
       "    </tr>\n",
       "    <tr>\n",
       "      <th>10</th>\n",
       "      <td>5</td>\n",
       "      <td>1.092485</td>\n",
       "    </tr>\n",
       "    <tr>\n",
       "      <th>11</th>\n",
       "      <td>7</td>\n",
       "      <td>1.073573</td>\n",
       "    </tr>\n",
       "    <tr>\n",
       "      <th>12</th>\n",
       "      <td>11</td>\n",
       "      <td>1.071584</td>\n",
       "    </tr>\n",
       "    <tr>\n",
       "      <th>13</th>\n",
       "      <td>18</td>\n",
       "      <td>1.061246</td>\n",
       "    </tr>\n",
       "    <tr>\n",
       "      <th>14</th>\n",
       "      <td>10</td>\n",
       "      <td>1.055964</td>\n",
       "    </tr>\n",
       "  </tbody>\n",
       "</table>\n",
       "</div>"
      ],
      "text/plain": [
       "    args      gaps\n",
       "0      6  1.777413\n",
       "1      0  1.675550\n",
       "2      2  1.513157\n",
       "3      9  1.503003\n",
       "4      1  1.455324\n",
       "5     12  1.303368\n",
       "6      8  1.249926\n",
       "7      3  1.161489\n",
       "8      4  1.142024\n",
       "9     15  1.124170\n",
       "10     5  1.092485\n",
       "11     7  1.073573\n",
       "12    11  1.071584\n",
       "13    18  1.061246\n",
       "14    10  1.055964"
      ]
     },
     "execution_count": 20,
     "metadata": {},
     "output_type": "execute_result"
    }
   ],
   "source": [
    "gap_stats = compute_gap(pca.df_pc_stats,'evalue')\n",
    "gap_stats[0:15]"
   ]
  },
  {
   "cell_type": "code",
   "execution_count": 28,
   "metadata": {},
   "outputs": [
    {
     "data": {
      "image/png": "[encoded data removed]",
      "text/plain": [
       "<Figure size 432x288 with 1 Axes>"
      ]
     },
     "metadata": {
      "needs_background": "light"
     },
     "output_type": "display_data"
    }
   ],
   "source": [
    "scatter_scree_plot(pca)\n",
    "plot_dictionary['Traditional Scree Plot'] = plt.gca().get_figure()"
   ]
  },
  {
   "cell_type": "code",
   "execution_count": 29,
   "metadata": {},
   "outputs": [
    {
     "data": {
      "image/png": "[encoded data removed]",
      "text/plain": [
       "<Figure size 432x288 with 1 Axes>"
      ]
     },
     "metadata": {
      "needs_background": "light"
     },
     "output_type": "display_data"
    }
   ],
   "source": [
    "scatter_scree_plot(pca, rank = np.arange(10,51))\n",
    "plt.title('PCs 10-50')\n",
    "plot_dictionary['Traditional Scree Plot, 10-50'] = plt.gca().get_figure()"
   ]
  },
  {
   "cell_type": "markdown",
   "metadata": {},
   "source": [
    "From scree plot with original criteria, should choose top 16 components (0-15).  "
   ]
  },
  {
   "cell_type": "code",
   "execution_count": null,
   "metadata": {},
   "outputs": [],
   "source": []
  },
  {
   "cell_type": "code",
   "execution_count": 30,
   "metadata": {},
   "outputs": [
    {
     "data": {
      "image/png": "[encoded data removed]",
      "text/plain": [
       "<Figure size 432x288 with 1 Axes>"
      ]
     },
     "metadata": {
      "needs_background": "light"
     },
     "output_type": "display_data"
    }
   ],
   "source": [
    "fig = dist_var_pc_plot(pca, rank = np.arange(8,35))\n",
    "plot_dictionary['PCQC_NotSorted'] = plt.gca().get_figure()"
   ]
  },
  {
   "cell_type": "code",
   "execution_count": 41,
   "metadata": {},
   "outputs": [
    {
     "data": {
      "image/png": "[encoded data removed]",
      "text/plain": [
       "<Figure size 432x288 with 1 Axes>"
      ]
     },
     "metadata": {
      "needs_background": "light"
     },
     "output_type": "display_data"
    }
   ],
   "source": [
    "fig = sorted_dist_var_pc_plot(pca, rank = np.arange(8,50), sort_var = '90.0_Percentile', max_subset_size = 2)\n",
    "plt.title('Sorted by 90th Percentile')\n",
    "plot_dictionary['PCQC_Sorted'] = plt.gca().get_figure()"
   ]
  },
  {
   "cell_type": "code",
   "execution_count": 45,
   "metadata": {},
   "outputs": [
    {
     "data": {
      "image/png": "[encoded data removed]",
      "text/plain": [
       "<Figure size 432x288 with 1 Axes>"
      ]
     },
     "metadata": {
      "needs_background": "light"
     },
     "output_type": "display_data"
    }
   ],
   "source": [
    "fig = sorted_dist_var_pc_plot(pca, rank = np.arange(10,40), sort_var = '95.0_Percentile', max_subset_size = 3)\n",
    "plt.title('Sorted by 95th Percentile')\n",
    "plot_dictionary['PCQC_Sortedv2'] = plt.gca().get_figure()"
   ]
  },
  {
   "cell_type": "code",
   "execution_count": 32,
   "metadata": {},
   "outputs": [
    {
     "data": {
      "text/html": [
       "<div>\n",
       "<style scoped>\n",
       "    .dataframe tbody tr th:only-of-type {\n",
       "        vertical-align: middle;\n",
       "    }\n",
       "\n",
       "    .dataframe tbody tr th {\n",
       "        vertical-align: top;\n",
       "    }\n",
       "\n",
       "    .dataframe thead th {\n",
       "        text-align: right;\n",
       "    }\n",
       "</style>\n",
       "<table border=\"1\" class=\"dataframe\">\n",
       "  <thead>\n",
       "    <tr style=\"text-align: right;\">\n",
       "      <th></th>\n",
       "      <th>args</th>\n",
       "      <th>gaps</th>\n",
       "    </tr>\n",
       "  </thead>\n",
       "  <tbody>\n",
       "    <tr>\n",
       "      <th>0</th>\n",
       "      <td>1</td>\n",
       "      <td>2.620042</td>\n",
       "    </tr>\n",
       "    <tr>\n",
       "      <th>1</th>\n",
       "      <td>2</td>\n",
       "      <td>1.897918</td>\n",
       "    </tr>\n",
       "    <tr>\n",
       "      <th>2</th>\n",
       "      <td>5</td>\n",
       "      <td>1.491849</td>\n",
       "    </tr>\n",
       "    <tr>\n",
       "      <th>3</th>\n",
       "      <td>6</td>\n",
       "      <td>1.358318</td>\n",
       "    </tr>\n",
       "    <tr>\n",
       "      <th>4</th>\n",
       "      <td>0</td>\n",
       "      <td>1.319001</td>\n",
       "    </tr>\n",
       "    <tr>\n",
       "      <th>5</th>\n",
       "      <td>13</td>\n",
       "      <td>1.216478</td>\n",
       "    </tr>\n",
       "    <tr>\n",
       "      <th>6</th>\n",
       "      <td>95</td>\n",
       "      <td>1.188360</td>\n",
       "    </tr>\n",
       "    <tr>\n",
       "      <th>7</th>\n",
       "      <td>7</td>\n",
       "      <td>1.165859</td>\n",
       "    </tr>\n",
       "    <tr>\n",
       "      <th>8</th>\n",
       "      <td>10</td>\n",
       "      <td>1.110851</td>\n",
       "    </tr>\n",
       "    <tr>\n",
       "      <th>9</th>\n",
       "      <td>94</td>\n",
       "      <td>1.104463</td>\n",
       "    </tr>\n",
       "    <tr>\n",
       "      <th>10</th>\n",
       "      <td>98</td>\n",
       "      <td>1.100849</td>\n",
       "    </tr>\n",
       "    <tr>\n",
       "      <th>11</th>\n",
       "      <td>93</td>\n",
       "      <td>1.063366</td>\n",
       "    </tr>\n",
       "    <tr>\n",
       "      <th>12</th>\n",
       "      <td>4</td>\n",
       "      <td>1.058660</td>\n",
       "    </tr>\n",
       "    <tr>\n",
       "      <th>13</th>\n",
       "      <td>8</td>\n",
       "      <td>1.056731</td>\n",
       "    </tr>\n",
       "    <tr>\n",
       "      <th>14</th>\n",
       "      <td>12</td>\n",
       "      <td>1.054818</td>\n",
       "    </tr>\n",
       "  </tbody>\n",
       "</table>\n",
       "</div>"
      ],
      "text/plain": [
       "    args      gaps\n",
       "0      1  2.620042\n",
       "1      2  1.897918\n",
       "2      5  1.491849\n",
       "3      6  1.358318\n",
       "4      0  1.319001\n",
       "5     13  1.216478\n",
       "6     95  1.188360\n",
       "7      7  1.165859\n",
       "8     10  1.110851\n",
       "9     94  1.104463\n",
       "10    98  1.100849\n",
       "11    93  1.063366\n",
       "12     4  1.058660\n",
       "13     8  1.056731\n",
       "14    12  1.054818"
      ]
     },
     "execution_count": 32,
     "metadata": {},
     "output_type": "execute_result"
    }
   ],
   "source": [
    "gap_stats = compute_gap(pca.df_pc_stats,'90.0_Percentile')\n",
    "gap_stats[0:15]"
   ]
  },
  {
   "cell_type": "code",
   "execution_count": 156,
   "metadata": {},
   "outputs": [
    {
     "data": {
      "text/html": [
       "<div>\n",
       "<style scoped>\n",
       "    .dataframe tbody tr th:only-of-type {\n",
       "        vertical-align: middle;\n",
       "    }\n",
       "\n",
       "    .dataframe tbody tr th {\n",
       "        vertical-align: top;\n",
       "    }\n",
       "\n",
       "    .dataframe thead th {\n",
       "        text-align: right;\n",
       "    }\n",
       "</style>\n",
       "<table border=\"1\" class=\"dataframe\">\n",
       "  <thead>\n",
       "    <tr style=\"text-align: right;\">\n",
       "      <th></th>\n",
       "      <th>args</th>\n",
       "      <th>gaps</th>\n",
       "    </tr>\n",
       "  </thead>\n",
       "  <tbody>\n",
       "    <tr>\n",
       "      <th>0</th>\n",
       "      <td>0</td>\n",
       "      <td>7.499445</td>\n",
       "    </tr>\n",
       "    <tr>\n",
       "      <th>1</th>\n",
       "      <td>3</td>\n",
       "      <td>1.865708</td>\n",
       "    </tr>\n",
       "    <tr>\n",
       "      <th>2</th>\n",
       "      <td>5</td>\n",
       "      <td>1.577936</td>\n",
       "    </tr>\n",
       "    <tr>\n",
       "      <th>3</th>\n",
       "      <td>7</td>\n",
       "      <td>1.536119</td>\n",
       "    </tr>\n",
       "    <tr>\n",
       "      <th>4</th>\n",
       "      <td>10</td>\n",
       "      <td>1.450059</td>\n",
       "    </tr>\n",
       "    <tr>\n",
       "      <th>5</th>\n",
       "      <td>4</td>\n",
       "      <td>1.292172</td>\n",
       "    </tr>\n",
       "    <tr>\n",
       "      <th>6</th>\n",
       "      <td>6</td>\n",
       "      <td>1.157272</td>\n",
       "    </tr>\n",
       "    <tr>\n",
       "      <th>7</th>\n",
       "      <td>14</td>\n",
       "      <td>1.150289</td>\n",
       "    </tr>\n",
       "    <tr>\n",
       "      <th>8</th>\n",
       "      <td>17</td>\n",
       "      <td>1.148752</td>\n",
       "    </tr>\n",
       "    <tr>\n",
       "      <th>9</th>\n",
       "      <td>97</td>\n",
       "      <td>1.144803</td>\n",
       "    </tr>\n",
       "    <tr>\n",
       "      <th>10</th>\n",
       "      <td>8</td>\n",
       "      <td>1.110799</td>\n",
       "    </tr>\n",
       "    <tr>\n",
       "      <th>11</th>\n",
       "      <td>11</td>\n",
       "      <td>1.097055</td>\n",
       "    </tr>\n",
       "    <tr>\n",
       "      <th>12</th>\n",
       "      <td>93</td>\n",
       "      <td>1.096652</td>\n",
       "    </tr>\n",
       "    <tr>\n",
       "      <th>13</th>\n",
       "      <td>15</td>\n",
       "      <td>1.091718</td>\n",
       "    </tr>\n",
       "    <tr>\n",
       "      <th>14</th>\n",
       "      <td>13</td>\n",
       "      <td>1.071035</td>\n",
       "    </tr>\n",
       "  </tbody>\n",
       "</table>\n",
       "</div>"
      ],
      "text/plain": [
       "    args      gaps\n",
       "0      0  7.499445\n",
       "1      3  1.865708\n",
       "2      5  1.577936\n",
       "3      7  1.536119\n",
       "4     10  1.450059\n",
       "5      4  1.292172\n",
       "6      6  1.157272\n",
       "7     14  1.150289\n",
       "8     17  1.148752\n",
       "9     97  1.144803\n",
       "10     8  1.110799\n",
       "11    11  1.097055\n",
       "12    93  1.096652\n",
       "13    15  1.091718\n",
       "14    13  1.071035"
      ]
     },
     "execution_count": 156,
     "metadata": {},
     "output_type": "execute_result"
    }
   ],
   "source": [
    "gap_stats = compute_gap(pca.df_pc_stats,'95.0_Percentile')\n",
    "gap_stats[0:15]"
   ]
  },
  {
   "cell_type": "markdown",
   "metadata": {},
   "source": [
    "* __PCQC-90 choose top 14 components (0-13)__. Note top 14 components in this ranking includes PC 21.\n",
    "* __PCQC-95 choose top 18 components (0-17)__"
   ]
  },
  {
   "cell_type": "code",
   "execution_count": 154,
   "metadata": {
    "collapsed": true
   },
   "outputs": [
    {
     "data": {
      "text/html": [
       "<div>\n",
       "<style scoped>\n",
       "    .dataframe tbody tr th:only-of-type {\n",
       "        vertical-align: middle;\n",
       "    }\n",
       "\n",
       "    .dataframe tbody tr th {\n",
       "        vertical-align: top;\n",
       "    }\n",
       "\n",
       "    .dataframe thead th {\n",
       "        text-align: right;\n",
       "    }\n",
       "</style>\n",
       "<table border=\"1\" class=\"dataframe\">\n",
       "  <thead>\n",
       "    <tr style=\"text-align: right;\">\n",
       "      <th></th>\n",
       "      <th>85.0_Percentile</th>\n",
       "      <th>90.0_Percentile</th>\n",
       "      <th>95.0_Percentile</th>\n",
       "      <th>evalue</th>\n",
       "      <th>rank</th>\n",
       "    </tr>\n",
       "  </thead>\n",
       "  <tbody>\n",
       "    <tr>\n",
       "      <th>PC_Dist_0</th>\n",
       "      <td>2.311926e-06</td>\n",
       "      <td>2.936726e-06</td>\n",
       "      <td>9.714711e-05</td>\n",
       "      <td>0.065629</td>\n",
       "      <td>1.0</td>\n",
       "    </tr>\n",
       "    <tr>\n",
       "      <th>PC_Dist_6</th>\n",
       "      <td>3.048251e-07</td>\n",
       "      <td>5.059515e-07</td>\n",
       "      <td>1.295391e-05</td>\n",
       "      <td>0.012274</td>\n",
       "      <td>7.0</td>\n",
       "    </tr>\n",
       "    <tr>\n",
       "      <th>PC_Dist_3</th>\n",
       "      <td>2.813921e-06</td>\n",
       "      <td>7.694347e-06</td>\n",
       "      <td>1.292536e-05</td>\n",
       "      <td>0.017787</td>\n",
       "      <td>4.0</td>\n",
       "    </tr>\n",
       "    <tr>\n",
       "      <th>PC_Dist_1</th>\n",
       "      <td>8.601626e-06</td>\n",
       "      <td>1.014885e-05</td>\n",
       "      <td>1.210442e-05</td>\n",
       "      <td>0.039169</td>\n",
       "      <td>2.0</td>\n",
       "    </tr>\n",
       "    <tr>\n",
       "      <th>PC_Dist_4</th>\n",
       "      <td>4.296442e-07</td>\n",
       "      <td>9.569372e-07</td>\n",
       "      <td>6.487841e-06</td>\n",
       "      <td>0.015314</td>\n",
       "      <td>5.0</td>\n",
       "    </tr>\n",
       "    <tr>\n",
       "      <th>PC_Dist_5</th>\n",
       "      <td>5.801629e-07</td>\n",
       "      <td>1.427605e-06</td>\n",
       "      <td>5.020880e-06</td>\n",
       "      <td>0.013409</td>\n",
       "      <td>6.0</td>\n",
       "    </tr>\n",
       "    <tr>\n",
       "      <th>PC_Dist_9</th>\n",
       "      <td>9.158598e-07</td>\n",
       "      <td>1.511348e-06</td>\n",
       "      <td>3.181929e-06</td>\n",
       "      <td>0.005146</td>\n",
       "      <td>10.0</td>\n",
       "    </tr>\n",
       "    <tr>\n",
       "      <th>PC_Dist_2</th>\n",
       "      <td>1.285693e-06</td>\n",
       "      <td>1.547341e-06</td>\n",
       "      <td>2.749509e-06</td>\n",
       "      <td>0.026914</td>\n",
       "      <td>3.0</td>\n",
       "    </tr>\n",
       "    <tr>\n",
       "      <th>PC_Dist_8</th>\n",
       "      <td>1.406752e-07</td>\n",
       "      <td>2.863070e-07</td>\n",
       "      <td>1.789906e-06</td>\n",
       "      <td>0.006432</td>\n",
       "      <td>9.0</td>\n",
       "    </tr>\n",
       "    <tr>\n",
       "      <th>PC_Dist_10</th>\n",
       "      <td>3.054692e-07</td>\n",
       "      <td>5.656790e-07</td>\n",
       "      <td>1.611368e-06</td>\n",
       "      <td>0.003424</td>\n",
       "      <td>11.0</td>\n",
       "    </tr>\n",
       "    <tr>\n",
       "      <th>PC_Dist_7</th>\n",
       "      <td>4.446319e-07</td>\n",
       "      <td>7.045018e-07</td>\n",
       "      <td>1.570855e-06</td>\n",
       "      <td>0.006906</td>\n",
       "      <td>8.0</td>\n",
       "    </tr>\n",
       "    <tr>\n",
       "      <th>PC_Dist_16</th>\n",
       "      <td>3.702320e-07</td>\n",
       "      <td>6.042770e-07</td>\n",
       "      <td>1.083304e-06</td>\n",
       "      <td>0.001905</td>\n",
       "      <td>17.0</td>\n",
       "    </tr>\n",
       "    <tr>\n",
       "      <th>PC_Dist_11</th>\n",
       "      <td>1.764134e-07</td>\n",
       "      <td>2.940129e-07</td>\n",
       "      <td>9.874658e-07</td>\n",
       "      <td>0.003242</td>\n",
       "      <td>12.0</td>\n",
       "    </tr>\n",
       "    <tr>\n",
       "      <th>PC_Dist_18</th>\n",
       "      <td>3.340467e-07</td>\n",
       "      <td>5.092305e-07</td>\n",
       "      <td>9.802739e-07</td>\n",
       "      <td>0.001763</td>\n",
       "      <td>19.0</td>\n",
       "    </tr>\n",
       "    <tr>\n",
       "      <th>PC_Dist_15</th>\n",
       "      <td>4.147513e-07</td>\n",
       "      <td>5.718364e-07</td>\n",
       "      <td>9.152589e-07</td>\n",
       "      <td>0.002142</td>\n",
       "      <td>16.0</td>\n",
       "    </tr>\n",
       "    <tr>\n",
       "      <th>PC_Dist_21</th>\n",
       "      <td>3.256894e-07</td>\n",
       "      <td>4.796577e-07</td>\n",
       "      <td>7.956772e-07</td>\n",
       "      <td>0.001547</td>\n",
       "      <td>22.0</td>\n",
       "    </tr>\n",
       "    <tr>\n",
       "      <th>PC_Dist_19</th>\n",
       "      <td>2.041743e-07</td>\n",
       "      <td>3.267952e-07</td>\n",
       "      <td>7.288306e-07</td>\n",
       "      <td>0.001661</td>\n",
       "      <td>20.0</td>\n",
       "    </tr>\n",
       "    <tr>\n",
       "      <th>PC_Dist_20</th>\n",
       "      <td>2.690750e-07</td>\n",
       "      <td>3.943002e-07</td>\n",
       "      <td>7.245198e-07</td>\n",
       "      <td>0.001610</td>\n",
       "      <td>21.0</td>\n",
       "    </tr>\n",
       "    <tr>\n",
       "      <th>PC_Dist_28</th>\n",
       "      <td>2.687645e-07</td>\n",
       "      <td>3.791827e-07</td>\n",
       "      <td>6.307014e-07</td>\n",
       "      <td>0.001315</td>\n",
       "      <td>29.0</td>\n",
       "    </tr>\n",
       "    <tr>\n",
       "      <th>PC_Dist_30</th>\n",
       "      <td>2.502243e-07</td>\n",
       "      <td>3.650753e-07</td>\n",
       "      <td>5.929666e-07</td>\n",
       "      <td>0.001301</td>\n",
       "      <td>31.0</td>\n",
       "    </tr>\n",
       "  </tbody>\n",
       "</table>\n",
       "</div>"
      ],
      "text/plain": [
       "            85.0_Percentile  90.0_Percentile  95.0_Percentile    evalue  rank\n",
       "PC_Dist_0      2.311926e-06     2.936726e-06     9.714711e-05  0.065629   1.0\n",
       "PC_Dist_6      3.048251e-07     5.059515e-07     1.295391e-05  0.012274   7.0\n",
       "PC_Dist_3      2.813921e-06     7.694347e-06     1.292536e-05  0.017787   4.0\n",
       "PC_Dist_1      8.601626e-06     1.014885e-05     1.210442e-05  0.039169   2.0\n",
       "PC_Dist_4      4.296442e-07     9.569372e-07     6.487841e-06  0.015314   5.0\n",
       "PC_Dist_5      5.801629e-07     1.427605e-06     5.020880e-06  0.013409   6.0\n",
       "PC_Dist_9      9.158598e-07     1.511348e-06     3.181929e-06  0.005146  10.0\n",
       "PC_Dist_2      1.285693e-06     1.547341e-06     2.749509e-06  0.026914   3.0\n",
       "PC_Dist_8      1.406752e-07     2.863070e-07     1.789906e-06  0.006432   9.0\n",
       "PC_Dist_10     3.054692e-07     5.656790e-07     1.611368e-06  0.003424  11.0\n",
       "PC_Dist_7      4.446319e-07     7.045018e-07     1.570855e-06  0.006906   8.0\n",
       "PC_Dist_16     3.702320e-07     6.042770e-07     1.083304e-06  0.001905  17.0\n",
       "PC_Dist_11     1.764134e-07     2.940129e-07     9.874658e-07  0.003242  12.0\n",
       "PC_Dist_18     3.340467e-07     5.092305e-07     9.802739e-07  0.001763  19.0\n",
       "PC_Dist_15     4.147513e-07     5.718364e-07     9.152589e-07  0.002142  16.0\n",
       "PC_Dist_21     3.256894e-07     4.796577e-07     7.956772e-07  0.001547  22.0\n",
       "PC_Dist_19     2.041743e-07     3.267952e-07     7.288306e-07  0.001661  20.0\n",
       "PC_Dist_20     2.690750e-07     3.943002e-07     7.245198e-07  0.001610  21.0\n",
       "PC_Dist_28     2.687645e-07     3.791827e-07     6.307014e-07  0.001315  29.0\n",
       "PC_Dist_30     2.502243e-07     3.650753e-07     5.929666e-07  0.001301  31.0"
      ]
     },
     "execution_count": 154,
     "metadata": {},
     "output_type": "execute_result"
    }
   ],
   "source": [
    "pca.df_pc_stats.sort_values(by = '95.0_Percentile',ascending = False).head(20)"
   ]
  },
  {
   "cell_type": "markdown",
   "metadata": {},
   "source": [
    "From PCQC, Top 15 or so should work well"
   ]
  },
  {
   "cell_type": "code",
   "execution_count": 36,
   "metadata": {},
   "outputs": [],
   "source": [
    "pca.select_top_pcs(criteria = 'evalue', n_top_pcs = 100)"
   ]
  },
  {
   "cell_type": "code",
   "execution_count": 37,
   "metadata": {},
   "outputs": [],
   "source": [
    "reduced_matrix = pca.use_top_pcs()"
   ]
  },
  {
   "cell_type": "code",
   "execution_count": 38,
   "metadata": {},
   "outputs": [
    {
     "data": {
      "text/plain": [
       "(8617, 100)"
      ]
     },
     "execution_count": 38,
     "metadata": {},
     "output_type": "execute_result"
    }
   ],
   "source": [
    "reduced_matrix.shape"
   ]
  },
  {
   "cell_type": "markdown",
   "metadata": {},
   "source": [
    "### What about Kruskal?"
   ]
  },
  {
   "cell_type": "code",
   "execution_count": 51,
   "metadata": {},
   "outputs": [],
   "source": [
    "def compute_best_pcs(reduced_matrix, n_neighbors, resolution, threshold = 1e-6, max_discard = 20):\n",
    "    #max discard, max number of pcs that are discarded in a single round \n",
    "    df = pd.DataFrame(reduced_matrix)\n",
    "    finished = False\n",
    "    index = 0\n",
    "    while not finished:\n",
    "        adata = sc.AnnData(X = reduced_matrix)\n",
    "        sc.pp.neighbors(adata, n_neighbors = n_neighbors, use_rep = 'X')\n",
    "        sc.tl.leiden(adata, resolution = resolution, random_state = np.random.randint(100))\n",
    "        df['Clusters'] = adata.obs['leiden'].values\n",
    "        valid_cols = [col for col in df.columns if col != 'Clusters']\n",
    "        kruskal_test, best_pcs = pc_kruskal_test(df,valid_cols, threshold = threshold)\n",
    "        candidates_to_elim = np.where(np.array(kruskal_test) > threshold)\n",
    "        #get max discard lowest values\n",
    "        #print(kruskal_test)\n",
    "        #print(candidates_to_elim)\n",
    "        \n",
    "        lowest_values = np.argsort(-1*np.array(kruskal_test))[0:max_discard]\n",
    "        #print(lowest_values)\n",
    "        to_discard = []\n",
    "        for value in lowest_values:\n",
    "            if kruskal_test[value] > threshold:\n",
    "                to_discard.append(value)\n",
    "        #print(to_discard)\n",
    "        to_keep = [col for i,col in enumerate(df.columns) if i not in to_discard]\n",
    "        if len(to_discard) == 0:\n",
    "            finished = True\n",
    "        else:\n",
    "            df = df[to_keep]\n",
    "            reduced_matrix = df.values\n",
    "        \n",
    "    return df,kruskal_test"
   ]
  },
  {
   "cell_type": "code",
   "execution_count": 52,
   "metadata": {},
   "outputs": [],
   "source": [
    "_, kruskal = compute_best_pcs(reduced_matrix, 15, .8, threshold = 1)"
   ]
  },
  {
   "cell_type": "code",
   "execution_count": 55,
   "metadata": {},
   "outputs": [
    {
     "data": {
      "text/plain": [
       "50"
      ]
     },
     "execution_count": 55,
     "metadata": {},
     "output_type": "execute_result"
    }
   ],
   "source": [
    "np.sum(np.array(kruskal) < 1e-4)"
   ]
  },
  {
   "cell_type": "code",
   "execution_count": 63,
   "metadata": {},
   "outputs": [],
   "source": [
    "def pvalue_plot(pvalues, \n",
    "                thresholds = ['1e-2','1e-3','1e-4','1e-5', \n",
    "                              '1e-6','1e-9','1e-12','1e-15','1e-20','1e-40']):\n",
    "    df = pd.DataFrame(columns = ['threshold','count'])\n",
    "    pvalues = np.array(pvalues)\n",
    "    for i,thresh in enumerate(thresholds):\n",
    "        num_thresh = float(thresh)\n",
    "        count = np.sum(pvalues < num_thresh)\n",
    "        df.loc[i] = [thresh,count]\n",
    "    return df"
   ]
  },
  {
   "cell_type": "code",
   "execution_count": 64,
   "metadata": {},
   "outputs": [],
   "source": [
    "df = pvalue_plot(kruskal)"
   ]
  },
  {
   "cell_type": "code",
   "execution_count": 65,
   "metadata": {
    "collapsed": true
   },
   "outputs": [
    {
     "data": {
      "text/html": [
       "<div>\n",
       "<style scoped>\n",
       "    .dataframe tbody tr th:only-of-type {\n",
       "        vertical-align: middle;\n",
       "    }\n",
       "\n",
       "    .dataframe tbody tr th {\n",
       "        vertical-align: top;\n",
       "    }\n",
       "\n",
       "    .dataframe thead th {\n",
       "        text-align: right;\n",
       "    }\n",
       "</style>\n",
       "<table border=\"1\" class=\"dataframe\">\n",
       "  <thead>\n",
       "    <tr style=\"text-align: right;\">\n",
       "      <th></th>\n",
       "      <th>threshold</th>\n",
       "      <th>count</th>\n",
       "    </tr>\n",
       "  </thead>\n",
       "  <tbody>\n",
       "    <tr>\n",
       "      <th>0</th>\n",
       "      <td>1e-2</td>\n",
       "      <td>58</td>\n",
       "    </tr>\n",
       "    <tr>\n",
       "      <th>1</th>\n",
       "      <td>1e-3</td>\n",
       "      <td>52</td>\n",
       "    </tr>\n",
       "    <tr>\n",
       "      <th>2</th>\n",
       "      <td>1e-4</td>\n",
       "      <td>50</td>\n",
       "    </tr>\n",
       "    <tr>\n",
       "      <th>3</th>\n",
       "      <td>1e-5</td>\n",
       "      <td>47</td>\n",
       "    </tr>\n",
       "    <tr>\n",
       "      <th>4</th>\n",
       "      <td>1e-6</td>\n",
       "      <td>44</td>\n",
       "    </tr>\n",
       "    <tr>\n",
       "      <th>5</th>\n",
       "      <td>1e-9</td>\n",
       "      <td>35</td>\n",
       "    </tr>\n",
       "    <tr>\n",
       "      <th>6</th>\n",
       "      <td>1e-12</td>\n",
       "      <td>33</td>\n",
       "    </tr>\n",
       "    <tr>\n",
       "      <th>7</th>\n",
       "      <td>1e-15</td>\n",
       "      <td>29</td>\n",
       "    </tr>\n",
       "    <tr>\n",
       "      <th>8</th>\n",
       "      <td>1e-20</td>\n",
       "      <td>27</td>\n",
       "    </tr>\n",
       "    <tr>\n",
       "      <th>9</th>\n",
       "      <td>1e-40</td>\n",
       "      <td>21</td>\n",
       "    </tr>\n",
       "  </tbody>\n",
       "</table>\n",
       "</div>"
      ],
      "text/plain": [
       "  threshold count\n",
       "0      1e-2    58\n",
       "1      1e-3    52\n",
       "2      1e-4    50\n",
       "3      1e-5    47\n",
       "4      1e-6    44\n",
       "5      1e-9    35\n",
       "6     1e-12    33\n",
       "7     1e-15    29\n",
       "8     1e-20    27\n",
       "9     1e-40    21"
      ]
     },
     "execution_count": 65,
     "metadata": {},
     "output_type": "execute_result"
    }
   ],
   "source": [
    "df"
   ]
  },
  {
   "cell_type": "code",
   "execution_count": 71,
   "metadata": {},
   "outputs": [
    {
     "data": {
      "image/png": "[encoded data removed]",
      "text/plain": [
       "<Figure size 432x288 with 1 Axes>"
      ]
     },
     "metadata": {
      "needs_background": "light"
     },
     "output_type": "display_data"
    }
   ],
   "source": [
    "sns.barplot(df['threshold'],df['count'], color = 'skyblue', order = df['threshold'])\n",
    "plt.title('Number of PCs Below Threshold')\n",
    "plot_dictionary['KruskalPvalueSig'] = plt.gca().get_figure()"
   ]
  },
  {
   "cell_type": "code",
   "execution_count": 53,
   "metadata": {
    "collapsed": true
   },
   "outputs": [
    {
     "data": {
      "text/plain": [
       "[0.0,\n",
       " 0.0,\n",
       " 0.0,\n",
       " 0.0,\n",
       " 0.0,\n",
       " 0.0,\n",
       " 0.0,\n",
       " 0.0,\n",
       " 0.0,\n",
       " 0.0,\n",
       " 2.586625752460789e-256,\n",
       " 3.893799430910165e-216,\n",
       " 5.9126970356642015e-152,\n",
       " 2.0729246571642135e-124,\n",
       " 3.599765701060328e-22,\n",
       " 5.949681609198862e-123,\n",
       " 2.207448825705088e-102,\n",
       " 4.252862155975075e-21,\n",
       " 7.779977830155383e-108,\n",
       " 2.3783034741255712e-25,\n",
       " 1.438618059533406e-102,\n",
       " 2.7219180611230044e-104,\n",
       " 7.589991088717241e-31,\n",
       " 2.385756361018867e-32,\n",
       " 5.29662869191387e-85,\n",
       " 1.0424843981130629e-80,\n",
       " 1.205114265234982e-26,\n",
       " 4.951138437941867e-08,\n",
       " 0.01783186708738348,\n",
       " 9.441453993713618e-14,\n",
       " 1.7870767771554045e-13,\n",
       " 0.3418775738204001,\n",
       " 5.062726110953775e-15,\n",
       " 8.343678813942524e-05,\n",
       " 4.099534528084501e-07,\n",
       " 7.025280198741594e-19,\n",
       " 0.006925698295600785,\n",
       " 8.329369083972229e-11,\n",
       " 5.132891636750893e-05,\n",
       " 0.13004381446710395,\n",
       " 0.00020118501777497514,\n",
       " 0.8831016983739958,\n",
       " 3.606145946274065e-08,\n",
       " 0.0016309190411091603,\n",
       " 0.053021272947255976,\n",
       " 0.8299019864356363,\n",
       " 0.005546619760587362,\n",
       " 0.08347054828445209,\n",
       " 0.5585498439673122,\n",
       " 0.2582178345148964,\n",
       " 0.08016300066172947,\n",
       " 0.8943866371348512,\n",
       " 0.022123393440175887,\n",
       " 0.7293161132134593,\n",
       " 0.26296538673736425,\n",
       " 0.2317108727686696,\n",
       " 9.570163257568538e-15,\n",
       " 4.1247763485406874e-06,\n",
       " 0.0020340291664333113,\n",
       " 0.07937477917468112,\n",
       " 0.01767297048551782,\n",
       " 0.025902570447509675,\n",
       " 3.033734545339111e-06,\n",
       " 0.014904079929244448,\n",
       " 0.4752083539062242,\n",
       " 0.01063251798367899,\n",
       " 0.03909581323334533,\n",
       " 0.44906589232270333,\n",
       " 0.30117145820464075,\n",
       " 0.6156311636112026,\n",
       " 0.3389128615703315,\n",
       " 0.05083268383258619,\n",
       " 1.8975804027933767e-05,\n",
       " 3.902813040917821e-09,\n",
       " 0.7148715214385738,\n",
       " 0.0008793278027082365,\n",
       " 1.014847014285788e-07,\n",
       " 0.5582600931415307,\n",
       " 0.2976871625930233,\n",
       " 0.3603594414318115,\n",
       " 3.5607047316755514e-12,\n",
       " 1.0144929739590637e-18,\n",
       " 1.5662617788219095e-09,\n",
       " 0.0023958543485170423,\n",
       " 0.3002070349637792,\n",
       " 0.4908081214679503,\n",
       " 0.3974854948176368,\n",
       " 0.2623964686890711,\n",
       " 0.18070906105331117,\n",
       " 0.020382497717569014,\n",
       " 0.9596461149476161,\n",
       " 0.014209181832977988,\n",
       " 0.0019296090676163046,\n",
       " 1.4754953801164857e-07,\n",
       " 0.15431753227082246,\n",
       " 0.4742676419844837,\n",
       " 9.669773987178025e-08,\n",
       " 0.05972039847375767,\n",
       " 9.672450765365338e-06,\n",
       " 8.069557860720361e-07]"
      ]
     },
     "execution_count": 53,
     "metadata": {},
     "output_type": "execute_result"
    }
   ],
   "source": [
    "kruskal"
   ]
  },
  {
   "cell_type": "code",
   "execution_count": 73,
   "metadata": {},
   "outputs": [],
   "source": [
    "y = np.log10(np.array(kruskal)+1e-300)"
   ]
  },
  {
   "cell_type": "code",
   "execution_count": 74,
   "metadata": {},
   "outputs": [
    {
     "data": {
      "image/png": "[encoded data removed]",
      "text/plain": [
       "<Figure size 432x288 with 1 Axes>"
      ]
     },
     "metadata": {
      "needs_background": "light"
     },
     "output_type": "display_data"
    }
   ],
   "source": [
    "#good threshold would be between 1e-50\n",
    "plt.title('Sorted Kruskal-Wallis P-Values on Log Scale')\n",
    "plt.scatter(x = np.arange(len(y)), y = np.sort(y))\n",
    "plot_dictionary['KruskalWallisPvalueLogScale'] = plt.gca().get_figure()"
   ]
  },
  {
   "cell_type": "code",
   "execution_count": 79,
   "metadata": {},
   "outputs": [
    {
     "data": {
      "text/html": [
       "<div>\n",
       "<style scoped>\n",
       "    .dataframe tbody tr th:only-of-type {\n",
       "        vertical-align: middle;\n",
       "    }\n",
       "\n",
       "    .dataframe tbody tr th {\n",
       "        vertical-align: top;\n",
       "    }\n",
       "\n",
       "    .dataframe thead th {\n",
       "        text-align: right;\n",
       "    }\n",
       "</style>\n",
       "<table border=\"1\" class=\"dataframe\">\n",
       "  <thead>\n",
       "    <tr style=\"text-align: right;\">\n",
       "      <th></th>\n",
       "      <th>0</th>\n",
       "    </tr>\n",
       "  </thead>\n",
       "  <tbody>\n",
       "    <tr>\n",
       "      <th>0</th>\n",
       "      <td>300.000000</td>\n",
       "    </tr>\n",
       "    <tr>\n",
       "      <th>1</th>\n",
       "      <td>300.000000</td>\n",
       "    </tr>\n",
       "    <tr>\n",
       "      <th>2</th>\n",
       "      <td>300.000000</td>\n",
       "    </tr>\n",
       "    <tr>\n",
       "      <th>3</th>\n",
       "      <td>300.000000</td>\n",
       "    </tr>\n",
       "    <tr>\n",
       "      <th>4</th>\n",
       "      <td>300.000000</td>\n",
       "    </tr>\n",
       "    <tr>\n",
       "      <th>...</th>\n",
       "      <td>...</td>\n",
       "    </tr>\n",
       "    <tr>\n",
       "      <th>95</th>\n",
       "      <td>0.323977</td>\n",
       "    </tr>\n",
       "    <tr>\n",
       "      <th>96</th>\n",
       "      <td>7.014584</td>\n",
       "    </tr>\n",
       "    <tr>\n",
       "      <th>97</th>\n",
       "      <td>1.223877</td>\n",
       "    </tr>\n",
       "    <tr>\n",
       "      <th>98</th>\n",
       "      <td>5.014463</td>\n",
       "    </tr>\n",
       "    <tr>\n",
       "      <th>99</th>\n",
       "      <td>6.093150</td>\n",
       "    </tr>\n",
       "  </tbody>\n",
       "</table>\n",
       "<p>100 rows × 1 columns</p>\n",
       "</div>"
      ],
      "text/plain": [
       "             0\n",
       "0   300.000000\n",
       "1   300.000000\n",
       "2   300.000000\n",
       "3   300.000000\n",
       "4   300.000000\n",
       "..         ...\n",
       "95    0.323977\n",
       "96    7.014584\n",
       "97    1.223877\n",
       "98    5.014463\n",
       "99    6.093150\n",
       "\n",
       "[100 rows x 1 columns]"
      ]
     },
     "execution_count": 79,
     "metadata": {},
     "output_type": "execute_result"
    }
   ],
   "source": [
    "np.abs(pd.DataFrame(y))"
   ]
  },
  {
   "cell_type": "code",
   "execution_count": 158,
   "metadata": {},
   "outputs": [
    {
     "data": {
      "text/html": [
       "<div>\n",
       "<style scoped>\n",
       "    .dataframe tbody tr th:only-of-type {\n",
       "        vertical-align: middle;\n",
       "    }\n",
       "\n",
       "    .dataframe tbody tr th {\n",
       "        vertical-align: top;\n",
       "    }\n",
       "\n",
       "    .dataframe thead th {\n",
       "        text-align: right;\n",
       "    }\n",
       "</style>\n",
       "<table border=\"1\" class=\"dataframe\">\n",
       "  <thead>\n",
       "    <tr style=\"text-align: right;\">\n",
       "      <th></th>\n",
       "      <th>args</th>\n",
       "      <th>gaps</th>\n",
       "    </tr>\n",
       "  </thead>\n",
       "  <tbody>\n",
       "    <tr>\n",
       "      <th>0</th>\n",
       "      <td>98</td>\n",
       "      <td>2.709765</td>\n",
       "    </tr>\n",
       "    <tr>\n",
       "      <th>1</th>\n",
       "      <td>20</td>\n",
       "      <td>2.529283</td>\n",
       "    </tr>\n",
       "    <tr>\n",
       "      <th>2</th>\n",
       "      <td>95</td>\n",
       "      <td>1.692958</td>\n",
       "    </tr>\n",
       "    <tr>\n",
       "      <th>3</th>\n",
       "      <td>96</td>\n",
       "      <td>1.499801</td>\n",
       "    </tr>\n",
       "    <tr>\n",
       "      <th>4</th>\n",
       "      <td>93</td>\n",
       "      <td>1.445267</td>\n",
       "    </tr>\n",
       "    <tr>\n",
       "      <th>5</th>\n",
       "      <td>11</td>\n",
       "      <td>1.424401</td>\n",
       "    </tr>\n",
       "    <tr>\n",
       "      <th>6</th>\n",
       "      <td>28</td>\n",
       "      <td>1.258690</td>\n",
       "    </tr>\n",
       "    <tr>\n",
       "      <th>7</th>\n",
       "      <td>12</td>\n",
       "      <td>1.222704</td>\n",
       "    </tr>\n",
       "    <tr>\n",
       "      <th>8</th>\n",
       "      <td>90</td>\n",
       "      <td>1.220904</td>\n",
       "    </tr>\n",
       "    <tr>\n",
       "      <th>9</th>\n",
       "      <td>72</td>\n",
       "      <td>1.217354</td>\n",
       "    </tr>\n",
       "    <tr>\n",
       "      <th>10</th>\n",
       "      <td>50</td>\n",
       "      <td>1.209616</td>\n",
       "    </tr>\n",
       "    <tr>\n",
       "      <th>11</th>\n",
       "      <td>18</td>\n",
       "      <td>1.206228</td>\n",
       "    </tr>\n",
       "    <tr>\n",
       "      <th>12</th>\n",
       "      <td>92</td>\n",
       "      <td>1.200583</td>\n",
       "    </tr>\n",
       "    <tr>\n",
       "      <th>13</th>\n",
       "      <td>10</td>\n",
       "      <td>1.186517</td>\n",
       "    </tr>\n",
       "    <tr>\n",
       "      <th>14</th>\n",
       "      <td>9</td>\n",
       "      <td>1.173767</td>\n",
       "    </tr>\n",
       "  </tbody>\n",
       "</table>\n",
       "</div>"
      ],
      "text/plain": [
       "    args      gaps\n",
       "0     98  2.709765\n",
       "1     20  2.529283\n",
       "2     95  1.692958\n",
       "3     96  1.499801\n",
       "4     93  1.445267\n",
       "5     11  1.424401\n",
       "6     28  1.258690\n",
       "7     12  1.222704\n",
       "8     90  1.220904\n",
       "9     72  1.217354\n",
       "10    50  1.209616\n",
       "11    18  1.206228\n",
       "12    92  1.200583\n",
       "13    10  1.186517\n",
       "14     9  1.173767"
      ]
     },
     "execution_count": 158,
     "metadata": {},
     "output_type": "execute_result"
    }
   ],
   "source": [
    "gap_stats = compute_gap(np.abs(pd.DataFrame(y)), 0)\n",
    "gap_stats[0:15]"
   ]
  },
  {
   "cell_type": "code",
   "execution_count": 159,
   "metadata": {
    "scrolled": true
   },
   "outputs": [
    {
     "data": {
      "text/html": [
       "<div>\n",
       "<style scoped>\n",
       "    .dataframe tbody tr th:only-of-type {\n",
       "        vertical-align: middle;\n",
       "    }\n",
       "\n",
       "    .dataframe tbody tr th {\n",
       "        vertical-align: top;\n",
       "    }\n",
       "\n",
       "    .dataframe thead th {\n",
       "        text-align: right;\n",
       "    }\n",
       "</style>\n",
       "<table border=\"1\" class=\"dataframe\">\n",
       "  <thead>\n",
       "    <tr style=\"text-align: right;\">\n",
       "      <th></th>\n",
       "      <th>args</th>\n",
       "      <th>gaps</th>\n",
       "    </tr>\n",
       "  </thead>\n",
       "  <tbody>\n",
       "    <tr>\n",
       "      <th>0</th>\n",
       "      <td>98</td>\n",
       "      <td>2.709765</td>\n",
       "    </tr>\n",
       "    <tr>\n",
       "      <th>1</th>\n",
       "      <td>20</td>\n",
       "      <td>2.529283</td>\n",
       "    </tr>\n",
       "    <tr>\n",
       "      <th>2</th>\n",
       "      <td>95</td>\n",
       "      <td>1.692958</td>\n",
       "    </tr>\n",
       "    <tr>\n",
       "      <th>3</th>\n",
       "      <td>96</td>\n",
       "      <td>1.499801</td>\n",
       "    </tr>\n",
       "    <tr>\n",
       "      <th>4</th>\n",
       "      <td>93</td>\n",
       "      <td>1.445267</td>\n",
       "    </tr>\n",
       "    <tr>\n",
       "      <th>5</th>\n",
       "      <td>11</td>\n",
       "      <td>1.424401</td>\n",
       "    </tr>\n",
       "    <tr>\n",
       "      <th>6</th>\n",
       "      <td>28</td>\n",
       "      <td>1.258690</td>\n",
       "    </tr>\n",
       "    <tr>\n",
       "      <th>7</th>\n",
       "      <td>12</td>\n",
       "      <td>1.222704</td>\n",
       "    </tr>\n",
       "    <tr>\n",
       "      <th>8</th>\n",
       "      <td>90</td>\n",
       "      <td>1.220904</td>\n",
       "    </tr>\n",
       "    <tr>\n",
       "      <th>9</th>\n",
       "      <td>72</td>\n",
       "      <td>1.217354</td>\n",
       "    </tr>\n",
       "    <tr>\n",
       "      <th>10</th>\n",
       "      <td>50</td>\n",
       "      <td>1.209616</td>\n",
       "    </tr>\n",
       "    <tr>\n",
       "      <th>11</th>\n",
       "      <td>18</td>\n",
       "      <td>1.206228</td>\n",
       "    </tr>\n",
       "    <tr>\n",
       "      <th>12</th>\n",
       "      <td>92</td>\n",
       "      <td>1.200583</td>\n",
       "    </tr>\n",
       "    <tr>\n",
       "      <th>13</th>\n",
       "      <td>10</td>\n",
       "      <td>1.186517</td>\n",
       "    </tr>\n",
       "    <tr>\n",
       "      <th>14</th>\n",
       "      <td>9</td>\n",
       "      <td>1.173767</td>\n",
       "    </tr>\n",
       "    <tr>\n",
       "      <th>15</th>\n",
       "      <td>75</td>\n",
       "      <td>1.170012</td>\n",
       "    </tr>\n",
       "    <tr>\n",
       "      <th>16</th>\n",
       "      <td>22</td>\n",
       "      <td>1.162074</td>\n",
       "    </tr>\n",
       "    <tr>\n",
       "      <th>17</th>\n",
       "      <td>55</td>\n",
       "      <td>1.161601</td>\n",
       "    </tr>\n",
       "    <tr>\n",
       "      <th>18</th>\n",
       "      <td>86</td>\n",
       "      <td>1.152402</td>\n",
       "    </tr>\n",
       "    <tr>\n",
       "      <th>19</th>\n",
       "      <td>24</td>\n",
       "      <td>1.148295</td>\n",
       "    </tr>\n",
       "    <tr>\n",
       "      <th>20</th>\n",
       "      <td>34</td>\n",
       "      <td>1.144717</td>\n",
       "    </tr>\n",
       "    <tr>\n",
       "      <th>21</th>\n",
       "      <td>14</td>\n",
       "      <td>1.141132</td>\n",
       "    </tr>\n",
       "    <tr>\n",
       "      <th>22</th>\n",
       "      <td>33</td>\n",
       "      <td>1.135829</td>\n",
       "    </tr>\n",
       "    <tr>\n",
       "      <th>23</th>\n",
       "      <td>36</td>\n",
       "      <td>1.129742</td>\n",
       "    </tr>\n",
       "    <tr>\n",
       "      <th>24</th>\n",
       "      <td>65</td>\n",
       "      <td>1.126991</td>\n",
       "    </tr>\n",
       "    <tr>\n",
       "      <th>25</th>\n",
       "      <td>26</td>\n",
       "      <td>1.122180</td>\n",
       "    </tr>\n",
       "    <tr>\n",
       "      <th>26</th>\n",
       "      <td>97</td>\n",
       "      <td>1.113762</td>\n",
       "    </tr>\n",
       "    <tr>\n",
       "      <th>27</th>\n",
       "      <td>32</td>\n",
       "      <td>1.113499</td>\n",
       "    </tr>\n",
       "    <tr>\n",
       "      <th>28</th>\n",
       "      <td>69</td>\n",
       "      <td>1.112295</td>\n",
       "    </tr>\n",
       "    <tr>\n",
       "      <th>29</th>\n",
       "      <td>82</td>\n",
       "      <td>1.109115</td>\n",
       "    </tr>\n",
       "  </tbody>\n",
       "</table>\n",
       "</div>"
      ],
      "text/plain": [
       "    args      gaps\n",
       "0     98  2.709765\n",
       "1     20  2.529283\n",
       "2     95  1.692958\n",
       "3     96  1.499801\n",
       "4     93  1.445267\n",
       "5     11  1.424401\n",
       "6     28  1.258690\n",
       "7     12  1.222704\n",
       "8     90  1.220904\n",
       "9     72  1.217354\n",
       "10    50  1.209616\n",
       "11    18  1.206228\n",
       "12    92  1.200583\n",
       "13    10  1.186517\n",
       "14     9  1.173767\n",
       "15    75  1.170012\n",
       "16    22  1.162074\n",
       "17    55  1.161601\n",
       "18    86  1.152402\n",
       "19    24  1.148295\n",
       "20    34  1.144717\n",
       "21    14  1.141132\n",
       "22    33  1.135829\n",
       "23    36  1.129742\n",
       "24    65  1.126991\n",
       "25    26  1.122180\n",
       "26    97  1.113762\n",
       "27    32  1.113499\n",
       "28    69  1.112295\n",
       "29    82  1.109115"
      ]
     },
     "execution_count": 159,
     "metadata": {},
     "output_type": "execute_result"
    }
   ],
   "source": [
    "gap_stats[0:30]"
   ]
  },
  {
   "cell_type": "markdown",
   "metadata": {},
   "source": [
    "It appears Top 20 will work.  Below we provide some code to identify elbow.  By assuming the ratio of successive points follows a common distribution.  Also added the a fraction of the median to stabilize the computation"
   ]
  },
  {
   "cell_type": "code",
   "execution_count": 81,
   "metadata": {},
   "outputs": [],
   "source": [
    "ratios = []\n",
    "sorted_y = np.sort(y)\n",
    "for i,value in enumerate(sorted_y):\n",
    "    if i < len(y)-1:\n",
    "        ratio = sorted_y[i]/(sorted_y[i+1]+.1*np.median(sorted_y))\n",
    "        ratios.append(ratio)"
   ]
  },
  {
   "cell_type": "code",
   "execution_count": 82,
   "metadata": {},
   "outputs": [
    {
     "data": {
      "text/plain": [
       "<matplotlib.axes._subplots.AxesSubplot at 0x7f4ffb2f3c50>"
      ]
     },
     "execution_count": 82,
     "metadata": {},
     "output_type": "execute_result"
    },
    {
     "data": {
      "image/png": "[encoded data removed]",
      "text/plain": [
       "<Figure size 432x288 with 1 Axes>"
      ]
     },
     "metadata": {
      "needs_background": "light"
     },
     "output_type": "display_data"
    }
   ],
   "source": [
    "#ratios are ideal as distribution is now on same scale and can detect outliers (elbows) more easily\n",
    "#ratios are bad when denominator is close to 0.  Assumption is that at least half are bad.  \n",
    "#So median should be much smaller than the elbow. Just put a fraction of median in denominator. \n",
    "#Can alternatively specify what min pvalue is that we want.\n",
    "sns.boxplot(ratios)"
   ]
  },
  {
   "cell_type": "code",
   "execution_count": 83,
   "metadata": {},
   "outputs": [],
   "source": [
    "def find_outliers(ratios):\n",
    "    iqr = pd.Series(ratios).quantile(.75) - pd.Series(ratios).quantile(.25)\n",
    "    boundary = pd.Series(ratios).quantile(.75) + 2*iqr\n",
    "    outliers = []\n",
    "    for i,value in enumerate(ratios):\n",
    "        if value > boundary:\n",
    "            outliers.append((i,value))\n",
    "    return outliers"
   ]
  },
  {
   "cell_type": "code",
   "execution_count": 84,
   "metadata": {},
   "outputs": [],
   "source": [
    "outliers = find_outliers(ratios)"
   ]
  },
  {
   "cell_type": "code",
   "execution_count": 85,
   "metadata": {},
   "outputs": [
    {
     "data": {
      "text/plain": [
       "[(20, 2.4985665863213473)]"
      ]
     },
     "execution_count": 85,
     "metadata": {},
     "output_type": "execute_result"
    }
   ],
   "source": [
    "outliers"
   ]
  },
  {
   "cell_type": "markdown",
   "metadata": {},
   "source": [
    "### Automated Elbow Detection is Hard\n",
    "1. https://raghavan.usc.edu//papers/kneedle-simplex11.pdf\n",
    "2. https://stackoverflow.com/questions/2018178/finding-the-best-trade-off-point-on-a-curve\n",
    "3. https://stackoverflow.com/questions/4471993/compute-the-elbow-for-a-curve-automatically-and-mathematically"
   ]
  },
  {
   "cell_type": "markdown",
   "metadata": {},
   "source": [
    "### Can also perform Kruskal Test on PCQC to Ensure We Selected Good PCs"
   ]
  },
  {
   "cell_type": "code",
   "execution_count": 86,
   "metadata": {},
   "outputs": [],
   "source": [
    "pca.select_top_pcs(criteria = '90.0_Percentile', n_top_pcs = 15)\n",
    "reduced_matrix = pca.use_top_pcs()"
   ]
  },
  {
   "cell_type": "code",
   "execution_count": 87,
   "metadata": {},
   "outputs": [],
   "source": [
    "adata_pcqc = sc.AnnData(X = reduced_matrix)"
   ]
  },
  {
   "cell_type": "code",
   "execution_count": 88,
   "metadata": {},
   "outputs": [],
   "source": [
    "df_pcqc = pd.DataFrame(adata_pcqc.X)"
   ]
  },
  {
   "cell_type": "code",
   "execution_count": 89,
   "metadata": {},
   "outputs": [],
   "source": [
    "sc.pp.neighbors(adata_pcqc, use_rep = 'X', n_neighbors = 15)\n",
    "sc.tl.leiden(adata_pcqc, resolution = .8)"
   ]
  },
  {
   "cell_type": "code",
   "execution_count": 90,
   "metadata": {},
   "outputs": [],
   "source": [
    "df_pcqc['Clusters'] = adata_pcqc.obs['leiden'].values"
   ]
  },
  {
   "cell_type": "code",
   "execution_count": 91,
   "metadata": {},
   "outputs": [],
   "source": [
    "kruskal_test, best_pcs = pc_kruskal_test(df_pcqc,np.arange(15), threshold = 1e-9)"
   ]
  },
  {
   "cell_type": "code",
   "execution_count": 92,
   "metadata": {},
   "outputs": [
    {
     "data": {
      "text/plain": [
       "[0.0, 0.0, 0.0, 0.0, 0.0, 0.0, 0.0, 0.0, 0.0, 0.0, 0.0, 0.0, 0.0, 0.0, 0.0]"
      ]
     },
     "execution_count": 92,
     "metadata": {},
     "output_type": "execute_result"
    }
   ],
   "source": [
    "kruskal_test"
   ]
  },
  {
   "cell_type": "markdown",
   "metadata": {},
   "source": [
    "### Try a Permutation Test"
   ]
  },
  {
   "cell_type": "code",
   "execution_count": 93,
   "metadata": {},
   "outputs": [],
   "source": [
    "import importlib"
   ]
  },
  {
   "cell_type": "code",
   "execution_count": 94,
   "metadata": {},
   "outputs": [],
   "source": [
    "import kruskal_best_pcs"
   ]
  },
  {
   "cell_type": "code",
   "execution_count": 95,
   "metadata": {},
   "outputs": [
    {
     "data": {
      "text/plain": [
       "<module 'kruskal_best_pcs' from '../pcqc/kruskal_best_pcs.py'>"
      ]
     },
     "execution_count": 95,
     "metadata": {},
     "output_type": "execute_result"
    }
   ],
   "source": [
    "importlib.reload(kruskal_best_pcs)"
   ]
  },
  {
   "cell_type": "code",
   "execution_count": 96,
   "metadata": {},
   "outputs": [],
   "source": [
    "mtrx = cbmc_df.values"
   ]
  },
  {
   "cell_type": "code",
   "execution_count": 97,
   "metadata": {},
   "outputs": [
    {
     "name": "stdout",
     "output_type": "stream",
     "text": [
      "0\n",
      "1\n",
      "2\n",
      "3\n",
      "4\n",
      "5\n",
      "6\n",
      "7\n",
      "8\n",
      "9\n",
      "10\n",
      "11\n",
      "12\n",
      "13\n",
      "14\n",
      "15\n",
      "16\n",
      "17\n",
      "18\n",
      "19\n"
     ]
    }
   ],
   "source": [
    "#kind of slow\n",
    "perm_test = permutation_test(mtrx, trials = 20)"
   ]
  },
  {
   "cell_type": "code",
   "execution_count": 98,
   "metadata": {},
   "outputs": [],
   "source": [
    "#top permuted eigenvalues\n",
    "sorted_svalues = -1*np.sort(-1*perm_test.max())"
   ]
  },
  {
   "cell_type": "code",
   "execution_count": 99,
   "metadata": {},
   "outputs": [
    {
     "data": {
      "text/plain": [
       "31"
      ]
     },
     "execution_count": 99,
     "metadata": {},
     "output_type": "execute_result"
    }
   ],
   "source": [
    "#anywhere between 19 and 31\n",
    "np.sum(pca.singular_values > sorted_svalues)"
   ]
  },
  {
   "cell_type": "code",
   "execution_count": 100,
   "metadata": {},
   "outputs": [
    {
     "data": {
      "text/plain": [
       "array([ 7.41892053e+02,  5.44952589e+02,  4.30481088e+02,  3.26583737e+02,\n",
       "        2.94158352e+02,  2.67398200e+02,  2.50591667e+02,  1.56853028e+02,\n",
       "        1.47154846e+02,  1.18480658e+02,  7.39247301e+01,  6.87461578e+01,\n",
       "        6.22721839e+01,  3.93000084e+01,  3.59395605e+01,  3.31587020e+01,\n",
       "        2.43181378e+01,  2.07222439e+01,  1.89426835e+01,  1.49068967e+01,\n",
       "        1.29010813e+01,  1.02960176e+01,  8.62241229e+00,  7.02819133e+00,\n",
       "        5.22601479e+00,  4.59015742e+00,  3.01490241e+00,  1.57011502e+00,\n",
       "        6.70764172e-01,  7.30819793e-01,  2.77786938e-01, -9.99817958e-01,\n",
       "       -1.01998192e+00, -1.43306736e+00, -1.96938963e+00, -1.98986251e+00,\n",
       "       -2.16755230e+00, -2.25753582e+00, -2.65977273e+00, -3.10657322e+00,\n",
       "       -3.01322029e+00, -3.27366098e+00, -3.33168072e+00, -3.26751279e+00,\n",
       "       -3.54077007e+00, -3.75823659e+00, -3.73137070e+00, -3.78075250e+00,\n",
       "       -3.85676443e+00, -3.96348250e+00, -4.02676126e+00, -4.08305856e+00,\n",
       "       -4.00588616e+00, -4.03009142e+00, -4.21764702e+00, -4.37625681e+00,\n",
       "       -4.49256861e+00, -4.57443362e+00, -4.61806978e+00, -4.55039197e+00,\n",
       "       -4.60043513e+00, -4.74464422e+00, -4.68186581e+00, -4.73918377e+00,\n",
       "       -4.80849220e+00, -4.91528409e+00, -5.00620362e+00, -5.02354029e+00,\n",
       "       -5.19667211e+00, -5.33167031e+00, -5.38694546e+00, -5.27947667e+00,\n",
       "       -5.34626118e+00, -5.44278524e+00, -5.41218583e+00, -5.44902628e+00,\n",
       "       -5.39779020e+00, -5.46577124e+00, -5.48295925e+00, -5.53083660e+00,\n",
       "       -5.56241162e+00, -5.56767615e+00, -5.57379452e+00, -5.57915322e+00,\n",
       "       -5.63231154e+00, -5.66710035e+00, -5.66796577e+00, -5.82990791e+00,\n",
       "       -5.83235918e+00, -5.79588361e+00, -5.81558902e+00, -5.80155692e+00,\n",
       "       -5.76795054e+00, -5.86451271e+00, -6.04928093e+00, -6.08155273e+00,\n",
       "       -6.03466445e+00, -6.00648926e+00, -6.03316872e+00, -6.12438134e+00])"
      ]
     },
     "execution_count": 100,
     "metadata": {},
     "output_type": "execute_result"
    }
   ],
   "source": [
    "pca.singular_values - sorted_svalues"
   ]
  },
  {
   "cell_type": "code",
   "execution_count": 101,
   "metadata": {},
   "outputs": [],
   "source": [
    "def compute_e_ratio(svalues,perm):\n",
    "    answer = np.divide(svalues,perm)\n",
    "    df = pd.DataFrame(answer,columns = ['E_Ratio'])\n",
    "    return df"
   ]
  },
  {
   "cell_type": "code",
   "execution_count": 127,
   "metadata": {},
   "outputs": [
    {
     "data": {
      "image/png": "[encoded data removed]",
      "text/plain": [
       "<Figure size 432x288 with 1 Axes>"
      ]
     },
     "metadata": {
      "needs_background": "light"
     },
     "output_type": "display_data"
    }
   ],
   "source": [
    "plt.scatter(x = np.arange(0,30), y = 1e-5*np.power(pca.singular_values[0:30],2), color = 'skyblue', label = 'Eigenvalues')\n",
    "plt.scatter(x = np.arange(0,30), y = 1e-5*np.power(sorted_svalues[0:30],2), color = 'orangered', \n",
    "            label = 'Permutation Test Eigenvalues')\n",
    "plt.legend()\n",
    "plt.title('Permutation Test')\n",
    "plot_dictionary['PermTest'] = plt.gca().get_figure()"
   ]
  },
  {
   "cell_type": "code",
   "execution_count": 128,
   "metadata": {},
   "outputs": [
    {
     "data": {
      "image/png": "[encoded data removed]",
      "text/plain": [
       "<Figure size 432x288 with 1 Axes>"
      ]
     },
     "metadata": {
      "needs_background": "light"
     },
     "output_type": "display_data"
    }
   ],
   "source": [
    "plt.scatter(x = np.arange(10,40), y = 1e-5*np.power(pca.singular_values[10:40],2), color = 'skyblue', label = 'Eigenvalues')\n",
    "plt.scatter(x = np.arange(10,40), y = 1e-5*np.power(sorted_svalues[10:40],2), color = 'orangered', \n",
    "            label = 'Permutation Test Eigenvalues')\n",
    "plt.legend()\n",
    "plt.title('Permutation Test: PCs 10-40')\n",
    "plot_dictionary['PermTestPcs10-40'] = plt.gca().get_figure()"
   ]
  },
  {
   "cell_type": "code",
   "execution_count": 110,
   "metadata": {},
   "outputs": [
    {
     "data": {
      "text/plain": [
       "array([127.06089724, 126.34880879, 125.98378234, 125.78831663,\n",
       "       125.58916634, 125.38289039, 125.19624824, 125.01680724,\n",
       "       124.88512133, 124.84644789, 124.55243231, 124.39997643,\n",
       "       124.3111675 , 124.13283884, 124.02595964, 123.80922128,\n",
       "       123.72728664, 123.67457269, 123.46547368, 123.33089314,\n",
       "       123.21403722, 123.1051287 , 122.93145918, 122.8422107 ,\n",
       "       122.73686724, 122.58917654, 122.47415544, 122.42995001,\n",
       "       122.31118491, 122.19435507, 122.07794574, 121.94832912,\n",
       "       121.87113294, 121.73777906, 121.65833328, 121.59294806,\n",
       "       121.45427265, 121.39755252, 121.30553694, 121.22095355,\n",
       "       121.07430014, 120.95657694, 120.88713832, 120.75741877,\n",
       "       120.7438012 , 120.59258451, 120.48970748, 120.41737981,\n",
       "       120.34255534, 120.23451973, 120.16004906, 120.08862723,\n",
       "       119.95405514, 119.90819402, 119.82461403, 119.76466499,\n",
       "       119.67413899, 119.55210521, 119.51338071, 119.38584432,\n",
       "       119.34996467, 119.23282223, 119.14942727, 119.04554824,\n",
       "       118.99084398, 118.94360703, 118.86038331, 118.73031705,\n",
       "       118.68218232, 118.60567556, 118.54469658, 118.40196416,\n",
       "       118.32485162, 118.27727308, 118.20191886, 118.15121619,\n",
       "       118.05101325, 117.96465881, 117.86349003, 117.76089841,\n",
       "       117.72333283, 117.64613712, 117.51892809, 117.45575257,\n",
       "       117.4294201 , 117.32707644, 117.2627543 , 117.21805928,\n",
       "       117.1572042 , 117.04134919, 116.99048534, 116.92898224,\n",
       "       116.83751336, 116.75331647, 116.71947325, 116.61284819,\n",
       "       116.5201496 , 116.46180068, 116.41000268, 116.34430043])"
      ]
     },
     "execution_count": 110,
     "metadata": {},
     "output_type": "execute_result"
    }
   ],
   "source": [
    "sorted_svalues"
   ]
  },
  {
   "cell_type": "code",
   "execution_count": 103,
   "metadata": {},
   "outputs": [
    {
     "data": {
      "text/html": [
       "<div>\n",
       "<style scoped>\n",
       "    .dataframe tbody tr th:only-of-type {\n",
       "        vertical-align: middle;\n",
       "    }\n",
       "\n",
       "    .dataframe tbody tr th {\n",
       "        vertical-align: top;\n",
       "    }\n",
       "\n",
       "    .dataframe thead th {\n",
       "        text-align: right;\n",
       "    }\n",
       "</style>\n",
       "<table border=\"1\" class=\"dataframe\">\n",
       "  <thead>\n",
       "    <tr style=\"text-align: right;\">\n",
       "      <th></th>\n",
       "      <th>E_Ratio</th>\n",
       "    </tr>\n",
       "  </thead>\n",
       "  <tbody>\n",
       "    <tr>\n",
       "      <th>0</th>\n",
       "      <td>6.876759</td>\n",
       "    </tr>\n",
       "    <tr>\n",
       "      <th>1</th>\n",
       "      <td>5.325671</td>\n",
       "    </tr>\n",
       "    <tr>\n",
       "      <th>2</th>\n",
       "      <td>4.423288</td>\n",
       "    </tr>\n",
       "    <tr>\n",
       "      <th>3</th>\n",
       "      <td>3.601884</td>\n",
       "    </tr>\n",
       "    <tr>\n",
       "      <th>4</th>\n",
       "      <td>3.347906</td>\n",
       "    </tr>\n",
       "    <tr>\n",
       "      <th>5</th>\n",
       "      <td>3.137986</td>\n",
       "    </tr>\n",
       "    <tr>\n",
       "      <th>6</th>\n",
       "      <td>3.006036</td>\n",
       "    </tr>\n",
       "    <tr>\n",
       "      <th>7</th>\n",
       "      <td>2.258176</td>\n",
       "    </tr>\n",
       "    <tr>\n",
       "      <th>8</th>\n",
       "      <td>2.182247</td>\n",
       "    </tr>\n",
       "    <tr>\n",
       "      <th>9</th>\n",
       "      <td>1.954107</td>\n",
       "    </tr>\n",
       "    <tr>\n",
       "      <th>10</th>\n",
       "      <td>1.596282</td>\n",
       "    </tr>\n",
       "    <tr>\n",
       "      <th>11</th>\n",
       "      <td>1.554701</td>\n",
       "    </tr>\n",
       "    <tr>\n",
       "      <th>12</th>\n",
       "      <td>1.503695</td>\n",
       "    </tr>\n",
       "    <tr>\n",
       "      <th>13</th>\n",
       "      <td>1.318478</td>\n",
       "    </tr>\n",
       "    <tr>\n",
       "      <th>14</th>\n",
       "      <td>1.292139</td>\n",
       "    </tr>\n",
       "    <tr>\n",
       "      <th>15</th>\n",
       "      <td>1.268828</td>\n",
       "    </tr>\n",
       "    <tr>\n",
       "      <th>16</th>\n",
       "      <td>1.198432</td>\n",
       "    </tr>\n",
       "    <tr>\n",
       "      <th>17</th>\n",
       "      <td>1.170053</td>\n",
       "    </tr>\n",
       "    <tr>\n",
       "      <th>18</th>\n",
       "      <td>1.154746</td>\n",
       "    </tr>\n",
       "    <tr>\n",
       "      <th>19</th>\n",
       "      <td>1.122201</td>\n",
       "    </tr>\n",
       "    <tr>\n",
       "      <th>20</th>\n",
       "      <td>1.106006</td>\n",
       "    </tr>\n",
       "    <tr>\n",
       "      <th>21</th>\n",
       "      <td>1.084907</td>\n",
       "    </tr>\n",
       "    <tr>\n",
       "      <th>22</th>\n",
       "      <td>1.070855</td>\n",
       "    </tr>\n",
       "    <tr>\n",
       "      <th>23</th>\n",
       "      <td>1.057981</td>\n",
       "    </tr>\n",
       "    <tr>\n",
       "      <th>24</th>\n",
       "      <td>1.043666</td>\n",
       "    </tr>\n",
       "  </tbody>\n",
       "</table>\n",
       "</div>"
      ],
      "text/plain": [
       "     E_Ratio\n",
       "0   6.876759\n",
       "1   5.325671\n",
       "2   4.423288\n",
       "3   3.601884\n",
       "4   3.347906\n",
       "5   3.137986\n",
       "6   3.006036\n",
       "7   2.258176\n",
       "8   2.182247\n",
       "9   1.954107\n",
       "10  1.596282\n",
       "11  1.554701\n",
       "12  1.503695\n",
       "13  1.318478\n",
       "14  1.292139\n",
       "15  1.268828\n",
       "16  1.198432\n",
       "17  1.170053\n",
       "18  1.154746\n",
       "19  1.122201\n",
       "20  1.106006\n",
       "21  1.084907\n",
       "22  1.070855\n",
       "23  1.057981\n",
       "24  1.043666"
      ]
     },
     "execution_count": 103,
     "metadata": {},
     "output_type": "execute_result"
    }
   ],
   "source": [
    "sorted_medians = -1*np.sort(-1*perm_test.median())\n",
    "e_ratio = compute_e_ratio(pca.singular_values,sorted_medians)\n",
    "e_ratio[0:25]"
   ]
  },
  {
   "cell_type": "markdown",
   "metadata": {},
   "source": [
    "### To Make Units Comparable- Need to Square Values"
   ]
  },
  {
   "cell_type": "code",
   "execution_count": 119,
   "metadata": {},
   "outputs": [
    {
     "data": {
      "text/html": [
       "<div>\n",
       "<style scoped>\n",
       "    .dataframe tbody tr th:only-of-type {\n",
       "        vertical-align: middle;\n",
       "    }\n",
       "\n",
       "    .dataframe tbody tr th {\n",
       "        vertical-align: top;\n",
       "    }\n",
       "\n",
       "    .dataframe thead th {\n",
       "        text-align: right;\n",
       "    }\n",
       "</style>\n",
       "<table border=\"1\" class=\"dataframe\">\n",
       "  <thead>\n",
       "    <tr style=\"text-align: right;\">\n",
       "      <th></th>\n",
       "      <th>E_Ratio</th>\n",
       "    </tr>\n",
       "  </thead>\n",
       "  <tbody>\n",
       "    <tr>\n",
       "      <th>0</th>\n",
       "      <td>47.289809</td>\n",
       "    </tr>\n",
       "    <tr>\n",
       "      <th>1</th>\n",
       "      <td>28.362771</td>\n",
       "    </tr>\n",
       "    <tr>\n",
       "      <th>2</th>\n",
       "      <td>19.565476</td>\n",
       "    </tr>\n",
       "    <tr>\n",
       "      <th>3</th>\n",
       "      <td>12.973565</td>\n",
       "    </tr>\n",
       "    <tr>\n",
       "      <th>4</th>\n",
       "      <td>11.208472</td>\n",
       "    </tr>\n",
       "    <tr>\n",
       "      <th>5</th>\n",
       "      <td>9.846958</td>\n",
       "    </tr>\n",
       "    <tr>\n",
       "      <th>6</th>\n",
       "      <td>9.036255</td>\n",
       "    </tr>\n",
       "    <tr>\n",
       "      <th>7</th>\n",
       "      <td>5.099358</td>\n",
       "    </tr>\n",
       "    <tr>\n",
       "      <th>8</th>\n",
       "      <td>4.762202</td>\n",
       "    </tr>\n",
       "    <tr>\n",
       "      <th>9</th>\n",
       "      <td>3.818534</td>\n",
       "    </tr>\n",
       "    <tr>\n",
       "      <th>10</th>\n",
       "      <td>2.548117</td>\n",
       "    </tr>\n",
       "    <tr>\n",
       "      <th>11</th>\n",
       "      <td>2.417095</td>\n",
       "    </tr>\n",
       "    <tr>\n",
       "      <th>12</th>\n",
       "      <td>2.261099</td>\n",
       "    </tr>\n",
       "    <tr>\n",
       "      <th>13</th>\n",
       "      <td>1.738383</td>\n",
       "    </tr>\n",
       "    <tr>\n",
       "      <th>14</th>\n",
       "      <td>1.669623</td>\n",
       "    </tr>\n",
       "    <tr>\n",
       "      <th>15</th>\n",
       "      <td>1.609925</td>\n",
       "    </tr>\n",
       "    <tr>\n",
       "      <th>16</th>\n",
       "      <td>1.436238</td>\n",
       "    </tr>\n",
       "    <tr>\n",
       "      <th>17</th>\n",
       "      <td>1.369023</td>\n",
       "    </tr>\n",
       "    <tr>\n",
       "      <th>18</th>\n",
       "      <td>1.333438</td>\n",
       "    </tr>\n",
       "    <tr>\n",
       "      <th>19</th>\n",
       "      <td>1.259335</td>\n",
       "    </tr>\n",
       "    <tr>\n",
       "      <th>20</th>\n",
       "      <td>1.223249</td>\n",
       "    </tr>\n",
       "    <tr>\n",
       "      <th>21</th>\n",
       "      <td>1.177024</td>\n",
       "    </tr>\n",
       "    <tr>\n",
       "      <th>22</th>\n",
       "      <td>1.146729</td>\n",
       "    </tr>\n",
       "    <tr>\n",
       "      <th>23</th>\n",
       "      <td>1.119323</td>\n",
       "    </tr>\n",
       "    <tr>\n",
       "      <th>24</th>\n",
       "      <td>1.089238</td>\n",
       "    </tr>\n",
       "    <tr>\n",
       "      <th>25</th>\n",
       "      <td>1.077670</td>\n",
       "    </tr>\n",
       "    <tr>\n",
       "      <th>26</th>\n",
       "      <td>1.051359</td>\n",
       "    </tr>\n",
       "    <tr>\n",
       "      <th>27</th>\n",
       "      <td>1.028058</td>\n",
       "    </tr>\n",
       "    <tr>\n",
       "      <th>28</th>\n",
       "      <td>1.012657</td>\n",
       "    </tr>\n",
       "    <tr>\n",
       "      <th>29</th>\n",
       "      <td>1.013549</td>\n",
       "    </tr>\n",
       "  </tbody>\n",
       "</table>\n",
       "</div>"
      ],
      "text/plain": [
       "      E_Ratio\n",
       "0   47.289809\n",
       "1   28.362771\n",
       "2   19.565476\n",
       "3   12.973565\n",
       "4   11.208472\n",
       "5    9.846958\n",
       "6    9.036255\n",
       "7    5.099358\n",
       "8    4.762202\n",
       "9    3.818534\n",
       "10   2.548117\n",
       "11   2.417095\n",
       "12   2.261099\n",
       "13   1.738383\n",
       "14   1.669623\n",
       "15   1.609925\n",
       "16   1.436238\n",
       "17   1.369023\n",
       "18   1.333438\n",
       "19   1.259335\n",
       "20   1.223249\n",
       "21   1.177024\n",
       "22   1.146729\n",
       "23   1.119323\n",
       "24   1.089238\n",
       "25   1.077670\n",
       "26   1.051359\n",
       "27   1.028058\n",
       "28   1.012657\n",
       "29   1.013549"
      ]
     },
     "execution_count": 119,
     "metadata": {},
     "output_type": "execute_result"
    }
   ],
   "source": [
    "np.power(e_ratio,2)[0:30]"
   ]
  },
  {
   "cell_type": "code",
   "execution_count": 36,
   "metadata": {},
   "outputs": [],
   "source": [
    "from scipy.sparse.linalg import svds\n",
    "_,s,_ = svds(mtrx,k=100)\n",
    "evalues = np.power(s,2)"
   ]
  },
  {
   "cell_type": "code",
   "execution_count": 38,
   "metadata": {},
   "outputs": [
    {
     "data": {
      "text/plain": [
       "array([116.15764684, 116.24035985, 116.32742199, 116.43555419,\n",
       "       116.50495378, 116.62133365, 116.6980604 , 116.72454465,\n",
       "       116.84796214, 116.95337439, 117.00082035, 117.06941761,\n",
       "       117.09978664, 117.19680068, 117.32530658, 117.3523605 ,\n",
       "       117.38278068, 117.5088929 , 117.56549055, 117.6303358 ,\n",
       "       117.64846639, 117.75809994, 117.87097826, 117.94156805,\n",
       "       118.00310832, 118.15254335, 118.17638787, 118.23192194,\n",
       "       118.27016584, 118.44251165, 118.51784191, 118.54670734,\n",
       "       118.60932362, 118.69891713, 118.74815791, 118.94155956,\n",
       "       118.99782771, 119.03765853, 119.13908102, 119.21319988,\n",
       "       119.24968   , 119.39302543, 119.48042017, 119.59915035,\n",
       "       119.69636021, 119.80345489, 119.8263692 , 119.96116368,\n",
       "       120.02681549, 120.13372792, 120.21997177, 120.25665839,\n",
       "       120.31801001, 120.43507361, 120.5083087 , 120.54422548,\n",
       "       120.62771929, 120.74157758, 120.8411597 , 121.04893364,\n",
       "       121.14212556, 121.24341902, 121.30511164, 121.42518117,\n",
       "       121.51477034, 121.59797522, 121.66966957, 121.72412906,\n",
       "       121.79205597, 121.91281324, 122.00976237, 122.09150024,\n",
       "       122.17814452, 122.32101582, 122.36246871, 122.58692581,\n",
       "       122.66718103, 122.87805749, 122.96268385, 123.08581691,\n",
       "       123.1185938 , 123.25218359, 123.39452472, 123.54366524,\n",
       "       123.81835527, 123.83808107, 123.97032181, 124.09222374,\n",
       "       124.26150661, 124.47843377, 124.59436076, 124.70422494,\n",
       "       124.84139877, 125.09305898, 125.25392045, 125.46874333,\n",
       "       125.55379768, 125.86758735, 126.10720371, 126.55895639])"
      ]
     },
     "execution_count": 38,
     "metadata": {},
     "output_type": "execute_result"
    }
   ],
   "source": [
    "s"
   ]
  },
  {
   "cell_type": "code",
   "execution_count": 37,
   "metadata": {},
   "outputs": [
    {
     "data": {
      "text/plain": [
       "array([13492.59891956, 13511.82125858, 13532.06910594, 13557.2382799 ,\n",
       "       13573.40425633, 13600.53546324, 13618.43730171, 13624.61932413,\n",
       "       13653.44625659, 13678.09178047, 13689.19196286, 13705.24853878,\n",
       "       13712.36002998, 13735.09009064, 13765.22756338, 13771.57651414,\n",
       "       13778.71719951, 13808.33991061, 13821.64456903, 13836.89590003,\n",
       "       13841.16164467, 13866.97010246, 13893.56751705, 13910.21347338,\n",
       "       13924.73357318, 13960.02350036, 13965.65865096, 13978.78736661,\n",
       "       13987.83212762, 14028.62856637, 14046.47885141, 14053.32182079,\n",
       "       14068.17164849, 14089.43292876, 14101.1250081 , 14147.09458999,\n",
       "       14160.48299978, 14169.96414729, 14194.12062583, 14211.787026  ,\n",
       "       14220.48618054, 14254.69452142, 14275.57080339, 14303.95676543,\n",
       "       14327.21864661, 14352.86780347, 14358.35875499, 14390.68079174,\n",
       "       14406.43643549, 14432.11258414, 14452.84161293, 14461.66388785,\n",
       "       14476.42353348, 14504.60695649, 14522.25246571, 14530.91029623,\n",
       "       14551.04666074, 14578.52855609, 14602.5858781 , 14652.84433534,\n",
       "       14675.41458408, 14699.9666555 , 14714.93010949, 14744.07462295,\n",
       "       14765.83940975, 14786.0675787 , 14803.50849233, 14816.76359498,\n",
       "       14833.304897  , 14862.73403215, 14886.38211362, 14906.33443042,\n",
       "       14927.49899837, 14962.43091081, 14972.57374759, 15027.55437984,\n",
       "       15047.23730117, 15099.01701142, 15119.82161982, 15150.11832347,\n",
       "       15158.18813814, 15191.10075952, 15226.20873048, 15263.03722156,\n",
       "       15330.98510238, 15335.87032433, 15368.64069038, 15398.87999375,\n",
       "       15440.92202463, 15494.88047427, 15523.75473301, 15551.14371903,\n",
       "       15585.37484658, 15648.27340507, 15688.54458844, 15742.40555246,\n",
       "       15763.75611089, 15842.64954526, 15903.02682725, 16017.16944201])"
      ]
     },
     "execution_count": 37,
     "metadata": {},
     "output_type": "execute_result"
    }
   ],
   "source": [
    "evalues"
   ]
  },
  {
   "cell_type": "code",
   "execution_count": 39,
   "metadata": {},
   "outputs": [],
   "source": [
    "pca = PC_Cluster()"
   ]
  },
  {
   "cell_type": "code",
   "execution_count": 43,
   "metadata": {},
   "outputs": [],
   "source": [
    "pca.fit(cbmc_df.values)"
   ]
  },
  {
   "cell_type": "code",
   "execution_count": 44,
   "metadata": {},
   "outputs": [
    {
     "data": {
      "text/plain": [
       "array([0.00139216, 0.00138224, 0.00137699, 0.00137014, 0.00136828,\n",
       "       0.0013636 , 0.0013601 , 0.00135463, 0.00135166, 0.00134928,\n",
       "       0.00134677, 0.00134208, 0.00133842, 0.0013358 , 0.00133295,\n",
       "       0.00133252, 0.00132662, 0.00132342, 0.00132036, 0.0013175 ])"
      ]
     },
     "execution_count": 44,
     "metadata": {},
     "output_type": "execute_result"
    }
   ],
   "source": [
    "pca.norm_eigenvalues[0:20]"
   ]
  },
  {
   "cell_type": "code",
   "execution_count": 14,
   "metadata": {},
   "outputs": [
    {
     "data": {
      "text/plain": [
       "array([-0.07575971, -0.07575971, -0.07575971, ..., -0.07575971,\n",
       "       -0.07575971, -0.07575971])"
      ]
     },
     "execution_count": 14,
     "metadata": {},
     "output_type": "execute_result"
    }
   ],
   "source": [
    "answer = "
   ]
  },
  {
   "cell_type": "code",
   "execution_count": 15,
   "metadata": {},
   "outputs": [
    {
     "data": {
      "text/plain": [
       "array([-0.04300511, -0.04300511, -0.04300511, ..., -0.04300511,\n",
       "       -0.04300511, -0.04300511])"
      ]
     },
     "execution_count": 15,
     "metadata": {},
     "output_type": "execute_result"
    }
   ],
   "source": [
    "np.random.permutation(mtrx[:,0])"
   ]
  },
  {
   "cell_type": "markdown",
   "metadata": {},
   "source": [
    "### Export Plots"
   ]
  },
  {
   "cell_type": "code",
   "execution_count": 152,
   "metadata": {},
   "outputs": [],
   "source": [
    "with PdfPages(output_plots) as pdf:\n",
    "    for title in plot_dictionary.keys():\n",
    "        pdf.savefig(plot_dictionary[title])"
   ]
  },
  {
   "cell_type": "code",
   "execution_count": null,
   "metadata": {},
   "outputs": [],
   "source": []
  }
 ],
 "metadata": {
  "kernelspec": {
   "display_name": "Python 3",
   "language": "python",
   "name": "python3"
  },
  "language_info": {
   "codemirror_mode": {
    "name": "ipython",
    "version": 3
   },
   "file_extension": ".py",
   "mimetype": "text/x-python",
   "name": "python",
   "nbconvert_exporter": "python",
   "pygments_lexer": "ipython3",
   "version": "3.7.6"
  }
 },
 "nbformat": 4,
 "nbformat_minor": 4
}
