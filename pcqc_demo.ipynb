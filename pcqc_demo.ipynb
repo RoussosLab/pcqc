{
 "cells": [
  {
   "cell_type": "markdown",
   "metadata": {},
   "source": [
    "# pcqc demo\n",
    "Principal Component Quality Control"
   ]
  },
  {
   "cell_type": "code",
   "execution_count": 1,
   "metadata": {},
   "outputs": [
    {
     "name": "stderr",
     "output_type": "stream",
     "text": [
      "/opt/conda/lib/python3.7/site-packages/anndata/_core/https://urldefense.proofpoint.com/v2/url?u=http-3A__anndata.py&d=DwIGaQ&c=shNJtf5dKgNcPZ6Yh64b-A&r=IRDkiz1FUo8bq20_WGVGusufh90RFvNCmCrPdmmYjWY&m=uGiXPQOkrkWErmRglsq0KaCdIbSuUCyspvhvfMFscYo&s=OWjd7ZEzGRiNheRLGrnuch4fg0PkhvIYNUPpIleJFVo&e= :21: FutureWarning: pandas.core.index is deprecated and will be removed in a future version.  The public classes are available in the top-level namespace.\n",
      "  from pandas.core.index import RangeIndex\n"
     ]
    }
   ],
   "source": [
    "import numpy as np\n",
    "import pandas as pd\n",
    "import matplotlib.pyplot as plt\n",
    "import seaborn as sns\n",
    "from pcqc import *"
   ]
  },
  {
   "cell_type": "markdown",
   "metadata": {},
   "source": [
    "### Load Data"
   ]
  },
  {
   "cell_type": "code",
   "execution_count": 2,
   "metadata": {},
   "outputs": [
    {
     "data": {
      "text/html": [
       "<div>\n",
       "<style scoped>\n",
       "    .dataframe tbody tr th:only-of-type {\n",
       "        vertical-align: middle;\n",
       "    }\n",
       "\n",
       "    .dataframe tbody tr th {\n",
       "        vertical-align: top;\n",
       "    }\n",
       "\n",
       "    .dataframe thead th {\n",
       "        text-align: right;\n",
       "    }\n",
       "</style>\n",
       "<table border=\"1\" class=\"dataframe\">\n",
       "  <thead>\n",
       "    <tr style=\"text-align: right;\">\n",
       "      <th>Unnamed: 0</th>\n",
       "      <th>A4GALT</th>\n",
       "      <th>ABCB10</th>\n",
       "      <th>ABCC3</th>\n",
       "      <th>ABCG2</th>\n",
       "      <th>ABI3</th>\n",
       "      <th>AC002454.1</th>\n",
       "      <th>AC004381.6</th>\n",
       "      <th>AC004791.2</th>\n",
       "      <th>AC005339.2</th>\n",
       "      <th>AC005356.1</th>\n",
       "      <th>...</th>\n",
       "      <th>MOUSE-Rtn4</th>\n",
       "      <th>MOUSE-Ppp1ca</th>\n",
       "      <th>MOUSE-Cald1</th>\n",
       "      <th>MOUSE-Rps26</th>\n",
       "      <th>MOUSE-Ctsl</th>\n",
       "      <th>MOUSE-Tnfrsf12a</th>\n",
       "      <th>MOUSE-Esd</th>\n",
       "      <th>MOUSE-Acta2</th>\n",
       "      <th>MOUSE-Arpc2</th>\n",
       "      <th>MOUSE-Calr</th>\n",
       "    </tr>\n",
       "  </thead>\n",
       "  <tbody>\n",
       "    <tr>\n",
       "      <th>CTGTTTACACCGCTAG</th>\n",
       "      <td>-0.043005</td>\n",
       "      <td>-0.127965</td>\n",
       "      <td>-0.089527</td>\n",
       "      <td>-0.044218</td>\n",
       "      <td>-0.31871</td>\n",
       "      <td>-0.077685</td>\n",
       "      <td>-0.067245</td>\n",
       "      <td>-0.026909</td>\n",
       "      <td>-0.020008</td>\n",
       "      <td>-0.02334</td>\n",
       "      <td>...</td>\n",
       "      <td>3.666522</td>\n",
       "      <td>2.806501</td>\n",
       "      <td>4.390655</td>\n",
       "      <td>2.338495</td>\n",
       "      <td>4.236169</td>\n",
       "      <td>3.291269</td>\n",
       "      <td>3.338256</td>\n",
       "      <td>1.181500</td>\n",
       "      <td>3.575336</td>\n",
       "      <td>2.491014</td>\n",
       "    </tr>\n",
       "    <tr>\n",
       "      <th>CTCTACGGTGTGGCTC</th>\n",
       "      <td>-0.043005</td>\n",
       "      <td>-0.127965</td>\n",
       "      <td>-0.089527</td>\n",
       "      <td>-0.044218</td>\n",
       "      <td>-0.31871</td>\n",
       "      <td>-0.077685</td>\n",
       "      <td>-0.067245</td>\n",
       "      <td>-0.026909</td>\n",
       "      <td>-0.020008</td>\n",
       "      <td>-0.02334</td>\n",
       "      <td>...</td>\n",
       "      <td>3.431149</td>\n",
       "      <td>3.219714</td>\n",
       "      <td>3.572171</td>\n",
       "      <td>3.176395</td>\n",
       "      <td>3.501385</td>\n",
       "      <td>3.099354</td>\n",
       "      <td>3.375631</td>\n",
       "      <td>3.738814</td>\n",
       "      <td>3.165883</td>\n",
       "      <td>2.803176</td>\n",
       "    </tr>\n",
       "    <tr>\n",
       "      <th>AGCAGCCAGGCTCATT</th>\n",
       "      <td>-0.043005</td>\n",
       "      <td>-0.127965</td>\n",
       "      <td>-0.089527</td>\n",
       "      <td>-0.044218</td>\n",
       "      <td>-0.31871</td>\n",
       "      <td>-0.077685</td>\n",
       "      <td>-0.067245</td>\n",
       "      <td>-0.026909</td>\n",
       "      <td>-0.020008</td>\n",
       "      <td>-0.02334</td>\n",
       "      <td>...</td>\n",
       "      <td>3.810213</td>\n",
       "      <td>3.309678</td>\n",
       "      <td>3.658060</td>\n",
       "      <td>3.236889</td>\n",
       "      <td>3.957931</td>\n",
       "      <td>3.465798</td>\n",
       "      <td>2.787275</td>\n",
       "      <td>2.762576</td>\n",
       "      <td>3.510315</td>\n",
       "      <td>3.762173</td>\n",
       "    </tr>\n",
       "    <tr>\n",
       "      <th>GAATAAGAGATCCCAT</th>\n",
       "      <td>-0.043005</td>\n",
       "      <td>-0.127965</td>\n",
       "      <td>-0.089527</td>\n",
       "      <td>-0.044218</td>\n",
       "      <td>-0.31871</td>\n",
       "      <td>-0.077685</td>\n",
       "      <td>-0.067245</td>\n",
       "      <td>-0.026909</td>\n",
       "      <td>-0.020008</td>\n",
       "      <td>-0.02334</td>\n",
       "      <td>...</td>\n",
       "      <td>3.686728</td>\n",
       "      <td>3.248412</td>\n",
       "      <td>3.565898</td>\n",
       "      <td>3.485953</td>\n",
       "      <td>3.325856</td>\n",
       "      <td>2.842990</td>\n",
       "      <td>3.483046</td>\n",
       "      <td>2.815389</td>\n",
       "      <td>3.319044</td>\n",
       "      <td>4.037947</td>\n",
       "    </tr>\n",
       "    <tr>\n",
       "      <th>GTGCATAGTCATGCAT</th>\n",
       "      <td>-0.043005</td>\n",
       "      <td>-0.127965</td>\n",
       "      <td>-0.089527</td>\n",
       "      <td>-0.044218</td>\n",
       "      <td>-0.31871</td>\n",
       "      <td>-0.077685</td>\n",
       "      <td>-0.067245</td>\n",
       "      <td>-0.026909</td>\n",
       "      <td>-0.020008</td>\n",
       "      <td>-0.02334</td>\n",
       "      <td>...</td>\n",
       "      <td>3.561990</td>\n",
       "      <td>3.678177</td>\n",
       "      <td>4.183636</td>\n",
       "      <td>3.325419</td>\n",
       "      <td>2.450436</td>\n",
       "      <td>2.636636</td>\n",
       "      <td>1.886444</td>\n",
       "      <td>6.334562</td>\n",
       "      <td>3.971224</td>\n",
       "      <td>2.929176</td>\n",
       "    </tr>\n",
       "  </tbody>\n",
       "</table>\n",
       "<p>5 rows × 2000 columns</p>\n",
       "</div>"
      ],
      "text/plain": [
       "Unnamed: 0          A4GALT    ABCB10     ABCC3     ABCG2     ABI3  AC002454.1  \\\n",
       "CTGTTTACACCGCTAG -0.043005 -0.127965 -0.089527 -0.044218 -0.31871   -0.077685   \n",
       "CTCTACGGTGTGGCTC -0.043005 -0.127965 -0.089527 -0.044218 -0.31871   -0.077685   \n",
       "AGCAGCCAGGCTCATT -0.043005 -0.127965 -0.089527 -0.044218 -0.31871   -0.077685   \n",
       "GAATAAGAGATCCCAT -0.043005 -0.127965 -0.089527 -0.044218 -0.31871   -0.077685   \n",
       "GTGCATAGTCATGCAT -0.043005 -0.127965 -0.089527 -0.044218 -0.31871   -0.077685   \n",
       "\n",
       "Unnamed: 0        AC004381.6  AC004791.2  AC005339.2  AC005356.1  ...  \\\n",
       "CTGTTTACACCGCTAG   -0.067245   -0.026909   -0.020008    -0.02334  ...   \n",
       "CTCTACGGTGTGGCTC   -0.067245   -0.026909   -0.020008    -0.02334  ...   \n",
       "AGCAGCCAGGCTCATT   -0.067245   -0.026909   -0.020008    -0.02334  ...   \n",
       "GAATAAGAGATCCCAT   -0.067245   -0.026909   -0.020008    -0.02334  ...   \n",
       "GTGCATAGTCATGCAT   -0.067245   -0.026909   -0.020008    -0.02334  ...   \n",
       "\n",
       "Unnamed: 0        MOUSE-Rtn4  MOUSE-Ppp1ca  MOUSE-Cald1  MOUSE-Rps26  \\\n",
       "CTGTTTACACCGCTAG    3.666522      2.806501     4.390655     2.338495   \n",
       "CTCTACGGTGTGGCTC    3.431149      3.219714     3.572171     3.176395   \n",
       "AGCAGCCAGGCTCATT    3.810213      3.309678     3.658060     3.236889   \n",
       "GAATAAGAGATCCCAT    3.686728      3.248412     3.565898     3.485953   \n",
       "GTGCATAGTCATGCAT    3.561990      3.678177     4.183636     3.325419   \n",
       "\n",
       "Unnamed: 0        MOUSE-Ctsl  MOUSE-Tnfrsf12a  MOUSE-Esd  MOUSE-Acta2  \\\n",
       "CTGTTTACACCGCTAG    4.236169         3.291269   3.338256     1.181500   \n",
       "CTCTACGGTGTGGCTC    3.501385         3.099354   3.375631     3.738814   \n",
       "AGCAGCCAGGCTCATT    3.957931         3.465798   2.787275     2.762576   \n",
       "GAATAAGAGATCCCAT    3.325856         2.842990   3.483046     2.815389   \n",
       "GTGCATAGTCATGCAT    2.450436         2.636636   1.886444     6.334562   \n",
       "\n",
       "Unnamed: 0        MOUSE-Arpc2  MOUSE-Calr  \n",
       "CTGTTTACACCGCTAG     3.575336    2.491014  \n",
       "CTCTACGGTGTGGCTC     3.165883    2.803176  \n",
       "AGCAGCCAGGCTCATT     3.510315    3.762173  \n",
       "GAATAAGAGATCCCAT     3.319044    4.037947  \n",
       "GTGCATAGTCATGCAT     3.971224    2.929176  \n",
       "\n",
       "[5 rows x 2000 columns]"
      ]
     },
     "execution_count": 2,
     "metadata": {},
     "output_type": "execute_result"
    }
   ],
   "source": [
    "cbmc_df = pd.read_csv('filtered_cmbc_assay.csv')\n",
    "cbmc_df.index = cbmc_df['Unnamed: 0']\n",
    "cbmc_df.drop(columns = 'Unnamed: 0',inplace = True)\n",
    "cbmc_df = cbmc_df.transpose()\n",
    "cbmc_df.head()"
   ]
  },
  {
   "cell_type": "markdown",
   "metadata": {},
   "source": [
    "### Create PC Cluster Object and Fit It"
   ]
  },
  {
   "cell_type": "code",
   "execution_count": 3,
   "metadata": {},
   "outputs": [
    {
     "data": {
      "text/plain": [
       "array([0.06562919, 0.03916874, 0.02691411, 0.01778673, 0.01531372,\n",
       "       0.01340929, 0.01227411, 0.0069056 , 0.00643235, 0.00514619,\n",
       "       0.00342394, 0.00324247, 0.00302587, 0.00232158, 0.00222412,\n",
       "       0.00214154, 0.001905  , 0.00181226, 0.00176268, 0.00166096])"
      ]
     },
     "execution_count": 3,
     "metadata": {},
     "output_type": "execute_result"
    }
   ],
   "source": [
    "pca = PC_Cluster(n_pcs = 100)\n",
    "pca.fit(cbmc_df.values)\n",
    "pca.norm_eigenvalues[0:20]"
   ]
  },
  {
   "cell_type": "markdown",
   "metadata": {},
   "source": [
    "### Compute Distribution of Variance Explained for Each Principal Component"
   ]
  },
  {
   "cell_type": "code",
   "execution_count": 4,
   "metadata": {},
   "outputs": [
    {
     "data": {
      "text/html": [
       "<div>\n",
       "<style scoped>\n",
       "    .dataframe tbody tr th:only-of-type {\n",
       "        vertical-align: middle;\n",
       "    }\n",
       "\n",
       "    .dataframe tbody tr th {\n",
       "        vertical-align: top;\n",
       "    }\n",
       "\n",
       "    .dataframe thead th {\n",
       "        text-align: right;\n",
       "    }\n",
       "</style>\n",
       "<table border=\"1\" class=\"dataframe\">\n",
       "  <thead>\n",
       "    <tr style=\"text-align: right;\">\n",
       "      <th></th>\n",
       "      <th>PC_Dist_0</th>\n",
       "      <th>PC_Dist_1</th>\n",
       "      <th>PC_Dist_2</th>\n",
       "      <th>PC_Dist_3</th>\n",
       "      <th>PC_Dist_4</th>\n",
       "      <th>PC_Dist_5</th>\n",
       "      <th>PC_Dist_6</th>\n",
       "      <th>PC_Dist_7</th>\n",
       "      <th>PC_Dist_8</th>\n",
       "      <th>PC_Dist_9</th>\n",
       "      <th>...</th>\n",
       "      <th>PC_Dist_90</th>\n",
       "      <th>PC_Dist_91</th>\n",
       "      <th>PC_Dist_92</th>\n",
       "      <th>PC_Dist_93</th>\n",
       "      <th>PC_Dist_94</th>\n",
       "      <th>PC_Dist_95</th>\n",
       "      <th>PC_Dist_96</th>\n",
       "      <th>PC_Dist_97</th>\n",
       "      <th>PC_Dist_98</th>\n",
       "      <th>PC_Dist_99</th>\n",
       "    </tr>\n",
       "  </thead>\n",
       "  <tbody>\n",
       "    <tr>\n",
       "      <th>0</th>\n",
       "      <td>0.000109</td>\n",
       "      <td>1.017151e-06</td>\n",
       "      <td>3.472080e-08</td>\n",
       "      <td>1.432048e-08</td>\n",
       "      <td>5.050533e-09</td>\n",
       "      <td>1.319299e-07</td>\n",
       "      <td>4.266750e-08</td>\n",
       "      <td>2.720950e-08</td>\n",
       "      <td>2.365754e-10</td>\n",
       "      <td>3.106800e-08</td>\n",
       "      <td>...</td>\n",
       "      <td>2.198981e-09</td>\n",
       "      <td>1.751499e-08</td>\n",
       "      <td>2.922613e-11</td>\n",
       "      <td>2.244439e-09</td>\n",
       "      <td>5.922574e-09</td>\n",
       "      <td>1.228976e-08</td>\n",
       "      <td>4.705107e-09</td>\n",
       "      <td>1.509249e-09</td>\n",
       "      <td>1.960247e-09</td>\n",
       "      <td>2.843155e-09</td>\n",
       "    </tr>\n",
       "    <tr>\n",
       "      <th>1</th>\n",
       "      <td>0.000106</td>\n",
       "      <td>1.330582e-06</td>\n",
       "      <td>4.509797e-07</td>\n",
       "      <td>9.829682e-10</td>\n",
       "      <td>4.407147e-08</td>\n",
       "      <td>1.592044e-06</td>\n",
       "      <td>2.385236e-07</td>\n",
       "      <td>3.358053e-08</td>\n",
       "      <td>5.075646e-09</td>\n",
       "      <td>1.728385e-08</td>\n",
       "      <td>...</td>\n",
       "      <td>9.969644e-10</td>\n",
       "      <td>2.087265e-09</td>\n",
       "      <td>8.196951e-09</td>\n",
       "      <td>2.109240e-09</td>\n",
       "      <td>4.168864e-08</td>\n",
       "      <td>2.796389e-08</td>\n",
       "      <td>5.889346e-11</td>\n",
       "      <td>5.691022e-09</td>\n",
       "      <td>1.084981e-09</td>\n",
       "      <td>4.350326e-09</td>\n",
       "    </tr>\n",
       "    <tr>\n",
       "      <th>2</th>\n",
       "      <td>0.000112</td>\n",
       "      <td>1.352623e-06</td>\n",
       "      <td>2.310197e-07</td>\n",
       "      <td>2.536909e-08</td>\n",
       "      <td>2.595612e-08</td>\n",
       "      <td>3.811017e-07</td>\n",
       "      <td>1.088577e-10</td>\n",
       "      <td>1.922921e-08</td>\n",
       "      <td>3.803947e-08</td>\n",
       "      <td>2.003366e-09</td>\n",
       "      <td>...</td>\n",
       "      <td>2.840543e-09</td>\n",
       "      <td>2.023886e-08</td>\n",
       "      <td>1.010993e-12</td>\n",
       "      <td>2.542236e-08</td>\n",
       "      <td>3.257220e-09</td>\n",
       "      <td>9.102833e-09</td>\n",
       "      <td>4.732683e-08</td>\n",
       "      <td>1.206457e-08</td>\n",
       "      <td>1.393310e-10</td>\n",
       "      <td>4.298715e-09</td>\n",
       "    </tr>\n",
       "    <tr>\n",
       "      <th>3</th>\n",
       "      <td>0.000108</td>\n",
       "      <td>1.341827e-06</td>\n",
       "      <td>1.159750e-07</td>\n",
       "      <td>2.082525e-08</td>\n",
       "      <td>2.928377e-08</td>\n",
       "      <td>4.010636e-07</td>\n",
       "      <td>3.102027e-10</td>\n",
       "      <td>6.158710e-09</td>\n",
       "      <td>1.380496e-10</td>\n",
       "      <td>7.409330e-13</td>\n",
       "      <td>...</td>\n",
       "      <td>1.377265e-08</td>\n",
       "      <td>3.063582e-10</td>\n",
       "      <td>5.103592e-09</td>\n",
       "      <td>2.295113e-09</td>\n",
       "      <td>9.564528e-09</td>\n",
       "      <td>4.424484e-10</td>\n",
       "      <td>3.092323e-09</td>\n",
       "      <td>7.237929e-09</td>\n",
       "      <td>1.433666e-08</td>\n",
       "      <td>2.075092e-10</td>\n",
       "    </tr>\n",
       "    <tr>\n",
       "      <th>4</th>\n",
       "      <td>0.000102</td>\n",
       "      <td>9.337392e-07</td>\n",
       "      <td>2.459761e-07</td>\n",
       "      <td>2.138715e-10</td>\n",
       "      <td>6.602527e-08</td>\n",
       "      <td>2.070620e-07</td>\n",
       "      <td>1.215814e-10</td>\n",
       "      <td>2.952202e-09</td>\n",
       "      <td>2.365325e-08</td>\n",
       "      <td>2.340283e-08</td>\n",
       "      <td>...</td>\n",
       "      <td>2.689249e-10</td>\n",
       "      <td>4.261099e-09</td>\n",
       "      <td>5.340679e-09</td>\n",
       "      <td>1.173059e-08</td>\n",
       "      <td>2.289973e-08</td>\n",
       "      <td>2.751366e-09</td>\n",
       "      <td>2.644236e-08</td>\n",
       "      <td>4.734207e-08</td>\n",
       "      <td>2.013404e-09</td>\n",
       "      <td>4.568171e-09</td>\n",
       "    </tr>\n",
       "  </tbody>\n",
       "</table>\n",
       "<p>5 rows × 100 columns</p>\n",
       "</div>"
      ],
      "text/plain": [
       "   PC_Dist_0     PC_Dist_1     PC_Dist_2     PC_Dist_3     PC_Dist_4  \\\n",
       "0   0.000109  1.017151e-06  3.472080e-08  1.432048e-08  5.050533e-09   \n",
       "1   0.000106  1.330582e-06  4.509797e-07  9.829682e-10  4.407147e-08   \n",
       "2   0.000112  1.352623e-06  2.310197e-07  2.536909e-08  2.595612e-08   \n",
       "3   0.000108  1.341827e-06  1.159750e-07  2.082525e-08  2.928377e-08   \n",
       "4   0.000102  9.337392e-07  2.459761e-07  2.138715e-10  6.602527e-08   \n",
       "\n",
       "      PC_Dist_5     PC_Dist_6     PC_Dist_7     PC_Dist_8     PC_Dist_9  ...  \\\n",
       "0  1.319299e-07  4.266750e-08  2.720950e-08  2.365754e-10  3.106800e-08  ...   \n",
       "1  1.592044e-06  2.385236e-07  3.358053e-08  5.075646e-09  1.728385e-08  ...   \n",
       "2  3.811017e-07  1.088577e-10  1.922921e-08  3.803947e-08  2.003366e-09  ...   \n",
       "3  4.010636e-07  3.102027e-10  6.158710e-09  1.380496e-10  7.409330e-13  ...   \n",
       "4  2.070620e-07  1.215814e-10  2.952202e-09  2.365325e-08  2.340283e-08  ...   \n",
       "\n",
       "     PC_Dist_90    PC_Dist_91    PC_Dist_92    PC_Dist_93    PC_Dist_94  \\\n",
       "0  2.198981e-09  1.751499e-08  2.922613e-11  2.244439e-09  5.922574e-09   \n",
       "1  9.969644e-10  2.087265e-09  8.196951e-09  2.109240e-09  4.168864e-08   \n",
       "2  2.840543e-09  2.023886e-08  1.010993e-12  2.542236e-08  3.257220e-09   \n",
       "3  1.377265e-08  3.063582e-10  5.103592e-09  2.295113e-09  9.564528e-09   \n",
       "4  2.689249e-10  4.261099e-09  5.340679e-09  1.173059e-08  2.289973e-08   \n",
       "\n",
       "     PC_Dist_95    PC_Dist_96    PC_Dist_97    PC_Dist_98    PC_Dist_99  \n",
       "0  1.228976e-08  4.705107e-09  1.509249e-09  1.960247e-09  2.843155e-09  \n",
       "1  2.796389e-08  5.889346e-11  5.691022e-09  1.084981e-09  4.350326e-09  \n",
       "2  9.102833e-09  4.732683e-08  1.206457e-08  1.393310e-10  4.298715e-09  \n",
       "3  4.424484e-10  3.092323e-09  7.237929e-09  1.433666e-08  2.075092e-10  \n",
       "4  2.751366e-09  2.644236e-08  4.734207e-08  2.013404e-09  4.568171e-09  \n",
       "\n",
       "[5 rows x 100 columns]"
      ]
     },
     "execution_count": 4,
     "metadata": {},
     "output_type": "execute_result"
    }
   ],
   "source": [
    "pca.pc_distribution()\n",
    "pca.df_pca_dist.head()"
   ]
  },
  {
   "cell_type": "markdown",
   "metadata": {},
   "source": [
    "### Plot these Distributions"
   ]
  },
  {
   "cell_type": "code",
   "execution_count": 5,
   "metadata": {},
   "outputs": [
    {
     "data": {
      "text/plain": [
       "<matplotlib.axes._subplots.AxesSubplot at 0x7fb46a4df3d0>"
      ]
     },
     "execution_count": 5,
     "metadata": {},
     "output_type": "execute_result"
    },
    {
     "data": {
      "image/png": "[encoded data removed]",
      "text/plain": [
       "<Figure size 432x288 with 1 Axes>"
      ]
     },
     "metadata": {
      "needs_background": "light"
     },
     "output_type": "display_data"
    }
   ],
   "source": [
    "pc_distplot(pca, cols = np.arange(0,10))"
   ]
  },
  {
   "cell_type": "code",
   "execution_count": 6,
   "metadata": {},
   "outputs": [
    {
     "data": {
      "text/plain": [
       "<matplotlib.axes._subplots.AxesSubplot at 0x7fb46a1e6d50>"
      ]
     },
     "execution_count": 6,
     "metadata": {},
     "output_type": "execute_result"
    },
    {
     "data": {
      "image/png": "[encoded data removed]",
      "text/plain": [
       "<Figure size 432x288 with 1 Axes>"
      ]
     },
     "metadata": {
      "needs_background": "light"
     },
     "output_type": "display_data"
    }
   ],
   "source": [
    "pc_distplot(pca, upper_limit = 1.25e-5, my_function = sns.boxplot)"
   ]
  },
  {
   "cell_type": "markdown",
   "metadata": {},
   "source": [
    "### Save Plots for All 100 PC Distributions to a pdf"
   ]
  },
  {
   "cell_type": "code",
   "execution_count": 7,
   "metadata": {},
   "outputs": [],
   "source": [
    "pc_distplot_pdf('pcqc_100_dist.pdf',pca)"
   ]
  },
  {
   "cell_type": "markdown",
   "metadata": {},
   "source": [
    "### Compute Stats from these Distributions"
   ]
  },
  {
   "cell_type": "code",
   "execution_count": 8,
   "metadata": {},
   "outputs": [],
   "source": [
    "pca.pc_stats()"
   ]
  },
  {
   "cell_type": "code",
   "execution_count": 9,
   "metadata": {},
   "outputs": [
    {
     "data": {
      "text/html": [
       "<div>\n",
       "<style scoped>\n",
       "    .dataframe tbody tr th:only-of-type {\n",
       "        vertical-align: middle;\n",
       "    }\n",
       "\n",
       "    .dataframe tbody tr th {\n",
       "        vertical-align: top;\n",
       "    }\n",
       "\n",
       "    .dataframe thead th {\n",
       "        text-align: right;\n",
       "    }\n",
       "</style>\n",
       "<table border=\"1\" class=\"dataframe\">\n",
       "  <thead>\n",
       "    <tr style=\"text-align: right;\">\n",
       "      <th></th>\n",
       "      <th>85.0_Percentile</th>\n",
       "      <th>90.0_Percentile</th>\n",
       "      <th>95.0_Percentile</th>\n",
       "      <th>evalue</th>\n",
       "      <th>rank</th>\n",
       "    </tr>\n",
       "  </thead>\n",
       "  <tbody>\n",
       "    <tr>\n",
       "      <th>PC_Dist_0</th>\n",
       "      <td>2.311926e-06</td>\n",
       "      <td>2.936726e-06</td>\n",
       "      <td>0.000097</td>\n",
       "      <td>0.065629</td>\n",
       "      <td>1.0</td>\n",
       "    </tr>\n",
       "    <tr>\n",
       "      <th>PC_Dist_1</th>\n",
       "      <td>8.601626e-06</td>\n",
       "      <td>1.014885e-05</td>\n",
       "      <td>0.000012</td>\n",
       "      <td>0.039169</td>\n",
       "      <td>2.0</td>\n",
       "    </tr>\n",
       "    <tr>\n",
       "      <th>PC_Dist_2</th>\n",
       "      <td>1.285693e-06</td>\n",
       "      <td>1.547341e-06</td>\n",
       "      <td>0.000003</td>\n",
       "      <td>0.026914</td>\n",
       "      <td>3.0</td>\n",
       "    </tr>\n",
       "    <tr>\n",
       "      <th>PC_Dist_3</th>\n",
       "      <td>2.813921e-06</td>\n",
       "      <td>7.694347e-06</td>\n",
       "      <td>0.000013</td>\n",
       "      <td>0.017787</td>\n",
       "      <td>4.0</td>\n",
       "    </tr>\n",
       "    <tr>\n",
       "      <th>PC_Dist_4</th>\n",
       "      <td>4.296442e-07</td>\n",
       "      <td>9.569372e-07</td>\n",
       "      <td>0.000006</td>\n",
       "      <td>0.015314</td>\n",
       "      <td>5.0</td>\n",
       "    </tr>\n",
       "  </tbody>\n",
       "</table>\n",
       "</div>"
      ],
      "text/plain": [
       "           85.0_Percentile  90.0_Percentile  95.0_Percentile    evalue  rank\n",
       "PC_Dist_0     2.311926e-06     2.936726e-06         0.000097  0.065629   1.0\n",
       "PC_Dist_1     8.601626e-06     1.014885e-05         0.000012  0.039169   2.0\n",
       "PC_Dist_2     1.285693e-06     1.547341e-06         0.000003  0.026914   3.0\n",
       "PC_Dist_3     2.813921e-06     7.694347e-06         0.000013  0.017787   4.0\n",
       "PC_Dist_4     4.296442e-07     9.569372e-07         0.000006  0.015314   5.0"
      ]
     },
     "execution_count": 9,
     "metadata": {},
     "output_type": "execute_result"
    }
   ],
   "source": [
    "pca.df_pc_stats.head()"
   ]
  },
  {
   "cell_type": "code",
   "execution_count": 10,
   "metadata": {},
   "outputs": [
    {
     "data": {
      "text/plain": [
       "<matplotlib.axes._subplots.AxesSubplot at 0x7fb46dd4ea10>"
      ]
     },
     "execution_count": 10,
     "metadata": {},
     "output_type": "execute_result"
    },
    {
     "data": {
      "image/png": "[encoded data removed]",
      "text/plain": [
       "<Figure size 432x288 with 1 Axes>"
      ]
     },
     "metadata": {
      "needs_background": "light"
     },
     "output_type": "display_data"
    }
   ],
   "source": [
    "scatter_scree_plot(pca)"
   ]
  },
  {
   "cell_type": "code",
   "execution_count": 11,
   "metadata": {},
   "outputs": [
    {
     "data": {
      "text/plain": [
       "<matplotlib.axes._subplots.AxesSubplot at 0x7fb46dda1890>"
      ]
     },
     "execution_count": 11,
     "metadata": {},
     "output_type": "execute_result"
    },
    {
     "data": {
      "image/png": "[encoded data removed]",
      "text/plain": [
       "<Figure size 432x288 with 1 Axes>"
      ]
     },
     "metadata": {
      "needs_background": "light"
     },
     "output_type": "display_data"
    }
   ],
   "source": [
    "scatter_scree_plot(pca, rank = np.arange(10,51))"
   ]
  },
  {
   "cell_type": "code",
   "execution_count": 12,
   "metadata": {},
   "outputs": [
    {
     "data": {
      "image/png": "[encoded data removed]",
      "text/plain": [
       "<Figure size 432x288 with 1 Axes>"
      ]
     },
     "metadata": {
      "needs_background": "light"
     },
     "output_type": "display_data"
    }
   ],
   "source": [
    "fig = dist_var_pc_plot(pca, rank = np.arange(8,35))"
   ]
  },
  {
   "cell_type": "code",
   "execution_count": 13,
   "metadata": {},
   "outputs": [
    {
     "data": {
      "image/png": "[encoded data removed]",
      "text/plain": [
       "<Figure size 432x288 with 1 Axes>"
      ]
     },
     "metadata": {
      "needs_background": "light"
     },
     "output_type": "display_data"
    }
   ],
   "source": [
    "fig = sorted_dist_var_pc_plot(pca, rank = np.arange(8,50), sort_var = '90.0_Percentile', max_subset_size = 2)"
   ]
  },
  {
   "cell_type": "code",
   "execution_count": 14,
   "metadata": {},
   "outputs": [],
   "source": [
    "pca.select_top_pcs(criteria = '90.0_Percentile', n_top_pcs = 20)"
   ]
  },
  {
   "cell_type": "code",
   "execution_count": 15,
   "metadata": {},
   "outputs": [],
   "source": [
    "reduced_matrix = pca.use_top_pcs()"
   ]
  },
  {
   "cell_type": "code",
   "execution_count": 16,
   "metadata": {},
   "outputs": [
    {
     "data": {
      "text/plain": [
       "(8617, 20)"
      ]
     },
     "execution_count": 16,
     "metadata": {},
     "output_type": "execute_result"
    }
   ],
   "source": [
    "reduced_matrix.shape"
   ]
  },
  {
   "cell_type": "code",
   "execution_count": null,
   "metadata": {},
   "outputs": [],
   "source": []
  }
 ],
 "metadata": {
  "kernelspec": {
   "display_name": "Python 3",
   "language": "python",
   "name": "python3"
  },
  "language_info": {
   "codemirror_mode": {
    "name": "ipython",
    "version": 3
   },
   "file_extension": ".py",
   "mimetype": "text/x-python",
   "name": "python",
   "nbconvert_exporter": "python",
   "pygments_lexer": "ipython3",
   "version": "3.7.6"
  }
 },
 "nbformat": 4,
 "nbformat_minor": 4
}
